{
 "cells": [
  {
   "cell_type": "markdown",
   "metadata": {},
   "source": [
    "# Prediction with Ridge-Regression"
   ]
  },
  {
   "cell_type": "code",
   "execution_count": 181,
   "metadata": {},
   "outputs": [],
   "source": [
    "import pandas as pd\n",
    "import numpy as np\n",
    "import matplotlib.pyplot as plt\n",
    "import seaborn as sns\n",
    "import sklearn as sklearn\n",
    "from sklearn.linear_model import LinearRegression\n",
    "from sklearn.metrics import mean_squared_error, mean_absolute_error, r2_score\n",
    "from sklearn.preprocessing import PolynomialFeatures\n",
    "from sklearn.preprocessing import StandardScaler\n",
    "from sklearn.linear_model import Ridge\n",
    "from sklearn.decomposition import PCA\n",
    "from sklearn.model_selection import train_test_split\n",
    "from sklearn.linear_model import Lasso"
   ]
  },
  {
   "cell_type": "code",
   "execution_count": 182,
   "metadata": {
    "scrolled": false
   },
   "outputs": [
    {
     "data": {
      "text/html": [
       "<div>\n",
       "<style scoped>\n",
       "    .dataframe tbody tr th:only-of-type {\n",
       "        vertical-align: middle;\n",
       "    }\n",
       "\n",
       "    .dataframe tbody tr th {\n",
       "        vertical-align: top;\n",
       "    }\n",
       "\n",
       "    .dataframe thead th {\n",
       "        text-align: right;\n",
       "    }\n",
       "</style>\n",
       "<table border=\"1\" class=\"dataframe\">\n",
       "  <thead>\n",
       "    <tr style=\"text-align: right;\">\n",
       "      <th></th>\n",
       "      <th>start_time</th>\n",
       "      <th>month</th>\n",
       "      <th>day</th>\n",
       "      <th>hour</th>\n",
       "      <th>mean_duration</th>\n",
       "      <th>max_temp</th>\n",
       "      <th>precip</th>\n",
       "      <th>trips</th>\n",
       "      <th>isWeekday</th>\n",
       "    </tr>\n",
       "  </thead>\n",
       "  <tbody>\n",
       "    <tr>\n",
       "      <th>0</th>\n",
       "      <td>2016-01-01</td>\n",
       "      <td>1.0</td>\n",
       "      <td>1.0</td>\n",
       "      <td>0.0</td>\n",
       "      <td>13.2</td>\n",
       "      <td>-4.4</td>\n",
       "      <td>0.0</td>\n",
       "      <td>25</td>\n",
       "      <td>0</td>\n",
       "    </tr>\n",
       "  </tbody>\n",
       "</table>\n",
       "</div>"
      ],
      "text/plain": [
       "  start_time  month  day  hour  mean_duration  max_temp  precip  trips  \\\n",
       "0 2016-01-01    1.0  1.0   0.0           13.2      -4.4     0.0     25   \n",
       "\n",
       "   isWeekday  \n",
       "0          0  "
      ]
     },
     "execution_count": 182,
     "metadata": {},
     "output_type": "execute_result"
    }
   ],
   "source": [
    "pred_data = pd.read_csv(\"prediction_ready.csv\",parse_dates=[\"start_time\"])\n",
    "pred_data.head(1)"
   ]
  },
  {
   "cell_type": "code",
   "execution_count": 183,
   "metadata": {},
   "outputs": [],
   "source": [
    "#pick features\n",
    "X_unscaled = pred_data[[\"month\",\"hour\",\"max_temp\",\"precip\",\"isWeekday\"]]\n",
    "y = pred_data[\"trips\"].values.reshape([-1,1])"
   ]
  },
  {
   "cell_type": "code",
   "execution_count": 184,
   "metadata": {},
   "outputs": [],
   "source": [
    "#scale data\n",
    "scaler = StandardScaler()\n",
    "X = scaler.fit_transform(X_unscaled)"
   ]
  },
  {
   "cell_type": "code",
   "execution_count": 185,
   "metadata": {},
   "outputs": [
    {
     "data": {
      "text/plain": [
       "count    8784.000000\n",
       "mean      407.050546\n",
       "std       494.204738\n",
       "min         0.000000\n",
       "25%        39.000000\n",
       "50%       202.000000\n",
       "75%       616.000000\n",
       "max      5110.000000\n",
       "Name: trips, dtype: float64"
      ]
     },
     "execution_count": 185,
     "metadata": {},
     "output_type": "execute_result"
    }
   ],
   "source": [
    "#split into training (50%), verification (20%) and test (30%) set\n",
    "X_train, X_test_meta, y_train, y_test_meta = train_test_split(X, y, test_size=0.5, random_state=0)\n",
    "X_verification, X_test, y_verification, y_test = train_test_split(X_test_meta,y_test_meta, test_size=0.6, random_state=0)\n",
    "pred_data[\"trips\"].describe()"
   ]
  },
  {
   "cell_type": "code",
   "execution_count": 186,
   "metadata": {},
   "outputs": [],
   "source": [
    "# define Ridge-regression with polynomial features\n",
    "def ridge(X,y,d,a):\n",
    "    #create features\n",
    "    PF = PolynomialFeatures(degree = d,interaction_only = False, include_bias = True)\n",
    "    X_poly = PF.fit_transform(X)\n",
    "    # create regression\n",
    "    regression = Ridge(alpha = a, normalize = False, solver = 'lsqr')\n",
    "    #fit\n",
    "    regression.fit(X_poly,y)\n",
    "    return regression, PF"
   ]
  },
  {
   "cell_type": "code",
   "execution_count": 187,
   "metadata": {},
   "outputs": [
    {
     "name": "stdout",
     "output_type": "stream",
     "text": [
      "MSE: 200737.4375519134\n",
      "MAE: 319.9440844614896\n",
      "R^2: 0.2026340718955959\n"
     ]
    }
   ],
   "source": [
    "# testrun regression\n",
    "regression, PF = ridge(X_train,y_train,1,0)\n",
    "X_test_poly = PF.transform(X_test)\n",
    "print(\"MSE: \"+str(mean_squared_error(y_test,regression.predict(X_test_poly))))\n",
    "print(\"MAE: \"+str(mean_absolute_error(y_test,regression.predict(X_test_poly))))\n",
    "print(\"R^2: \"+ str(r2_score(y_test,regression.predict(X_test_poly))))"
   ]
  },
  {
   "cell_type": "code",
   "execution_count": 188,
   "metadata": {},
   "outputs": [
    {
     "data": {
      "image/png": "[encoded data removed]",
      "text/plain": [
       "<Figure size 576x216 with 1 Axes>"
      ]
     },
     "metadata": {
      "needs_background": "light"
     },
     "output_type": "display_data"
    }
   ],
   "source": [
    "#get optimal hyperparameters from verification set\n",
    "r_squ_train = []\n",
    "r_squ_verification = []\n",
    "mae_verification = []\n",
    "mae_train = []\n",
    "\n",
    "degree_space = np.linspace(1,8,8)\n",
    "for degree in degree_space:\n",
    "    regression, PF = ridge(X_train,y_train,int(degree),0)\n",
    "    X_verification_poly = PF.transform(X_verification)\n",
    "    \n",
    "    r_squ_train.append(r2_score(y_train,regression.predict(PF.transform(X_train))))\n",
    "    r_squ_verification.append(r2_score(y_verification,regression.predict(X_verification_poly)))\n",
    "\n",
    "    mae_train.append(mean_absolute_error(y_train,regression.predict(PF.transform(X_train))))\n",
    "    mae_verification.append(mean_absolute_error(y_verification,regression.predict(X_verification_poly)))\n",
    "    \n",
    "plt.figure(figsize = (8,3))\n",
    "plt.plot(degree_space, mae_train)\n",
    "plt.plot(degree_space, mae_verification)\n",
    "plt.legend([\"Training\", \"Validation\"])\n",
    "plt.xlabel(\"poly degree\")\n",
    "plt.ylabel(\"MAE\")\n",
    "plt.show()"
   ]
  },
  {
   "cell_type": "code",
   "execution_count": 189,
   "metadata": {},
   "outputs": [
    {
     "data": {
      "image/png": "[encoded data removed]",
      "text/plain": [
       "<Figure size 576x216 with 1 Axes>"
      ]
     },
     "metadata": {
      "needs_background": "light"
     },
     "output_type": "display_data"
    }
   ],
   "source": [
    "#plot r^2 for degree selection\n",
    "plt.figure(figsize = (8,3))\n",
    "plt.plot(degree_space, r_squ_train)\n",
    "plt.plot(degree_space, r_squ_verification)\n",
    "plt.legend([\"Training\", \"Validation\"])\n",
    "plt.xlabel(\"poly degree\")\n",
    "plt.ylabel(\"r^2\")\n",
    "plt.show()"
   ]
  },
  {
   "cell_type": "code",
   "execution_count": 190,
   "metadata": {
    "scrolled": false
   },
   "outputs": [
    {
     "data": {
      "image/png": "[encoded data removed]",
      "text/plain": [
       "<Figure size 576x432 with 1 Axes>"
      ]
     },
     "metadata": {
      "needs_background": "light"
     },
     "output_type": "display_data"
    }
   ],
   "source": [
    "# find optimal alpha value\n",
    "a_r_squ_train = []\n",
    "a_r_squ_verification = []\n",
    "a_mse_verification = []\n",
    "a_mse_train = []\n",
    "\n",
    "alpha_space = np.logspace(-15,10,100)\n",
    "\n",
    "for alpha in alpha_space:\n",
    "    regression, PF = ridge(X_train,y_train,8,alpha)\n",
    "    X_verification_poly = PF.transform(X_verification)\n",
    "    \n",
    "    a_r_squ_train.append(r2_score(y_train,regression.predict(PF.transform(X_train))))\n",
    "    a_r_squ_verification.append(r2_score(y_verification,regression.predict(X_verification_poly)))\n",
    "\n",
    "    a_mse_train.append(mean_squared_error(y_train,regression.predict(PF.transform(X_train))))\n",
    "    a_mse_verification.append(mean_squared_error(y_verification,regression.predict(X_verification_poly)))\n",
    "    \n",
    "plt.figure(figsize = (8,6))\n",
    "plt.xscale(\"log\")\n",
    "plt.yscale(\"log\")\n",
    "plt.plot(alpha_space, a_mse_train)\n",
    "plt.plot(alpha_space, a_mse_verification)\n",
    "plt.legend([\"Training\", \"Verification\"])\n",
    "plt.xlabel(\"alpha\")\n",
    "plt.ylabel(\"mse\")\n",
    "plt.show()"
   ]
  },
  {
   "cell_type": "code",
   "execution_count": 191,
   "metadata": {},
   "outputs": [
    {
     "name": "stdout",
     "output_type": "stream",
     "text": [
      "Minimum MSE: 181662.94995017088 At position: 79\n",
      "Alpha: 89021.5085445043\n"
     ]
    }
   ],
   "source": [
    "#get alpha at minimum\n",
    "val, idx = min((val, idx) for (idx, val) in enumerate(a_mse_verification))\n",
    "print(\"Minimum MSE: \"+str(val), \"At position: \"+str(idx))\n",
    "print(\"Alpha: \"+str(np.logspace(-15,10,100)[79]))"
   ]
  },
  {
   "cell_type": "code",
   "execution_count": 192,
   "metadata": {},
   "outputs": [
    {
     "name": "stdout",
     "output_type": "stream",
     "text": [
      "MSE: 181662.94995017088\n",
      "MAE: 308.515378695733\n",
      "R^2: 0.2688982682754384\n"
     ]
    }
   ],
   "source": [
    "# choosen hyperparameters\n",
    "regression, PF = ridge(X_train,y_train,8,89021.5085445043)\n",
    "X_verification_poly = PF.transform(X_verification)\n",
    "print(\"MSE: \"+str(mean_squared_error(y_verification,regression.predict(X_verification_poly))))\n",
    "print(\"MAE: \"+str(mean_absolute_error(y_verification,regression.predict(X_verification_poly))))\n",
    "print(\"R^2: \"+ str(r2_score(y_verification,regression.predict(X_verification_poly))))"
   ]
  },
  {
   "cell_type": "code",
   "execution_count": 193,
   "metadata": {},
   "outputs": [
    {
     "name": "stdout",
     "output_type": "stream",
     "text": [
      "MSE: 100790.43801046284\n",
      "MAE: 207.4761574678765\n",
      "R^2: 0.5943693318261172\n"
     ]
    }
   ],
   "source": [
    "# compare to poly\n",
    "regression, PF = ridge(X_train,y_train,4,0)\n",
    "X_verification_poly = PF.transform(X_verification)\n",
    "print(\"MSE: \"+str(mean_squared_error(y_verification,regression.predict(X_verification_poly))))\n",
    "print(\"MAE: \"+str(mean_absolute_error(y_verification,regression.predict(X_verification_poly))))\n",
    "print(\"R^2: \"+ str(r2_score(y_verification,regression.predict(X_verification_poly))))"
   ]
  },
  {
   "cell_type": "markdown",
   "metadata": {},
   "source": [
    "### Test day feature"
   ]
  },
  {
   "cell_type": "code",
   "execution_count": 196,
   "metadata": {},
   "outputs": [],
   "source": [
    "#pick features (with day feature)\n",
    "X_unscaled = pred_data[[\"month\",\"hour\",\"day\",\"max_temp\",\"precip\",\"isWeekday\"]]\n",
    "y = pred_data[\"trips\"].values.reshape([-1,1])"
   ]
  },
  {
   "cell_type": "code",
   "execution_count": 197,
   "metadata": {},
   "outputs": [],
   "source": [
    "#scale data (with day feature)\n",
    "scaler = StandardScaler()\n",
    "day_X = scaler.fit_transform(X_unscaled)"
   ]
  },
  {
   "cell_type": "code",
   "execution_count": 198,
   "metadata": {},
   "outputs": [],
   "source": [
    "#split into training (50%), verification (20%) and test (30%) set (with day feature)\n",
    "day_X_train, day_X_test_meta, day_y_train, day_y_test_meta = train_test_split(day_X, y, test_size=0.5, random_state=0)\n",
    "day_X_verification, day_X_test, day_y_verification, day_y_test = train_test_split(day_X_test_meta,day_y_test_meta, test_size=0.6, random_state=0)"
   ]
  },
  {
   "cell_type": "code",
   "execution_count": 203,
   "metadata": {
    "scrolled": true
   },
   "outputs": [
    {
     "data": {
      "image/png": "[encoded data removed]",
      "text/plain": [
       "<Figure size 576x432 with 1 Axes>"
      ]
     },
     "metadata": {
      "needs_background": "light"
     },
     "output_type": "display_data"
    }
   ],
   "source": [
    "#determine alpha (with day feature)\n",
    "day_r_squ_train = []\n",
    "day_r_squ_verification = []\n",
    "day_mse_verification = []\n",
    "day_mse_train = []\n",
    "\n",
    "day_alpha_space = np.logspace(-15,10,100)\n",
    "for alpha in day_alpha_space:\n",
    "    regression, PF = ridge(day_X_train,day_y_train,8,alpha)\n",
    "    day_X_verification_poly = PF.transform(day_X_verification)\n",
    "    \n",
    "    day_r_squ_train.append(r2_score(day_y_train,regression.predict(PF.transform(day_X_train))))\n",
    "    day_r_squ_verification.append(r2_score(day_y_verification,regression.predict(day_X_verification_poly)))\n",
    "\n",
    "    day_mse_train.append(mean_squared_error(day_y_train,regression.predict(PF.transform(day_X_train))))\n",
    "    day_mse_verification.append(mean_squared_error(day_y_verification,regression.predict(day_X_verification_poly)))\n",
    "\n",
    "plt.figure(figsize = (8,6))\n",
    "plt.xscale(\"log\")\n",
    "plt.yscale(\"log\")\n",
    "plt.plot(day_alpha_space, day_mse_train)\n",
    "plt.plot(day_alpha_space, day_mse_verification)\n",
    "plt.legend([\"Training\", \"Verification\"])\n",
    "plt.xlabel(\"alpha\")\n",
    "plt.ylabel(\"mse\")\n",
    "plt.show()"
   ]
  },
  {
   "cell_type": "code",
   "execution_count": 204,
   "metadata": {},
   "outputs": [
    {
     "name": "stdout",
     "output_type": "stream",
     "text": [
      "Minimum MSE: 181662.94995017088 At position: 79\n",
      "Alpha: 89021.5085445043\n"
     ]
    }
   ],
   "source": [
    "#get alpha at minimum (with day feature)\n",
    "val, idx = min((val, idx) for (idx, val) in enumerate(day_mse_verification))\n",
    "print(\"Minimum MSE: \"+str(val), \"At position: \"+str(idx))\n",
    "print(\"Alpha: \"+str(np.logspace(-15,10,100)[79]))"
   ]
  },
  {
   "cell_type": "code",
   "execution_count": 205,
   "metadata": {},
   "outputs": [
    {
     "name": "stdout",
     "output_type": "stream",
     "text": [
      "MSE: 181662.94995017088\n",
      "MAE: 308.515378695733\n",
      "R^2: 0.2688982682754384\n"
     ]
    }
   ],
   "source": [
    "# choosen hyperparameters\n",
    "regression, PF = ridge(day_X_train,day_y_train,8,89021.5085445043)\n",
    "day_X_verification_poly = PF.transform(day_X_verification)\n",
    "print(\"MSE: \"+str(mean_squared_error(day_y_verification,regression.predict(day_X_verification_poly))))\n",
    "print(\"MAE: \"+str(mean_absolute_error(day_y_verification,regression.predict(day_X_verification_poly))))\n",
    "print(\"R^2: \"+ str(r2_score(day_y_verification,regression.predict(day_X_verification_poly))))"
   ]
  },
  {
   "cell_type": "markdown",
   "metadata": {},
   "source": [
    "### Reduce dimensionality with pca"
   ]
  },
  {
   "cell_type": "code",
   "execution_count": 194,
   "metadata": {
    "scrolled": true
   },
   "outputs": [
    {
     "name": "stdout",
     "output_type": "stream",
     "text": [
      "Components: 1\n",
      "[0.26447756]\n",
      "0.2644775617996822\n",
      "Components: 2\n",
      "[0.26447756 0.20076251]\n",
      "0.46524007617623975\n",
      "Components: 3\n",
      "[0.26447756 0.20076251 0.19997528]\n",
      "0.6652153550685598\n",
      "Components: 4\n",
      "[0.26447756 0.20076251 0.19997528 0.19021025]\n",
      "0.8554256041847934\n",
      "Components: 5\n",
      "[0.26447756 0.20076251 0.19997528 0.19021025 0.1445744 ]\n",
      "0.9999999999999999\n"
     ]
    }
   ],
   "source": [
    "# get pca expl. value\n",
    "for i in range(1,6):\n",
    "    print(\"Components: \"+str(i))\n",
    "    pca = PCA(n_components=i)\n",
    "    X_pca = pca.fit_transform(X_train)\n",
    "    print(pca.explained_variance_ratio_)\n",
    "    print(sum(pca.explained_variance_ratio_))"
   ]
  },
  {
   "cell_type": "markdown",
   "metadata": {},
   "source": [
    "No direct gain because 95% is not reached with lower dimension"
   ]
  },
  {
   "cell_type": "markdown",
   "metadata": {},
   "source": [
    "### performance evaluation"
   ]
  },
  {
   "cell_type": "code",
   "execution_count": 195,
   "metadata": {},
   "outputs": [
    {
     "name": "stdout",
     "output_type": "stream",
     "text": [
      "MSE: 187305.61952973861\n",
      "MAE: 303.10798962108106\n",
      "R^2: 0.25598771720458857\n"
     ]
    }
   ],
   "source": [
    "# now on test set\n",
    "regression, PF = ridge(X_train,y_train,8,89021.5085445043)\n",
    "X_test_poly = PF.transform(X_test)\n",
    "print(\"MSE: \"+str(mean_squared_error(y_test,regression.predict(X_test_poly))))\n",
    "print(\"MAE: \"+str(mean_absolute_error(y_test,regression.predict(X_test_poly))))\n",
    "print(\"R^2: \"+ str(r2_score(y_test,regression.predict(X_test_poly))))"
   ]
  }
 ],
 "metadata": {
  "kernelspec": {
   "display_name": "Python 3",
   "language": "python",
   "name": "python3"
  },
  "language_info": {
   "codemirror_mode": {
    "name": "ipython",
    "version": 3
   },
   "file_extension": ".py",
   "mimetype": "text/x-python",
   "name": "python",
   "nbconvert_exporter": "python",
   "pygments_lexer": "ipython3",
   "version": "3.8.5"
  }
 },
 "nbformat": 4,
 "nbformat_minor": 4
}
