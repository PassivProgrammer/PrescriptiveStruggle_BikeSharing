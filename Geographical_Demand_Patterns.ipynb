{
 "cells": [
  {
   "cell_type": "markdown",
   "metadata": {},
   "source": [
    "# Geographical Demand Patterns"
   ]
  },
  {
   "cell_type": "markdown",
   "metadata": {},
   "source": [
    "## In this document, we analyze which bikesharing stations are the most and least popular"
   ]
  },
  {
   "cell_type": "markdown",
   "metadata": {},
   "source": [
    "### The datasets we use are: \n",
    "#### Main dataset:\n",
    "- Chicago2016.csv\n",
    "\n",
    "#### Additional datasets:\n",
    "- Divvy_Stations_2016_Q1Q2.csv\n",
    "- Divvy_Stations_2016_Q3.csv\n",
    "- Divvy_Stations_2016_Q4.csv"
   ]
  },
  {
   "cell_type": "markdown",
   "metadata": {},
   "source": [
    "We use the additional dataset to explain the observed patterns (popularity of certain sharing stations).\n",
    "The datasets describe the sharing stations and provide geographical data."
   ]
  },
  {
   "cell_type": "code",
   "execution_count": 6,
   "metadata": {},
   "outputs": [],
   "source": [
    "# imports\n",
    "\n",
    "import numpy as np\n",
    "import pandas as pd\n",
    "import matplotlib.pyplot as plt\n",
    "import folium\n",
    "from folium import plugins\n",
    "from folium.plugins import HeatMap"
   ]
  },
  {
   "cell_type": "code",
   "execution_count": 7,
   "metadata": {},
   "outputs": [
    {
     "name": "stdout",
     "output_type": "stream",
     "text": [
      "<class 'pandas.core.frame.DataFrame'>\n",
      "RangeIndex: 363319 entries, 0 to 363318\n",
      "Data columns (total 12 columns):\n",
      " #   Column              Non-Null Count   Dtype         \n",
      "---  ------              --------------   -----         \n",
      " 0   Unnamed: 0          363319 non-null  int64         \n",
      " 1   start_time          363319 non-null  datetime64[ns]\n",
      " 2   end_time            363319 non-null  datetime64[ns]\n",
      " 3   start_station_id    363319 non-null  int64         \n",
      " 4   end_station_id      363319 non-null  int64         \n",
      " 5   start_station_name  363319 non-null  object        \n",
      " 6   end_station_name    363319 non-null  object        \n",
      " 7   bike_id             363319 non-null  int64         \n",
      " 8   user_type           363319 non-null  object        \n",
      " 9   Month               363319 non-null  int64         \n",
      " 10  duration            363319 non-null  object        \n",
      " 11  day                 363319 non-null  int64         \n",
      "dtypes: datetime64[ns](2), int64(6), object(4)\n",
      "memory usage: 33.3+ MB\n"
     ]
    }
   ],
   "source": [
    "# load the dataset\n",
    "\n",
    "file_path = \"C:\\\\Users\\\\jessi\\\\Desktop\\\\DSML\\\\\"\n",
    "may_data = pd.read_csv(\"{}may_data.csv\".format(file_path), sep=\",\", parse_dates=[\"start_time\",\"end_time\"])\n",
    "may_data.info()"
   ]
  },
  {
   "cell_type": "code",
   "execution_count": 5,
   "metadata": {},
   "outputs": [
    {
     "name": "stdout",
     "output_type": "stream",
     "text": [
      "Unique start stations: 474\n",
      "Unique end stations: 475\n"
     ]
    }
   ],
   "source": [
    "# ...\n",
    "\n",
    "unique_start_stations = pd.Series(may_data[\"start_station_name\"].unique())\n",
    "unique_end_stations = pd.Series(may_data[\"end_station_name\"].unique())\n",
    "print(\"Unique start stations: {}\".format(len(unique_start_stations)))\n",
    "print(\"Unique end stations: {}\".format(len(unique_end_stations)))"
   ]
  },
  {
   "cell_type": "code",
   "execution_count": null,
   "metadata": {},
   "outputs": [],
   "source": []
  }
 ],
 "metadata": {
  "kernelspec": {
   "display_name": "Python 3",
   "language": "python",
   "name": "python3"
  },
  "language_info": {
   "codemirror_mode": {
    "name": "ipython",
    "version": 3
   },
   "file_extension": ".py",
   "mimetype": "text/x-python",
   "name": "python",
   "nbconvert_exporter": "python",
   "pygments_lexer": "ipython3",
   "version": "3.8.5"
  }
 },
 "nbformat": 4,
 "nbformat_minor": 4
}
