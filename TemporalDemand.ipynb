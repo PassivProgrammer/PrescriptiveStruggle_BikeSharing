{
 "cells": [
  {
   "cell_type": "markdown",
   "metadata": {},
   "source": [
    "# Temporal Demand Patterns and Seasonality \n"
   ]
  },
  {
   "cell_type": "code",
   "execution_count": 1,
   "metadata": {},
   "outputs": [
    {
     "data": {
      "text/html": [
       "<style>.container { width:100% !important; }</style>"
      ],
      "text/plain": [
       "<IPython.core.display.HTML object>"
      ]
     },
     "metadata": {},
     "output_type": "display_data"
    }
   ],
   "source": [
    "# libraries\n",
    "import pandas as pd\n",
    "import numpy as np\n",
    "import matplotlib.pyplot as plt\n",
    "from IPython.core.display import display, HTML\n",
    "from IPython.core.display import display, HTML\n",
    "display(HTML(\"<style>.container { width:100% !important; }</style>\"))"
   ]
  },
  {
   "cell_type": "code",
   "execution_count": 2,
   "metadata": {},
   "outputs": [],
   "source": [
    "#Analyse von:\n",
    "#Fahrten zu versch. Uhrzeiten und Jahreszeiten\n",
    "#Wochenende vs. Wochentage\n",
    "#Auslastung der Bikes an versch. Tagen\n",
    "#Nutzung von Customern vs Subscriber"
   ]
  },
  {
   "cell_type": "code",
   "execution_count": 8,
   "metadata": {},
   "outputs": [],
   "source": [
    "# import\n",
    "chicago = pd.read_csv(\"prepared_data.csv\", parse_dates=[\"start_time\",\"end_time\"])"
   ]
  },
  {
   "cell_type": "markdown",
   "metadata": {},
   "source": [
    "### some overview"
   ]
  },
  {
   "cell_type": "code",
   "execution_count": 9,
   "metadata": {},
   "outputs": [
    {
     "name": "stdout",
     "output_type": "stream",
     "text": [
      "['Subscriber' 'Customer']\n"
     ]
    }
   ],
   "source": [
    "user = chicago[\"user_type\"].unique()\n",
    "print(user)\n"
   ]
  },
  {
   "cell_type": "code",
   "execution_count": 10,
   "metadata": {},
   "outputs": [
    {
     "data": {
      "text/plain": [
       "5747"
      ]
     },
     "execution_count": 10,
     "metadata": {},
     "output_type": "execute_result"
    }
   ],
   "source": [
    "bikes = chicago['bike_id'].unique()\n",
    "len(bikes)"
   ]
  },
  {
   "cell_type": "code",
   "execution_count": 11,
   "metadata": {},
   "outputs": [
    {
     "data": {
      "text/html": [
       "<div>\n",
       "<style scoped>\n",
       "    .dataframe tbody tr th:only-of-type {\n",
       "        vertical-align: middle;\n",
       "    }\n",
       "\n",
       "    .dataframe tbody tr th {\n",
       "        vertical-align: top;\n",
       "    }\n",
       "\n",
       "    .dataframe thead th {\n",
       "        text-align: right;\n",
       "    }\n",
       "</style>\n",
       "<table border=\"1\" class=\"dataframe\">\n",
       "  <thead>\n",
       "    <tr style=\"text-align: right;\">\n",
       "      <th></th>\n",
       "      <th>Unnamed: 0</th>\n",
       "      <th>start_time</th>\n",
       "      <th>end_time</th>\n",
       "      <th>start_station_id</th>\n",
       "      <th>end_station_id</th>\n",
       "      <th>start_station_name</th>\n",
       "      <th>end_station_name</th>\n",
       "      <th>bike_id</th>\n",
       "      <th>user_type</th>\n",
       "      <th>duration</th>\n",
       "    </tr>\n",
       "  </thead>\n",
       "  <tbody>\n",
       "    <tr>\n",
       "      <th>0</th>\n",
       "      <td>0</td>\n",
       "      <td>2016-03-31 23:53:00</td>\n",
       "      <td>2016-04-01 00:07:00</td>\n",
       "      <td>344</td>\n",
       "      <td>458</td>\n",
       "      <td>Ravenswood Ave &amp; Lawrence Ave</td>\n",
       "      <td>Broadway &amp; Thorndale Ave</td>\n",
       "      <td>155</td>\n",
       "      <td>Subscriber</td>\n",
       "      <td>14.0</td>\n",
       "    </tr>\n",
       "    <tr>\n",
       "      <th>1</th>\n",
       "      <td>1</td>\n",
       "      <td>2016-03-31 23:46:00</td>\n",
       "      <td>2016-03-31 23:57:00</td>\n",
       "      <td>128</td>\n",
       "      <td>213</td>\n",
       "      <td>Damen Ave &amp; Chicago Ave</td>\n",
       "      <td>Leavitt St &amp; North Ave</td>\n",
       "      <td>4831</td>\n",
       "      <td>Subscriber</td>\n",
       "      <td>11.0</td>\n",
       "    </tr>\n",
       "    <tr>\n",
       "      <th>2</th>\n",
       "      <td>2</td>\n",
       "      <td>2016-03-31 23:42:00</td>\n",
       "      <td>2016-03-31 23:46:00</td>\n",
       "      <td>350</td>\n",
       "      <td>210</td>\n",
       "      <td>Ashland Ave &amp; Chicago Ave</td>\n",
       "      <td>Ashland Ave &amp; Division St</td>\n",
       "      <td>4232</td>\n",
       "      <td>Subscriber</td>\n",
       "      <td>4.0</td>\n",
       "    </tr>\n",
       "    <tr>\n",
       "      <th>3</th>\n",
       "      <td>3</td>\n",
       "      <td>2016-03-31 23:37:00</td>\n",
       "      <td>2016-03-31 23:55:00</td>\n",
       "      <td>303</td>\n",
       "      <td>458</td>\n",
       "      <td>Broadway &amp; Cornelia Ave</td>\n",
       "      <td>Broadway &amp; Thorndale Ave</td>\n",
       "      <td>3464</td>\n",
       "      <td>Subscriber</td>\n",
       "      <td>18.0</td>\n",
       "    </tr>\n",
       "    <tr>\n",
       "      <th>4</th>\n",
       "      <td>4</td>\n",
       "      <td>2016-03-31 23:33:00</td>\n",
       "      <td>2016-03-31 23:37:00</td>\n",
       "      <td>334</td>\n",
       "      <td>329</td>\n",
       "      <td>Lake Shore Dr &amp; Belmont Ave</td>\n",
       "      <td>Lake Shore Dr &amp; Diversey Pkwy</td>\n",
       "      <td>1750</td>\n",
       "      <td>Subscriber</td>\n",
       "      <td>4.0</td>\n",
       "    </tr>\n",
       "  </tbody>\n",
       "</table>\n",
       "</div>"
      ],
      "text/plain": [
       "   Unnamed: 0          start_time            end_time  start_station_id  \\\n",
       "0           0 2016-03-31 23:53:00 2016-04-01 00:07:00               344   \n",
       "1           1 2016-03-31 23:46:00 2016-03-31 23:57:00               128   \n",
       "2           2 2016-03-31 23:42:00 2016-03-31 23:46:00               350   \n",
       "3           3 2016-03-31 23:37:00 2016-03-31 23:55:00               303   \n",
       "4           4 2016-03-31 23:33:00 2016-03-31 23:37:00               334   \n",
       "\n",
       "   end_station_id             start_station_name  \\\n",
       "0             458  Ravenswood Ave & Lawrence Ave   \n",
       "1             213        Damen Ave & Chicago Ave   \n",
       "2             210      Ashland Ave & Chicago Ave   \n",
       "3             458        Broadway & Cornelia Ave   \n",
       "4             329    Lake Shore Dr & Belmont Ave   \n",
       "\n",
       "                end_station_name  bike_id   user_type  duration  \n",
       "0       Broadway & Thorndale Ave      155  Subscriber      14.0  \n",
       "1         Leavitt St & North Ave     4831  Subscriber      11.0  \n",
       "2      Ashland Ave & Division St     4232  Subscriber       4.0  \n",
       "3       Broadway & Thorndale Ave     3464  Subscriber      18.0  \n",
       "4  Lake Shore Dr & Diversey Pkwy     1750  Subscriber       4.0  "
      ]
     },
     "execution_count": 11,
     "metadata": {},
     "output_type": "execute_result"
    }
   ],
   "source": [
    "chicago.head()"
   ]
  },
  {
   "cell_type": "markdown",
   "metadata": {},
   "source": [
    "### usage during a day"
   ]
  },
  {
   "cell_type": "markdown",
   "metadata": {},
   "source": [
    "#### Classification:\n",
    "* Morning: 6 a.m. - 10 a.m.\n",
    "* Mid-morning: 10 a.m. - 12 p.m.\n",
    "* Noon: 12 p.m - 2 p.m.\n",
    "* Afternoon: 2 p.m. - 5 p.m.\n",
    "* Evening: 5 p.m. - 9 p.m.\n",
    "* Night: 9 p.m. - 6 a.m."
   ]
  },
  {
   "cell_type": "code",
   "execution_count": 13,
   "metadata": {},
   "outputs": [
    {
     "data": {
      "text/html": [
       "<div>\n",
       "<style scoped>\n",
       "    .dataframe tbody tr th:only-of-type {\n",
       "        vertical-align: middle;\n",
       "    }\n",
       "\n",
       "    .dataframe tbody tr th {\n",
       "        vertical-align: top;\n",
       "    }\n",
       "\n",
       "    .dataframe thead th {\n",
       "        text-align: right;\n",
       "    }\n",
       "</style>\n",
       "<table border=\"1\" class=\"dataframe\">\n",
       "  <thead>\n",
       "    <tr style=\"text-align: right;\">\n",
       "      <th></th>\n",
       "      <th>Unnamed: 0</th>\n",
       "      <th>start_time</th>\n",
       "      <th>end_time</th>\n",
       "      <th>start_station_id</th>\n",
       "      <th>end_station_id</th>\n",
       "      <th>start_station_name</th>\n",
       "      <th>end_station_name</th>\n",
       "      <th>bike_id</th>\n",
       "      <th>user_type</th>\n",
       "      <th>duration</th>\n",
       "      <th>Date</th>\n",
       "      <th>Weekday</th>\n",
       "      <th>Hour</th>\n",
       "      <th>Month</th>\n",
       "    </tr>\n",
       "  </thead>\n",
       "  <tbody>\n",
       "    <tr>\n",
       "      <th>0</th>\n",
       "      <td>0</td>\n",
       "      <td>2016-03-31 23:53:00</td>\n",
       "      <td>2016-04-01 00:07:00</td>\n",
       "      <td>344</td>\n",
       "      <td>458</td>\n",
       "      <td>Ravenswood Ave &amp; Lawrence Ave</td>\n",
       "      <td>Broadway &amp; Thorndale Ave</td>\n",
       "      <td>155</td>\n",
       "      <td>Subscriber</td>\n",
       "      <td>14.0</td>\n",
       "      <td>2016-03-31</td>\n",
       "      <td>3</td>\n",
       "      <td>23</td>\n",
       "      <td>3</td>\n",
       "    </tr>\n",
       "    <tr>\n",
       "      <th>1</th>\n",
       "      <td>1</td>\n",
       "      <td>2016-03-31 23:46:00</td>\n",
       "      <td>2016-03-31 23:57:00</td>\n",
       "      <td>128</td>\n",
       "      <td>213</td>\n",
       "      <td>Damen Ave &amp; Chicago Ave</td>\n",
       "      <td>Leavitt St &amp; North Ave</td>\n",
       "      <td>4831</td>\n",
       "      <td>Subscriber</td>\n",
       "      <td>11.0</td>\n",
       "      <td>2016-03-31</td>\n",
       "      <td>3</td>\n",
       "      <td>23</td>\n",
       "      <td>3</td>\n",
       "    </tr>\n",
       "    <tr>\n",
       "      <th>2</th>\n",
       "      <td>2</td>\n",
       "      <td>2016-03-31 23:42:00</td>\n",
       "      <td>2016-03-31 23:46:00</td>\n",
       "      <td>350</td>\n",
       "      <td>210</td>\n",
       "      <td>Ashland Ave &amp; Chicago Ave</td>\n",
       "      <td>Ashland Ave &amp; Division St</td>\n",
       "      <td>4232</td>\n",
       "      <td>Subscriber</td>\n",
       "      <td>4.0</td>\n",
       "      <td>2016-03-31</td>\n",
       "      <td>3</td>\n",
       "      <td>23</td>\n",
       "      <td>3</td>\n",
       "    </tr>\n",
       "  </tbody>\n",
       "</table>\n",
       "</div>"
      ],
      "text/plain": [
       "   Unnamed: 0          start_time            end_time  start_station_id  \\\n",
       "0           0 2016-03-31 23:53:00 2016-04-01 00:07:00               344   \n",
       "1           1 2016-03-31 23:46:00 2016-03-31 23:57:00               128   \n",
       "2           2 2016-03-31 23:42:00 2016-03-31 23:46:00               350   \n",
       "\n",
       "   end_station_id             start_station_name           end_station_name  \\\n",
       "0             458  Ravenswood Ave & Lawrence Ave   Broadway & Thorndale Ave   \n",
       "1             213        Damen Ave & Chicago Ave     Leavitt St & North Ave   \n",
       "2             210      Ashland Ave & Chicago Ave  Ashland Ave & Division St   \n",
       "\n",
       "   bike_id   user_type  duration        Date  Weekday  Hour  Month  \n",
       "0      155  Subscriber      14.0  2016-03-31        3    23      3  \n",
       "1     4831  Subscriber      11.0  2016-03-31        3    23      3  \n",
       "2     4232  Subscriber       4.0  2016-03-31        3    23      3  "
      ]
     },
     "execution_count": 13,
     "metadata": {},
     "output_type": "execute_result"
    }
   ],
   "source": [
    "def get_weekday (ts):\n",
    "    return ts.weekday()\n",
    "def get_hour (ts):\n",
    "    return ts.hour\n",
    "def get_date (ts):\n",
    "    return ts.date()\n",
    "chicago[\"Date\"] = chicago[\"start_time\"].apply(lambda x: get_date (x))\n",
    "chicago[\"Weekday\"]=chicago[\"start_time\"].apply(lambda x: get_weekday (x))\n",
    "chicago[\"Hour\"]=chicago[\"start_time\"].apply(lambda x: get_hour (x))\n",
    "chicago['Month']= chicago[\"start_time\"].apply(lambda x: x.month)\n",
    "chicago.head(3)"
   ]
  },
  {
   "cell_type": "code",
   "execution_count": 15,
   "metadata": {},
   "outputs": [],
   "source": [
    "morning_start = chicago[(chicago['Hour']>=6) & (chicago['Hour']<10)]\n",
    "mid_morning_start = chicago[(chicago['Hour']>=10) & (chicago['Hour']<12)]\n",
    "noon_start = chicago[(chicago['Hour']>=12) & (chicago['Hour']<14)]\n",
    "afternoon_start = chicago[(chicago['Hour']>=14) & (chicago['Hour']<17)]\n",
    "evening_start = chicago[(chicago['Hour']>=17) & (chicago['Hour']<21)]\n",
    "night_start = chicago[((chicago['Hour']>=21) & (chicago['Hour']<24)) | ((chicago['Hour']>=0) & (chicago['Hour']<6))]"
   ]
  },
  {
   "cell_type": "code",
   "execution_count": 17,
   "metadata": {},
   "outputs": [
    {
     "name": "stdout",
     "output_type": "stream",
     "text": [
      "3586330\n",
      "3586330\n"
     ]
    }
   ],
   "source": [
    "print(chicago['start_time'].size)\n",
    "print(morning_start['Hour'].size + mid_morning_start['Hour'].size + noon_start['Hour'].size + afternoon_start['Hour'].size + evening_start['Hour'].size + night_start['Hour'].size)"
   ]
  },
  {
   "cell_type": "code",
   "execution_count": 18,
   "metadata": {},
   "outputs": [],
   "source": [
    "start_hours = pd.DataFrame({'Time_Period': ['morning', 'mid-morning', 'noon', 'afternoon', 'evening', 'night'], 'Rides': [morning_start['Hour'].size, mid_morning_start['Hour'].size, noon_start['Hour'].size,afternoon_start['Hour'].size, evening_start['Hour'].size, night_start['Hour'].size]})"
   ]
  },
  {
   "cell_type": "code",
   "execution_count": 19,
   "metadata": {},
   "outputs": [
    {
     "data": {
      "text/html": [
       "<div>\n",
       "<style scoped>\n",
       "    .dataframe tbody tr th:only-of-type {\n",
       "        vertical-align: middle;\n",
       "    }\n",
       "\n",
       "    .dataframe tbody tr th {\n",
       "        vertical-align: top;\n",
       "    }\n",
       "\n",
       "    .dataframe thead th {\n",
       "        text-align: right;\n",
       "    }\n",
       "</style>\n",
       "<table border=\"1\" class=\"dataframe\">\n",
       "  <thead>\n",
       "    <tr style=\"text-align: right;\">\n",
       "      <th></th>\n",
       "      <th>Time_Period</th>\n",
       "      <th>Rides</th>\n",
       "    </tr>\n",
       "  </thead>\n",
       "  <tbody>\n",
       "    <tr>\n",
       "      <th>0</th>\n",
       "      <td>morning</td>\n",
       "      <td>730880</td>\n",
       "    </tr>\n",
       "    <tr>\n",
       "      <th>1</th>\n",
       "      <td>mid-morning</td>\n",
       "      <td>327219</td>\n",
       "    </tr>\n",
       "    <tr>\n",
       "      <th>2</th>\n",
       "      <td>noon</td>\n",
       "      <td>426398</td>\n",
       "    </tr>\n",
       "    <tr>\n",
       "      <th>3</th>\n",
       "      <td>afternoon</td>\n",
       "      <td>782950</td>\n",
       "    </tr>\n",
       "    <tr>\n",
       "      <th>4</th>\n",
       "      <td>evening</td>\n",
       "      <td>1025700</td>\n",
       "    </tr>\n",
       "  </tbody>\n",
       "</table>\n",
       "</div>"
      ],
      "text/plain": [
       "   Time_Period    Rides\n",
       "0      morning   730880\n",
       "1  mid-morning   327219\n",
       "2         noon   426398\n",
       "3    afternoon   782950\n",
       "4      evening  1025700"
      ]
     },
     "execution_count": 19,
     "metadata": {},
     "output_type": "execute_result"
    }
   ],
   "source": [
    "start_hours.head()"
   ]
  },
  {
   "cell_type": "code",
   "execution_count": 20,
   "metadata": {},
   "outputs": [
    {
     "data": {
      "image/png": "[encoded data removed]",
      "text/plain": [
       "<Figure size 576x288 with 1 Axes>"
      ]
     },
     "metadata": {
      "needs_background": "light"
     },
     "output_type": "display_data"
    }
   ],
   "source": [
    "# Graph der die Anzahl der Fahrten an verschiedenen Zeitpunkten eines Tages darstellt \n",
    "fig,ax = plt.subplots(figsize=(8,4))\n",
    "\n",
    "ax.bar(start_hours['Time_Period'],start_hours['Rides'])\n",
    "ax.set_xlabel(\"Time Period\")\n",
    "ax.set_ylabel(\"Number of Rides\")\n",
    "ax.set_title(\"Number of Rides throughout a day\")\n",
    "\n",
    "plt.show()"
   ]
  },
  {
   "cell_type": "markdown",
   "metadata": {},
   "source": [
    "### usage during a week"
   ]
  },
  {
   "cell_type": "code",
   "execution_count": 21,
   "metadata": {},
   "outputs": [
    {
     "name": "stdout",
     "output_type": "stream",
     "text": [
      "7712572\n",
      "7569380\n",
      "6703746\n",
      "7018704\n",
      "7394016\n",
      "7004816\n",
      "6805386\n"
     ]
    }
   ],
   "source": [
    "montag = chicago[chicago[\"Weekday\"]==0].size\n",
    "dienstag = chicago[chicago[\"Weekday\"]==1].size\n",
    "mittwoch = chicago[chicago[\"Weekday\"]==2].size\n",
    "donnerstag = chicago[chicago[\"Weekday\"]==3].size\n",
    "freitag = chicago[chicago[\"Weekday\"]==4].size\n",
    "samstag = chicago[chicago[\"Weekday\"]==5].size\n",
    "sonntag = chicago[chicago[\"Weekday\"]==6].size\n",
    "\n",
    "print(montag)\n",
    "print(dienstag)\n",
    "print(mittwoch)\n",
    "print(donnerstag)\n",
    "print(freitag)\n",
    "print(samstag)\n",
    "print(sonntag)\n",
    "\n",
    "weekdaysize = pd.DataFrame({'Weekday': ['monday', 'tuesday', 'wednesday', 'thursday', 'friday', 'saturday', 'sunday'], 'Rides': [montag, dienstag, mittwoch, donnerstag, freitag, samstag, sonntag]})"
   ]
  },
  {
   "cell_type": "code",
   "execution_count": 22,
   "metadata": {},
   "outputs": [
    {
     "data": {
      "image/png": "[encoded data removed]",
      "text/plain": [
       "<Figure size 576x288 with 1 Axes>"
      ]
     },
     "metadata": {
      "needs_background": "light"
     },
     "output_type": "display_data"
    }
   ],
   "source": [
    "fig,ax = plt.subplots(figsize=(8,4))\n",
    "\n",
    "ax.bar(weekdaysize[\"Weekday\"], weekdaysize[\"Rides\"])\n",
    "ax.set_xlabel(\"weekday\")\n",
    "ax.set_ylabel(\"Number of Rides\")\n",
    "ax.set_title(\"Number of Rides on different days\")\n",
    "\n",
    "plt.show()"
   ]
  },
  {
   "cell_type": "markdown",
   "metadata": {},
   "source": [
    "### usage during a week in a morning"
   ]
  },
  {
   "cell_type": "code",
   "execution_count": 24,
   "metadata": {},
   "outputs": [],
   "source": [
    "weekmorning= pd.DataFrame({'Weekday': ['monday', 'tuesday', 'wednesday', 'thursday', 'friday', 'saturday', 'sunday'], 'Rides': [chicago[(chicago['Weekday']==0) & (chicago['Hour']<=8) & (chicago['Hour']>=6)].size , chicago[(chicago['Weekday']==1) & (chicago['Hour']<=8) & (chicago['Hour']>=6)].size , chicago[(chicago['Weekday']==2) & (chicago['Hour']<=8) & (chicago['Hour']>=6)].size , chicago[(chicago['Weekday']==3) & (chicago['Hour']<=8) & (chicago['Hour']>=6)].size , chicago[(chicago['Weekday']==4) & (chicago['Hour']<=8) & (chicago['Hour']>=6)].size , chicago[(chicago['Weekday']==5) & (chicago['Hour']<=8) & (chicago['Hour']>=6)].size ,chicago[(chicago['Weekday']==6) & (chicago['Hour']<=8) & (chicago['Hour']>=6)].size ] })"
   ]
  },
  {
   "cell_type": "code",
   "execution_count": 25,
   "metadata": {},
   "outputs": [
    {
     "name": "stdout",
     "output_type": "stream",
     "text": [
      "     Weekday    Rides\n",
      "0     monday  1451772\n",
      "1    tuesday  1601628\n",
      "2  wednesday  1485876\n",
      "3   thursday  1445206\n",
      "4     friday  1460256\n",
      "5   saturday   349104\n",
      "6     sunday   271908\n"
     ]
    },
    {
     "data": {
      "image/png": "[encoded data removed]",
      "text/plain": [
       "<Figure size 576x288 with 1 Axes>"
      ]
     },
     "metadata": {
      "needs_background": "light"
     },
     "output_type": "display_data"
    }
   ],
   "source": [
    "print(weekmorning)\n",
    "fig,ax = plt.subplots(figsize=(8,4))\n",
    "\n",
    "ax.bar(weekmorning[\"Weekday\"], weekmorning[\"Rides\"])\n",
    "ax.set_xlabel(\"weekday\")\n",
    "ax.set_ylabel(\"Number of Rides\")\n",
    "ax.set_title(\"Number of Rides on different days in the morning\")\n",
    "\n",
    "plt.show()"
   ]
  },
  {
   "cell_type": "markdown",
   "metadata": {},
   "source": [
    "###usage during a week and different time periods in a day"
   ]
  },
  {
   "cell_type": "code",
   "execution_count": 33,
   "metadata": {},
   "outputs": [],
   "source": [
    "morning_monday = morning_start[morning_start['Weekday']==0]\n",
    "morning_tuesday = morning_start[morning_start['Weekday']==1]\n",
    "morning_wednesday = morning_start[morning_start['Weekday']==2]\n",
    "morning_thursday = morning_start[morning_start['Weekday']==3]\n",
    "morning_friday = morning_start[morning_start['Weekday']==4]\n",
    "morning_saturday = morning_start[morning_start['Weekday']==5]\n",
    "morning_sunday =  morning_start[morning_start['Weekday']==6]\n",
    "morning_rides = np.array([morning_monday['Hour'].size, morning_tuesday['Hour'].size, morning_wednesday['Hour'].size,  morning_thursday['Hour'].size,  morning_friday['Hour'].size,  morning_saturday['Hour'].size,  morning_sunday['Hour'].size])"
   ]
  },
  {
   "cell_type": "code",
   "execution_count": 34,
   "metadata": {},
   "outputs": [],
   "source": [
    "midmorning_monday = mid_morning_start[mid_morning_start['Weekday']==0]\n",
    "midmorning_tuesday = mid_morning_start[mid_morning_start['Weekday']==1]\n",
    "midmorning_wednesday = mid_morning_start[mid_morning_start['Weekday']==2]\n",
    "midmorning_thursday = mid_morning_start[mid_morning_start['Weekday']==3]\n",
    "midmorning_friday = mid_morning_start[mid_morning_start['Weekday']==4]\n",
    "midmorning_saturday = mid_morning_start[mid_morning_start['Weekday']==5]\n",
    "midmorning_sunday =  mid_morning_start[mid_morning_start['Weekday']==6]\n",
    "midmorning_rides = np.array([midmorning_monday['Hour'].size, midmorning_tuesday['Hour'].size, midmorning_wednesday['Hour'].size,  midmorning_thursday['Hour'].size,  midmorning_friday['Hour'].size,  midmorning_saturday['Hour'].size,  midmorning_sunday['Hour'].size])"
   ]
  },
  {
   "cell_type": "code",
   "execution_count": 35,
   "metadata": {},
   "outputs": [],
   "source": [
    "noon_monday = noon_start[noon_start['Weekday']==0]\n",
    "noon_tuesday = noon_start[noon_start['Weekday']==1]\n",
    "noon_wednesday = noon_start[noon_start['Weekday']==2]\n",
    "noon_thursday = noon_start[noon_start['Weekday']==3]\n",
    "noon_friday = noon_start[noon_start['Weekday']==4]\n",
    "noon_saturday = noon_start[noon_start['Weekday']==5]\n",
    "noon_sunday =  noon_start[noon_start['Weekday']==6]\n",
    "noon_rides = np.array([noon_monday['Hour'].size, noon_tuesday['Hour'].size, noon_wednesday['Hour'].size,  noon_thursday['Hour'].size,  noon_friday['Hour'].size, noon_saturday['Hour'].size, noon_sunday['Hour'].size])"
   ]
  },
  {
   "cell_type": "code",
   "execution_count": 36,
   "metadata": {},
   "outputs": [],
   "source": [
    "afternoon_monday = afternoon_start[afternoon_start['Weekday']==0]\n",
    "afternoon_tuesday = afternoon_start[afternoon_start['Weekday']==1]\n",
    "afternoon_wednesday = afternoon_start[afternoon_start['Weekday']==2]\n",
    "afternoon_thursday = afternoon_start[afternoon_start['Weekday']==3]\n",
    "afternoon_friday = afternoon_start[afternoon_start['Weekday']==4]\n",
    "afternoon_saturday = afternoon_start[afternoon_start['Weekday']==5]\n",
    "afternoon_sunday =  afternoon_start[afternoon_start['Weekday']==6]\n",
    "afternoon_rides = np.array([afternoon_monday['Hour'].size, afternoon_tuesday['Hour'].size, afternoon_wednesday['Hour'].size,  afternoon_thursday['Hour'].size,  afternoon_friday['Hour'].size, afternoon_saturday['Hour'].size, afternoon_sunday['Hour'].size])"
   ]
  },
  {
   "cell_type": "code",
   "execution_count": 37,
   "metadata": {},
   "outputs": [],
   "source": [
    "evening_monday = evening_start[evening_start['Weekday']==0]\n",
    "evening_tuesday = evening_start[evening_start['Weekday']==1]\n",
    "evening_wednesday = evening_start[evening_start['Weekday']==2]\n",
    "evening_thursday = evening_start[evening_start['Weekday']==3]\n",
    "evening_friday = evening_start[evening_start['Weekday']==4]\n",
    "evening_saturday = evening_start[evening_start['Weekday']==5]\n",
    "evening_sunday =  evening_start[evening_start['Weekday']==6]\n",
    "evening_rides = np.array([evening_monday['Hour'].size, evening_tuesday['Hour'].size, evening_wednesday['Hour'].size,  evening_thursday['Hour'].size,  evening_friday['Hour'].size, evening_saturday['Hour'].size, evening_sunday['Hour'].size])"
   ]
  },
  {
   "cell_type": "code",
   "execution_count": 38,
   "metadata": {},
   "outputs": [],
   "source": [
    "night_monday = night_start[night_start['Weekday']==0]\n",
    "night_tuesday = night_start[night_start['Weekday']==1]\n",
    "night_wednesday = night_start[night_start['Weekday']==2]\n",
    "night_thursday = night_start[night_start['Weekday']==3]\n",
    "night_friday = night_start[night_start['Weekday']==4]\n",
    "night_saturday = night_start[night_start['Weekday']==5]\n",
    "night_sunday =  night_start[night_start['Weekday']==6]\n",
    "night_rides = np.array([night_monday['Hour'].size, night_tuesday['Hour'].size, night_wednesday['Hour'].size,  night_thursday['Hour'].size,  night_friday['Hour'].size, night_saturday['Hour'].size, night_sunday['Hour'].size])"
   ]
  },
  {
   "cell_type": "code",
   "execution_count": 39,
   "metadata": {},
   "outputs": [
    {
     "data": {
      "image/png": "[encoded data removed]",
      "text/plain": [
       "<Figure size 576x288 with 1 Axes>"
      ]
     },
     "metadata": {
      "needs_background": "light"
     },
     "output_type": "display_data"
    }
   ],
   "source": [
    "fig,ax = plt.subplots(figsize=(8,4))\n",
    "weekly_rides_morning =pd.Series([morning_start[morning_start['Weekday']==0].size, morning_start[morning_start['Weekday']==1].size])\n",
    "weekdays= ['Monday','Tuesday','Wednesday','Thursday','Friday','Saturday','Sunday']\n",
    "data = np.array([morning_rides, midmorning_rides, noon_rides, afternoon_rides, evening_rides, night_rides])\n",
    "color_list = ['b', 'g', 'r', 'c', 'm', 'y']\n",
    "\n",
    "for i in range(data.shape[0]):\n",
    "  plt.bar(weekdays, data[i],\n",
    "    bottom = np.sum(data[:i], axis = 0),\n",
    "    color = color_list[i % len(color_list)])\n",
    "\n",
    "ax.set_xlabel(\"Weekday\")\n",
    "ax.set_ylabel(\"Number of Rides\")\n",
    "ax.set_title(\"Number of Rides throughout a week and different timeperiods of a day\")\n",
    "\n",
    "plt.show()"
   ]
  },
  {
   "cell_type": "code",
   "execution_count": 40,
   "metadata": {},
   "outputs": [],
   "source": [
    "### usage during a year"
   ]
  },
  {
   "cell_type": "code",
   "execution_count": 41,
   "metadata": {},
   "outputs": [
    {
     "data": {
      "text/html": [
       "<div>\n",
       "<style scoped>\n",
       "    .dataframe tbody tr th:only-of-type {\n",
       "        vertical-align: middle;\n",
       "    }\n",
       "\n",
       "    .dataframe tbody tr th {\n",
       "        vertical-align: top;\n",
       "    }\n",
       "\n",
       "    .dataframe thead th {\n",
       "        text-align: right;\n",
       "    }\n",
       "</style>\n",
       "<table border=\"1\" class=\"dataframe\">\n",
       "  <thead>\n",
       "    <tr style=\"text-align: right;\">\n",
       "      <th></th>\n",
       "      <th>Unnamed: 0</th>\n",
       "      <th>start_time</th>\n",
       "      <th>end_time</th>\n",
       "      <th>start_station_id</th>\n",
       "      <th>end_station_id</th>\n",
       "      <th>start_station_name</th>\n",
       "      <th>end_station_name</th>\n",
       "      <th>bike_id</th>\n",
       "      <th>user_type</th>\n",
       "      <th>duration</th>\n",
       "      <th>Date</th>\n",
       "      <th>Weekday</th>\n",
       "      <th>Hour</th>\n",
       "      <th>Month</th>\n",
       "    </tr>\n",
       "  </thead>\n",
       "  <tbody>\n",
       "    <tr>\n",
       "      <th>0</th>\n",
       "      <td>0</td>\n",
       "      <td>2016-03-31 23:53:00</td>\n",
       "      <td>2016-04-01 00:07:00</td>\n",
       "      <td>344</td>\n",
       "      <td>458</td>\n",
       "      <td>Ravenswood Ave &amp; Lawrence Ave</td>\n",
       "      <td>Broadway &amp; Thorndale Ave</td>\n",
       "      <td>155</td>\n",
       "      <td>Subscriber</td>\n",
       "      <td>14.0</td>\n",
       "      <td>2016-03-31</td>\n",
       "      <td>3</td>\n",
       "      <td>23</td>\n",
       "      <td>3</td>\n",
       "    </tr>\n",
       "    <tr>\n",
       "      <th>1</th>\n",
       "      <td>1</td>\n",
       "      <td>2016-03-31 23:46:00</td>\n",
       "      <td>2016-03-31 23:57:00</td>\n",
       "      <td>128</td>\n",
       "      <td>213</td>\n",
       "      <td>Damen Ave &amp; Chicago Ave</td>\n",
       "      <td>Leavitt St &amp; North Ave</td>\n",
       "      <td>4831</td>\n",
       "      <td>Subscriber</td>\n",
       "      <td>11.0</td>\n",
       "      <td>2016-03-31</td>\n",
       "      <td>3</td>\n",
       "      <td>23</td>\n",
       "      <td>3</td>\n",
       "    </tr>\n",
       "  </tbody>\n",
       "</table>\n",
       "</div>"
      ],
      "text/plain": [
       "   Unnamed: 0          start_time            end_time  start_station_id  \\\n",
       "0           0 2016-03-31 23:53:00 2016-04-01 00:07:00               344   \n",
       "1           1 2016-03-31 23:46:00 2016-03-31 23:57:00               128   \n",
       "\n",
       "   end_station_id             start_station_name          end_station_name  \\\n",
       "0             458  Ravenswood Ave & Lawrence Ave  Broadway & Thorndale Ave   \n",
       "1             213        Damen Ave & Chicago Ave    Leavitt St & North Ave   \n",
       "\n",
       "   bike_id   user_type  duration        Date  Weekday  Hour  Month  \n",
       "0      155  Subscriber      14.0  2016-03-31        3    23      3  \n",
       "1     4831  Subscriber      11.0  2016-03-31        3    23      3  "
      ]
     },
     "execution_count": 41,
     "metadata": {},
     "output_type": "execute_result"
    }
   ],
   "source": [
    "def get_month (ts):\n",
    "    return ts.month\n",
    "chicago[\"Month\"]=chicago[\"start_time\"].apply(lambda x: get_month (x))\n",
    "chicago.head(2)"
   ]
  },
  {
   "cell_type": "code",
   "execution_count": 42,
   "metadata": {},
   "outputs": [],
   "source": [
    "jan = chicago[chicago[\"Month\"]==1].size\n",
    "feb = chicago[chicago[\"Month\"]==2].size\n",
    "mer = chicago[chicago[\"Month\"]==3].size\n",
    "apr = chicago[chicago[\"Month\"]==4].size\n",
    "mai = chicago[chicago[\"Month\"]==5].size\n",
    "juni = chicago[chicago[\"Month\"]==6].size\n",
    "juli = chicago[chicago[\"Month\"]==7].size\n",
    "aug = chicago[chicago[\"Month\"]==8].size\n",
    "sep = chicago[chicago[\"Month\"]==9].size\n",
    "okt = chicago[chicago[\"Month\"]==10].size\n",
    "nov = chicago[chicago[\"Month\"]==11].size\n",
    "dez = chicago[chicago[\"Month\"]==12].size\n"
   ]
  },
  {
   "cell_type": "code",
   "execution_count": 43,
   "metadata": {},
   "outputs": [
    {
     "name": "stdout",
     "output_type": "stream",
     "text": [
      "       Months    Rides\n",
      "0     january  1297940\n",
      "1    feburary  1651608\n",
      "2       march  2599016\n",
      "3       april  3236786\n",
      "4         may  5074174\n",
      "5        june  6676362\n",
      "6        july  7225554\n",
      "7      august  6761496\n",
      "8   september  6131930\n",
      "9     october  4891852\n",
      "10   november  3358838\n",
      "11   december  1303064\n"
     ]
    }
   ],
   "source": [
    "year= pd.DataFrame({'Months': [ 'january' , 'feburary' , 'march' , 'april' , 'may' ,  'june' , 'july' , 'august' , 'september' , 'october' , 'november', 'december'], 'Rides': [  chicago[chicago['Month']==1].size , chicago[chicago['Month']==2].size , chicago[chicago['Month']==3].size , chicago[chicago['Month']==4].size , chicago[chicago['Month']==5].size , chicago[chicago['Month']==6].size , chicago[chicago['Month']==7].size , chicago[chicago['Month']==8].size , chicago[chicago['Month']==9].size , chicago[chicago['Month']==10].size , chicago[chicago['Month']==11].size , chicago[chicago['Month']==12].size ,]})\n",
    "print(year)"
   ]
  },
  {
   "cell_type": "code",
   "execution_count": 44,
   "metadata": {},
   "outputs": [
    {
     "data": {
      "image/png": "[encoded data removed]",
      "text/plain": [
       "<Figure size 1080x288 with 1 Axes>"
      ]
     },
     "metadata": {
      "needs_background": "light"
     },
     "output_type": "display_data"
    }
   ],
   "source": [
    "fig,ax = plt.subplots(figsize=(15,4))\n",
    "\n",
    "ax.bar(year[\"Months\"], year[\"Rides\"])\n",
    "ax.set_ylabel(\"Number of Rides\")\n",
    "ax.set_title(\"Number of Rides in different months\")\n",
    "\n",
    "plt.show()"
   ]
  },
  {
   "cell_type": "markdown",
   "metadata": {},
   "source": [
    "###usage during a week and different time periods between suscriber and customers"
   ]
  },
  {
   "cell_type": "code",
   "execution_count": 50,
   "metadata": {},
   "outputs": [
    {
     "name": "stdout",
     "output_type": "stream",
     "text": [
      "855227\n",
      "2731103\n"
     ]
    }
   ],
   "source": [
    "#Subscriber\n",
    "morning_start_sub = chicago[(chicago['Hour']>=6) & (chicago['Hour']<10) & (chicago['user_type']=='Subscriber')]\n",
    "mid_morning_start_sub = chicago[(chicago['Hour']>=10) & (chicago['Hour']<12)& (chicago['user_type']=='Subscriber')]\n",
    "noon_start_sub = chicago[(chicago['Hour']>=12) & (chicago['Hour']<14)& (chicago['user_type']=='Subscriber')]\n",
    "afternoon_start_sub = chicago[(chicago['Hour']>=14) & (chicago['Hour']<17)& (chicago['user_type']=='Subscriber')]\n",
    "evening_start_sub = chicago[(chicago['Hour']>=17) & (chicago['Hour']<21)& (chicago['user_type']=='Subscriber')]\n",
    "night_start_sub = chicago[((chicago['Hour']>=21) &  (chicago['user_type']=='Subscriber') &(chicago['Hour']<24)) | ((chicago['Hour']>=0) & (chicago['Hour']<6))]\n",
    "#Customer\n",
    "morning_start_cust = chicago[(chicago['Hour']>=6) & (chicago['Hour']<10) & (chicago['user_type']=='Customer')]\n",
    "mid_morning_start_cust = chicago[(chicago['Hour']>=10) & (chicago['Hour']<12)& (chicago['user_type']=='Customer')]\n",
    "noon_start_cust = chicago[(chicago['Hour']>=12) & (chicago['Hour']<14)& (chicago['user_type']=='Customer')]\n",
    "afternoon_start_cust = chicago[(chicago['Hour']>=14) & (chicago['Hour']<17)& (chicago['user_type']=='Customer')]\n",
    "evening_start_cust = chicago[(chicago['Hour']>=17) & (chicago['Hour']<21)& (chicago['user_type']=='Customer')]\n",
    "night_start_cust = chicago[((chicago['Hour']>=21) &  (chicago['user_type']=='Customer') &(chicago['Hour']<24)) | ((chicago['Hour']>=0) & (chicago['Hour']<6))]\n",
    "cust = chicago[chicago['user_type']=='Customer']\n",
    "sub = chicago[chicago['user_type']=='Subscriber']\n",
    "print(cust['start_time'].size)\n",
    "print(sub['start_time'].size)"
   ]
  },
  {
   "cell_type": "code",
   "execution_count": 51,
   "metadata": {},
   "outputs": [],
   "source": [
    "#SUBSCRIBER\n",
    "# Fahrten am Morgen innerhalb einer Woche\n",
    "morning_monday_sub = morning_start_sub[morning_start_sub['Weekday']==0]\n",
    "morning_tuesday_sub = morning_start_sub[morning_start_sub['Weekday']==1]\n",
    "morning_wednesday_sub = morning_start_sub[morning_start_sub['Weekday']==2]\n",
    "morning_thursday_sub = morning_start_sub[morning_start_sub['Weekday']==3]\n",
    "morning_friday_sub = morning_start_sub[morning_start_sub['Weekday']==4]\n",
    "morning_saturday_sub = morning_start_sub[morning_start_sub['Weekday']==5]\n",
    "morning_sunday_sub =  morning_start_sub[morning_start_sub['Weekday']==6]\n",
    "morning_rides_sub = np.array([morning_monday_sub['Hour'].size, morning_tuesday_sub['Hour'].size, morning_wednesday_sub['Hour'].size,  morning_thursday_sub['Hour'].size,  morning_friday_sub['Hour'].size,  morning_saturday_sub['Hour'].size,  morning_sunday_sub['Hour'].size])\n",
    "\n",
    "# Fahrten am Vormittag innerhalb einer Woche\n",
    "midmorning_monday_sub = mid_morning_start_sub[mid_morning_start_sub['Weekday']==0]\n",
    "midmorning_tuesday_sub = mid_morning_start_sub[mid_morning_start_sub['Weekday']==1]\n",
    "midmorning_wednesday_sub = mid_morning_start_sub[mid_morning_start_sub['Weekday']==2]\n",
    "midmorning_thursday_sub = mid_morning_start_sub[mid_morning_start_sub['Weekday']==3]\n",
    "midmorning_friday_sub = mid_morning_start_sub[mid_morning_start_sub['Weekday']==4]\n",
    "midmorning_saturday_sub = mid_morning_start_sub[mid_morning_start_sub['Weekday']==5]\n",
    "midmorning_sunday_sub =  mid_morning_start_sub[mid_morning_start_sub['Weekday']==6]\n",
    "midmorning_rides_sub = np.array([midmorning_monday_sub['Hour'].size, midmorning_tuesday_sub['Hour'].size, midmorning_wednesday_sub['Hour'].size,  midmorning_thursday_sub['Hour'].size,  midmorning_friday_sub['Hour'].size,  midmorning_saturday_sub['Hour'].size,  midmorning_sunday_sub['Hour'].size])\n",
    "\n",
    "# Fahrten am Mittag innerhalb einer Woche\n",
    "noon_monday_sub = noon_start_sub[noon_start_sub['Weekday']==0]\n",
    "noon_tuesday_sub = noon_start_sub[noon_start_sub['Weekday']==1]\n",
    "noon_wednesday_sub = noon_start_sub[noon_start_sub['Weekday']==2]\n",
    "noon_thursday_sub = noon_start_sub[noon_start_sub['Weekday']==3]\n",
    "noon_friday_sub = noon_start_sub[noon_start_sub['Weekday']==4]\n",
    "noon_saturday_sub = noon_start_sub[noon_start_sub['Weekday']==5]\n",
    "noon_sunday_sub =  noon_start_sub[noon_start_sub['Weekday']==6]\n",
    "noon_rides_sub = np.array([noon_monday_sub['Hour'].size, noon_tuesday_sub['Hour'].size, noon_wednesday_sub['Hour'].size,  noon_thursday_sub['Hour'].size,  noon_friday_sub['Hour'].size, noon_saturday_sub['Hour'].size, noon_sunday_sub['Hour'].size])\n",
    "\n",
    "# Fahrten am Nachmittag innerhalb einer Woche\n",
    "afternoon_monday_sub = afternoon_start_sub[afternoon_start_sub['Weekday']==0]\n",
    "afternoon_tuesday_sub = afternoon_start_sub[afternoon_start_sub['Weekday']==1]\n",
    "afternoon_wednesday_sub = afternoon_start_sub[afternoon_start_sub['Weekday']==2]\n",
    "afternoon_thursday_sub = afternoon_start_sub[afternoon_start_sub['Weekday']==3]\n",
    "afternoon_friday_sub = afternoon_start_sub[afternoon_start_sub['Weekday']==4]\n",
    "afternoon_saturday_sub = afternoon_start_sub[afternoon_start_sub['Weekday']==5]\n",
    "afternoon_sunday_sub =  afternoon_start_sub[afternoon_start_sub['Weekday']==6]\n",
    "afternoon_rides_sub = np.array([afternoon_monday_sub['Hour'].size, afternoon_tuesday_sub['Hour'].size, afternoon_wednesday_sub['Hour'].size,  afternoon_thursday_sub['Hour'].size,  afternoon_friday_sub['Hour'].size, afternoon_saturday_sub['Hour'].size, afternoon_sunday_sub['Hour'].size])\n",
    "\n",
    "# Fahrten am Abend innerhalb einer Woche\n",
    "evening_monday_sub = evening_start_sub[evening_start_sub['Weekday']==0]\n",
    "evening_tuesday_sub = evening_start_sub[evening_start_sub['Weekday']==1]\n",
    "evening_wednesday_sub = evening_start_sub[evening_start_sub['Weekday']==2]\n",
    "evening_thursday_sub = evening_start_sub[evening_start_sub['Weekday']==3]\n",
    "evening_friday_sub = evening_start_sub[evening_start_sub['Weekday']==4]\n",
    "evening_saturday_sub = evening_start_sub[evening_start_sub['Weekday']==5]\n",
    "evening_sunday_sub =  evening_start_sub[evening_start_sub['Weekday']==6]\n",
    "evening_rides_sub = np.array([evening_monday_sub['Hour'].size, evening_tuesday_sub['Hour'].size, evening_wednesday_sub['Hour'].size,  evening_thursday_sub['Hour'].size,  evening_friday_sub['Hour'].size, evening_saturday_sub['Hour'].size, evening_sunday_sub['Hour'].size])\n",
    "\n",
    "# nächtliche Fahrten innerhalb einer Woche\n",
    "night_monday_sub = night_start_sub[night_start_sub['Weekday']==0]\n",
    "night_tuesday_sub = night_start_sub[night_start_sub['Weekday']==1]\n",
    "night_wednesday_sub = night_start_sub[night_start_sub['Weekday']==2]\n",
    "night_thursday_sub = night_start_sub[night_start_sub['Weekday']==3]\n",
    "night_friday_sub = night_start_sub[night_start_sub['Weekday']==4]\n",
    "night_saturday_sub = night_start_sub[night_start_sub['Weekday']==5]\n",
    "night_sunday_sub =  night_start_sub[night_start_sub['Weekday']==6]\n",
    "night_rides_sub = np.array([night_monday_sub['Hour'].size, night_tuesday_sub['Hour'].size, night_wednesday_sub['Hour'].size,  night_thursday_sub['Hour'].size,  night_friday_sub['Hour'].size, night_saturday_sub['Hour'].size, night_sunday_sub['Hour'].size])\n",
    "\n",
    "#CUSTOMER\n",
    "# Fahrten am Morgen innerhalb einer Woche\n",
    "morning_monday_cust = morning_start_cust[morning_start_cust['Weekday']==0]\n",
    "morning_tuesday_cust = morning_start_cust[morning_start_cust['Weekday']==1]\n",
    "morning_wednesday_cust = morning_start_cust[morning_start_cust['Weekday']==2]\n",
    "morning_thursday_cust = morning_start_cust[morning_start_cust['Weekday']==3]\n",
    "morning_friday_cust = morning_start_cust[morning_start_cust['Weekday']==4]\n",
    "morning_saturday_cust = morning_start_cust[morning_start_cust['Weekday']==5]\n",
    "morning_sunday_cust =  morning_start_cust[morning_start_cust['Weekday']==6]\n",
    "morning_rides_cust = np.array([morning_monday_cust['Hour'].size, morning_tuesday_cust['Hour'].size, morning_wednesday_cust['Hour'].size,  morning_thursday_cust['Hour'].size,  morning_friday_cust['Hour'].size,  morning_saturday_cust['Hour'].size,  morning_sunday_cust['Hour'].size])\n",
    "\n",
    "# Fahrten am Vormittag innerhalb einer Woche\n",
    "midmorning_monday_cust = mid_morning_start_cust[mid_morning_start_cust['Weekday']==0]\n",
    "midmorning_tuesday_cust = mid_morning_start_cust[mid_morning_start_cust['Weekday']==1]\n",
    "midmorning_wednesday_cust = mid_morning_start_cust[mid_morning_start_cust['Weekday']==2]\n",
    "midmorning_thursday_cust = mid_morning_start_cust[mid_morning_start_cust['Weekday']==3]\n",
    "midmorning_friday_cust = mid_morning_start_cust[mid_morning_start_cust['Weekday']==4]\n",
    "midmorning_saturday_cust = mid_morning_start_cust[mid_morning_start_cust['Weekday']==5]\n",
    "midmorning_sunday_cust =  mid_morning_start_cust[mid_morning_start_cust['Weekday']==6]\n",
    "midmorning_rides_cust = np.array([midmorning_monday_cust['Hour'].size, midmorning_tuesday_cust['Hour'].size, midmorning_wednesday_cust['Hour'].size,  midmorning_thursday_cust['Hour'].size,  midmorning_friday_cust['Hour'].size,  midmorning_saturday_cust['Hour'].size,  midmorning_sunday_cust['Hour'].size])\n",
    "\n",
    "# Fahrten am Mittag innerhalb einer Woche\n",
    "noon_monday_cust = noon_start_cust[noon_start_cust['Weekday']==0]\n",
    "noon_tuesday_cust = noon_start_cust[noon_start_cust['Weekday']==1]\n",
    "noon_wednesday_cust = noon_start_cust[noon_start_cust['Weekday']==2]\n",
    "noon_thursday_cust = noon_start_cust[noon_start_cust['Weekday']==3]\n",
    "noon_friday_cust = noon_start_cust[noon_start_cust['Weekday']==4]\n",
    "noon_saturday_cust = noon_start_cust[noon_start_cust['Weekday']==5]\n",
    "noon_sunday_cust =  noon_start_cust[noon_start_cust['Weekday']==6]\n",
    "noon_rides_cust = np.array([noon_monday_cust['Hour'].size, noon_tuesday_cust['Hour'].size, noon_wednesday_cust['Hour'].size,  noon_thursday_cust['Hour'].size,  noon_friday_cust['Hour'].size, noon_saturday_cust['Hour'].size, noon_sunday_cust['Hour'].size])\n",
    "\n",
    "# Fahrten am Nachmittag innerhalb einer Woche\n",
    "afternoon_monday_cust = afternoon_start_cust[afternoon_start_cust['Weekday']==0]\n",
    "afternoon_tuesday_cust = afternoon_start_cust[afternoon_start_cust['Weekday']==1]\n",
    "afternoon_wednesday_cust = afternoon_start_cust[afternoon_start_cust['Weekday']==2]\n",
    "afternoon_thursday_cust = afternoon_start_cust[afternoon_start_cust['Weekday']==3]\n",
    "afternoon_friday_cust = afternoon_start_cust[afternoon_start_cust['Weekday']==4]\n",
    "afternoon_saturday_cust = afternoon_start_cust[afternoon_start_cust['Weekday']==5]\n",
    "afternoon_sunday_cust =  afternoon_start_cust[afternoon_start_cust['Weekday']==6]\n",
    "afternoon_rides_cust = np.array([afternoon_monday_cust['Hour'].size, afternoon_tuesday_cust['Hour'].size, afternoon_wednesday_cust['Hour'].size,  afternoon_thursday_cust['Hour'].size,  afternoon_friday_cust['Hour'].size, afternoon_saturday_cust['Hour'].size, afternoon_sunday_cust['Hour'].size])\n",
    "\n",
    "# Fahrten am Abend innerhalb einer Woche\n",
    "evening_monday_cust = evening_start_cust[evening_start_cust['Weekday']==0]\n",
    "evening_tuesday_cust = evening_start_cust[evening_start_cust['Weekday']==1]\n",
    "evening_wednesday_cust = evening_start_cust[evening_start_cust['Weekday']==2]\n",
    "evening_thursday_cust = evening_start_cust[evening_start_cust['Weekday']==3]\n",
    "evening_friday_cust = evening_start_cust[evening_start_cust['Weekday']==4]\n",
    "evening_saturday_cust = evening_start_cust[evening_start_cust['Weekday']==5]\n",
    "evening_sunday_cust =  evening_start_cust[evening_start_cust['Weekday']==6]\n",
    "evening_rides_cust = np.array([evening_monday_cust['Hour'].size, evening_tuesday_cust['Hour'].size, evening_wednesday_cust['Hour'].size,  evening_thursday_cust['Hour'].size,  evening_friday_cust['Hour'].size, evening_saturday_cust['Hour'].size, evening_sunday_cust['Hour'].size])\n",
    "\n",
    "# nächtliche Fahrten innerhalb einer Woche\n",
    "night_monday_cust = night_start_cust[night_start_cust['Weekday']==0]\n",
    "night_tuesday_cust = night_start_cust[night_start_cust['Weekday']==1]\n",
    "night_wednesday_cust = night_start_cust[night_start_cust['Weekday']==2]\n",
    "night_thursday_cust = night_start_cust[night_start_cust['Weekday']==3]\n",
    "night_friday_cust = night_start_cust[night_start_cust['Weekday']==4]\n",
    "night_saturday_cust = night_start_cust[night_start_cust['Weekday']==5]\n",
    "night_sunday_cust =  night_start_cust[night_start_cust['Weekday']==6]\n",
    "night_rides_cust = np.array([night_monday_cust['Hour'].size, night_tuesday_cust['Hour'].size, night_wednesday_cust['Hour'].size,  night_thursday_cust['Hour'].size,  night_friday_cust['Hour'].size, night_saturday_cust['Hour'].size, night_sunday_cust['Hour'].size])"
   ]
  },
  {
   "cell_type": "code",
   "execution_count": 52,
   "metadata": {
    "scrolled": true
   },
   "outputs": [
    {
     "data": {
      "image/png": "[encoded data removed]",
      "text/plain": [
       "<Figure size 576x288 with 1 Axes>"
      ]
     },
     "metadata": {
      "needs_background": "light"
     },
     "output_type": "display_data"
    },
    {
     "data": {
      "image/png": "[encoded data removed]",
      "text/plain": [
       "<Figure size 576x288 with 1 Axes>"
      ]
     },
     "metadata": {
      "needs_background": "light"
     },
     "output_type": "display_data"
    }
   ],
   "source": [
    "#SUBSCRIBER\n",
    "# Graph der die Anzahl der Fahrten innerhalb einer Woche und in verschiedenen Zeitperioden darstellt \n",
    "fig,ax = plt.subplots(figsize=(8,4))\n",
    "weekdays_sub= ['Monday','Tuesday','Wednesday','Thursday','Friday','Saturday','Sunday']\n",
    "data = np.array([morning_rides_sub, midmorning_rides_sub, noon_rides_sub, afternoon_rides_sub, evening_rides_sub, night_rides_sub])\n",
    "color_list = ['b', 'g', 'r', 'c', 'm', 'y']\n",
    "for i in range(data.shape[0]):\n",
    "  plt.bar(weekdays_sub, data[i],\n",
    "    bottom = np.sum(data[:i], axis = 0),\n",
    "    color = color_list[i % len(color_list)])\n",
    "\n",
    "ax.set_xlabel(\"Weekday\")\n",
    "ax.set_ylabel(\"Number of Rides\")\n",
    "ax.set_title(\"Number of Rides throughout a week and different timeperiods of a day of Subscribers\")\n",
    "\n",
    "#CUSTOMER\n",
    "# Graph der die Anzahl der Fahrten innerhalb einer Woche und in verschiedenen Zeitperioden darstellt \n",
    "fig,ax = plt.subplots(figsize=(8,4))\n",
    "weekdays_cust= ['Monday','Tuesday','Wednesday','Thursday','Friday','Saturday','Sunday']\n",
    "data = np.array([morning_rides_cust, midmorning_rides_cust, noon_rides_cust, afternoon_rides_cust, evening_rides_cust, night_rides_cust])\n",
    "color_list = ['b', 'g', 'r', 'c', 'm', 'y']\n",
    "for i in range(data.shape[0]):\n",
    "  plt.bar(weekdays_cust, data[i],\n",
    "    bottom = np.sum(data[:i], axis = 0),\n",
    "    color = color_list[i % len(color_list)])\n",
    "\n",
    "ax.set_xlabel(\"Weekday\")\n",
    "ax.set_ylabel(\"Number of Rides\")\n",
    "ax.set_title(\"Number of Rides throughout a week and different timeperiods of a day of Customers\")\n",
    "\n",
    "\n",
    "plt.show()"
   ]
  },
  {
   "cell_type": "markdown",
   "metadata": {},
   "source": [
    "### usage of customers and suscribers on a tuesday and a sunday and in the week"
   ]
  },
  {
   "cell_type": "code",
   "execution_count": 55,
   "metadata": {},
   "outputs": [
    {
     "name": "stdout",
     "output_type": "stream",
     "text": [
      "[[12659 29657 43639 67707 48117 27624]\n",
      " [26328 38816 46093 67830 62372 32982]]\n"
     ]
    },
    {
     "data": {
      "image/png": "[encoded data removed]",
      "text/plain": [
       "<Figure size 576x288 with 1 Axes>"
      ]
     },
     "metadata": {
      "needs_background": "light"
     },
     "output_type": "display_data"
    },
    {
     "data": {
      "image/png": "[encoded data removed]",
      "text/plain": [
       "<Figure size 576x288 with 1 Axes>"
      ]
     },
     "metadata": {
      "needs_background": "light"
     },
     "output_type": "display_data"
    },
    {
     "name": "stdout",
     "output_type": "stream",
     "text": [
      "[[  5632  10577  13004  21431  20113  16263]\n",
      " [131894  26675  34207  78953 156861  35912]]\n"
     ]
    }
   ],
   "source": [
    "#Sunday\n",
    "sunday_sub = np.array([morning_sunday_sub['Hour'].size, midmorning_sunday_sub['Hour'].size, noon_sunday_sub['Hour'].size, afternoon_sunday_sub['Hour'].size, evening_sunday_sub['Hour'].size, night_sunday_sub['Hour'].size])\n",
    "sunday_cust = np.array([morning_sunday_cust['Hour'].size, midmorning_sunday_cust['Hour'].size, noon_sunday_cust['Hour'].size, afternoon_sunday_cust['Hour'].size, evening_sunday_cust['Hour'].size, night_sunday_cust['Hour'].size])\n",
    "\n",
    "\n",
    "\n",
    "fig,ax = plt.subplots(figsize=(8,4))\n",
    "day= ['Morning','Midmorning','Noon','Afternoon','Evening','Night']\n",
    "data = np.array([sunday_cust, sunday_sub])\n",
    "color_list = ['b', 'g', 'r', 'c', 'm', 'y']\n",
    "\n",
    "for i in range(data.shape[0]):\n",
    "  plt.bar(day, data[i],\n",
    "    bottom = np.sum(data[:i], axis = 0),\n",
    "    color = color_list[i % len(color_list)])\n",
    "\n",
    "ax.set_ylabel(\"Number of Rides\")\n",
    "ax.set_title(\"Number of Rides throughout Sunday and different timeperiods of  Subscribers and Customers\")\n",
    "\n",
    "print(data)\n",
    "#Tuesday\n",
    "tuesday_sub = np.array([morning_tuesday_sub['Hour'].size, midmorning_tuesday_sub['Hour'].size, noon_tuesday_sub['Hour'].size, afternoon_tuesday_sub['Hour'].size, evening_tuesday_sub['Hour'].size, night_tuesday_sub['Hour'].size])\n",
    "tuesday_cust = np.array([morning_tuesday_cust['Hour'].size, midmorning_tuesday_cust['Hour'].size, noon_tuesday_cust['Hour'].size, afternoon_tuesday_cust['Hour'].size, evening_tuesday_cust['Hour'].size, night_tuesday_cust['Hour'].size])\n",
    "\n",
    "\n",
    "fig,ax = plt.subplots(figsize=(8,4))\n",
    "day= ['Morning','Midmorning','Noon','Afternoon','Evening','Night']\n",
    "data = np.array([tuesday_cust, tuesday_sub])\n",
    "color_list = ['b', 'g', 'r', 'c', 'm', 'y']\n",
    "\n",
    "for i in range(data.shape[0]):\n",
    "  plt.bar(day, data[i],\n",
    "    bottom = np.sum(data[:i], axis = 0),\n",
    "    color = color_list[i % len(color_list)])\n",
    "\n",
    "ax.set_ylabel(\"Number of Rides\")\n",
    "ax.set_title(\"Number of Rides throughout Tuesday and different timeperiods of  Subscribers and Customers\")\n",
    "plt.show()\n",
    "print(data)"
   ]
  },
  {
   "cell_type": "code",
   "execution_count": 56,
   "metadata": {},
   "outputs": [
    {
     "data": {
      "image/png": "[encoded data removed]",
      "text/plain": [
       "<Figure size 576x288 with 1 Axes>"
      ]
     },
     "metadata": {
      "needs_background": "light"
     },
     "output_type": "display_data"
    }
   ],
   "source": [
    "#Sunday\n",
    "sub_monday = chicago[(chicago['user_type']=='Subscriber') & (chicago['Weekday']==0)]\n",
    "sub_tuesday = chicago[(chicago['user_type']=='Subscriber') & (chicago['Weekday']==1)]\n",
    "sub_wednesday = chicago[(chicago['user_type']=='Subscriber') & (chicago['Weekday']==2)]\n",
    "sub_thursday = chicago[(chicago['user_type']=='Subscriber') & (chicago['Weekday']==3)]\n",
    "sub_friday = chicago[(chicago['user_type']=='Subscriber') & (chicago['Weekday']==4)]\n",
    "sub_saturday = chicago[(chicago['user_type']=='Subscriber') & (chicago['Weekday']==5)]\n",
    "sub_sunday = chicago[(chicago['user_type']=='Subscriber') & (chicago['Weekday']==6)]\n",
    "cust_monday = chicago[(chicago['user_type']=='Customer') & (chicago['Weekday']==0)]\n",
    "cust_tuesday = chicago[(chicago['user_type']=='Customer') & (chicago['Weekday']==1)]\n",
    "cust_wednesday = chicago[(chicago['user_type']=='Customer') & (chicago['Weekday']==2)]\n",
    "cust_thursday = chicago[(chicago['user_type']=='Customer') & (chicago['Weekday']==3)]\n",
    "cust_friday = chicago[(chicago['user_type']=='Customer') & (chicago['Weekday']==4)]\n",
    "cust_saturday = chicago[(chicago['user_type']=='Customer') & (chicago['Weekday']==5)]\n",
    "cust_sunday = chicago[(chicago['user_type']=='Customer') & (chicago['Weekday']==6)]\n",
    "\n",
    "sub = np.array([sub_monday['start_time'].size, sub_tuesday['Hour'].size, sub_wednesday['Hour'].size, sub_thursday['Hour'].size, sub_friday['Hour'].size, sub_saturday['Hour'].size, sub_sunday['Hour'].size])\n",
    "cust = np.array([cust_monday['start_time'].size, cust_tuesday['Hour'].size, cust_wednesday['Hour'].size, cust_thursday['Hour'].size, cust_friday['Hour'].size, cust_saturday['Hour'].size, cust_sunday['Hour'].size])\n",
    "\n",
    "fig,ax = plt.subplots(figsize=(8,4))\n",
    "weekdays= ['Monday','Tuesday','Wednesday','Thursday','Friday','Saturday','Sunday']\n",
    "\n",
    "data = np.array([cust, sub])\n",
    "color_list = ['b', 'g', 'r', 'c', 'm', 'y']\n",
    "\n",
    "for i in range(data.shape[0]):\n",
    "  plt.bar(weekdays, data[i],\n",
    "    bottom = np.sum(data[:i], axis = 0),\n",
    "    color = color_list[i % len(color_list)])\n",
    "\n",
    "ax.set_ylabel(\"Number of Rides\")\n",
    "ax.set_title(\"Number of Rides throughout the week and different timeperiods of  Subscribers and Customers\")\n",
    "\n",
    "plt.show()"
   ]
  },
  {
   "cell_type": "code",
   "execution_count": 57,
   "metadata": {},
   "outputs": [
    {
     "name": "stdout",
     "output_type": "stream",
     "text": [
      "5747\n",
      "366\n",
      "52\n"
     ]
    }
   ],
   "source": [
    "bikes = chicago['bike_id'].unique()\n",
    "print(len(bikes))\n",
    "anzahlTage = len(chicago[\"Date\"].unique())\n",
    "print(anzahlTage)  ##366 Tage --> richtig\n",
    "montag = chicago[chicago[\"Weekday\"]==0]\n",
    "montage = montag[\"Date\"].unique()\n",
    "print(len(montag[\"Date\"].unique()))   ##52 Montage in 2016 erfasst --> richtig"
   ]
  },
  {
   "cell_type": "code",
   "execution_count": null,
   "metadata": {},
   "outputs": [
    {
     "name": "stdout",
     "output_type": "stream",
     "text": [
      "5719\n"
     ]
    },
    {
     "name": "stderr",
     "output_type": "stream",
     "text": [
      "<ipython-input-58-f520184fde08>:4: VisibleDeprecationWarning: Creating an ndarray from ragged nested sequences (which is a list-or-tuple of lists-or-tuples-or ndarrays with different lengths or shapes) is deprecated. If you meant to do this, you must specify 'dtype=object' when creating the ndarray\n",
      "  morning_rides = np.array([morning_monday, morning_tuesday, morning_wednesday, morning_friday,  morning_saturday,  morning_sunday])\n",
      "<ipython-input-58-f520184fde08>:5: VisibleDeprecationWarning: Creating an ndarray from ragged nested sequences (which is a list-or-tuple of lists-or-tuples-or ndarrays with different lengths or shapes) is deprecated. If you meant to do this, you must specify 'dtype=object' when creating the ndarray\n",
      "  midmorning_rides = np.array([midmorning_monday , midmorning_tuesday , midmorning_wednesday ,  midmorning_thursday ,  midmorning_friday ,  midmorning_saturday ,  midmorning_sunday ])\n",
      "<ipython-input-58-f520184fde08>:6: VisibleDeprecationWarning: Creating an ndarray from ragged nested sequences (which is a list-or-tuple of lists-or-tuples-or ndarrays with different lengths or shapes) is deprecated. If you meant to do this, you must specify 'dtype=object' when creating the ndarray\n",
      "  noon_rides = np.array([noon_monday , noon_tuesday , noon_wednesday ,  noon_thursday ,  noon_friday , noon_saturday , noon_sunday ])\n"
     ]
    }
   ],
   "source": [
    "morning_monday = morning_start[morning_start['Weekday']==0]\n",
    "print(len(morning_monday[\"bike_id\"].unique()))\n",
    "\n",
    "morning_rides = np.array([morning_monday, morning_tuesday, morning_wednesday, morning_friday,  morning_saturday,  morning_sunday])\n",
    "midmorning_rides = np.array([midmorning_monday , midmorning_tuesday , midmorning_wednesday ,  midmorning_thursday ,  midmorning_friday ,  midmorning_saturday ,  midmorning_sunday ])\n",
    "noon_rides = np.array([noon_monday , noon_tuesday , noon_wednesday ,  noon_thursday ,  noon_friday , noon_saturday , noon_sunday ])\n",
    "afternoon_rides = np.array([afternoon_monday , afternoon_tuesday , afternoon_wednesday ,  afternoon_thursday ,  afternoon_friday , afternoon_saturday , afternoon_sunday ])\n",
    "evening_rides = np.array([evening_monday , evening_tuesday , evening_wednesday ,  evening_thursday ,  evening_friday , evening_saturday , evening_sunday ])\n",
    "night_rides = np.array([night_monday , night_tuesday , night_wednesday ,  night_thursday ,  night_friday , night_saturday , night_sunday ])"
   ]
  },
  {
   "cell_type": "code",
   "execution_count": null,
   "metadata": {},
   "outputs": [],
   "source": [
    "print(\"Auslastung von Fahrrädern über den Tag verteilt\")\n",
    "print(\"morning\")\n",
    "for i in range(morning_rides.size):\n",
    "    temp = morning_rides[i]\n",
    "    print(len(temp[\"bike_id\"].unique()))\n",
    "print(\" \")\n",
    "print(\"midmorning\")\n",
    "for i in range(midmorning_rides.size):\n",
    "    temp = midmorning_rides[i]\n",
    "    print(len(temp[\"bike_id\"].unique()))\n",
    "print(\" \")\n",
    "print(\"noon\")\n",
    "for i in range(noon_rides.size):\n",
    "    temp = noon_rides[i]\n",
    "    print(len(temp[\"bike_id\"].unique()))\n",
    "print(\" \")\n",
    "print(\"afternoon\")\n",
    "for i in range(afternoon_rides.size):\n",
    "    temp = afternoon_rides[i]\n",
    "    print(len(temp[\"bike_id\"].unique()))\n",
    "print(\" \")\n",
    "print(\"evening\")\n",
    "for i in range(evening_rides.size):\n",
    "    temp = evening_rides[i]\n",
    "    print(len(temp[\"bike_id\"].unique()))\n",
    "print(\" \")\n",
    "print(\"night\")\n",
    "for i in range(night_rides.size):\n",
    "    temp = night_rides[i]\n",
    "    print(len(temp[\"bike_id\"].unique()))\n",
    "\n"
   ]
  },
  {
   "cell_type": "code",
   "execution_count": null,
   "metadata": {},
   "outputs": [],
   "source": [
    "##Auslastung Monate\n",
    "jan = chicago[chicago[\"Month\"]==1]\n",
    "print(len(jan[\"bike_id\"].unique()))\n",
    "feb = chicago[chicago[\"Month\"]==2]\n",
    "print(len(feb[\"bike_id\"].unique()))\n",
    "mer = chicago[chicago[\"Month\"]==3]\n",
    "print(len(mer[\"bike_id\"].unique()))\n",
    "apr = chicago[chicago[\"Month\"]==4]\n",
    "print(len(apr[\"bike_id\"].unique()))\n",
    "mai = chicago[chicago[\"Month\"]==5]\n",
    "print(len(mai[\"bike_id\"].unique()))\n",
    "juni = chicago[chicago[\"Month\"]==6]\n",
    "print(len(juni[\"bike_id\"].unique()))\n",
    "juli = chicago[chicago[\"Month\"]==7]\n",
    "print(len(juli[\"bike_id\"].unique()))\n",
    "aug = chicago[chicago[\"Month\"]==8]\n",
    "print(len(aug[\"bike_id\"].unique()))\n",
    "sep = chicago[chicago[\"Month\"]==9]\n",
    "print(len(sep[\"bike_id\"].unique()))\n",
    "okt = chicago[chicago[\"Month\"]==10]\n",
    "print(len(okt[\"bike_id\"].unique()))\n",
    "nov = chicago[chicago[\"Month\"]==11]\n",
    "print(len(nov[\"bike_id\"].unique()))\n",
    "dez = chicago[chicago[\"Month\"]==12]\n",
    "print(len(dez[\"bike_id\"].unique()))\n"
   ]
  },
  {
   "cell_type": "code",
   "execution_count": null,
   "metadata": {},
   "outputs": [],
   "source": [
    "\n",
    "# Auslastung JANUAR\n",
    "\n",
    "morning_start = chicago[(chicago[\"Month\"]==1)&(chicago['Hour']>=6) & (chicago['Hour']<10)]\n",
    "print(len(morning_start[\"bike_id\"].unique()))\n",
    "mid_morning_start = chicago[(chicago[\"Month\"]==1)&(chicago['Hour']>=10) & (chicago['Hour']<12)]\n",
    "print(len(mid_morning_start[\"bike_id\"].unique()))\n",
    "noon_start = chicago[(chicago[\"Month\"]==1) &(chicago['Hour']>=12) & (chicago['Hour']<14)]\n",
    "print(len(noon_start[\"bike_id\"].unique()))\n",
    "afternoon_start = chicago[(chicago[\"Month\"]==1) &(chicago['Hour']>=14) & (chicago['Hour']<17)]\n",
    "print(len(afternoon_start[\"bike_id\"].unique()))\n",
    "evening_start = chicago[(chicago[\"Month\"]==1) &(chicago['Hour']>=17) & (chicago['Hour']<21)]\n",
    "print(len(evening_start[\"bike_id\"].unique()))\n",
    "night_start = chicago[(chicago[\"Month\"]==1) &((chicago['Hour']>=21) & (chicago['Hour']<24)) | ((chicago['Hour']>=0) & (chicago['Hour']<6))]\n",
    "print(len(night_start[\"bike_id\"].unique()))\n",
    "\n",
    "\n",
    "##nachts umstellen der Fahrräder??"
   ]
  },
  {
   "cell_type": "code",
   "execution_count": null,
   "metadata": {},
   "outputs": [],
   "source": [
    "#Auslastung Juli\n",
    "\n",
    "morning_start = chicago[(chicago[\"Month\"]==7)&(chicago['Hour']>=6) & (chicago['Hour']<10)]\n",
    "print(len(morning_start[\"bike_id\"].unique()))\n",
    "mid_morning_start = chicago[(chicago[\"Month\"]==7)&(chicago['Hour']>=10) & (chicago['Hour']<12)]\n",
    "print(len(mid_morning_start[\"bike_id\"].unique()))\n",
    "noon_start = chicago[(chicago[\"Month\"]==7) &(chicago['Hour']>=12) & (chicago['Hour']<14)]\n",
    "print(len(noon_start[\"bike_id\"].unique()))\n",
    "afternoon_start = chicago[(chicago[\"Month\"]==7) &(chicago['Hour']>=14) & (chicago['Hour']<17)]\n",
    "print(len(afternoon_start[\"bike_id\"].unique()))\n",
    "evening_start = chicago[(chicago[\"Month\"]==7) &(chicago['Hour']>=17) & (chicago['Hour']<21)]\n",
    "print(len(evening_start[\"bike_id\"].unique()))\n",
    "night_start = chicago[(chicago[\"Month\"]==7) &((chicago['Hour']>=21) & (chicago['Hour']<24)) | ((chicago['Hour']>=0) & (chicago['Hour']<6))]\n",
    "print(len(night_start[\"bike_id\"].unique()))"
   ]
  },
  {
   "cell_type": "code",
   "execution_count": null,
   "metadata": {},
   "outputs": [],
   "source": []
  }
 ],
 "metadata": {
  "kernelspec": {
   "display_name": "Python 3",
   "language": "python",
   "name": "python3"
  },
  "language_info": {
   "codemirror_mode": {
    "name": "ipython",
    "version": 3
   },
   "file_extension": ".py",
   "mimetype": "text/x-python",
   "name": "python",
   "nbconvert_exporter": "python",
   "pygments_lexer": "ipython3",
   "version": "3.8.5"
  }
 },
 "nbformat": 4,
 "nbformat_minor": 4
}
