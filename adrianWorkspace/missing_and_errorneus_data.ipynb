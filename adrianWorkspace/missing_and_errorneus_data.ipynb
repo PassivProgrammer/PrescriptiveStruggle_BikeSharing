{
 "cells": [
  {
   "cell_type": "markdown",
   "metadata": {},
   "source": [
    "# Analysis for missing or errorneus data\n",
    "\n",
    "Starting on May data only due to performance. This notebook is for the assessment of the given dataset."
   ]
  },
  {
   "cell_type": "code",
   "execution_count": 1,
   "metadata": {},
   "outputs": [],
   "source": [
    "import pandas as pd\n",
    "import numpy as np\n",
    "import matplotlib.pyplot as plt"
   ]
  },
  {
   "cell_type": "markdown",
   "metadata": {},
   "source": [
    "Read may dataset"
   ]
  },
  {
   "cell_type": "code",
   "execution_count": 2,
   "metadata": {},
   "outputs": [
    {
     "data": {
      "text/html": [
       "<div>\n",
       "<style scoped>\n",
       "    .dataframe tbody tr th:only-of-type {\n",
       "        vertical-align: middle;\n",
       "    }\n",
       "\n",
       "    .dataframe tbody tr th {\n",
       "        vertical-align: top;\n",
       "    }\n",
       "\n",
       "    .dataframe thead th {\n",
       "        text-align: right;\n",
       "    }\n",
       "</style>\n",
       "<table border=\"1\" class=\"dataframe\">\n",
       "  <thead>\n",
       "    <tr style=\"text-align: right;\">\n",
       "      <th></th>\n",
       "      <th>Unnamed: 0</th>\n",
       "      <th>start_time</th>\n",
       "      <th>end_time</th>\n",
       "      <th>start_station_id</th>\n",
       "      <th>end_station_id</th>\n",
       "      <th>start_station_name</th>\n",
       "      <th>end_station_name</th>\n",
       "      <th>bike_id</th>\n",
       "      <th>user_type</th>\n",
       "      <th>Month</th>\n",
       "      <th>duration</th>\n",
       "      <th>day</th>\n",
       "    </tr>\n",
       "  </thead>\n",
       "  <tbody>\n",
       "    <tr>\n",
       "      <th>0</th>\n",
       "      <td>628548</td>\n",
       "      <td>2016-05-31 23:57:00</td>\n",
       "      <td>2016-06-01 00:14:00</td>\n",
       "      <td>22</td>\n",
       "      <td>282</td>\n",
       "      <td>May St &amp; Taylor St</td>\n",
       "      <td>Halsted St &amp; Maxwell St</td>\n",
       "      <td>609</td>\n",
       "      <td>Subscriber</td>\n",
       "      <td>5</td>\n",
       "      <td>0 days 00:17:00</td>\n",
       "      <td>31</td>\n",
       "    </tr>\n",
       "    <tr>\n",
       "      <th>1</th>\n",
       "      <td>628549</td>\n",
       "      <td>2016-05-31 23:57:00</td>\n",
       "      <td>2016-06-01 00:14:00</td>\n",
       "      <td>22</td>\n",
       "      <td>282</td>\n",
       "      <td>May St &amp; Taylor St</td>\n",
       "      <td>Halsted St &amp; Maxwell St</td>\n",
       "      <td>1207</td>\n",
       "      <td>Subscriber</td>\n",
       "      <td>5</td>\n",
       "      <td>0 days 00:17:00</td>\n",
       "      <td>31</td>\n",
       "    </tr>\n",
       "    <tr>\n",
       "      <th>2</th>\n",
       "      <td>628550</td>\n",
       "      <td>2016-05-31 23:56:00</td>\n",
       "      <td>2016-06-01 00:15:00</td>\n",
       "      <td>90</td>\n",
       "      <td>320</td>\n",
       "      <td>Millennium Park</td>\n",
       "      <td>Loomis St &amp; Lexington St</td>\n",
       "      <td>4369</td>\n",
       "      <td>Subscriber</td>\n",
       "      <td>5</td>\n",
       "      <td>0 days 00:19:00</td>\n",
       "      <td>31</td>\n",
       "    </tr>\n",
       "    <tr>\n",
       "      <th>3</th>\n",
       "      <td>628551</td>\n",
       "      <td>2016-05-31 23:55:00</td>\n",
       "      <td>2016-06-01 00:18:00</td>\n",
       "      <td>174</td>\n",
       "      <td>273</td>\n",
       "      <td>Canal St &amp; Madison St</td>\n",
       "      <td>Michigan Ave &amp; 18th St</td>\n",
       "      <td>2703</td>\n",
       "      <td>Subscriber</td>\n",
       "      <td>5</td>\n",
       "      <td>0 days 00:23:00</td>\n",
       "      <td>31</td>\n",
       "    </tr>\n",
       "    <tr>\n",
       "      <th>4</th>\n",
       "      <td>628552</td>\n",
       "      <td>2016-05-31 23:55:00</td>\n",
       "      <td>2016-06-01 00:14:00</td>\n",
       "      <td>90</td>\n",
       "      <td>22</td>\n",
       "      <td>Millennium Park</td>\n",
       "      <td>May St &amp; Taylor St</td>\n",
       "      <td>3828</td>\n",
       "      <td>Subscriber</td>\n",
       "      <td>5</td>\n",
       "      <td>0 days 00:19:00</td>\n",
       "      <td>31</td>\n",
       "    </tr>\n",
       "  </tbody>\n",
       "</table>\n",
       "</div>"
      ],
      "text/plain": [
       "   Unnamed: 0          start_time            end_time  start_station_id  \\\n",
       "0      628548 2016-05-31 23:57:00 2016-06-01 00:14:00                22   \n",
       "1      628549 2016-05-31 23:57:00 2016-06-01 00:14:00                22   \n",
       "2      628550 2016-05-31 23:56:00 2016-06-01 00:15:00                90   \n",
       "3      628551 2016-05-31 23:55:00 2016-06-01 00:18:00               174   \n",
       "4      628552 2016-05-31 23:55:00 2016-06-01 00:14:00                90   \n",
       "\n",
       "   end_station_id     start_station_name          end_station_name  bike_id  \\\n",
       "0             282     May St & Taylor St   Halsted St & Maxwell St      609   \n",
       "1             282     May St & Taylor St   Halsted St & Maxwell St     1207   \n",
       "2             320        Millennium Park  Loomis St & Lexington St     4369   \n",
       "3             273  Canal St & Madison St    Michigan Ave & 18th St     2703   \n",
       "4              22        Millennium Park        May St & Taylor St     3828   \n",
       "\n",
       "    user_type  Month         duration  day  \n",
       "0  Subscriber      5  0 days 00:17:00   31  \n",
       "1  Subscriber      5  0 days 00:17:00   31  \n",
       "2  Subscriber      5  0 days 00:19:00   31  \n",
       "3  Subscriber      5  0 days 00:23:00   31  \n",
       "4  Subscriber      5  0 days 00:19:00   31  "
      ]
     },
     "execution_count": 2,
     "metadata": {},
     "output_type": "execute_result"
    }
   ],
   "source": [
    "may_data = pd.read_csv(\"may_data.csv\", parse_dates=[\"start_time\",\"end_time\"])\n",
    "may_data.head()"
   ]
  },
  {
   "cell_type": "markdown",
   "metadata": {},
   "source": [
    "Lets get an overview. It seems like there is not missing data."
   ]
  },
  {
   "cell_type": "code",
   "execution_count": 4,
   "metadata": {},
   "outputs": [
    {
     "name": "stdout",
     "output_type": "stream",
     "text": [
      "<class 'pandas.core.frame.DataFrame'>\n",
      "RangeIndex: 363319 entries, 0 to 363318\n",
      "Data columns (total 12 columns):\n",
      " #   Column              Non-Null Count   Dtype         \n",
      "---  ------              --------------   -----         \n",
      " 0   Unnamed: 0          363319 non-null  int64         \n",
      " 1   start_time          363319 non-null  datetime64[ns]\n",
      " 2   end_time            363319 non-null  datetime64[ns]\n",
      " 3   start_station_id    363319 non-null  int64         \n",
      " 4   end_station_id      363319 non-null  int64         \n",
      " 5   start_station_name  363319 non-null  object        \n",
      " 6   end_station_name    363319 non-null  object        \n",
      " 7   bike_id             363319 non-null  int64         \n",
      " 8   user_type           363319 non-null  object        \n",
      " 9   Month               363319 non-null  int64         \n",
      " 10  duration            363319 non-null  object        \n",
      " 11  day                 363319 non-null  int64         \n",
      "dtypes: datetime64[ns](2), int64(6), object(4)\n",
      "memory usage: 33.3+ MB\n"
     ]
    }
   ],
   "source": [
    "may_data.info()"
   ]
  },
  {
   "cell_type": "markdown",
   "metadata": {},
   "source": [
    "Convert strings to timedelta."
   ]
  },
  {
   "cell_type": "code",
   "execution_count": 3,
   "metadata": {},
   "outputs": [],
   "source": [
    "may_data[\"duration\"] = may_data[\"duration\"].apply(lambda x:pd.Timedelta(x))"
   ]
  },
  {
   "cell_type": "markdown",
   "metadata": {},
   "source": [
    "Examine the duration for outliers"
   ]
  },
  {
   "cell_type": "code",
   "execution_count": 4,
   "metadata": {},
   "outputs": [],
   "source": [
    "may_data[\"duration_in_minutes\"] = may_data[\"duration\"].apply(lambda x:x.total_seconds()/60)"
   ]
  },
  {
   "cell_type": "code",
   "execution_count": 5,
   "metadata": {},
   "outputs": [
    {
     "data": {
      "text/plain": [
       "count    363319.000000\n",
       "mean         17.796925\n",
       "std          34.175323\n",
       "min           1.000000\n",
       "25%           7.000000\n",
       "50%          13.000000\n",
       "75%          21.000000\n",
       "max        1432.000000\n",
       "Name: duration_in_minutes, dtype: float64"
      ]
     },
     "execution_count": 5,
     "metadata": {},
     "output_type": "execute_result"
    }
   ],
   "source": [
    "may_data[\"duration_in_minutes\"].describe()"
   ]
  },
  {
   "cell_type": "code",
   "execution_count": 6,
   "metadata": {},
   "outputs": [
    {
     "data": {
      "text/html": [
       "<div>\n",
       "<style scoped>\n",
       "    .dataframe tbody tr th:only-of-type {\n",
       "        vertical-align: middle;\n",
       "    }\n",
       "\n",
       "    .dataframe tbody tr th {\n",
       "        vertical-align: top;\n",
       "    }\n",
       "\n",
       "    .dataframe thead th {\n",
       "        text-align: right;\n",
       "    }\n",
       "</style>\n",
       "<table border=\"1\" class=\"dataframe\">\n",
       "  <thead>\n",
       "    <tr style=\"text-align: right;\">\n",
       "      <th></th>\n",
       "      <th>Unnamed: 0</th>\n",
       "      <th>start_time</th>\n",
       "      <th>end_time</th>\n",
       "      <th>start_station_id</th>\n",
       "      <th>end_station_id</th>\n",
       "      <th>start_station_name</th>\n",
       "      <th>end_station_name</th>\n",
       "      <th>bike_id</th>\n",
       "      <th>user_type</th>\n",
       "      <th>Month</th>\n",
       "      <th>duration</th>\n",
       "      <th>day</th>\n",
       "      <th>duration_in_minutes</th>\n",
       "    </tr>\n",
       "  </thead>\n",
       "  <tbody>\n",
       "    <tr>\n",
       "      <th>67580</th>\n",
       "      <td>696128</td>\n",
       "      <td>2016-05-27 17:02:00</td>\n",
       "      <td>2016-05-27 17:03:00</td>\n",
       "      <td>195</td>\n",
       "      <td>195</td>\n",
       "      <td>Columbus Dr &amp; Randolph St</td>\n",
       "      <td>Columbus Dr &amp; Randolph St</td>\n",
       "      <td>1944</td>\n",
       "      <td>Customer</td>\n",
       "      <td>5</td>\n",
       "      <td>0 days 00:01:00</td>\n",
       "      <td>27</td>\n",
       "      <td>1.0</td>\n",
       "    </tr>\n",
       "    <tr>\n",
       "      <th>273518</th>\n",
       "      <td>902066</td>\n",
       "      <td>2016-05-11 06:41:00</td>\n",
       "      <td>2016-05-11 06:42:00</td>\n",
       "      <td>255</td>\n",
       "      <td>255</td>\n",
       "      <td>Indiana Ave &amp; Roosevelt Rd</td>\n",
       "      <td>Indiana Ave &amp; Roosevelt Rd</td>\n",
       "      <td>925</td>\n",
       "      <td>Subscriber</td>\n",
       "      <td>5</td>\n",
       "      <td>0 days 00:01:00</td>\n",
       "      <td>11</td>\n",
       "      <td>1.0</td>\n",
       "    </tr>\n",
       "    <tr>\n",
       "      <th>134581</th>\n",
       "      <td>763129</td>\n",
       "      <td>2016-05-23 07:20:00</td>\n",
       "      <td>2016-05-23 07:21:00</td>\n",
       "      <td>66</td>\n",
       "      <td>91</td>\n",
       "      <td>Clinton St &amp; Lake St</td>\n",
       "      <td>Clinton St &amp; Washington Blvd</td>\n",
       "      <td>2158</td>\n",
       "      <td>Subscriber</td>\n",
       "      <td>5</td>\n",
       "      <td>0 days 00:01:00</td>\n",
       "      <td>23</td>\n",
       "      <td>1.0</td>\n",
       "    </tr>\n",
       "    <tr>\n",
       "      <th>295197</th>\n",
       "      <td>923745</td>\n",
       "      <td>2016-05-08 12:58:00</td>\n",
       "      <td>2016-05-08 12:59:00</td>\n",
       "      <td>403</td>\n",
       "      <td>403</td>\n",
       "      <td>Wentworth Ave &amp; 33rd St</td>\n",
       "      <td>Wentworth Ave &amp; 33rd St</td>\n",
       "      <td>1819</td>\n",
       "      <td>Subscriber</td>\n",
       "      <td>5</td>\n",
       "      <td>0 days 00:01:00</td>\n",
       "      <td>8</td>\n",
       "      <td>1.0</td>\n",
       "    </tr>\n",
       "    <tr>\n",
       "      <th>106337</th>\n",
       "      <td>734885</td>\n",
       "      <td>2016-05-24 18:41:00</td>\n",
       "      <td>2016-05-24 18:42:00</td>\n",
       "      <td>56</td>\n",
       "      <td>56</td>\n",
       "      <td>Desplaines St &amp; Kinzie St</td>\n",
       "      <td>Desplaines St &amp; Kinzie St</td>\n",
       "      <td>5148</td>\n",
       "      <td>Subscriber</td>\n",
       "      <td>5</td>\n",
       "      <td>0 days 00:01:00</td>\n",
       "      <td>24</td>\n",
       "      <td>1.0</td>\n",
       "    </tr>\n",
       "  </tbody>\n",
       "</table>\n",
       "</div>"
      ],
      "text/plain": [
       "        Unnamed: 0          start_time            end_time  start_station_id  \\\n",
       "67580       696128 2016-05-27 17:02:00 2016-05-27 17:03:00               195   \n",
       "273518      902066 2016-05-11 06:41:00 2016-05-11 06:42:00               255   \n",
       "134581      763129 2016-05-23 07:20:00 2016-05-23 07:21:00                66   \n",
       "295197      923745 2016-05-08 12:58:00 2016-05-08 12:59:00               403   \n",
       "106337      734885 2016-05-24 18:41:00 2016-05-24 18:42:00                56   \n",
       "\n",
       "        end_station_id          start_station_name  \\\n",
       "67580              195   Columbus Dr & Randolph St   \n",
       "273518             255  Indiana Ave & Roosevelt Rd   \n",
       "134581              91        Clinton St & Lake St   \n",
       "295197             403     Wentworth Ave & 33rd St   \n",
       "106337              56   Desplaines St & Kinzie St   \n",
       "\n",
       "                    end_station_name  bike_id   user_type  Month  \\\n",
       "67580      Columbus Dr & Randolph St     1944    Customer      5   \n",
       "273518    Indiana Ave & Roosevelt Rd      925  Subscriber      5   \n",
       "134581  Clinton St & Washington Blvd     2158  Subscriber      5   \n",
       "295197       Wentworth Ave & 33rd St     1819  Subscriber      5   \n",
       "106337     Desplaines St & Kinzie St     5148  Subscriber      5   \n",
       "\n",
       "              duration  day  duration_in_minutes  \n",
       "67580  0 days 00:01:00   27                  1.0  \n",
       "273518 0 days 00:01:00   11                  1.0  \n",
       "134581 0 days 00:01:00   23                  1.0  \n",
       "295197 0 days 00:01:00    8                  1.0  \n",
       "106337 0 days 00:01:00   24                  1.0  "
      ]
     },
     "execution_count": 6,
     "metadata": {},
     "output_type": "execute_result"
    }
   ],
   "source": [
    "sorted_data = may_data.sort_values(by=\"duration_in_minutes\")\n",
    "sorted_data.head()"
   ]
  },
  {
   "cell_type": "code",
   "execution_count": 18,
   "metadata": {},
   "outputs": [
    {
     "data": {
      "text/html": [
       "<div>\n",
       "<style scoped>\n",
       "    .dataframe tbody tr th:only-of-type {\n",
       "        vertical-align: middle;\n",
       "    }\n",
       "\n",
       "    .dataframe tbody tr th {\n",
       "        vertical-align: top;\n",
       "    }\n",
       "\n",
       "    .dataframe thead th {\n",
       "        text-align: right;\n",
       "    }\n",
       "</style>\n",
       "<table border=\"1\" class=\"dataframe\">\n",
       "  <thead>\n",
       "    <tr style=\"text-align: right;\">\n",
       "      <th></th>\n",
       "      <th>Unnamed: 0</th>\n",
       "      <th>start_time</th>\n",
       "      <th>end_time</th>\n",
       "      <th>start_station_id</th>\n",
       "      <th>end_station_id</th>\n",
       "      <th>start_station_name</th>\n",
       "      <th>end_station_name</th>\n",
       "      <th>bike_id</th>\n",
       "      <th>user_type</th>\n",
       "      <th>Month</th>\n",
       "      <th>duration</th>\n",
       "      <th>day</th>\n",
       "      <th>duration_in_minutes</th>\n",
       "    </tr>\n",
       "  </thead>\n",
       "  <tbody>\n",
       "    <tr>\n",
       "      <th>157985</th>\n",
       "      <td>786533</td>\n",
       "      <td>2016-05-21 16:23:00</td>\n",
       "      <td>2016-05-22 15:52:00</td>\n",
       "      <td>69</td>\n",
       "      <td>90</td>\n",
       "      <td>Damen Ave &amp; Pierce Ave</td>\n",
       "      <td>Millennium Park</td>\n",
       "      <td>2776</td>\n",
       "      <td>Customer</td>\n",
       "      <td>5</td>\n",
       "      <td>0 days 23:29:00</td>\n",
       "      <td>21</td>\n",
       "      <td>1409.0</td>\n",
       "    </tr>\n",
       "    <tr>\n",
       "      <th>46287</th>\n",
       "      <td>674835</td>\n",
       "      <td>2016-05-29 10:53:00</td>\n",
       "      <td>2016-05-30 10:30:00</td>\n",
       "      <td>254</td>\n",
       "      <td>162</td>\n",
       "      <td>Pine Grove Ave &amp; Irving Park Rd</td>\n",
       "      <td>Damen Ave &amp; Wellington Ave</td>\n",
       "      <td>5051</td>\n",
       "      <td>Customer</td>\n",
       "      <td>5</td>\n",
       "      <td>0 days 23:37:00</td>\n",
       "      <td>29</td>\n",
       "      <td>1417.0</td>\n",
       "    </tr>\n",
       "    <tr>\n",
       "      <th>99630</th>\n",
       "      <td>728178</td>\n",
       "      <td>2016-05-25 08:59:00</td>\n",
       "      <td>2016-05-26 08:36:00</td>\n",
       "      <td>31</td>\n",
       "      <td>77</td>\n",
       "      <td>Franklin St &amp; Chicago Ave</td>\n",
       "      <td>Clinton St &amp; Madison St</td>\n",
       "      <td>4237</td>\n",
       "      <td>Subscriber</td>\n",
       "      <td>5</td>\n",
       "      <td>0 days 23:37:00</td>\n",
       "      <td>25</td>\n",
       "      <td>1417.0</td>\n",
       "    </tr>\n",
       "    <tr>\n",
       "      <th>120091</th>\n",
       "      <td>748639</td>\n",
       "      <td>2016-05-23 21:16:00</td>\n",
       "      <td>2016-05-24 21:00:00</td>\n",
       "      <td>36</td>\n",
       "      <td>35</td>\n",
       "      <td>Franklin St &amp; Jackson Blvd</td>\n",
       "      <td>Streeter Dr &amp; Grand Ave</td>\n",
       "      <td>2115</td>\n",
       "      <td>Customer</td>\n",
       "      <td>5</td>\n",
       "      <td>0 days 23:44:00</td>\n",
       "      <td>23</td>\n",
       "      <td>1424.0</td>\n",
       "    </tr>\n",
       "    <tr>\n",
       "      <th>120147</th>\n",
       "      <td>748695</td>\n",
       "      <td>2016-05-23 21:08:00</td>\n",
       "      <td>2016-05-24 21:00:00</td>\n",
       "      <td>36</td>\n",
       "      <td>35</td>\n",
       "      <td>Franklin St &amp; Jackson Blvd</td>\n",
       "      <td>Streeter Dr &amp; Grand Ave</td>\n",
       "      <td>3569</td>\n",
       "      <td>Customer</td>\n",
       "      <td>5</td>\n",
       "      <td>0 days 23:52:00</td>\n",
       "      <td>23</td>\n",
       "      <td>1432.0</td>\n",
       "    </tr>\n",
       "  </tbody>\n",
       "</table>\n",
       "</div>"
      ],
      "text/plain": [
       "        Unnamed: 0          start_time            end_time  start_station_id  \\\n",
       "157985      786533 2016-05-21 16:23:00 2016-05-22 15:52:00                69   \n",
       "46287       674835 2016-05-29 10:53:00 2016-05-30 10:30:00               254   \n",
       "99630       728178 2016-05-25 08:59:00 2016-05-26 08:36:00                31   \n",
       "120091      748639 2016-05-23 21:16:00 2016-05-24 21:00:00                36   \n",
       "120147      748695 2016-05-23 21:08:00 2016-05-24 21:00:00                36   \n",
       "\n",
       "        end_station_id               start_station_name  \\\n",
       "157985              90           Damen Ave & Pierce Ave   \n",
       "46287              162  Pine Grove Ave & Irving Park Rd   \n",
       "99630               77        Franklin St & Chicago Ave   \n",
       "120091              35       Franklin St & Jackson Blvd   \n",
       "120147              35       Franklin St & Jackson Blvd   \n",
       "\n",
       "                  end_station_name  bike_id   user_type  Month  \\\n",
       "157985             Millennium Park     2776    Customer      5   \n",
       "46287   Damen Ave & Wellington Ave     5051    Customer      5   \n",
       "99630      Clinton St & Madison St     4237  Subscriber      5   \n",
       "120091     Streeter Dr & Grand Ave     2115    Customer      5   \n",
       "120147     Streeter Dr & Grand Ave     3569    Customer      5   \n",
       "\n",
       "              duration  day  duration_in_minutes  \n",
       "157985 0 days 23:29:00   21               1409.0  \n",
       "46287  0 days 23:37:00   29               1417.0  \n",
       "99630  0 days 23:37:00   25               1417.0  \n",
       "120091 0 days 23:44:00   23               1424.0  \n",
       "120147 0 days 23:52:00   23               1432.0  "
      ]
     },
     "execution_count": 18,
     "metadata": {},
     "output_type": "execute_result"
    }
   ],
   "source": [
    "sorted_data.tail()"
   ]
  },
  {
   "cell_type": "markdown",
   "metadata": {},
   "source": [
    "When looking at these values it seems like the minimum recored time is 1 minute. This is due to trips shorter than 60 seconds being filtered out by divvybikes. There does not seem to be a specific upper limit. However all rentals are canceled before the 24h mark. So it seems likely, that very high and very low duration sets were incorrectly recorded. "
   ]
  },
  {
   "cell_type": "code",
   "execution_count": 26,
   "metadata": {},
   "outputs": [
    {
     "name": "stdout",
     "output_type": "stream",
     "text": [
      "<class 'pandas.core.frame.DataFrame'>\n",
      "Int64Index: 362444 entries, 0 to 363318\n",
      "Data columns (total 13 columns):\n",
      " #   Column               Non-Null Count   Dtype          \n",
      "---  ------               --------------   -----          \n",
      " 0   Unnamed: 0           362444 non-null  int64          \n",
      " 1   start_time           362444 non-null  datetime64[ns] \n",
      " 2   end_time             362444 non-null  datetime64[ns] \n",
      " 3   start_station_id     362444 non-null  int64          \n",
      " 4   end_station_id       362444 non-null  int64          \n",
      " 5   start_station_name   362444 non-null  object         \n",
      " 6   end_station_name     362444 non-null  object         \n",
      " 7   bike_id              362444 non-null  int64          \n",
      " 8   user_type            362444 non-null  object         \n",
      " 9   Month                362444 non-null  int64          \n",
      " 10  duration             362444 non-null  timedelta64[ns]\n",
      " 11  day                  362444 non-null  int64          \n",
      " 12  duration_in_minutes  362444 non-null  float64        \n",
      "dtypes: datetime64[ns](2), float64(1), int64(6), object(3), timedelta64[ns](1)\n",
      "memory usage: 38.7+ MB\n"
     ]
    }
   ],
   "source": [
    "#remove data with same start and end station, that are shorter or equal to one minutes\n",
    "filtered_data = may_data[ ~((may_data[\"start_station_name\"] == may_data[\"end_station_name\"]) & (may_data[\"duration_in_minutes\"] <= 1.0)) ]\n",
    "filtered_data.info()"
   ]
  },
  {
   "cell_type": "markdown",
   "metadata": {},
   "source": [
    "There is no pattern to dermine whether long bike rentals are really errorneus. Maybe people really rent the bikes for up to 24 hours."
   ]
  },
  {
   "cell_type": "code",
   "execution_count": 49,
   "metadata": {},
   "outputs": [
    {
     "data": {
      "text/plain": [
       "(array([    0.,   521.,  6216., 12652., 17257., 19397., 19818., 19431.,\n",
       "        18753., 17763., 16656., 15485., 14689., 13611., 12712., 12309.,\n",
       "        11375., 10710., 10072.,  9695.,  9208.,  8653.,  8078.,  7398.,\n",
       "         7072.,  6391.,  5592.,  5109.,  4603.,  3740.,  3116.,  2632.,\n",
       "         2192.,  1952.,  1719.,  1438.,  1366.,  1217.,  1058.,   988.,\n",
       "          940.,   862.,   757.,   672.,   672.,   610.,   603.,   559.,\n",
       "          477.,   476.,   499.,   521.,   406.,   419.,   363.,   366.,\n",
       "          357.,   313.,   316.,   578.]),\n",
       " array([ 0.,  1.,  2.,  3.,  4.,  5.,  6.,  7.,  8.,  9., 10., 11., 12.,\n",
       "        13., 14., 15., 16., 17., 18., 19., 20., 21., 22., 23., 24., 25.,\n",
       "        26., 27., 28., 29., 30., 31., 32., 33., 34., 35., 36., 37., 38.,\n",
       "        39., 40., 41., 42., 43., 44., 45., 46., 47., 48., 49., 50., 51.,\n",
       "        52., 53., 54., 55., 56., 57., 58., 59., 60.]),\n",
       " <BarContainer object of 60 artists>)"
      ]
     },
     "execution_count": 49,
     "metadata": {},
     "output_type": "execute_result"
    },
    {
     "data": {
      "image/png": "[encoded data removed]",
      "text/plain": [
       "<Figure size 1152x648 with 1 Axes>"
      ]
     },
     "metadata": {
      "needs_background": "light"
     },
     "output_type": "display_data"
    }
   ],
   "source": [
    "fig, ax = plt.subplots(figsize=(16,9))\n",
    "ax.hist(filtered_data[\"duration_in_minutes\"],bins=60,range=[0,60])"
   ]
  },
  {
   "cell_type": "markdown",
   "metadata": {},
   "source": [
    "Looking for dupilcates:"
   ]
  },
  {
   "cell_type": "code",
   "execution_count": 61,
   "metadata": {},
   "outputs": [
    {
     "data": {
      "text/plain": [
       "Unnamed: 0\n",
       "628548    1\n",
       "628549    1\n",
       "628550    1\n",
       "628551    1\n",
       "628552    1\n",
       "         ..\n",
       "991862    1\n",
       "991863    1\n",
       "991864    1\n",
       "991865    1\n",
       "991866    1\n",
       "Length: 363319, dtype: int64"
      ]
     },
     "execution_count": 61,
     "metadata": {},
     "output_type": "execute_result"
    }
   ],
   "source": [
    "may_data.groupby(\"Unnamed: 0\").size()"
   ]
  }
 ],
 "metadata": {
  "kernelspec": {
   "display_name": "Python 3",
   "language": "python",
   "name": "python3"
  },
  "language_info": {
   "codemirror_mode": {
    "name": "ipython",
    "version": 3
   },
   "file_extension": ".py",
   "mimetype": "text/x-python",
   "name": "python",
   "nbconvert_exporter": "python",
   "pygments_lexer": "ipython3",
   "version": "3.8.5"
  }
 },
 "nbformat": 4,
 "nbformat_minor": 4
}
