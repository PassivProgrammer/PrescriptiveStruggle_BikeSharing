{
 "cells": [
  {
   "cell_type": "markdown",
   "metadata": {},
   "source": [
    "# Adrian's workspace\n",
    "### testing ect. is done here"
   ]
  },
  {
   "cell_type": "markdown",
   "metadata": {},
   "source": [
    "First get familiar with the dataset"
   ]
  },
  {
   "cell_type": "code",
   "execution_count": 28,
   "metadata": {},
   "outputs": [],
   "source": [
    "import numpy as np\n",
    "import pandas as pd\n",
    "import matplotlib.pyplot as plt\n",
    "import datetime as time"
   ]
  },
  {
   "cell_type": "code",
   "execution_count": 25,
   "metadata": {},
   "outputs": [
    {
     "data": {
      "text/html": [
       "<div>\n",
       "<style scoped>\n",
       "    .dataframe tbody tr th:only-of-type {\n",
       "        vertical-align: middle;\n",
       "    }\n",
       "\n",
       "    .dataframe tbody tr th {\n",
       "        vertical-align: top;\n",
       "    }\n",
       "\n",
       "    .dataframe thead th {\n",
       "        text-align: right;\n",
       "    }\n",
       "</style>\n",
       "<table border=\"1\" class=\"dataframe\">\n",
       "  <thead>\n",
       "    <tr style=\"text-align: right;\">\n",
       "      <th></th>\n",
       "      <th>start_time</th>\n",
       "      <th>end_time</th>\n",
       "      <th>start_station_id</th>\n",
       "      <th>end_station_id</th>\n",
       "      <th>start_station_name</th>\n",
       "      <th>end_station_name</th>\n",
       "      <th>bike_id</th>\n",
       "      <th>user_type</th>\n",
       "    </tr>\n",
       "  </thead>\n",
       "  <tbody>\n",
       "    <tr>\n",
       "      <th>0</th>\n",
       "      <td>3/31/2016 23:53</td>\n",
       "      <td>4/1/2016 0:07</td>\n",
       "      <td>344</td>\n",
       "      <td>458</td>\n",
       "      <td>Ravenswood Ave &amp; Lawrence Ave</td>\n",
       "      <td>Broadway &amp; Thorndale Ave</td>\n",
       "      <td>155</td>\n",
       "      <td>Subscriber</td>\n",
       "    </tr>\n",
       "    <tr>\n",
       "      <th>1</th>\n",
       "      <td>3/31/2016 23:46</td>\n",
       "      <td>3/31/2016 23:57</td>\n",
       "      <td>128</td>\n",
       "      <td>213</td>\n",
       "      <td>Damen Ave &amp; Chicago Ave</td>\n",
       "      <td>Leavitt St &amp; North Ave</td>\n",
       "      <td>4831</td>\n",
       "      <td>Subscriber</td>\n",
       "    </tr>\n",
       "    <tr>\n",
       "      <th>2</th>\n",
       "      <td>3/31/2016 23:42</td>\n",
       "      <td>3/31/2016 23:46</td>\n",
       "      <td>350</td>\n",
       "      <td>210</td>\n",
       "      <td>Ashland Ave &amp; Chicago Ave</td>\n",
       "      <td>Ashland Ave &amp; Division St</td>\n",
       "      <td>4232</td>\n",
       "      <td>Subscriber</td>\n",
       "    </tr>\n",
       "    <tr>\n",
       "      <th>3</th>\n",
       "      <td>3/31/2016 23:37</td>\n",
       "      <td>3/31/2016 23:55</td>\n",
       "      <td>303</td>\n",
       "      <td>458</td>\n",
       "      <td>Broadway &amp; Cornelia Ave</td>\n",
       "      <td>Broadway &amp; Thorndale Ave</td>\n",
       "      <td>3464</td>\n",
       "      <td>Subscriber</td>\n",
       "    </tr>\n",
       "    <tr>\n",
       "      <th>4</th>\n",
       "      <td>3/31/2016 23:33</td>\n",
       "      <td>3/31/2016 23:37</td>\n",
       "      <td>334</td>\n",
       "      <td>329</td>\n",
       "      <td>Lake Shore Dr &amp; Belmont Ave</td>\n",
       "      <td>Lake Shore Dr &amp; Diversey Pkwy</td>\n",
       "      <td>1750</td>\n",
       "      <td>Subscriber</td>\n",
       "    </tr>\n",
       "  </tbody>\n",
       "</table>\n",
       "</div>"
      ],
      "text/plain": [
       "        start_time         end_time  start_station_id  end_station_id  \\\n",
       "0  3/31/2016 23:53    4/1/2016 0:07               344             458   \n",
       "1  3/31/2016 23:46  3/31/2016 23:57               128             213   \n",
       "2  3/31/2016 23:42  3/31/2016 23:46               350             210   \n",
       "3  3/31/2016 23:37  3/31/2016 23:55               303             458   \n",
       "4  3/31/2016 23:33  3/31/2016 23:37               334             329   \n",
       "\n",
       "              start_station_name               end_station_name  bike_id  \\\n",
       "0  Ravenswood Ave & Lawrence Ave       Broadway & Thorndale Ave      155   \n",
       "1        Damen Ave & Chicago Ave         Leavitt St & North Ave     4831   \n",
       "2      Ashland Ave & Chicago Ave      Ashland Ave & Division St     4232   \n",
       "3        Broadway & Cornelia Ave       Broadway & Thorndale Ave     3464   \n",
       "4    Lake Shore Dr & Belmont Ave  Lake Shore Dr & Diversey Pkwy     1750   \n",
       "\n",
       "    user_type  \n",
       "0  Subscriber  \n",
       "1  Subscriber  \n",
       "2  Subscriber  \n",
       "3  Subscriber  \n",
       "4  Subscriber  "
      ]
     },
     "execution_count": 25,
     "metadata": {},
     "output_type": "execute_result"
    }
   ],
   "source": [
    "raw_bike_data = pd.read_csv(\"../chicago_2016.csv\")\n",
    "raw_bike_data.head()"
   ]
  },
  {
   "cell_type": "code",
   "execution_count": 7,
   "metadata": {},
   "outputs": [
    {
     "data": {
      "text/html": [
       "<div>\n",
       "<style scoped>\n",
       "    .dataframe tbody tr th:only-of-type {\n",
       "        vertical-align: middle;\n",
       "    }\n",
       "\n",
       "    .dataframe tbody tr th {\n",
       "        vertical-align: top;\n",
       "    }\n",
       "\n",
       "    .dataframe thead th {\n",
       "        text-align: right;\n",
       "    }\n",
       "</style>\n",
       "<table border=\"1\" class=\"dataframe\">\n",
       "  <thead>\n",
       "    <tr style=\"text-align: right;\">\n",
       "      <th></th>\n",
       "      <th>start_station_id</th>\n",
       "      <th>end_station_id</th>\n",
       "      <th>bike_id</th>\n",
       "    </tr>\n",
       "  </thead>\n",
       "  <tbody>\n",
       "    <tr>\n",
       "      <th>count</th>\n",
       "      <td>3.595383e+06</td>\n",
       "      <td>3.595383e+06</td>\n",
       "      <td>3.595383e+06</td>\n",
       "    </tr>\n",
       "    <tr>\n",
       "      <th>mean</th>\n",
       "      <td>1.780261e+02</td>\n",
       "      <td>1.784356e+02</td>\n",
       "      <td>2.968744e+03</td>\n",
       "    </tr>\n",
       "    <tr>\n",
       "      <th>std</th>\n",
       "      <td>1.271721e+02</td>\n",
       "      <td>1.272927e+02</td>\n",
       "      <td>1.675501e+03</td>\n",
       "    </tr>\n",
       "    <tr>\n",
       "      <th>min</th>\n",
       "      <td>2.000000e+00</td>\n",
       "      <td>2.000000e+00</td>\n",
       "      <td>1.000000e+00</td>\n",
       "    </tr>\n",
       "    <tr>\n",
       "      <th>25%</th>\n",
       "      <td>7.400000e+01</td>\n",
       "      <td>7.400000e+01</td>\n",
       "      <td>1.523000e+03</td>\n",
       "    </tr>\n",
       "    <tr>\n",
       "      <th>50%</th>\n",
       "      <td>1.570000e+02</td>\n",
       "      <td>1.570000e+02</td>\n",
       "      <td>3.032000e+03</td>\n",
       "    </tr>\n",
       "    <tr>\n",
       "      <th>75%</th>\n",
       "      <td>2.680000e+02</td>\n",
       "      <td>2.680000e+02</td>\n",
       "      <td>4.382000e+03</td>\n",
       "    </tr>\n",
       "    <tr>\n",
       "      <th>max</th>\n",
       "      <td>6.200000e+02</td>\n",
       "      <td>6.200000e+02</td>\n",
       "      <td>5.920000e+03</td>\n",
       "    </tr>\n",
       "  </tbody>\n",
       "</table>\n",
       "</div>"
      ],
      "text/plain": [
       "       start_station_id  end_station_id       bike_id\n",
       "count      3.595383e+06    3.595383e+06  3.595383e+06\n",
       "mean       1.780261e+02    1.784356e+02  2.968744e+03\n",
       "std        1.271721e+02    1.272927e+02  1.675501e+03\n",
       "min        2.000000e+00    2.000000e+00  1.000000e+00\n",
       "25%        7.400000e+01    7.400000e+01  1.523000e+03\n",
       "50%        1.570000e+02    1.570000e+02  3.032000e+03\n",
       "75%        2.680000e+02    2.680000e+02  4.382000e+03\n",
       "max        6.200000e+02    6.200000e+02  5.920000e+03"
      ]
     },
     "execution_count": 7,
     "metadata": {},
     "output_type": "execute_result"
    }
   ],
   "source": [
    "raw_bike_data.describe()"
   ]
  },
  {
   "cell_type": "code",
   "execution_count": 11,
   "metadata": {},
   "outputs": [
    {
     "name": "stdout",
     "output_type": "stream",
     "text": [
      "<class 'pandas.core.frame.DataFrame'>\n",
      "RangeIndex: 3595383 entries, 0 to 3595382\n",
      "Data columns (total 8 columns):\n",
      " #   Column              Dtype \n",
      "---  ------              ----- \n",
      " 0   start_time          object\n",
      " 1   end_time            object\n",
      " 2   start_station_id    int64 \n",
      " 3   end_station_id      int64 \n",
      " 4   start_station_name  object\n",
      " 5   end_station_name    object\n",
      " 6   bike_id             int64 \n",
      " 7   user_type           object\n",
      "dtypes: int64(3), object(5)\n",
      "memory usage: 219.4+ MB\n"
     ]
    }
   ],
   "source": [
    "raw_bike_data.info()"
   ]
  },
  {
   "cell_type": "code",
   "execution_count": 13,
   "metadata": {},
   "outputs": [
    {
     "data": {
      "text/plain": [
       "start_time            0\n",
       "end_time              0\n",
       "start_station_id      0\n",
       "end_station_id        0\n",
       "start_station_name    0\n",
       "end_station_name      0\n",
       "bike_id               0\n",
       "user_type             0\n",
       "dtype: int64"
      ]
     },
     "execution_count": 13,
     "metadata": {},
     "output_type": "execute_result"
    }
   ],
   "source": [
    "raw_bike_data.isnull().sum()"
   ]
  },
  {
   "cell_type": "code",
   "execution_count": 26,
   "metadata": {},
   "outputs": [],
   "source": [
    "raw_bike_data[\"start_time\"] = pd.to_datetime(raw_bike_data[\"start_time\"])\n",
    "raw_bike_data[\"end_time\"] = pd.to_datetime(raw_bike_data[\"end_time\"])\n",
    "raw_bike_data[\"Month\"] = raw_bike_data[\"start_time\"].apply(lambda x:x.month)\n",
    "may_bike_data = raw_bike_data[(raw_bike_data[\"Month\"] == 5)]"
   ]
  },
  {
   "cell_type": "code",
   "execution_count": 104,
   "metadata": {},
   "outputs": [
    {
     "name": "stderr",
     "output_type": "stream",
     "text": [
      "<ipython-input-104-c2084dc337ec>:2: SettingWithCopyWarning: \n",
      "A value is trying to be set on a copy of a slice from a DataFrame.\n",
      "Try using .loc[row_indexer,col_indexer] = value instead\n",
      "\n",
      "See the caveats in the documentation: https://pandas.pydata.org/pandas-docs/stable/user_guide/indexing.html#returning-a-view-versus-a-copy\n",
      "  may_bike_data[\"duration\"] = may_bike_data[\"end_time\"] - may_bike_data[\"start_time\"]\n",
      "<ipython-input-104-c2084dc337ec>:3: SettingWithCopyWarning: \n",
      "A value is trying to be set on a copy of a slice from a DataFrame.\n",
      "Try using .loc[row_indexer,col_indexer] = value instead\n",
      "\n",
      "See the caveats in the documentation: https://pandas.pydata.org/pandas-docs/stable/user_guide/indexing.html#returning-a-view-versus-a-copy\n",
      "  may_bike_data[\"day\"] = may_bike_data[\"start_time\"].apply(lambda x:x.day)\n"
     ]
    }
   ],
   "source": [
    "#aggregate dataset\n",
    "may_bike_data[\"duration\"] = may_bike_data[\"end_time\"] - may_bike_data[\"start_time\"]\n",
    "may_bike_data[\"day\"] = may_bike_data[\"start_time\"].apply(lambda x:x.day)\n",
    "first_may_bike_data = may_bike_data[may_bike_data[\"day\"] == 1]\n"
   ]
  },
  {
   "cell_type": "code",
   "execution_count": 105,
   "metadata": {},
   "outputs": [
    {
     "name": "stderr",
     "output_type": "stream",
     "text": [
      "<ipython-input-105-ed13a4d518df>:1: SettingWithCopyWarning: \n",
      "A value is trying to be set on a copy of a slice from a DataFrame.\n",
      "Try using .loc[row_indexer,col_indexer] = value instead\n",
      "\n",
      "See the caveats in the documentation: https://pandas.pydata.org/pandas-docs/stable/user_guide/indexing.html#returning-a-view-versus-a-copy\n",
      "  first_may_bike_data[\"start_hour\"] = first_may_bike_data[\"start_time\"].apply(lambda x:x.hour)\n",
      "<ipython-input-105-ed13a4d518df>:2: SettingWithCopyWarning: \n",
      "A value is trying to be set on a copy of a slice from a DataFrame.\n",
      "Try using .loc[row_indexer,col_indexer] = value instead\n",
      "\n",
      "See the caveats in the documentation: https://pandas.pydata.org/pandas-docs/stable/user_guide/indexing.html#returning-a-view-versus-a-copy\n",
      "  first_may_bike_data[\"durationInSeconds\"] = first_may_bike_data[\"duration\"].apply(lambda x:x.total_seconds())\n"
     ]
    }
   ],
   "source": [
    "first_may_bike_data[\"start_hour\"] = first_may_bike_data[\"start_time\"].apply(lambda x:x.hour)\n",
    "first_may_bike_data[\"durationInSeconds\"] = first_may_bike_data[\"duration\"].apply(lambda x:x.total_seconds())"
   ]
  },
  {
   "cell_type": "code",
   "execution_count": 123,
   "metadata": {},
   "outputs": [
    {
     "data": {
      "image/png": "[encoded data removed]",
      "text/plain": [
       "<Figure size 432x288 with 2 Axes>"
      ]
     },
     "metadata": {
      "needs_background": "light"
     },
     "output_type": "display_data"
    }
   ],
   "source": [
    "aggr = first_may_bike_data.groupby(\"start_hour\")\n",
    "\"\"\"\n",
    "#ggr.head()\n",
    "fig, ax = plt.subplots()\n",
    "ax.plot(aggr.index,aggr[\"durationInSeconds\"])\n",
    "ax.set_title(\"Bike Usage on the first of May 2016\")\n",
    "ax.set_xlabel(\"Time\")\n",
    "ax.set_ylabel(\"Usage time in seconds\")\n",
    "\"\"\"\n",
    "#for key, value in aggr.groups:\n",
    "#    print(value.count())\n",
    "sizes = aggr.size()\n",
    "fig, ax = plt.subplots()\n",
    "ax.plot(sizes.index,sizes)\n",
    "ax2 = ax.twinx()\n",
    "\n",
    "start_data = first_may_bike_data.set_index(\"start_time\")\n",
    "start_data = start_data.resample(\"H\").mean()\n",
    "\n",
    "ax2.plot(sizes.index,start_data[\"durationInSeconds\"],color=\"red\")\n",
    "may_bike_data.to_csv(\"may_data.csv\")"
   ]
  }
 ],
 "metadata": {
  "kernelspec": {
   "display_name": "Python 3",
   "language": "python",
   "name": "python3"
  },
  "language_info": {
   "codemirror_mode": {
    "name": "ipython",
    "version": 3
   },
   "file_extension": ".py",
   "mimetype": "text/x-python",
   "name": "python",
   "nbconvert_exporter": "python",
   "pygments_lexer": "ipython3",
   "version": "3.8.5"
  }
 },
 "nbformat": 4,
 "nbformat_minor": 4
}
