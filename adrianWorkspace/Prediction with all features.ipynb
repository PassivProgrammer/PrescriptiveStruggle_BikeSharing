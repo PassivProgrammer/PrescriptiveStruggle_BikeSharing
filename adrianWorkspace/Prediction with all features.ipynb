{
 "cells": [
  {
   "cell_type": "code",
   "execution_count": 1,
   "metadata": {},
   "outputs": [],
   "source": [
    "import pandas as pd\n",
    "import numpy as np\n",
    "import matplotlib.pyplot as plt\n",
    "import seaborn as sns\n",
    "import sklearn as sklearn\n",
    "from sklearn.linear_model import LinearRegression\n",
    "from sklearn.metrics import mean_squared_error, mean_absolute_error, r2_score\n",
    "from sklearn.preprocessing import PolynomialFeatures\n",
    "from sklearn.preprocessing import StandardScaler\n",
    "from sklearn.linear_model import Ridge"
   ]
  },
  {
   "cell_type": "code",
   "execution_count": 2,
   "metadata": {
    "scrolled": true
   },
   "outputs": [
    {
     "data": {
      "text/html": [
       "<div>\n",
       "<style scoped>\n",
       "    .dataframe tbody tr th:only-of-type {\n",
       "        vertical-align: middle;\n",
       "    }\n",
       "\n",
       "    .dataframe tbody tr th {\n",
       "        vertical-align: top;\n",
       "    }\n",
       "\n",
       "    .dataframe thead th {\n",
       "        text-align: right;\n",
       "    }\n",
       "</style>\n",
       "<table border=\"1\" class=\"dataframe\">\n",
       "  <thead>\n",
       "    <tr style=\"text-align: right;\">\n",
       "      <th></th>\n",
       "      <th>Unnamed: 0</th>\n",
       "      <th>start_time</th>\n",
       "      <th>end_time</th>\n",
       "      <th>start_station_id</th>\n",
       "      <th>end_station_id</th>\n",
       "      <th>start_station_name</th>\n",
       "      <th>end_station_name</th>\n",
       "      <th>bike_id</th>\n",
       "      <th>user_type</th>\n",
       "      <th>Month</th>\n",
       "      <th>duration</th>\n",
       "      <th>day</th>\n",
       "    </tr>\n",
       "  </thead>\n",
       "  <tbody>\n",
       "    <tr>\n",
       "      <th>0</th>\n",
       "      <td>628548</td>\n",
       "      <td>2016-05-31 23:57:00</td>\n",
       "      <td>2016-06-01 00:14:00</td>\n",
       "      <td>22</td>\n",
       "      <td>282</td>\n",
       "      <td>May St &amp; Taylor St</td>\n",
       "      <td>Halsted St &amp; Maxwell St</td>\n",
       "      <td>609</td>\n",
       "      <td>Subscriber</td>\n",
       "      <td>5</td>\n",
       "      <td>0 days 00:17:00</td>\n",
       "      <td>31</td>\n",
       "    </tr>\n",
       "    <tr>\n",
       "      <th>1</th>\n",
       "      <td>628549</td>\n",
       "      <td>2016-05-31 23:57:00</td>\n",
       "      <td>2016-06-01 00:14:00</td>\n",
       "      <td>22</td>\n",
       "      <td>282</td>\n",
       "      <td>May St &amp; Taylor St</td>\n",
       "      <td>Halsted St &amp; Maxwell St</td>\n",
       "      <td>1207</td>\n",
       "      <td>Subscriber</td>\n",
       "      <td>5</td>\n",
       "      <td>0 days 00:17:00</td>\n",
       "      <td>31</td>\n",
       "    </tr>\n",
       "    <tr>\n",
       "      <th>2</th>\n",
       "      <td>628550</td>\n",
       "      <td>2016-05-31 23:56:00</td>\n",
       "      <td>2016-06-01 00:15:00</td>\n",
       "      <td>90</td>\n",
       "      <td>320</td>\n",
       "      <td>Millennium Park</td>\n",
       "      <td>Loomis St &amp; Lexington St</td>\n",
       "      <td>4369</td>\n",
       "      <td>Subscriber</td>\n",
       "      <td>5</td>\n",
       "      <td>0 days 00:19:00</td>\n",
       "      <td>31</td>\n",
       "    </tr>\n",
       "  </tbody>\n",
       "</table>\n",
       "</div>"
      ],
      "text/plain": [
       "   Unnamed: 0          start_time            end_time  start_station_id  \\\n",
       "0      628548 2016-05-31 23:57:00 2016-06-01 00:14:00                22   \n",
       "1      628549 2016-05-31 23:57:00 2016-06-01 00:14:00                22   \n",
       "2      628550 2016-05-31 23:56:00 2016-06-01 00:15:00                90   \n",
       "\n",
       "   end_station_id  start_station_name          end_station_name  bike_id  \\\n",
       "0             282  May St & Taylor St   Halsted St & Maxwell St      609   \n",
       "1             282  May St & Taylor St   Halsted St & Maxwell St     1207   \n",
       "2             320     Millennium Park  Loomis St & Lexington St     4369   \n",
       "\n",
       "    user_type  Month         duration  day  \n",
       "0  Subscriber      5  0 days 00:17:00   31  \n",
       "1  Subscriber      5  0 days 00:17:00   31  \n",
       "2  Subscriber      5  0 days 00:19:00   31  "
      ]
     },
     "execution_count": 2,
     "metadata": {},
     "output_type": "execute_result"
    }
   ],
   "source": [
    "may_data = pd.read_csv(\"../may_data.csv\",parse_dates=[\"start_time\",\"end_time\"])\n",
    "may_data.head(3)"
   ]
  },
  {
   "cell_type": "code",
   "execution_count": 3,
   "metadata": {},
   "outputs": [
    {
     "data": {
      "text/html": [
       "<div>\n",
       "<style scoped>\n",
       "    .dataframe tbody tr th:only-of-type {\n",
       "        vertical-align: middle;\n",
       "    }\n",
       "\n",
       "    .dataframe tbody tr th {\n",
       "        vertical-align: top;\n",
       "    }\n",
       "\n",
       "    .dataframe thead th {\n",
       "        text-align: right;\n",
       "    }\n",
       "</style>\n",
       "<table border=\"1\" class=\"dataframe\">\n",
       "  <thead>\n",
       "    <tr style=\"text-align: right;\">\n",
       "      <th></th>\n",
       "      <th>Unnamed: 0</th>\n",
       "      <th>start_time</th>\n",
       "      <th>end_time</th>\n",
       "      <th>start_station_id</th>\n",
       "      <th>end_station_id</th>\n",
       "      <th>start_station_name</th>\n",
       "      <th>end_station_name</th>\n",
       "      <th>bike_id</th>\n",
       "      <th>user_type</th>\n",
       "      <th>Month</th>\n",
       "      <th>duration</th>\n",
       "      <th>day</th>\n",
       "      <th>hour</th>\n",
       "    </tr>\n",
       "  </thead>\n",
       "  <tbody>\n",
       "    <tr>\n",
       "      <th>0</th>\n",
       "      <td>628548</td>\n",
       "      <td>2016-05-31 23:57:00</td>\n",
       "      <td>2016-06-01 00:14:00</td>\n",
       "      <td>22</td>\n",
       "      <td>282</td>\n",
       "      <td>May St &amp; Taylor St</td>\n",
       "      <td>Halsted St &amp; Maxwell St</td>\n",
       "      <td>609</td>\n",
       "      <td>Subscriber</td>\n",
       "      <td>5</td>\n",
       "      <td>17.0</td>\n",
       "      <td>31</td>\n",
       "      <td>23</td>\n",
       "    </tr>\n",
       "    <tr>\n",
       "      <th>1</th>\n",
       "      <td>628549</td>\n",
       "      <td>2016-05-31 23:57:00</td>\n",
       "      <td>2016-06-01 00:14:00</td>\n",
       "      <td>22</td>\n",
       "      <td>282</td>\n",
       "      <td>May St &amp; Taylor St</td>\n",
       "      <td>Halsted St &amp; Maxwell St</td>\n",
       "      <td>1207</td>\n",
       "      <td>Subscriber</td>\n",
       "      <td>5</td>\n",
       "      <td>17.0</td>\n",
       "      <td>31</td>\n",
       "      <td>23</td>\n",
       "    </tr>\n",
       "    <tr>\n",
       "      <th>2</th>\n",
       "      <td>628550</td>\n",
       "      <td>2016-05-31 23:56:00</td>\n",
       "      <td>2016-06-01 00:15:00</td>\n",
       "      <td>90</td>\n",
       "      <td>320</td>\n",
       "      <td>Millennium Park</td>\n",
       "      <td>Loomis St &amp; Lexington St</td>\n",
       "      <td>4369</td>\n",
       "      <td>Subscriber</td>\n",
       "      <td>5</td>\n",
       "      <td>19.0</td>\n",
       "      <td>31</td>\n",
       "      <td>23</td>\n",
       "    </tr>\n",
       "  </tbody>\n",
       "</table>\n",
       "</div>"
      ],
      "text/plain": [
       "   Unnamed: 0          start_time            end_time  start_station_id  \\\n",
       "0      628548 2016-05-31 23:57:00 2016-06-01 00:14:00                22   \n",
       "1      628549 2016-05-31 23:57:00 2016-06-01 00:14:00                22   \n",
       "2      628550 2016-05-31 23:56:00 2016-06-01 00:15:00                90   \n",
       "\n",
       "   end_station_id  start_station_name          end_station_name  bike_id  \\\n",
       "0             282  May St & Taylor St   Halsted St & Maxwell St      609   \n",
       "1             282  May St & Taylor St   Halsted St & Maxwell St     1207   \n",
       "2             320     Millennium Park  Loomis St & Lexington St     4369   \n",
       "\n",
       "    user_type  Month  duration  day  hour  \n",
       "0  Subscriber      5      17.0   31    23  \n",
       "1  Subscriber      5      17.0   31    23  \n",
       "2  Subscriber      5      19.0   31    23  "
      ]
     },
     "execution_count": 3,
     "metadata": {},
     "output_type": "execute_result"
    }
   ],
   "source": [
    "may_data_time = may_data\n",
    "may_data_time[\"hour\"] = may_data_time[\"start_time\"].apply(lambda x: x.hour)\n",
    "may_data_time[\"duration\"] = (may_data_time[\"end_time\"] - may_data_time[\"start_time\"]).astype(\"timedelta64[m]\")\n",
    "may_data_time.head(3)"
   ]
  },
  {
   "cell_type": "markdown",
   "metadata": {},
   "source": [
    "Add weather data"
   ]
  },
  {
   "cell_type": "code",
   "execution_count": 4,
   "metadata": {},
   "outputs": [
    {
     "data": {
      "text/html": [
       "<div>\n",
       "<style scoped>\n",
       "    .dataframe tbody tr th:only-of-type {\n",
       "        vertical-align: middle;\n",
       "    }\n",
       "\n",
       "    .dataframe tbody tr th {\n",
       "        vertical-align: top;\n",
       "    }\n",
       "\n",
       "    .dataframe thead th {\n",
       "        text-align: right;\n",
       "    }\n",
       "</style>\n",
       "<table border=\"1\" class=\"dataframe\">\n",
       "  <thead>\n",
       "    <tr style=\"text-align: right;\">\n",
       "      <th></th>\n",
       "      <th>date_time</th>\n",
       "      <th>max_temp</th>\n",
       "      <th>min_temp</th>\n",
       "      <th>precip</th>\n",
       "      <th>hour</th>\n",
       "      <th>day</th>\n",
       "    </tr>\n",
       "  </thead>\n",
       "  <tbody>\n",
       "    <tr>\n",
       "      <th>11640</th>\n",
       "      <td>2016-05-01</td>\n",
       "      <td>7.2</td>\n",
       "      <td>7.2</td>\n",
       "      <td>1.0</td>\n",
       "      <td>0</td>\n",
       "      <td>1</td>\n",
       "    </tr>\n",
       "  </tbody>\n",
       "</table>\n",
       "</div>"
      ],
      "text/plain": [
       "       date_time  max_temp  min_temp  precip  hour  day\n",
       "11640 2016-05-01       7.2       7.2     1.0     0    1"
      ]
     },
     "execution_count": 4,
     "metadata": {},
     "output_type": "execute_result"
    }
   ],
   "source": [
    "file_path = \"C:/Users/Adrian/Documents/Studium/Projekte/DSML Bikesharing/PredictiveStruggle_BikeSharing\"\n",
    "weather = pd.read_csv(file_path+\"/weather_hourly_chicago.csv\",parse_dates = [\"date_time\"])\n",
    "#add day feature\n",
    "#only keep may 2016 data\n",
    "weather = weather[weather[\"date_time\"].apply(lambda x:x.year == 2016 and x.month == 5)]\n",
    "weather = weather.dropna()\n",
    "weather[\"hour\"] = weather[\"date_time\"].apply(lambda x:x.hour)\n",
    "weather[\"day\"] = weather[\"date_time\"].apply(lambda x:x.day)\n",
    "weather.sort_values(by=\"date_time\")\n",
    "weather.head(1)"
   ]
  },
  {
   "cell_type": "code",
   "execution_count": 5,
   "metadata": {
    "scrolled": true
   },
   "outputs": [
    {
     "data": {
      "text/html": [
       "<div>\n",
       "<style scoped>\n",
       "    .dataframe tbody tr th:only-of-type {\n",
       "        vertical-align: middle;\n",
       "    }\n",
       "\n",
       "    .dataframe tbody tr th {\n",
       "        vertical-align: top;\n",
       "    }\n",
       "\n",
       "    .dataframe thead th {\n",
       "        text-align: right;\n",
       "    }\n",
       "</style>\n",
       "<table border=\"1\" class=\"dataframe\">\n",
       "  <thead>\n",
       "    <tr style=\"text-align: right;\">\n",
       "      <th></th>\n",
       "      <th>Unnamed: 0</th>\n",
       "      <th>start_time</th>\n",
       "      <th>end_time</th>\n",
       "      <th>start_station_id</th>\n",
       "      <th>end_station_id</th>\n",
       "      <th>start_station_name</th>\n",
       "      <th>end_station_name</th>\n",
       "      <th>bike_id</th>\n",
       "      <th>user_type</th>\n",
       "      <th>Month</th>\n",
       "      <th>duration</th>\n",
       "      <th>day</th>\n",
       "      <th>hour</th>\n",
       "      <th>max_temp</th>\n",
       "      <th>min_temp</th>\n",
       "      <th>precip</th>\n",
       "    </tr>\n",
       "  </thead>\n",
       "  <tbody>\n",
       "    <tr>\n",
       "      <th>0</th>\n",
       "      <td>628632</td>\n",
       "      <td>2016-05-31 22:59:00</td>\n",
       "      <td>2016-05-31 23:14:00</td>\n",
       "      <td>117</td>\n",
       "      <td>232</td>\n",
       "      <td>Wilton Ave &amp; Belmont Ave</td>\n",
       "      <td>Pine Grove Ave &amp; Waveland Ave</td>\n",
       "      <td>991</td>\n",
       "      <td>Customer</td>\n",
       "      <td>5</td>\n",
       "      <td>15.0</td>\n",
       "      <td>31</td>\n",
       "      <td>22</td>\n",
       "      <td>18.9</td>\n",
       "      <td>18.9</td>\n",
       "      <td>1.0</td>\n",
       "    </tr>\n",
       "  </tbody>\n",
       "</table>\n",
       "</div>"
      ],
      "text/plain": [
       "   Unnamed: 0          start_time            end_time  start_station_id  \\\n",
       "0      628632 2016-05-31 22:59:00 2016-05-31 23:14:00               117   \n",
       "\n",
       "   end_station_id        start_station_name               end_station_name  \\\n",
       "0             232  Wilton Ave & Belmont Ave  Pine Grove Ave & Waveland Ave   \n",
       "\n",
       "   bike_id user_type  Month  duration  day  hour  max_temp  min_temp  precip  \n",
       "0      991  Customer      5      15.0   31    22      18.9      18.9     1.0  "
      ]
     },
     "execution_count": 5,
     "metadata": {},
     "output_type": "execute_result"
    }
   ],
   "source": [
    "#merge\n",
    "all_data = may_data_time.merge(weather[[\"max_temp\",\"min_temp\",\"precip\",\"hour\",\"day\"]],left_on=[\"day\",\"hour\"],right_on=[\"day\",\"hour\"])\n",
    "all_data.head(1)"
   ]
  },
  {
   "cell_type": "markdown",
   "metadata": {},
   "source": [
    "### Possible predictors\n",
    "Predict number of rides next hour:\n",
    "#### Temporal\n",
    "hour\n",
    "day\n",
    "month\n",
    "season\n",
    "\n",
    "weekday\n",
    "holiday\n",
    "#### Weather\n",
    "temperatur\n",
    "precipitation"
   ]
  },
  {
   "cell_type": "code",
   "execution_count": 6,
   "metadata": {},
   "outputs": [
    {
     "ename": "ValueError",
     "evalue": "Upsampling from level= or on= selection is not supported, use .set_index(...) to explicitly set index to datetime-like",
     "output_type": "error",
     "traceback": [
      "\u001b[1;31m---------------------------------------------------------------------------\u001b[0m",
      "\u001b[1;31mValueError\u001b[0m                                Traceback (most recent call last)",
      "\u001b[1;32m<ipython-input-6-872e3e487c5f>\u001b[0m in \u001b[0;36m<module>\u001b[1;34m\u001b[0m\n\u001b[0;32m      1\u001b[0m \u001b[0mrelevant_columns\u001b[0m \u001b[1;33m=\u001b[0m \u001b[0mall_data\u001b[0m\u001b[1;33m[\u001b[0m\u001b[1;33m[\u001b[0m\u001b[1;34m\"start_time\"\u001b[0m\u001b[1;33m,\u001b[0m\u001b[1;34m\"Month\"\u001b[0m\u001b[1;33m,\u001b[0m\u001b[1;34m\"day\"\u001b[0m\u001b[1;33m,\u001b[0m\u001b[1;34m\"hour\"\u001b[0m\u001b[1;33m,\u001b[0m\u001b[1;34m\"max_temp\"\u001b[0m\u001b[1;33m,\u001b[0m\u001b[1;34m\"precip\"\u001b[0m\u001b[1;33m,\u001b[0m\u001b[1;34m\"bike_id\"\u001b[0m\u001b[1;33m]\u001b[0m\u001b[1;33m]\u001b[0m\u001b[1;33m\u001b[0m\u001b[1;33m\u001b[0m\u001b[0m\n\u001b[1;32m----> 2\u001b[1;33m \u001b[0mfeature_data\u001b[0m \u001b[1;33m=\u001b[0m \u001b[0mrelevant_columns\u001b[0m\u001b[1;33m.\u001b[0m\u001b[0mresample\u001b[0m\u001b[1;33m(\u001b[0m\u001b[1;34m\"H\"\u001b[0m\u001b[1;33m,\u001b[0m\u001b[0mon\u001b[0m\u001b[1;33m=\u001b[0m\u001b[1;34m\"start_time\"\u001b[0m\u001b[1;33m)\u001b[0m\u001b[1;33m.\u001b[0m\u001b[0mbfill\u001b[0m\u001b[1;33m(\u001b[0m\u001b[1;33m)\u001b[0m\u001b[1;33m.\u001b[0m\u001b[0magg\u001b[0m\u001b[1;33m(\u001b[0m\u001b[1;33m{\u001b[0m\u001b[1;34m\"Month\"\u001b[0m\u001b[1;33m:\u001b[0m\u001b[1;34m\"mean\"\u001b[0m\u001b[1;33m,\u001b[0m\u001b[1;34m\"day\"\u001b[0m\u001b[1;33m:\u001b[0m\u001b[1;34m\"mean\"\u001b[0m\u001b[1;33m,\u001b[0m\u001b[1;34m\"hour\"\u001b[0m\u001b[1;33m:\u001b[0m\u001b[1;34m\"mean\"\u001b[0m\u001b[1;33m,\u001b[0m\u001b[1;34m\"max_temp\"\u001b[0m\u001b[1;33m:\u001b[0m\u001b[1;34m\"mean\"\u001b[0m\u001b[1;33m,\u001b[0m\u001b[1;34m\"precip\"\u001b[0m\u001b[1;33m:\u001b[0m\u001b[1;34m\"mean\"\u001b[0m\u001b[1;33m,\u001b[0m\u001b[1;34m\"bike_id\"\u001b[0m\u001b[1;33m:\u001b[0m\u001b[1;34m\"count\"\u001b[0m\u001b[1;33m}\u001b[0m\u001b[1;33m)\u001b[0m\u001b[1;33m\u001b[0m\u001b[1;33m\u001b[0m\u001b[0m\n\u001b[0m\u001b[0;32m      3\u001b[0m \u001b[0mfeature_data\u001b[0m\u001b[1;33m.\u001b[0m\u001b[0mrename\u001b[0m\u001b[1;33m(\u001b[0m\u001b[0mcolumns\u001b[0m\u001b[1;33m=\u001b[0m\u001b[1;33m{\u001b[0m\u001b[1;34m\"bike_id\"\u001b[0m\u001b[1;33m:\u001b[0m\u001b[1;34m\"trips\"\u001b[0m\u001b[1;33m}\u001b[0m\u001b[1;33m,\u001b[0m\u001b[0minplace\u001b[0m\u001b[1;33m=\u001b[0m\u001b[1;32mTrue\u001b[0m\u001b[1;33m)\u001b[0m\u001b[1;33m\u001b[0m\u001b[1;33m\u001b[0m\u001b[0m\n\u001b[0;32m      4\u001b[0m \u001b[0mfeature_data\u001b[0m\u001b[1;33m.\u001b[0m\u001b[0mhead\u001b[0m\u001b[1;33m(\u001b[0m\u001b[1;36m1\u001b[0m\u001b[1;33m)\u001b[0m\u001b[1;33m\u001b[0m\u001b[1;33m\u001b[0m\u001b[0m\n",
      "\u001b[1;32m~\\anaconda3\\lib\\site-packages\\pandas\\core\\resample.py\u001b[0m in \u001b[0;36mbackfill\u001b[1;34m(self, limit)\u001b[0m\n\u001b[0;32m    617\u001b[0m         \u001b[1;36m2018\u001b[0m\u001b[1;33m-\u001b[0m\u001b[1;36m0\u001b[0m\u001b[1;36m1\u001b[0m\u001b[1;33m-\u001b[0m\u001b[1;36m0\u001b[0m\u001b[1;36m1\u001b[0m \u001b[1;36m0\u001b[0m\u001b[1;36m2\u001b[0m\u001b[1;33m:\u001b[0m\u001b[1;36m00\u001b[0m\u001b[1;33m:\u001b[0m\u001b[1;36m00\u001b[0m  \u001b[1;36m6.0\u001b[0m  \u001b[1;36m5.0\u001b[0m\u001b[1;33m\u001b[0m\u001b[1;33m\u001b[0m\u001b[0m\n\u001b[0;32m    618\u001b[0m         \"\"\"\n\u001b[1;32m--> 619\u001b[1;33m         \u001b[1;32mreturn\u001b[0m \u001b[0mself\u001b[0m\u001b[1;33m.\u001b[0m\u001b[0m_upsample\u001b[0m\u001b[1;33m(\u001b[0m\u001b[1;34m\"backfill\"\u001b[0m\u001b[1;33m,\u001b[0m \u001b[0mlimit\u001b[0m\u001b[1;33m=\u001b[0m\u001b[0mlimit\u001b[0m\u001b[1;33m)\u001b[0m\u001b[1;33m\u001b[0m\u001b[1;33m\u001b[0m\u001b[0m\n\u001b[0m\u001b[0;32m    620\u001b[0m \u001b[1;33m\u001b[0m\u001b[0m\n\u001b[0;32m    621\u001b[0m     \u001b[0mbfill\u001b[0m \u001b[1;33m=\u001b[0m \u001b[0mbackfill\u001b[0m\u001b[1;33m\u001b[0m\u001b[1;33m\u001b[0m\u001b[0m\n",
      "\u001b[1;32m~\\anaconda3\\lib\\site-packages\\pandas\\core\\resample.py\u001b[0m in \u001b[0;36m_upsample\u001b[1;34m(self, method, limit, fill_value)\u001b[0m\n\u001b[0;32m   1077\u001b[0m             \u001b[1;32mraise\u001b[0m \u001b[0mAssertionError\u001b[0m\u001b[1;33m(\u001b[0m\u001b[1;34m\"axis must be 0\"\u001b[0m\u001b[1;33m)\u001b[0m\u001b[1;33m\u001b[0m\u001b[1;33m\u001b[0m\u001b[0m\n\u001b[0;32m   1078\u001b[0m         \u001b[1;32mif\u001b[0m \u001b[0mself\u001b[0m\u001b[1;33m.\u001b[0m\u001b[0m_from_selection\u001b[0m\u001b[1;33m:\u001b[0m\u001b[1;33m\u001b[0m\u001b[1;33m\u001b[0m\u001b[0m\n\u001b[1;32m-> 1079\u001b[1;33m             raise ValueError(\n\u001b[0m\u001b[0;32m   1080\u001b[0m                 \u001b[1;34m\"Upsampling from level= or on= selection \"\u001b[0m\u001b[1;33m\u001b[0m\u001b[1;33m\u001b[0m\u001b[0m\n\u001b[0;32m   1081\u001b[0m                 \u001b[1;34m\"is not supported, use .set_index(...) \"\u001b[0m\u001b[1;33m\u001b[0m\u001b[1;33m\u001b[0m\u001b[0m\n",
      "\u001b[1;31mValueError\u001b[0m: Upsampling from level= or on= selection is not supported, use .set_index(...) to explicitly set index to datetime-like"
     ]
    }
   ],
   "source": [
    "relevant_columns = all_data[[\"start_time\",\"Month\",\"day\",\"hour\",\"max_temp\",\"precip\",\"bike_id\"]]\n",
    "feature_data = relevant_columns.resample(\"H\",on=\"start_time\").bfill().agg({\"Month\":\"mean\",\"day\":\"mean\",\"hour\":\"mean\",\"max_temp\":\"mean\",\"precip\":\"mean\",\"bike_id\":\"count\"})\n",
    "feature_data.rename(columns={\"bike_id\":\"trips\"},inplace=True)\n",
    "feature_data.head(1)"
   ]
  },
  {
   "cell_type": "code",
   "execution_count": null,
   "metadata": {},
   "outputs": [],
   "source": [
    "# fill null values\n",
    "feature_data.loc[feature_data[\"Month\"].isna(),\"Month\"] = feature_data.index.to_series().apply(lambda x: x.month)\n",
    "feature_data.loc[feature_data[\"day\"].isna(),\"day\"] = feature_data.index.to_series().apply(lambda x: x.day)\n",
    "feature_data.loc[feature_data[\"hour\"].isna(),\"hour\"] = feature_data.index.to_series().apply(lambda x: x.hour)\n",
    "feature_data = feature_data.fillna(method=\"ffill\")\n",
    "feature_data.info()"
   ]
  },
  {
   "cell_type": "code",
   "execution_count": null,
   "metadata": {
    "scrolled": true
   },
   "outputs": [],
   "source": [
    "fig, ax1 = plt.subplots(figsize=[18,6])\n",
    "ax2 = ax1.twinx()\n",
    "ax3 = ax1.twinx()\n",
    "\n",
    "ax1.plot(feature_data.index,feature_data[\"trips\"],color=\"black\")\n",
    "ax2.plot(feature_data.index,feature_data[\"max_temp\"],color=\"orange\")\n",
    "#ax3.plot(feature_data.index,feature_data[\"precip\"],color=\"blue\")\n",
    "plt.legend(feature_data[\"trips\"])"
   ]
  },
  {
   "cell_type": "code",
   "execution_count": null,
   "metadata": {},
   "outputs": [],
   "source": [
    "# add weekday feature\n",
    "feature_data[\"isWeekend\"] = feature_data.index.to_series().apply(lambda x: 1 if x.dayofweek in [5,6] else 0)"
   ]
  },
  {
   "cell_type": "markdown",
   "metadata": {},
   "source": [
    "Dont forget to include rental duration in system demand"
   ]
  }
 ],
 "metadata": {
  "kernelspec": {
   "display_name": "Python 3",
   "language": "python",
   "name": "python3"
  },
  "language_info": {
   "codemirror_mode": {
    "name": "ipython",
    "version": 3
   },
   "file_extension": ".py",
   "mimetype": "text/x-python",
   "name": "python",
   "nbconvert_exporter": "python",
   "pygments_lexer": "ipython3",
   "version": "3.8.5"
  }
 },
 "nbformat": 4,
 "nbformat_minor": 4
}
