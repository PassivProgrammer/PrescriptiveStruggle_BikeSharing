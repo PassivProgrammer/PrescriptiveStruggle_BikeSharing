{
 "cells": [
  {
   "cell_type": "markdown",
   "metadata": {},
   "source": [
    "# Data Collection and Preparation"
   ]
  },
  {
   "cell_type": "code",
   "execution_count": 1,
   "metadata": {},
   "outputs": [],
   "source": [
    "import pandas as pd\n",
    "import numpy as np"
   ]
  },
  {
   "cell_type": "code",
   "execution_count": 3,
   "metadata": {},
   "outputs": [],
   "source": [
    "# Einlesen der Daten\n",
    "chicago = pd.read_csv(\"chicago_2016.csv\", parse_dates=[\"start_time\",\"end_time\"])"
   ]
  },
  {
   "cell_type": "code",
   "execution_count": 4,
   "metadata": {},
   "outputs": [
    {
     "name": "stdout",
     "output_type": "stream",
     "text": [
      "           start_time            end_time  start_station_id  end_station_id  \\\n",
      "0 2016-03-31 23:53:00 2016-04-01 00:07:00               344             458   \n",
      "1 2016-03-31 23:46:00 2016-03-31 23:57:00               128             213   \n",
      "2 2016-03-31 23:42:00 2016-03-31 23:46:00               350             210   \n",
      "3 2016-03-31 23:37:00 2016-03-31 23:55:00               303             458   \n",
      "4 2016-03-31 23:33:00 2016-03-31 23:37:00               334             329   \n",
      "\n",
      "              start_station_name               end_station_name  bike_id  \\\n",
      "0  Ravenswood Ave & Lawrence Ave       Broadway & Thorndale Ave      155   \n",
      "1        Damen Ave & Chicago Ave         Leavitt St & North Ave     4831   \n",
      "2      Ashland Ave & Chicago Ave      Ashland Ave & Division St     4232   \n",
      "3        Broadway & Cornelia Ave       Broadway & Thorndale Ave     3464   \n",
      "4    Lake Shore Dr & Belmont Ave  Lake Shore Dr & Diversey Pkwy     1750   \n",
      "\n",
      "    user_type  \n",
      "0  Subscriber  \n",
      "1  Subscriber  \n",
      "2  Subscriber  \n",
      "3  Subscriber  \n",
      "4  Subscriber  \n",
      "start_time            3595383\n",
      "end_time              3595383\n",
      "start_station_id      3595383\n",
      "end_station_id        3595383\n",
      "start_station_name    3595383\n",
      "end_station_name      3595383\n",
      "bike_id               3595383\n",
      "user_type             3595383\n",
      "dtype: int64\n",
      "<class 'pandas.core.frame.DataFrame'>\n",
      "RangeIndex: 3595383 entries, 0 to 3595382\n",
      "Data columns (total 8 columns):\n",
      " #   Column              Dtype         \n",
      "---  ------              -----         \n",
      " 0   start_time          datetime64[ns]\n",
      " 1   end_time            datetime64[ns]\n",
      " 2   start_station_id    int64         \n",
      " 3   end_station_id      int64         \n",
      " 4   start_station_name  object        \n",
      " 5   end_station_name    object        \n",
      " 6   bike_id             int64         \n",
      " 7   user_type           object        \n",
      "dtypes: datetime64[ns](2), int64(3), object(3)\n",
      "memory usage: 219.4+ MB\n",
      "None\n"
     ]
    }
   ],
   "source": [
    "# Überblick über Daten\n",
    "print(chicago.head())\n",
    "print(chicago.count())\n",
    "print(chicago.info())"
   ]
  },
  {
   "cell_type": "code",
   "execution_count": 6,
   "metadata": {},
   "outputs": [
    {
     "data": {
      "text/html": [
       "<div>\n",
       "<style scoped>\n",
       "    .dataframe tbody tr th:only-of-type {\n",
       "        vertical-align: middle;\n",
       "    }\n",
       "\n",
       "    .dataframe tbody tr th {\n",
       "        vertical-align: top;\n",
       "    }\n",
       "\n",
       "    .dataframe thead th {\n",
       "        text-align: right;\n",
       "    }\n",
       "</style>\n",
       "<table border=\"1\" class=\"dataframe\">\n",
       "  <thead>\n",
       "    <tr style=\"text-align: right;\">\n",
       "      <th></th>\n",
       "      <th>start_time</th>\n",
       "      <th>end_time</th>\n",
       "      <th>start_station_id</th>\n",
       "      <th>end_station_id</th>\n",
       "      <th>start_station_name</th>\n",
       "      <th>end_station_name</th>\n",
       "      <th>bike_id</th>\n",
       "      <th>user_type</th>\n",
       "    </tr>\n",
       "  </thead>\n",
       "  <tbody>\n",
       "    <tr>\n",
       "      <th>0</th>\n",
       "      <td>False</td>\n",
       "      <td>False</td>\n",
       "      <td>False</td>\n",
       "      <td>False</td>\n",
       "      <td>False</td>\n",
       "      <td>False</td>\n",
       "      <td>False</td>\n",
       "      <td>False</td>\n",
       "    </tr>\n",
       "    <tr>\n",
       "      <th>1</th>\n",
       "      <td>False</td>\n",
       "      <td>False</td>\n",
       "      <td>False</td>\n",
       "      <td>False</td>\n",
       "      <td>False</td>\n",
       "      <td>False</td>\n",
       "      <td>False</td>\n",
       "      <td>False</td>\n",
       "    </tr>\n",
       "    <tr>\n",
       "      <th>2</th>\n",
       "      <td>False</td>\n",
       "      <td>False</td>\n",
       "      <td>False</td>\n",
       "      <td>False</td>\n",
       "      <td>False</td>\n",
       "      <td>False</td>\n",
       "      <td>False</td>\n",
       "      <td>False</td>\n",
       "    </tr>\n",
       "    <tr>\n",
       "      <th>3</th>\n",
       "      <td>False</td>\n",
       "      <td>False</td>\n",
       "      <td>False</td>\n",
       "      <td>False</td>\n",
       "      <td>False</td>\n",
       "      <td>False</td>\n",
       "      <td>False</td>\n",
       "      <td>False</td>\n",
       "    </tr>\n",
       "    <tr>\n",
       "      <th>4</th>\n",
       "      <td>False</td>\n",
       "      <td>False</td>\n",
       "      <td>False</td>\n",
       "      <td>False</td>\n",
       "      <td>False</td>\n",
       "      <td>False</td>\n",
       "      <td>False</td>\n",
       "      <td>False</td>\n",
       "    </tr>\n",
       "    <tr>\n",
       "      <th>...</th>\n",
       "      <td>...</td>\n",
       "      <td>...</td>\n",
       "      <td>...</td>\n",
       "      <td>...</td>\n",
       "      <td>...</td>\n",
       "      <td>...</td>\n",
       "      <td>...</td>\n",
       "      <td>...</td>\n",
       "    </tr>\n",
       "    <tr>\n",
       "      <th>3595378</th>\n",
       "      <td>False</td>\n",
       "      <td>False</td>\n",
       "      <td>False</td>\n",
       "      <td>False</td>\n",
       "      <td>False</td>\n",
       "      <td>False</td>\n",
       "      <td>False</td>\n",
       "      <td>False</td>\n",
       "    </tr>\n",
       "    <tr>\n",
       "      <th>3595379</th>\n",
       "      <td>False</td>\n",
       "      <td>False</td>\n",
       "      <td>False</td>\n",
       "      <td>False</td>\n",
       "      <td>False</td>\n",
       "      <td>False</td>\n",
       "      <td>False</td>\n",
       "      <td>False</td>\n",
       "    </tr>\n",
       "    <tr>\n",
       "      <th>3595380</th>\n",
       "      <td>False</td>\n",
       "      <td>False</td>\n",
       "      <td>False</td>\n",
       "      <td>False</td>\n",
       "      <td>False</td>\n",
       "      <td>False</td>\n",
       "      <td>False</td>\n",
       "      <td>False</td>\n",
       "    </tr>\n",
       "    <tr>\n",
       "      <th>3595381</th>\n",
       "      <td>False</td>\n",
       "      <td>False</td>\n",
       "      <td>False</td>\n",
       "      <td>False</td>\n",
       "      <td>False</td>\n",
       "      <td>False</td>\n",
       "      <td>False</td>\n",
       "      <td>False</td>\n",
       "    </tr>\n",
       "    <tr>\n",
       "      <th>3595382</th>\n",
       "      <td>False</td>\n",
       "      <td>False</td>\n",
       "      <td>False</td>\n",
       "      <td>False</td>\n",
       "      <td>False</td>\n",
       "      <td>False</td>\n",
       "      <td>False</td>\n",
       "      <td>False</td>\n",
       "    </tr>\n",
       "  </tbody>\n",
       "</table>\n",
       "<p>3595383 rows × 8 columns</p>\n",
       "</div>"
      ],
      "text/plain": [
       "         start_time  end_time  start_station_id  end_station_id  \\\n",
       "0             False     False             False           False   \n",
       "1             False     False             False           False   \n",
       "2             False     False             False           False   \n",
       "3             False     False             False           False   \n",
       "4             False     False             False           False   \n",
       "...             ...       ...               ...             ...   \n",
       "3595378       False     False             False           False   \n",
       "3595379       False     False             False           False   \n",
       "3595380       False     False             False           False   \n",
       "3595381       False     False             False           False   \n",
       "3595382       False     False             False           False   \n",
       "\n",
       "         start_station_name  end_station_name  bike_id  user_type  \n",
       "0                     False             False    False      False  \n",
       "1                     False             False    False      False  \n",
       "2                     False             False    False      False  \n",
       "3                     False             False    False      False  \n",
       "4                     False             False    False      False  \n",
       "...                     ...               ...      ...        ...  \n",
       "3595378               False             False    False      False  \n",
       "3595379               False             False    False      False  \n",
       "3595380               False             False    False      False  \n",
       "3595381               False             False    False      False  \n",
       "3595382               False             False    False      False  \n",
       "\n",
       "[3595383 rows x 8 columns]"
      ]
     },
     "execution_count": 6,
     "metadata": {},
     "output_type": "execute_result"
    }
   ],
   "source": [
    "#Überprüfen, ob es null-Values gibt\n",
    "chicago.isnull()"
   ]
  },
  {
   "cell_type": "code",
   "execution_count": 16,
   "metadata": {},
   "outputs": [
    {
     "data": {
      "text/plain": [
       "3595383"
      ]
     },
     "execution_count": 16,
     "metadata": {},
     "output_type": "execute_result"
    }
   ],
   "source": [
    "# hinzufügen der Dauer der Fahrt\n",
    "chicago[\"duration\"] = (chicago[\"end_time\"] - chicago[\"start_time\"]).astype(\"timedelta64[m]\")\n",
    "chicago[\"user_type\"].size"
   ]
  },
  {
   "cell_type": "code",
   "execution_count": 11,
   "metadata": {},
   "outputs": [],
   "source": [
    "#remove data with same start and end station, that are shorter or equal to one minutes\n",
    "filtered_data = chicago[ ~((chicago[\"start_station_name\"] == chicago[\"end_station_name\"]) & (chicago[\"duration\"] <= 1.0)) ]"
   ]
  },
  {
   "cell_type": "code",
   "execution_count": 12,
   "metadata": {},
   "outputs": [
    {
     "data": {
      "text/plain": [
       "array(['Subscriber', 'Customer', 'Dependent'], dtype=object)"
      ]
     },
     "execution_count": 12,
     "metadata": {},
     "output_type": "execute_result"
    }
   ],
   "source": [
    "chicago[\"user_type\"].unique()"
   ]
  },
  {
   "cell_type": "code",
   "execution_count": 13,
   "metadata": {},
   "outputs": [
    {
     "name": "stdout",
     "output_type": "stream",
     "text": [
      "2736869\n",
      "858474\n",
      "40\n"
     ]
    }
   ],
   "source": [
    "sub = chicago[chicago[\"user_type\"] == \"Subscriber\"]\n",
    "cus = chicago[chicago[\"user_type\"] == \"Customer\"]\n",
    "dep = chicago[chicago[\"user_type\"] == \"Dependent\"]\n",
    "print(sub[\"user_type\"].size)\n",
    "print(cus[\"user_type\"].size)\n",
    "print(dep[\"user_type\"].size)"
   ]
  },
  {
   "cell_type": "code",
   "execution_count": 14,
   "metadata": {},
   "outputs": [],
   "source": [
    "filtered_data = filtered_data[filtered_data[\"user_type\"] != \"Dependent\"]"
   ]
  },
  {
   "cell_type": "code",
   "execution_count": 15,
   "metadata": {},
   "outputs": [
    {
     "data": {
      "text/plain": [
       "3586396"
      ]
     },
     "execution_count": 15,
     "metadata": {},
     "output_type": "execute_result"
    }
   ],
   "source": [
    "filtered_data[\"user_type\"].size"
   ]
  },
  {
   "cell_type": "code",
   "execution_count": 17,
   "metadata": {},
   "outputs": [
    {
     "data": {
      "text/plain": [
       "3586330"
      ]
     },
     "execution_count": 17,
     "metadata": {},
     "output_type": "execute_result"
    }
   ],
   "source": [
    "filtered_data = filtered_data.drop_duplicates()\n",
    "filtered_data[\"user_type\"].size"
   ]
  },
  {
   "cell_type": "code",
   "execution_count": 18,
   "metadata": {},
   "outputs": [],
   "source": [
    "filtered_data.to_csv(\"prepared_data.csv\")"
   ]
  },
  {
   "cell_type": "code",
   "execution_count": null,
   "metadata": {},
   "outputs": [],
   "source": [
    "filtered_data"
   ]
  },
  {
   "cell_type": "code",
   "execution_count": 19,
   "metadata": {},
   "outputs": [
    {
     "data": {
      "text/html": [
       "<div>\n",
       "<style scoped>\n",
       "    .dataframe tbody tr th:only-of-type {\n",
       "        vertical-align: middle;\n",
       "    }\n",
       "\n",
       "    .dataframe tbody tr th {\n",
       "        vertical-align: top;\n",
       "    }\n",
       "\n",
       "    .dataframe thead th {\n",
       "        text-align: right;\n",
       "    }\n",
       "</style>\n",
       "<table border=\"1\" class=\"dataframe\">\n",
       "  <thead>\n",
       "    <tr style=\"text-align: right;\">\n",
       "      <th></th>\n",
       "      <th>date_time</th>\n",
       "      <th>max_temp</th>\n",
       "      <th>min_temp</th>\n",
       "      <th>precip</th>\n",
       "      <th>hour</th>\n",
       "      <th>day</th>\n",
       "    </tr>\n",
       "  </thead>\n",
       "  <tbody>\n",
       "    <tr>\n",
       "      <th>0</th>\n",
       "      <td>2015-01-02 01:00:00</td>\n",
       "      <td>-1.7</td>\n",
       "      <td>-1.7</td>\n",
       "      <td>0.0</td>\n",
       "      <td>1</td>\n",
       "      <td>2</td>\n",
       "    </tr>\n",
       "    <tr>\n",
       "      <th>1</th>\n",
       "      <td>2015-01-02 02:00:00</td>\n",
       "      <td>-2.2</td>\n",
       "      <td>-2.2</td>\n",
       "      <td>0.0</td>\n",
       "      <td>2</td>\n",
       "      <td>2</td>\n",
       "    </tr>\n",
       "    <tr>\n",
       "      <th>2</th>\n",
       "      <td>2015-01-02 03:00:00</td>\n",
       "      <td>-2.8</td>\n",
       "      <td>-2.8</td>\n",
       "      <td>0.0</td>\n",
       "      <td>3</td>\n",
       "      <td>2</td>\n",
       "    </tr>\n",
       "    <tr>\n",
       "      <th>3</th>\n",
       "      <td>2015-01-02 04:00:00</td>\n",
       "      <td>-3.3</td>\n",
       "      <td>-3.3</td>\n",
       "      <td>0.0</td>\n",
       "      <td>4</td>\n",
       "      <td>2</td>\n",
       "    </tr>\n",
       "    <tr>\n",
       "      <th>4</th>\n",
       "      <td>2015-01-02 05:00:00</td>\n",
       "      <td>-4.4</td>\n",
       "      <td>-4.4</td>\n",
       "      <td>0.0</td>\n",
       "      <td>5</td>\n",
       "      <td>2</td>\n",
       "    </tr>\n",
       "  </tbody>\n",
       "</table>\n",
       "</div>"
      ],
      "text/plain": [
       "            date_time  max_temp  min_temp  precip  hour  day\n",
       "0 2015-01-02 01:00:00      -1.7      -1.7     0.0     1    2\n",
       "1 2015-01-02 02:00:00      -2.2      -2.2     0.0     2    2\n",
       "2 2015-01-02 03:00:00      -2.8      -2.8     0.0     3    2\n",
       "3 2015-01-02 04:00:00      -3.3      -3.3     0.0     4    2\n",
       "4 2015-01-02 05:00:00      -4.4      -4.4     0.0     5    2"
      ]
     },
     "execution_count": 19,
     "metadata": {},
     "output_type": "execute_result"
    }
   ],
   "source": [
    "# hinzufügen der Wetterdaten\n",
    "weather = pd.read_csv(\"weather_hourly_chicago.csv\", parse_dates = [\"date_time\"])\n",
    "weather = weather.dropna()\n",
    "weather[\"hour\"] = weather[\"date_time\"].apply(lambda x:x.hour)\n",
    "weather[\"day\"] = weather[\"date_time\"].apply(lambda x:x.day)\n",
    "weather.sort_values(by=\"date_time\")\n",
    "weather.head()"
   ]
  },
  {
   "cell_type": "code",
   "execution_count": 21,
   "metadata": {},
   "outputs": [],
   "source": [
    "# verbinden mit den Fahrraddaten\n",
    "filtered_data[\"day\"] = filtered_data[\"start_time\"].apply(lambda x: x.day)\n",
    "filtered_data['start_hour']= filtered_data[\"start_time\"].apply(lambda x: x.hour)\n",
    "filtered_data = filtered_data.merge(weather[[\"max_temp\",\"min_temp\",\"precip\",\"hour\",\"day\"]],left_on=[\"day\",\"start_hour\"],right_on=[\"day\",\"hour\"])"
   ]
  },
  {
   "cell_type": "code",
   "execution_count": 22,
   "metadata": {},
   "outputs": [
    {
     "data": {
      "text/html": [
       "<div>\n",
       "<style scoped>\n",
       "    .dataframe tbody tr th:only-of-type {\n",
       "        vertical-align: middle;\n",
       "    }\n",
       "\n",
       "    .dataframe tbody tr th {\n",
       "        vertical-align: top;\n",
       "    }\n",
       "\n",
       "    .dataframe thead th {\n",
       "        text-align: right;\n",
       "    }\n",
       "</style>\n",
       "<table border=\"1\" class=\"dataframe\">\n",
       "  <thead>\n",
       "    <tr style=\"text-align: right;\">\n",
       "      <th></th>\n",
       "      <th>start_time</th>\n",
       "      <th>start_station_id</th>\n",
       "      <th>bike_id</th>\n",
       "      <th>duration</th>\n",
       "      <th>day</th>\n",
       "      <th>start_hour</th>\n",
       "      <th>max_temp</th>\n",
       "      <th>min_temp</th>\n",
       "      <th>precip</th>\n",
       "    </tr>\n",
       "  </thead>\n",
       "  <tbody>\n",
       "    <tr>\n",
       "      <th>0</th>\n",
       "      <td>2016-03-31 23:53:00</td>\n",
       "      <td>344</td>\n",
       "      <td>155</td>\n",
       "      <td>14.0</td>\n",
       "      <td>31</td>\n",
       "      <td>23</td>\n",
       "      <td>1.7</td>\n",
       "      <td>1.7</td>\n",
       "      <td>0.0</td>\n",
       "    </tr>\n",
       "    <tr>\n",
       "      <th>1</th>\n",
       "      <td>2016-03-31 23:53:00</td>\n",
       "      <td>344</td>\n",
       "      <td>155</td>\n",
       "      <td>14.0</td>\n",
       "      <td>31</td>\n",
       "      <td>23</td>\n",
       "      <td>13.9</td>\n",
       "      <td>13.9</td>\n",
       "      <td>0.0</td>\n",
       "    </tr>\n",
       "    <tr>\n",
       "      <th>2</th>\n",
       "      <td>2016-03-31 23:53:00</td>\n",
       "      <td>344</td>\n",
       "      <td>155</td>\n",
       "      <td>14.0</td>\n",
       "      <td>31</td>\n",
       "      <td>23</td>\n",
       "      <td>11.7</td>\n",
       "      <td>11.7</td>\n",
       "      <td>0.0</td>\n",
       "    </tr>\n",
       "    <tr>\n",
       "      <th>3</th>\n",
       "      <td>2016-03-31 23:53:00</td>\n",
       "      <td>344</td>\n",
       "      <td>155</td>\n",
       "      <td>14.0</td>\n",
       "      <td>31</td>\n",
       "      <td>23</td>\n",
       "      <td>28.9</td>\n",
       "      <td>28.9</td>\n",
       "      <td>0.0</td>\n",
       "    </tr>\n",
       "    <tr>\n",
       "      <th>4</th>\n",
       "      <td>2016-03-31 23:53:00</td>\n",
       "      <td>344</td>\n",
       "      <td>155</td>\n",
       "      <td>14.0</td>\n",
       "      <td>31</td>\n",
       "      <td>23</td>\n",
       "      <td>28.9</td>\n",
       "      <td>28.9</td>\n",
       "      <td>0.0</td>\n",
       "    </tr>\n",
       "  </tbody>\n",
       "</table>\n",
       "</div>"
      ],
      "text/plain": [
       "           start_time  start_station_id  bike_id  duration  day  start_hour  \\\n",
       "0 2016-03-31 23:53:00               344      155      14.0   31          23   \n",
       "1 2016-03-31 23:53:00               344      155      14.0   31          23   \n",
       "2 2016-03-31 23:53:00               344      155      14.0   31          23   \n",
       "3 2016-03-31 23:53:00               344      155      14.0   31          23   \n",
       "4 2016-03-31 23:53:00               344      155      14.0   31          23   \n",
       "\n",
       "   max_temp  min_temp  precip  \n",
       "0       1.7       1.7     0.0  \n",
       "1      13.9      13.9     0.0  \n",
       "2      11.7      11.7     0.0  \n",
       "3      28.9      28.9     0.0  \n",
       "4      28.9      28.9     0.0  "
      ]
     },
     "execution_count": 22,
     "metadata": {},
     "output_type": "execute_result"
    }
   ],
   "source": [
    "filtered_data.drop(['end_time', 'end_station_id', \"start_station_name\", \"end_station_name\" ,\"user_type\", \"hour\"], axis=1, inplace=True)\n",
    "filtered_data.head()"
   ]
  },
  {
   "cell_type": "code",
   "execution_count": null,
   "metadata": {},
   "outputs": [],
   "source": [
    "# aggregate to trips\n",
    "filtered_data['month'] = filtered_data[\"start_time\"].apply(lambda x: x.month)\n"
   ]
  },
  {
   "cell_type": "code",
   "execution_count": null,
   "metadata": {},
   "outputs": [],
   "source": [
    "feature_data = filtered_data.resample(\"H\",on=\"start_time\").agg({\"start_station_id\":\"mean\",\"month\":\"mean\",\"duration\":\"mean\",\"start_hour\":\"mean\",\"day\":\"mean\",\"max_temp\":\"mean\",\"min_temp\":\"mean\",\"precip\":\"mean\",\"bike_id\":\"count\"})\n",
    "feature_data.rename(columns={\"bike_id\":\"trips\"},inplace=True)\n",
    "feature_data.head()"
   ]
  }
 ],
 "metadata": {
  "kernelspec": {
   "display_name": "Python 3.8.5 64-bit ('base': conda)",
   "language": "python",
   "name": "python385jvsc74a57bd0ed5b6eec5fa7619496b5c32bf7e701327613e9cdc173f3d3fa3d9db56ec83e30"
  },
  "language_info": {
   "codemirror_mode": {
    "name": "ipython",
    "version": 3
   },
   "file_extension": ".py",
   "mimetype": "text/x-python",
   "name": "python",
   "nbconvert_exporter": "python",
   "pygments_lexer": "ipython3",
   "version": "3.8.5"
  }
 },
 "nbformat": 4,
 "nbformat_minor": 4
}
