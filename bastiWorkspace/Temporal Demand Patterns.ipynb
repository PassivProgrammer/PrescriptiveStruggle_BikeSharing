{
 "cells": [
  {
   "cell_type": "markdown",
   "metadata": {},
   "source": [
    "# Zeitliche Nachfragemuster und Saisonalität"
   ]
  },
  {
   "cell_type": "code",
   "execution_count": 3,
   "metadata": {},
   "outputs": [],
   "source": [
    "import pandas as pd\n",
    "import numpy as np\n",
    "import matplotlib.pyplot as plt\n",
    "from IPython.core.display import display, HTML\n",
    "from IPython.core.display import display, HTML"
   ]
  },
  {
   "cell_type": "code",
   "execution_count": 4,
   "metadata": {},
   "outputs": [
    {
     "ename": "FileNotFoundError",
     "evalue": "[Errno 2] No such file or directory: 'chicago_2016.csv'",
     "output_type": "error",
     "traceback": [
      "\u001b[1;31m---------------------------------------------------------------------------\u001b[0m",
      "\u001b[1;31mFileNotFoundError\u001b[0m                         Traceback (most recent call last)",
      "\u001b[1;32m<ipython-input-4-6680adf34d71>\u001b[0m in \u001b[0;36m<module>\u001b[1;34m\u001b[0m\n\u001b[1;32m----> 1\u001b[1;33m \u001b[0mchicago\u001b[0m \u001b[1;33m=\u001b[0m \u001b[0mpd\u001b[0m\u001b[1;33m.\u001b[0m\u001b[0mread_csv\u001b[0m\u001b[1;33m(\u001b[0m\u001b[1;34m\"chicago_2016.csv\"\u001b[0m\u001b[1;33m,\u001b[0m \u001b[0mparse_dates\u001b[0m\u001b[1;33m=\u001b[0m\u001b[1;33m[\u001b[0m\u001b[1;34m\"start_time\"\u001b[0m\u001b[1;33m,\u001b[0m\u001b[1;34m\"end_time\"\u001b[0m\u001b[1;33m]\u001b[0m\u001b[1;33m)\u001b[0m\u001b[1;33m\u001b[0m\u001b[1;33m\u001b[0m\u001b[0m\n\u001b[0m",
      "\u001b[1;32m~\\anaconda3\\lib\\site-packages\\pandas\\io\\parsers.py\u001b[0m in \u001b[0;36mread_csv\u001b[1;34m(filepath_or_buffer, sep, delimiter, header, names, index_col, usecols, squeeze, prefix, mangle_dupe_cols, dtype, engine, converters, true_values, false_values, skipinitialspace, skiprows, skipfooter, nrows, na_values, keep_default_na, na_filter, verbose, skip_blank_lines, parse_dates, infer_datetime_format, keep_date_col, date_parser, dayfirst, cache_dates, iterator, chunksize, compression, thousands, decimal, lineterminator, quotechar, quoting, doublequote, escapechar, comment, encoding, dialect, error_bad_lines, warn_bad_lines, delim_whitespace, low_memory, memory_map, float_precision)\u001b[0m\n\u001b[0;32m    684\u001b[0m     )\n\u001b[0;32m    685\u001b[0m \u001b[1;33m\u001b[0m\u001b[0m\n\u001b[1;32m--> 686\u001b[1;33m     \u001b[1;32mreturn\u001b[0m \u001b[0m_read\u001b[0m\u001b[1;33m(\u001b[0m\u001b[0mfilepath_or_buffer\u001b[0m\u001b[1;33m,\u001b[0m \u001b[0mkwds\u001b[0m\u001b[1;33m)\u001b[0m\u001b[1;33m\u001b[0m\u001b[1;33m\u001b[0m\u001b[0m\n\u001b[0m\u001b[0;32m    687\u001b[0m \u001b[1;33m\u001b[0m\u001b[0m\n\u001b[0;32m    688\u001b[0m \u001b[1;33m\u001b[0m\u001b[0m\n",
      "\u001b[1;32m~\\anaconda3\\lib\\site-packages\\pandas\\io\\parsers.py\u001b[0m in \u001b[0;36m_read\u001b[1;34m(filepath_or_buffer, kwds)\u001b[0m\n\u001b[0;32m    450\u001b[0m \u001b[1;33m\u001b[0m\u001b[0m\n\u001b[0;32m    451\u001b[0m     \u001b[1;31m# Create the parser.\u001b[0m\u001b[1;33m\u001b[0m\u001b[1;33m\u001b[0m\u001b[1;33m\u001b[0m\u001b[0m\n\u001b[1;32m--> 452\u001b[1;33m     \u001b[0mparser\u001b[0m \u001b[1;33m=\u001b[0m \u001b[0mTextFileReader\u001b[0m\u001b[1;33m(\u001b[0m\u001b[0mfp_or_buf\u001b[0m\u001b[1;33m,\u001b[0m \u001b[1;33m**\u001b[0m\u001b[0mkwds\u001b[0m\u001b[1;33m)\u001b[0m\u001b[1;33m\u001b[0m\u001b[1;33m\u001b[0m\u001b[0m\n\u001b[0m\u001b[0;32m    453\u001b[0m \u001b[1;33m\u001b[0m\u001b[0m\n\u001b[0;32m    454\u001b[0m     \u001b[1;32mif\u001b[0m \u001b[0mchunksize\u001b[0m \u001b[1;32mor\u001b[0m \u001b[0miterator\u001b[0m\u001b[1;33m:\u001b[0m\u001b[1;33m\u001b[0m\u001b[1;33m\u001b[0m\u001b[0m\n",
      "\u001b[1;32m~\\anaconda3\\lib\\site-packages\\pandas\\io\\parsers.py\u001b[0m in \u001b[0;36m__init__\u001b[1;34m(self, f, engine, **kwds)\u001b[0m\n\u001b[0;32m    944\u001b[0m             \u001b[0mself\u001b[0m\u001b[1;33m.\u001b[0m\u001b[0moptions\u001b[0m\u001b[1;33m[\u001b[0m\u001b[1;34m\"has_index_names\"\u001b[0m\u001b[1;33m]\u001b[0m \u001b[1;33m=\u001b[0m \u001b[0mkwds\u001b[0m\u001b[1;33m[\u001b[0m\u001b[1;34m\"has_index_names\"\u001b[0m\u001b[1;33m]\u001b[0m\u001b[1;33m\u001b[0m\u001b[1;33m\u001b[0m\u001b[0m\n\u001b[0;32m    945\u001b[0m \u001b[1;33m\u001b[0m\u001b[0m\n\u001b[1;32m--> 946\u001b[1;33m         \u001b[0mself\u001b[0m\u001b[1;33m.\u001b[0m\u001b[0m_make_engine\u001b[0m\u001b[1;33m(\u001b[0m\u001b[0mself\u001b[0m\u001b[1;33m.\u001b[0m\u001b[0mengine\u001b[0m\u001b[1;33m)\u001b[0m\u001b[1;33m\u001b[0m\u001b[1;33m\u001b[0m\u001b[0m\n\u001b[0m\u001b[0;32m    947\u001b[0m \u001b[1;33m\u001b[0m\u001b[0m\n\u001b[0;32m    948\u001b[0m     \u001b[1;32mdef\u001b[0m \u001b[0mclose\u001b[0m\u001b[1;33m(\u001b[0m\u001b[0mself\u001b[0m\u001b[1;33m)\u001b[0m\u001b[1;33m:\u001b[0m\u001b[1;33m\u001b[0m\u001b[1;33m\u001b[0m\u001b[0m\n",
      "\u001b[1;32m~\\anaconda3\\lib\\site-packages\\pandas\\io\\parsers.py\u001b[0m in \u001b[0;36m_make_engine\u001b[1;34m(self, engine)\u001b[0m\n\u001b[0;32m   1176\u001b[0m     \u001b[1;32mdef\u001b[0m \u001b[0m_make_engine\u001b[0m\u001b[1;33m(\u001b[0m\u001b[0mself\u001b[0m\u001b[1;33m,\u001b[0m \u001b[0mengine\u001b[0m\u001b[1;33m=\u001b[0m\u001b[1;34m\"c\"\u001b[0m\u001b[1;33m)\u001b[0m\u001b[1;33m:\u001b[0m\u001b[1;33m\u001b[0m\u001b[1;33m\u001b[0m\u001b[0m\n\u001b[0;32m   1177\u001b[0m         \u001b[1;32mif\u001b[0m \u001b[0mengine\u001b[0m \u001b[1;33m==\u001b[0m \u001b[1;34m\"c\"\u001b[0m\u001b[1;33m:\u001b[0m\u001b[1;33m\u001b[0m\u001b[1;33m\u001b[0m\u001b[0m\n\u001b[1;32m-> 1178\u001b[1;33m             \u001b[0mself\u001b[0m\u001b[1;33m.\u001b[0m\u001b[0m_engine\u001b[0m \u001b[1;33m=\u001b[0m \u001b[0mCParserWrapper\u001b[0m\u001b[1;33m(\u001b[0m\u001b[0mself\u001b[0m\u001b[1;33m.\u001b[0m\u001b[0mf\u001b[0m\u001b[1;33m,\u001b[0m \u001b[1;33m**\u001b[0m\u001b[0mself\u001b[0m\u001b[1;33m.\u001b[0m\u001b[0moptions\u001b[0m\u001b[1;33m)\u001b[0m\u001b[1;33m\u001b[0m\u001b[1;33m\u001b[0m\u001b[0m\n\u001b[0m\u001b[0;32m   1179\u001b[0m         \u001b[1;32melse\u001b[0m\u001b[1;33m:\u001b[0m\u001b[1;33m\u001b[0m\u001b[1;33m\u001b[0m\u001b[0m\n\u001b[0;32m   1180\u001b[0m             \u001b[1;32mif\u001b[0m \u001b[0mengine\u001b[0m \u001b[1;33m==\u001b[0m \u001b[1;34m\"python\"\u001b[0m\u001b[1;33m:\u001b[0m\u001b[1;33m\u001b[0m\u001b[1;33m\u001b[0m\u001b[0m\n",
      "\u001b[1;32m~\\anaconda3\\lib\\site-packages\\pandas\\io\\parsers.py\u001b[0m in \u001b[0;36m__init__\u001b[1;34m(self, src, **kwds)\u001b[0m\n\u001b[0;32m   2006\u001b[0m         \u001b[0mkwds\u001b[0m\u001b[1;33m[\u001b[0m\u001b[1;34m\"usecols\"\u001b[0m\u001b[1;33m]\u001b[0m \u001b[1;33m=\u001b[0m \u001b[0mself\u001b[0m\u001b[1;33m.\u001b[0m\u001b[0musecols\u001b[0m\u001b[1;33m\u001b[0m\u001b[1;33m\u001b[0m\u001b[0m\n\u001b[0;32m   2007\u001b[0m \u001b[1;33m\u001b[0m\u001b[0m\n\u001b[1;32m-> 2008\u001b[1;33m         \u001b[0mself\u001b[0m\u001b[1;33m.\u001b[0m\u001b[0m_reader\u001b[0m \u001b[1;33m=\u001b[0m \u001b[0mparsers\u001b[0m\u001b[1;33m.\u001b[0m\u001b[0mTextReader\u001b[0m\u001b[1;33m(\u001b[0m\u001b[0msrc\u001b[0m\u001b[1;33m,\u001b[0m \u001b[1;33m**\u001b[0m\u001b[0mkwds\u001b[0m\u001b[1;33m)\u001b[0m\u001b[1;33m\u001b[0m\u001b[1;33m\u001b[0m\u001b[0m\n\u001b[0m\u001b[0;32m   2009\u001b[0m         \u001b[0mself\u001b[0m\u001b[1;33m.\u001b[0m\u001b[0munnamed_cols\u001b[0m \u001b[1;33m=\u001b[0m \u001b[0mself\u001b[0m\u001b[1;33m.\u001b[0m\u001b[0m_reader\u001b[0m\u001b[1;33m.\u001b[0m\u001b[0munnamed_cols\u001b[0m\u001b[1;33m\u001b[0m\u001b[1;33m\u001b[0m\u001b[0m\n\u001b[0;32m   2010\u001b[0m \u001b[1;33m\u001b[0m\u001b[0m\n",
      "\u001b[1;32mpandas\\_libs\\parsers.pyx\u001b[0m in \u001b[0;36mpandas._libs.parsers.TextReader.__cinit__\u001b[1;34m()\u001b[0m\n",
      "\u001b[1;32mpandas\\_libs\\parsers.pyx\u001b[0m in \u001b[0;36mpandas._libs.parsers.TextReader._setup_parser_source\u001b[1;34m()\u001b[0m\n",
      "\u001b[1;31mFileNotFoundError\u001b[0m: [Errno 2] No such file or directory: 'chicago_2016.csv'"
     ]
    }
   ],
   "source": [
    "chicago = pd.read_csv(\"chicago_2016.csv\", parse_dates=[\"start_time\",\"end_time\"])"
   ]
  },
  {
   "cell_type": "markdown",
   "metadata": {},
   "source": [
    "## Fahrten über den Tag verteilt"
   ]
  },
  {
   "cell_type": "code",
   "execution_count": null,
   "metadata": {},
   "outputs": [],
   "source": [
    "morning_start = chicago[(chicago['Hour']>=6) & (chicago['Hour']<10)]\n",
    "mid_morning_start = chicago[(chicago['Hour']>=10) & (chicago['Hour']<12)]\n",
    "noon_start = chicago[(chicago['Hour']>=12) & (chicago['Hour']<14)]\n",
    "afternoon_start = chicago[(chicago['Hour']>=14) & (chicago['Hour']<17)]\n",
    "evening_start = chicago[(chicago['Hour']>=17) & (chicago['Hour']<21)]\n",
    "night_start = chicago[((chicago['Hour']>=21) & (chicago['Hour']<24)) | ((chicago['Hour']>=0) & (chicago['Hour']<6))]"
   ]
  },
  {
   "cell_type": "code",
   "execution_count": null,
   "metadata": {},
   "outputs": [],
   "source": [
    "fig,ax = plt.subplots(figsize=(8,4))\n",
    "\n",
    "ax.bar(start_hours['Time_Period'],start_hours['Rides'])\n",
    "ax.set_xlabel(\"Time Period\")\n",
    "ax.set_ylabel(\"Number of Rides\")\n",
    "ax.set_title(\"Number of Rides throughout a day\")\n",
    "\n",
    "plt.show()"
   ]
  },
  {
   "cell_type": "markdown",
   "metadata": {},
   "source": [
    "Zur besseren Übersicht haben wir den Tag in Zeitzonen eingteilt:\n",
    "* Morgen (von 6:00 bis 10:00 Uhr)\n",
    "* Vormittag (von 10:00 bis 12:00 Uhr)\n",
    "* Mittag (von 12:00 bis 14:00 Uhr)\n",
    "* Nachmittag (von 14:00 bis 17:00 Uhr)\n",
    "* Abend (von 17:00 bis 21:00 Uhr)\n",
    "* Nacht (von 21:00 bis 06:00 Uhr)\n",
    "\n",
    "Am Diagramm lässt sich erkennen, dass die meißten Fahrten am Abend getätigt werden. Im Morgen sowie am Nachmittag lassen sich ungefähr gleich viele Fahrten beobachten. Hier lassen sich die Stoßzeiten erkennen.\n",
    "Die wenigsten Fahrten finden am Vormittag, Mittag und in der Nacht statt."
   ]
  },
  {
   "cell_type": "markdown",
   "metadata": {},
   "source": [
    "## Fahrten unter der Woche pro Tag"
   ]
  },
  {
   "cell_type": "code",
   "execution_count": 5,
   "metadata": {},
   "outputs": [
    {
     "ename": "NameError",
     "evalue": "name 'chicago' is not defined",
     "output_type": "error",
     "traceback": [
      "\u001b[1;31m---------------------------------------------------------------------------\u001b[0m",
      "\u001b[1;31mNameError\u001b[0m                                 Traceback (most recent call last)",
      "\u001b[1;32m<ipython-input-5-46b810bf3086>\u001b[0m in \u001b[0;36m<module>\u001b[1;34m\u001b[0m\n\u001b[1;32m----> 1\u001b[1;33m \u001b[0mmontag\u001b[0m \u001b[1;33m=\u001b[0m \u001b[0mchicago\u001b[0m\u001b[1;33m[\u001b[0m\u001b[0mchicago\u001b[0m\u001b[1;33m[\u001b[0m\u001b[1;34m\"Weekday\"\u001b[0m\u001b[1;33m]\u001b[0m\u001b[1;33m==\u001b[0m\u001b[1;36m0\u001b[0m\u001b[1;33m]\u001b[0m\u001b[1;33m.\u001b[0m\u001b[0msize\u001b[0m\u001b[1;33m\u001b[0m\u001b[1;33m\u001b[0m\u001b[0m\n\u001b[0m\u001b[0;32m      2\u001b[0m \u001b[0mdienstag\u001b[0m \u001b[1;33m=\u001b[0m \u001b[0mchicago\u001b[0m\u001b[1;33m[\u001b[0m\u001b[0mchicago\u001b[0m\u001b[1;33m[\u001b[0m\u001b[1;34m\"Weekday\"\u001b[0m\u001b[1;33m]\u001b[0m\u001b[1;33m==\u001b[0m\u001b[1;36m1\u001b[0m\u001b[1;33m]\u001b[0m\u001b[1;33m.\u001b[0m\u001b[0msize\u001b[0m\u001b[1;33m\u001b[0m\u001b[1;33m\u001b[0m\u001b[0m\n\u001b[0;32m      3\u001b[0m \u001b[0mmittwoch\u001b[0m \u001b[1;33m=\u001b[0m \u001b[0mchicago\u001b[0m\u001b[1;33m[\u001b[0m\u001b[0mchicago\u001b[0m\u001b[1;33m[\u001b[0m\u001b[1;34m\"Weekday\"\u001b[0m\u001b[1;33m]\u001b[0m\u001b[1;33m==\u001b[0m\u001b[1;36m2\u001b[0m\u001b[1;33m]\u001b[0m\u001b[1;33m.\u001b[0m\u001b[0msize\u001b[0m\u001b[1;33m\u001b[0m\u001b[1;33m\u001b[0m\u001b[0m\n\u001b[0;32m      4\u001b[0m \u001b[0mdonnerstag\u001b[0m \u001b[1;33m=\u001b[0m \u001b[0mchicago\u001b[0m\u001b[1;33m[\u001b[0m\u001b[0mchicago\u001b[0m\u001b[1;33m[\u001b[0m\u001b[1;34m\"Weekday\"\u001b[0m\u001b[1;33m]\u001b[0m\u001b[1;33m==\u001b[0m\u001b[1;36m3\u001b[0m\u001b[1;33m]\u001b[0m\u001b[1;33m.\u001b[0m\u001b[0msize\u001b[0m\u001b[1;33m\u001b[0m\u001b[1;33m\u001b[0m\u001b[0m\n\u001b[0;32m      5\u001b[0m \u001b[0mfreitag\u001b[0m \u001b[1;33m=\u001b[0m \u001b[0mchicago\u001b[0m\u001b[1;33m[\u001b[0m\u001b[0mchicago\u001b[0m\u001b[1;33m[\u001b[0m\u001b[1;34m\"Weekday\"\u001b[0m\u001b[1;33m]\u001b[0m\u001b[1;33m==\u001b[0m\u001b[1;36m4\u001b[0m\u001b[1;33m]\u001b[0m\u001b[1;33m.\u001b[0m\u001b[0msize\u001b[0m\u001b[1;33m\u001b[0m\u001b[1;33m\u001b[0m\u001b[0m\n",
      "\u001b[1;31mNameError\u001b[0m: name 'chicago' is not defined"
     ]
    }
   ],
   "source": [
    "montag = chicago[chicago[\"Weekday\"]==0].size\n",
    "dienstag = chicago[chicago[\"Weekday\"]==1].size\n",
    "mittwoch = chicago[chicago[\"Weekday\"]==2].size\n",
    "donnerstag = chicago[chicago[\"Weekday\"]==3].size\n",
    "freitag = chicago[chicago[\"Weekday\"]==4].size\n",
    "samstag = chicago[chicago[\"Weekday\"]==5].size\n",
    "sonntag = chicago[chicago[\"Weekday\"]==6].size\n",
    "\n",
    "print(montag)\n",
    "print(dienstag)\n",
    "print(mittwoch)\n",
    "print(donnerstag)\n",
    "print(freitag)\n",
    "print(samstag)\n",
    "print(sonntag)\n",
    "\n",
    "weekdaysize = pd.DataFrame({'Weekday': ['monday', 'tuesday', 'wednesday', 'thursday', 'friday', 'saturday', 'sunday'], 'Rides': [montag, dienstag, mittwoch, donnerstag, freitag, samstag, sonntag]})"
   ]
  },
  {
   "cell_type": "code",
   "execution_count": null,
   "metadata": {},
   "outputs": [],
   "source": [
    "fig,ax = plt.subplots(figsize=(8,4))\n",
    "\n",
    "\n",
    "ax.bar(weekly_rides['weekday'], weekly_rides['rides'] )\n",
    "ax.set_xlabel(\"Weekday\")\n",
    "ax.set_ylabel(\"Number of Rides\")\n",
    "ax.set_title(\"Number of Rides throughout a week\")"
   ]
  },
  {
   "cell_type": "markdown",
   "metadata": {},
   "source": [
    "Wir unterteilen die Woche in die heute gebräuchlichen Wochentage Montag bis Sonntag.\n",
    "\n",
    "Montags, Deenstags und Freitags sind die Tage an denen verhältnismäßig die meißten Fahrten getätigt werden. Ein außergewöhnlich hoher oder niedriger Gebrauch kann an keinem der Tage festgestellt werden.\n",
    "\n",
    "Unterteilen wir die Woche hier ebenfalls noch in Arbeitswoche (Montag bis Freitag) und Wochenende (Samstag bis Sonntag), lässt sich hier ebenfalls kein erhöhter Gebrauch am Wochenende erkennen. Im Gegenteil, die Tage am Wochenende gehören sogar zu den Tagen mit verhältnismäßig geringem Verbrauch."
   ]
  },
  {
   "cell_type": "markdown",
   "metadata": {},
   "source": [
    "## Fahrten unter der Woche pro Tageszeit"
   ]
  },
  {
   "cell_type": "code",
   "execution_count": null,
   "metadata": {},
   "outputs": [],
   "source": [
    "# Fahrten am Morgen innerhalb einer Woche\n",
    "morning_monday = morning_start[morning_start['weekday']==0]\n",
    "morning_tuesday = morning_start[morning_start['weekday']==1]\n",
    "morning_wednesday = morning_start[morning_start['weekday']==2]\n",
    "morning_thursday = morning_start[morning_start['weekday']==3]\n",
    "morning_friday = morning_start[morning_start['weekday']==4]\n",
    "morning_saturday = morning_start[morning_start['weekday']==5]\n",
    "morning_sunday =  morning_start[morning_start['weekday']==6]\n",
    "morning_rides = np.array([morning_monday['start_hour'].size, morning_tuesday['start_hour'].size, morning_wednesday['start_hour'].size,  morning_thursday['start_hour'].size,  morning_friday['start_hour'].size,  morning_saturday['start_hour'].size,  morning_sunday['start_hour'].size])"
   ]
  },
  {
   "cell_type": "code",
   "execution_count": null,
   "metadata": {},
   "outputs": [],
   "source": [
    "# Fahrten am Vormittag innerhalb einer Woche\n",
    "midmorning_monday = mid_morning_start[mid_morning_start['weekday']==0]\n",
    "midmorning_tuesday = mid_morning_start[mid_morning_start['weekday']==1]\n",
    "midmorning_wednesday = mid_morning_start[mid_morning_start['weekday']==2]\n",
    "midmorning_thursday = mid_morning_start[mid_morning_start['weekday']==3]\n",
    "midmorning_friday = mid_morning_start[mid_morning_start['weekday']==4]\n",
    "midmorning_saturday = mid_morning_start[mid_morning_start['weekday']==5]\n",
    "midmorning_sunday =  mid_morning_start[mid_morning_start['weekday']==6]\n",
    "midmorning_rides = np.array([midmorning_monday['start_hour'].size, midmorning_tuesday['start_hour'].size, midmorning_wednesday['start_hour'].size,  midmorning_thursday['start_hour'].size,  midmorning_friday['start_hour'].size,  midmorning_saturday['start_hour'].size,  midmorning_sunday['start_hour'].size])"
   ]
  },
  {
   "cell_type": "code",
   "execution_count": null,
   "metadata": {},
   "outputs": [],
   "source": [
    "# Fahrten am Mittag innerhalb einer Woche\n",
    "noon_monday = noon_start[noon_start['weekday']==0]\n",
    "noon_tuesday = noon_start[noon_start['weekday']==1]\n",
    "noon_wednesday = noon_start[noon_start['weekday']==2]\n",
    "noon_thursday = noon_start[noon_start['weekday']==3]\n",
    "noon_friday = noon_start[noon_start['weekday']==4]\n",
    "noon_saturday = noon_start[noon_start['weekday']==5]\n",
    "noon_sunday =  noon_start[noon_start['weekday']==6]\n",
    "noon_rides = np.array([noon_monday['start_hour'].size, noon_tuesday['start_hour'].size, noon_wednesday['start_hour'].size,  noon_thursday['start_hour'].size,  noon_friday['start_hour'].size, noon_saturday['start_hour'].size, noon_sunday['start_hour'].size])"
   ]
  },
  {
   "cell_type": "code",
   "execution_count": null,
   "metadata": {},
   "outputs": [],
   "source": [
    "# Fahrten am Nachmittag innerhalb einer Woche\n",
    "afternoon_monday = afternoon_start[afternoon_start['weekday']==0]\n",
    "afternoon_tuesday = afternoon_start[afternoon_start['weekday']==1]\n",
    "afternoon_wednesday = afternoon_start[afternoon_start['weekday']==2]\n",
    "afternoon_thursday = afternoon_start[afternoon_start['weekday']==3]\n",
    "afternoon_friday = afternoon_start[afternoon_start['weekday']==4]\n",
    "afternoon_saturday = afternoon_start[afternoon_start['weekday']==5]\n",
    "afternoon_sunday =  afternoon_start[afternoon_start['weekday']==6]\n",
    "afternoon_rides = np.array([afternoon_monday['start_hour'].size, afternoon_tuesday['start_hour'].size, afternoon_wednesday['start_hour'].size,  afternoon_thursday['start_hour'].size,  afternoon_friday['start_hour'].size, afternoon_saturday['start_hour'].size, afternoon_sunday['start_hour'].size])"
   ]
  },
  {
   "cell_type": "code",
   "execution_count": null,
   "metadata": {},
   "outputs": [],
   "source": [
    "# Fahrten am Abend innerhalb einer Woche\n",
    "evening_monday = evening_start[evening_start['weekday']==0]\n",
    "evening_tuesday = evening_start[evening_start['weekday']==1]\n",
    "evening_wednesday = evening_start[evening_start['weekday']==2]\n",
    "evening_thursday = evening_start[evening_start['weekday']==3]\n",
    "evening_friday = evening_start[evening_start['weekday']==4]\n",
    "evening_saturday = evening_start[evening_start['weekday']==5]\n",
    "evening_sunday =  evening_start[evening_start['weekday']==6]\n",
    "evening_rides = np.array([evening_monday['start_hour'].size, evening_tuesday['start_hour'].size, evening_wednesday['start_hour'].size,  evening_thursday['start_hour'].size,  evening_friday['start_hour'].size, evening_saturday['start_hour'].size, evening_sunday['start_hour'].size])"
   ]
  },
  {
   "cell_type": "code",
   "execution_count": null,
   "metadata": {},
   "outputs": [],
   "source": [
    "# nächtliche Fahrten innerhalb einer Woche\n",
    "night_monday = night_start[night_start['weekday']==0]\n",
    "night_tuesday = night_start[night_start['weekday']==1]\n",
    "night_wednesday = night_start[night_start['weekday']==2]\n",
    "night_thursday = night_start[night_start['weekday']==3]\n",
    "night_friday = night_start[night_start['weekday']==4]\n",
    "night_saturday = night_start[night_start['weekday']==5]\n",
    "night_sunday =  night_start[night_start['weekday']==6]\n",
    "night_rides = np.array([night_monday['start_hour'].size, night_tuesday['start_hour'].size, night_wednesday['start_hour'].size,  night_thursday['start_hour'].size,  night_friday['start_hour'].size, night_saturday['start_hour'].size, night_sunday['start_hour'].size])"
   ]
  },
  {
   "cell_type": "code",
   "execution_count": null,
   "metadata": {},
   "outputs": [],
   "source": [
    "fig,ax = plt.subplots(figsize=(8,4))\n",
    "weekly_rides_morning =pd.Series([morning_start[morning_start['weekday']==0].size, morning_start[morning_start['weekday']==1].size])\n",
    "weekdays= ['Monday','Tuesday','Wednesday','Thursday','Friday','Saturday','Sunday']\n",
    "data = np.array([morning_rides, midmorning_rides, noon_rides, afternoon_rides, evening_rides, night_rides])\n",
    "color_list = ['b', 'g', 'r', 'c', 'm', 'y']\n",
    "\n",
    "for i in range(data.shape[0]):\n",
    "  plt.bar(weekdays, data[i],\n",
    "    bottom = np.sum(data[:i], axis = 0),\n",
    "    color = color_list[i % len(color_list)])\n",
    "\n",
    "ax.set_xlabel(\"Weekday\")\n",
    "ax.set_ylabel(\"Number of Rides\")\n",
    "ax.set_title(\"Number of Rides throughout a week and different timeperiods of a day\")\n",
    "\n",
    "plt.show()"
   ]
  },
  {
   "cell_type": "markdown",
   "metadata": {},
   "source": [
    "In dieser Übersicht haben wir die Diagramme der Fahrten über den Tag und der Fahrten unter der Woche in einem \"Stacked Bar Chart\" zusammengefasst.\n",
    "\n",
    "Während die Zeitverteilung unter der Arbeitswoche sowie an den Tagen des Wochenendes jeweils sehr ähnliche Strukturen aufzeigen, lassen sich hier nun doch Unterschiede zwischen diesen erkennen. \n",
    "\n",
    "Im Vergleich zur Arbeitswoche ist der Gebrauch am Wochenende am Morgen deutlich geringer:"
   ]
  },
  {
   "cell_type": "code",
   "execution_count": null,
   "metadata": {},
   "outputs": [],
   "source": [
    "fig,ax = plt.subplots(figsize=(8,4))\n",
    "weekly_rides_morning =pd.Series([morning_start[morning_start['weekday']==0].size, morning_start[morning_start['weekday']==1].size])\n",
    "weekdays= ['Monday','Tuesday','Wednesday','Thursday','Friday','Saturday','Sunday']\n",
    "data = np.array([morning_rides, midmorning_rides, noon_rides, afternoon_rides, evening_rides, night_rides])\n",
    "color_list = ['b', 'g', 'r', 'c', 'm', 'y']\n",
    "\n",
    "for i in range(data.shape[0]):\n",
    "  plt.bar(weekdays, data[i],\n",
    "    bottom = np.sum(data[:i], axis = 0),\n",
    "    color = color_list[i % len(color_list)])\n",
    "\n",
    "ax.set_xlabel(\"Weekday\")\n",
    "ax.set_ylabel(\"Number of Rides\")\n",
    "ax.set_title(\"Number of Rides throughout a week and different timeperiods of a day\")\n",
    "\n",
    "plt.show()"
   ]
  },
  {
   "cell_type": "code",
   "execution_count": null,
   "metadata": {},
   "outputs": [],
   "source": [
    "print(weekmorning)\n",
    "fig,ax = plt.subplots(figsize=(8,4))\n",
    "\n",
    "ax.bar(weekmorning[\"Weekday\"], weekmorning[\"Rides\"])\n",
    "ax.set_xlabel(\"weekday\")\n",
    "ax.set_ylabel(\"Number of Rides\")\n",
    "ax.set_title(\"Number of Rides on different days in the morning\")\n",
    "\n",
    "plt.show()"
   ]
  },
  {
   "cell_type": "markdown",
   "metadata": {},
   "source": [
    "Im Gegensatz dazu ist er am Vormittag und Mittag höher. \n",
    "Auch am Nachmittag lässt sich ein erhöhter Gebrauch feststellen. Dieser lässt sich bereits am Freitag erkennen.\n",
    "Der Gebrauch am Abend ist am Wochenende hingegen wieder geringer.\n",
    "In der Nacht lassen sich keine größeren Unterschiede erkennen."
   ]
  },
  {
   "cell_type": "markdown",
   "metadata": {},
   "source": [
    "### Teilnehmer (Subscriber)"
   ]
  },
  {
   "cell_type": "code",
   "execution_count": null,
   "metadata": {},
   "outputs": [],
   "source": [
    "#Subscriber\n",
    "morning_start_sub = chicago[(chicago['Hour']>=6) & (chicago['Hour']<10) & (chicago['user_type']=='Subscriber')]\n",
    "mid_morning_start_sub = chicago[(chicago['Hour']>=10) & (chicago['Hour']<12)& (chicago['user_type']=='Subscriber')]\n",
    "noon_start_sub = chicago[(chicago['Hour']>=12) & (chicago['Hour']<14)& (chicago['user_type']=='Subscriber')]\n",
    "afternoon_start_sub = chicago[(chicago['Hour']>=14) & (chicago['Hour']<17)& (chicago['user_type']=='Subscriber')]\n",
    "evening_start_sub = chicago[(chicago['Hour']>=17) & (chicago['Hour']<21)& (chicago['user_type']=='Subscriber')]\n",
    "night_start_sub = chicago[((chicago['Hour']>=21) &  (chicago['user_type']=='Subscriber') &(chicago['Hour']<24)) | ((chicago['Hour']>=0) & (chicago['Hour']<6))]\n",
    "#Customer\n",
    "morning_start_cust = chicago[(chicago['Hour']>=6) & (chicago['Hour']<10) & (chicago['user_type']=='Customer')]\n",
    "mid_morning_start_cust = chicago[(chicago['Hour']>=10) & (chicago['Hour']<12)& (chicago['user_type']=='Customer')]\n",
    "noon_start_cust = chicago[(chicago['Hour']>=12) & (chicago['Hour']<14)& (chicago['user_type']=='Customer')]\n",
    "afternoon_start_cust = chicago[(chicago['Hour']>=14) & (chicago['Hour']<17)& (chicago['user_type']=='Customer')]\n",
    "evening_start_cust = chicago[(chicago['Hour']>=17) & (chicago['Hour']<21)& (chicago['user_type']=='Customer')]\n",
    "night_start_cust = chicago[((chicago['Hour']>=21) &  (chicago['user_type']=='Customer') &(chicago['Hour']<24)) | ((chicago['Hour']>=0) & (chicago['Hour']<6))]\n",
    "cust = chicago[chicago['user_type']=='Customer']\n",
    "sub = chicago[chicago['user_type']=='Subscriber']\n",
    "print(cust['start_time'].size)\n",
    "print(sub['start_time'].size)"
   ]
  },
  {
   "cell_type": "code",
   "execution_count": null,
   "metadata": {},
   "outputs": [],
   "source": [
    "#SUBSCRIBER\n",
    "# Fahrten am Morgen innerhalb einer Woche\n",
    "morning_monday_sub = morning_start_sub[morning_start_sub['Weekday']==0]\n",
    "morning_tuesday_sub = morning_start_sub[morning_start_sub['Weekday']==1]\n",
    "morning_wednesday_sub = morning_start_sub[morning_start_sub['Weekday']==2]\n",
    "morning_thursday_sub = morning_start_sub[morning_start_sub['Weekday']==3]\n",
    "morning_friday_sub = morning_start_sub[morning_start_sub['Weekday']==4]\n",
    "morning_saturday_sub = morning_start_sub[morning_start_sub['Weekday']==5]\n",
    "morning_sunday_sub =  morning_start_sub[morning_start_sub['Weekday']==6]\n",
    "morning_rides_sub = np.array([morning_monday_sub['Hour'].size, morning_tuesday_sub['Hour'].size, morning_wednesday_sub['Hour'].size,  morning_thursday_sub['Hour'].size,  morning_friday_sub['Hour'].size,  morning_saturday_sub['Hour'].size,  morning_sunday_sub['Hour'].size])\n",
    "\n",
    "# Fahrten am Vormittag innerhalb einer Woche\n",
    "midmorning_monday_sub = mid_morning_start_sub[mid_morning_start_sub['Weekday']==0]\n",
    "midmorning_tuesday_sub = mid_morning_start_sub[mid_morning_start_sub['Weekday']==1]\n",
    "midmorning_wednesday_sub = mid_morning_start_sub[mid_morning_start_sub['Weekday']==2]\n",
    "midmorning_thursday_sub = mid_morning_start_sub[mid_morning_start_sub['Weekday']==3]\n",
    "midmorning_friday_sub = mid_morning_start_sub[mid_morning_start_sub['Weekday']==4]\n",
    "midmorning_saturday_sub = mid_morning_start_sub[mid_morning_start_sub['Weekday']==5]\n",
    "midmorning_sunday_sub =  mid_morning_start_sub[mid_morning_start_sub['Weekday']==6]\n",
    "midmorning_rides_sub = np.array([midmorning_monday_sub['Hour'].size, midmorning_tuesday_sub['Hour'].size, midmorning_wednesday_sub['Hour'].size,  midmorning_thursday_sub['Hour'].size,  midmorning_friday_sub['Hour'].size,  midmorning_saturday_sub['Hour'].size,  midmorning_sunday_sub['Hour'].size])\n",
    "\n",
    "# Fahrten am Mittag innerhalb einer Woche\n",
    "noon_monday_sub = noon_start_sub[noon_start_sub['Weekday']==0]\n",
    "noon_tuesday_sub = noon_start_sub[noon_start_sub['Weekday']==1]\n",
    "noon_wednesday_sub = noon_start_sub[noon_start_sub['Weekday']==2]\n",
    "noon_thursday_sub = noon_start_sub[noon_start_sub['Weekday']==3]\n",
    "noon_friday_sub = noon_start_sub[noon_start_sub['Weekday']==4]\n",
    "noon_saturday_sub = noon_start_sub[noon_start_sub['Weekday']==5]\n",
    "noon_sunday_sub =  noon_start_sub[noon_start_sub['Weekday']==6]\n",
    "noon_rides_sub = np.array([noon_monday_sub['Hour'].size, noon_tuesday_sub['Hour'].size, noon_wednesday_sub['Hour'].size,  noon_thursday_sub['Hour'].size,  noon_friday_sub['Hour'].size, noon_saturday_sub['Hour'].size, noon_sunday_sub['Hour'].size])\n",
    "\n",
    "# Fahrten am Nachmittag innerhalb einer Woche\n",
    "afternoon_monday_sub = afternoon_start_sub[afternoon_start_sub['Weekday']==0]\n",
    "afternoon_tuesday_sub = afternoon_start_sub[afternoon_start_sub['Weekday']==1]\n",
    "afternoon_wednesday_sub = afternoon_start_sub[afternoon_start_sub['Weekday']==2]\n",
    "afternoon_thursday_sub = afternoon_start_sub[afternoon_start_sub['Weekday']==3]\n",
    "afternoon_friday_sub = afternoon_start_sub[afternoon_start_sub['Weekday']==4]\n",
    "afternoon_saturday_sub = afternoon_start_sub[afternoon_start_sub['Weekday']==5]\n",
    "afternoon_sunday_sub =  afternoon_start_sub[afternoon_start_sub['Weekday']==6]\n",
    "afternoon_rides_sub = np.array([afternoon_monday_sub['Hour'].size, afternoon_tuesday_sub['Hour'].size, afternoon_wednesday_sub['Hour'].size,  afternoon_thursday_sub['Hour'].size,  afternoon_friday_sub['Hour'].size, afternoon_saturday_sub['Hour'].size, afternoon_sunday_sub['Hour'].size])\n",
    "\n",
    "# Fahrten am Abend innerhalb einer Woche\n",
    "evening_monday_sub = evening_start_sub[evening_start_sub['Weekday']==0]\n",
    "evening_tuesday_sub = evening_start_sub[evening_start_sub['Weekday']==1]\n",
    "evening_wednesday_sub = evening_start_sub[evening_start_sub['Weekday']==2]\n",
    "evening_thursday_sub = evening_start_sub[evening_start_sub['Weekday']==3]\n",
    "evening_friday_sub = evening_start_sub[evening_start_sub['Weekday']==4]\n",
    "evening_saturday_sub = evening_start_sub[evening_start_sub['Weekday']==5]\n",
    "evening_sunday_sub =  evening_start_sub[evening_start_sub['Weekday']==6]\n",
    "evening_rides_sub = np.array([evening_monday_sub['Hour'].size, evening_tuesday_sub['Hour'].size, evening_wednesday_sub['Hour'].size,  evening_thursday_sub['Hour'].size,  evening_friday_sub['Hour'].size, evening_saturday_sub['Hour'].size, evening_sunday_sub['Hour'].size])\n",
    "\n",
    "# nächtliche Fahrten innerhalb einer Woche\n",
    "night_monday_sub = night_start_sub[night_start_sub['Weekday']==0]\n",
    "night_tuesday_sub = night_start_sub[night_start_sub['Weekday']==1]\n",
    "night_wednesday_sub = night_start_sub[night_start_sub['Weekday']==2]\n",
    "night_thursday_sub = night_start_sub[night_start_sub['Weekday']==3]\n",
    "night_friday_sub = night_start_sub[night_start_sub['Weekday']==4]\n",
    "night_saturday_sub = night_start_sub[night_start_sub['Weekday']==5]\n",
    "night_sunday_sub =  night_start_sub[night_start_sub['Weekday']==6]\n",
    "night_rides_sub = np.array([night_monday_sub['Hour'].size, night_tuesday_sub['Hour'].size, night_wednesday_sub['Hour'].size,  night_thursday_sub['Hour'].size,  night_friday_sub['Hour'].size, night_saturday_sub['Hour'].size, night_sunday_sub['Hour'].size])"
   ]
  },
  {
   "cell_type": "code",
   "execution_count": null,
   "metadata": {},
   "outputs": [],
   "source": [
    "# Graph der die Anzahl der Fahrten innerhalb einer Woche und in verschiedenen Zeitperioden darstellt \n",
    "fig,ax = plt.subplots(figsize=(8,4))\n",
    "weekdays_sub= ['Monday','Tuesday','Wednesday','Thursday','Friday','Saturday','Sunday']\n",
    "data = np.array([morning_rides_sub, midmorning_rides_sub, noon_rides_sub, afternoon_rides_sub, evening_rides_sub, night_rides_sub])\n",
    "color_list = ['b', 'g', 'r', 'c', 'm', 'y']\n",
    "for i in range(data.shape[0]):\n",
    "  plt.bar(weekdays_sub, data[i],\n",
    "    bottom = np.sum(data[:i], axis = 0),\n",
    "    color = color_list[i % len(color_list)])\n",
    "\n",
    "ax.set_xlabel(\"Weekday\")\n",
    "ax.set_ylabel(\"Number of Rides\")\n",
    "ax.set_title(\"Number of Rides throughout a week and different timeperiods of a day of Subscribers\")"
   ]
  },
  {
   "cell_type": "markdown",
   "metadata": {},
   "source": [
    "Auch hier ist ein klares Muster zu erkennen.\n",
    "Der Gebrauch von Subscribern ist unter der Woche höher als am Wochenende. Das liegt vor allem an dem deutlich höheren Gebrauch unter der Woche am Morgen und am Abend."
   ]
  },
  {
   "cell_type": "markdown",
   "metadata": {},
   "source": [
    "### Kunde (Customer)"
   ]
  },
  {
   "cell_type": "code",
   "execution_count": null,
   "metadata": {},
   "outputs": [],
   "source": [
    "#CUSTOMER\n",
    "# Fahrten am Morgen innerhalb einer Woche\n",
    "morning_monday_cust = morning_start_cust[morning_start_cust['Weekday']==0]\n",
    "morning_tuesday_cust = morning_start_cust[morning_start_cust['Weekday']==1]\n",
    "morning_wednesday_cust = morning_start_cust[morning_start_cust['Weekday']==2]\n",
    "morning_thursday_cust = morning_start_cust[morning_start_cust['Weekday']==3]\n",
    "morning_friday_cust = morning_start_cust[morning_start_cust['Weekday']==4]\n",
    "morning_saturday_cust = morning_start_cust[morning_start_cust['Weekday']==5]\n",
    "morning_sunday_cust =  morning_start_cust[morning_start_cust['Weekday']==6]\n",
    "morning_rides_cust = np.array([morning_monday_cust['Hour'].size, morning_tuesday_cust['Hour'].size, morning_wednesday_cust['Hour'].size,  morning_thursday_cust['Hour'].size,  morning_friday_cust['Hour'].size,  morning_saturday_cust['Hour'].size,  morning_sunday_cust['Hour'].size])\n",
    "\n",
    "# Fahrten am Vormittag innerhalb einer Woche\n",
    "midmorning_monday_cust = mid_morning_start_cust[mid_morning_start_cust['Weekday']==0]\n",
    "midmorning_tuesday_cust = mid_morning_start_cust[mid_morning_start_cust['Weekday']==1]\n",
    "midmorning_wednesday_cust = mid_morning_start_cust[mid_morning_start_cust['Weekday']==2]\n",
    "midmorning_thursday_cust = mid_morning_start_cust[mid_morning_start_cust['Weekday']==3]\n",
    "midmorning_friday_cust = mid_morning_start_cust[mid_morning_start_cust['Weekday']==4]\n",
    "midmorning_saturday_cust = mid_morning_start_cust[mid_morning_start_cust['Weekday']==5]\n",
    "midmorning_sunday_cust =  mid_morning_start_cust[mid_morning_start_cust['Weekday']==6]\n",
    "midmorning_rides_cust = np.array([midmorning_monday_cust['Hour'].size, midmorning_tuesday_cust['Hour'].size, midmorning_wednesday_cust['Hour'].size,  midmorning_thursday_cust['Hour'].size,  midmorning_friday_cust['Hour'].size,  midmorning_saturday_cust['Hour'].size,  midmorning_sunday_cust['Hour'].size])\n",
    "\n",
    "# Fahrten am Mittag innerhalb einer Woche\n",
    "noon_monday_cust = noon_start_cust[noon_start_cust['Weekday']==0]\n",
    "noon_tuesday_cust = noon_start_cust[noon_start_cust['Weekday']==1]\n",
    "noon_wednesday_cust = noon_start_cust[noon_start_cust['Weekday']==2]\n",
    "noon_thursday_cust = noon_start_cust[noon_start_cust['Weekday']==3]\n",
    "noon_friday_cust = noon_start_cust[noon_start_cust['Weekday']==4]\n",
    "noon_saturday_cust = noon_start_cust[noon_start_cust['Weekday']==5]\n",
    "noon_sunday_cust =  noon_start_cust[noon_start_cust['Weekday']==6]\n",
    "noon_rides_cust = np.array([noon_monday_cust['Hour'].size, noon_tuesday_cust['Hour'].size, noon_wednesday_cust['Hour'].size,  noon_thursday_cust['Hour'].size,  noon_friday_cust['Hour'].size, noon_saturday_cust['Hour'].size, noon_sunday_cust['Hour'].size])\n",
    "\n",
    "# Fahrten am Nachmittag innerhalb einer Woche\n",
    "afternoon_monday_cust = afternoon_start_cust[afternoon_start_cust['Weekday']==0]\n",
    "afternoon_tuesday_cust = afternoon_start_cust[afternoon_start_cust['Weekday']==1]\n",
    "afternoon_wednesday_cust = afternoon_start_cust[afternoon_start_cust['Weekday']==2]\n",
    "afternoon_thursday_cust = afternoon_start_cust[afternoon_start_cust['Weekday']==3]\n",
    "afternoon_friday_cust = afternoon_start_cust[afternoon_start_cust['Weekday']==4]\n",
    "afternoon_saturday_cust = afternoon_start_cust[afternoon_start_cust['Weekday']==5]\n",
    "afternoon_sunday_cust =  afternoon_start_cust[afternoon_start_cust['Weekday']==6]\n",
    "afternoon_rides_cust = np.array([afternoon_monday_cust['Hour'].size, afternoon_tuesday_cust['Hour'].size, afternoon_wednesday_cust['Hour'].size,  afternoon_thursday_cust['Hour'].size,  afternoon_friday_cust['Hour'].size, afternoon_saturday_cust['Hour'].size, afternoon_sunday_cust['Hour'].size])\n",
    "\n",
    "# Fahrten am Abend innerhalb einer Woche\n",
    "evening_monday_cust = evening_start_cust[evening_start_cust['Weekday']==0]\n",
    "evening_tuesday_cust = evening_start_cust[evening_start_cust['Weekday']==1]\n",
    "evening_wednesday_cust = evening_start_cust[evening_start_cust['Weekday']==2]\n",
    "evening_thursday_cust = evening_start_cust[evening_start_cust['Weekday']==3]\n",
    "evening_friday_cust = evening_start_cust[evening_start_cust['Weekday']==4]\n",
    "evening_saturday_cust = evening_start_cust[evening_start_cust['Weekday']==5]\n",
    "evening_sunday_cust =  evening_start_cust[evening_start_cust['Weekday']==6]\n",
    "evening_rides_cust = np.array([evening_monday_cust['Hour'].size, evening_tuesday_cust['Hour'].size, evening_wednesday_cust['Hour'].size,  evening_thursday_cust['Hour'].size,  evening_friday_cust['Hour'].size, evening_saturday_cust['Hour'].size, evening_sunday_cust['Hour'].size])\n",
    "\n",
    "# nächtliche Fahrten innerhalb einer Woche\n",
    "night_monday_cust = night_start_cust[night_start_cust['Weekday']==0]\n",
    "night_tuesday_cust = night_start_cust[night_start_cust['Weekday']==1]\n",
    "night_wednesday_cust = night_start_cust[night_start_cust['Weekday']==2]\n",
    "night_thursday_cust = night_start_cust[night_start_cust['Weekday']==3]\n",
    "night_friday_cust = night_start_cust[night_start_cust['Weekday']==4]\n",
    "night_saturday_cust = night_start_cust[night_start_cust['Weekday']==5]\n",
    "night_sunday_cust =  night_start_cust[night_start_cust['Weekday']==6]\n",
    "night_rides_cust = np.array([night_monday_cust['Hour'].size, night_tuesday_cust['Hour'].size, night_wednesday_cust['Hour'].size,  night_thursday_cust['Hour'].size,  night_friday_cust['Hour'].size, night_saturday_cust['Hour'].size, night_sunday_cust['Hour'].size])"
   ]
  },
  {
   "cell_type": "code",
   "execution_count": null,
   "metadata": {},
   "outputs": [],
   "source": [
    "# Graph der die Anzahl der Fahrten innerhalb einer Woche und in verschiedenen Zeitperioden darstellt \n",
    "fig,ax = plt.subplots(figsize=(8,4))\n",
    "weekdays_cust= ['Monday','Tuesday','Wednesday','Thursday','Friday','Saturday','Sunday']\n",
    "data = np.array([morning_rides_cust, midmorning_rides_cust, noon_rides_cust, afternoon_rides_cust, evening_rides_cust, night_rides_cust])\n",
    "color_list = ['b', 'g', 'r', 'c', 'm', 'y']\n",
    "for i in range(data.shape[0]):\n",
    "  plt.bar(weekdays_cust, data[i],\n",
    "    bottom = np.sum(data[:i], axis = 0),\n",
    "    color = color_list[i % len(color_list)])\n",
    "\n",
    "ax.set_xlabel(\"Weekday\")\n",
    "ax.set_ylabel(\"Number of Rides\")\n",
    "ax.set_title(\"Number of Rides throughout a week and different timeperiods of a day of Customers\")\n",
    "\n",
    "\n",
    "plt.show()"
   ]
  },
  {
   "cell_type": "markdown",
   "metadata": {},
   "source": [
    "Bei den Customern sieht dies klar anders aus. Der Gebrach am Wochenende ist hier deutlich höher als unter der Woche. Während am Morgen und in der nacht kaum Unterschiede zu erkennen sind, ist der Gebrauch in den restlichen Tageszeiten am Wochenende angestiegen.\n",
    "Ein weiteres Muster ist im  Gebrauch unter der Woche zu erkennen. So ist dieser in der Mitte der Woche am Mittwoch am niedrigsten. Zum Wochenende hin steigt er in beide Richtungen wieder an, sodass der Gebrauch unter der Woche am Montag und Freitag am höchsten ist. "
   ]
  },
  {
   "cell_type": "markdown",
   "metadata": {},
   "source": [
    "### Vergleich Subscriber und Customer"
   ]
  },
  {
   "cell_type": "markdown",
   "metadata": {},
   "source": [
    "Um Subscriber und Customer zu vergleichen müssen wir berücksichtigen, dass die Anzahl der Subscriber deutlich Größer ist, als die der Customer."
   ]
  },
  {
   "cell_type": "code",
   "execution_count": null,
   "metadata": {},
   "outputs": [],
   "source": [
    "sub_monday = chicago[(chicago['user_type']=='Subscriber') & (chicago['Weekday']==0)]\n",
    "sub_tuesday = chicago[(chicago['user_type']=='Subscriber') & (chicago['Weekday']==1)]\n",
    "sub_wednesday = chicago[(chicago['user_type']=='Subscriber') & (chicago['Weekday']==2)]\n",
    "sub_thursday = chicago[(chicago['user_type']=='Subscriber') & (chicago['Weekday']==3)]\n",
    "sub_friday = chicago[(chicago['user_type']=='Subscriber') & (chicago['Weekday']==4)]\n",
    "sub_saturday = chicago[(chicago['user_type']=='Subscriber') & (chicago['Weekday']==5)]\n",
    "sub_sunday = chicago[(chicago['user_type']=='Subscriber') & (chicago['Weekday']==6)]\n",
    "cust_monday = chicago[(chicago['user_type']=='Customer') & (chicago['Weekday']==0)]\n",
    "cust_tuesday = chicago[(chicago['user_type']=='Customer') & (chicago['Weekday']==1)]\n",
    "cust_wednesday = chicago[(chicago['user_type']=='Customer') & (chicago['Weekday']==2)]\n",
    "cust_thursday = chicago[(chicago['user_type']=='Customer') & (chicago['Weekday']==3)]\n",
    "cust_friday = chicago[(chicago['user_type']=='Customer') & (chicago['Weekday']==4)]\n",
    "cust_saturday = chicago[(chicago['user_type']=='Customer') & (chicago['Weekday']==5)]\n",
    "cust_sunday = chicago[(chicago['user_type']=='Customer') & (chicago['Weekday']==6)]\n",
    "\n",
    "sub = np.array([sub_monday['start_time'].size, sub_tuesday['Hour'].size, sub_wednesday['Hour'].size, sub_thursday['Hour'].size, sub_friday['Hour'].size, sub_saturday['Hour'].size, sub_sunday['Hour'].size])\n",
    "cust = np.array([cust_monday['start_time'].size, cust_tuesday['Hour'].size, cust_wednesday['Hour'].size, cust_thursday['Hour'].size, cust_friday['Hour'].size, cust_saturday['Hour'].size, cust_sunday['Hour'].size])\n",
    "\n",
    "fig,ax = plt.subplots(figsize=(8,4))\n",
    "weekdays= ['Monday','Tuesday','Wednesday','Thursday','Friday','Saturday','Sunday']\n",
    "\n",
    "data = np.array([cust, sub])\n",
    "color_list = ['b', 'g', 'r', 'c', 'm', 'y']\n",
    "\n",
    "for i in range(data.shape[0]):\n",
    "  plt.bar(weekdays, data[i],\n",
    "    bottom = np.sum(data[:i], axis = 0),\n",
    "    color = color_list[i % len(color_list)])\n",
    "\n",
    "ax.set_ylabel(\"Number of Rides\")\n",
    "ax.set_title(\"Number of Rides throughout the week and different timeperiods of  Subscribers and Customers\")\n",
    "\n",
    "plt.show()"
   ]
  },
  {
   "cell_type": "markdown",
   "metadata": {},
   "source": [
    "Im Vergleich lässt sich bestätigen, was bereits vorher erkannt wurde. Während die Anzahl der Fahrten am Wochenende noch relativ ausgeglichen sind, machen die Fahrten der Customer unter der Woche nur einen geringen Teil der Gesamtfahrten aus."
   ]
  },
  {
   "cell_type": "markdown",
   "metadata": {},
   "source": [
    "Wir wählen nun zwei Tage aus um den Gebrauch zwischen Subscriber und Customer an unterschieldichen Tageszeiten zu vergleichen."
   ]
  },
  {
   "cell_type": "markdown",
   "metadata": {},
   "source": [
    "#### Sonntag"
   ]
  },
  {
   "cell_type": "markdown",
   "metadata": {},
   "source": [
    "Die Gesamtzahl an Fahrten am Sonntag ist bei Subscriber und Customer annährend gleich. Beide liegen zwischen 20.000 und 30.000 Fahrten. Die Zahl der Fahrten von Subscribern ist dabei leicht mehr."
   ]
  },
  {
   "cell_type": "code",
   "execution_count": null,
   "metadata": {},
   "outputs": [],
   "source": [
    "#Sunday\n",
    "sunday_sub = np.array([morning_sunday_sub['Hour'].size, midmorning_sunday_sub['Hour'].size, noon_sunday_sub['Hour'].size, afternoon_sunday_sub['Hour'].size, evening_sunday_sub['Hour'].size, night_sunday_sub['Hour'].size])\n",
    "sunday_cust = np.array([morning_sunday_cust['Hour'].size, midmorning_sunday_cust['Hour'].size, noon_sunday_cust['Hour'].size, afternoon_sunday_cust['Hour'].size, evening_sunday_cust['Hour'].size, night_sunday_cust['Hour'].size])\n",
    "\n",
    "\n",
    "\n",
    "fig,ax = plt.subplots(figsize=(8,4))\n",
    "day= ['Morning','Midmorning','Noon','Afternoon','Evening','Night']\n",
    "data = np.array([sunday_cust, sunday_sub])\n",
    "color_list = ['b', 'g', 'r', 'c', 'm', 'y']\n",
    "\n",
    "for i in range(data.shape[0]):\n",
    "  plt.bar(day, data[i],\n",
    "    bottom = np.sum(data[:i], axis = 0),\n",
    "    color = color_list[i % len(color_list)])\n",
    "\n",
    "ax.set_ylabel(\"Number of Rides\")\n",
    "ax.set_title(\"Number of Rides throughout Sunday and different timeperiods of  Subscribers and Customers\")\n",
    "\n",
    "print(data)"
   ]
  },
  {
   "cell_type": "markdown",
   "metadata": {},
   "source": [
    "Beim Vergleich der Fahrten pro Tageszeit von Subscriber und Customer ist zu erkennen, dass die größten Differenzen am Morgen entstehen. Am Rest des Tages sind die Anzahl der Fahrten weitgehend gleich."
   ]
  },
  {
   "cell_type": "markdown",
   "metadata": {},
   "source": [
    "#### Dienstag"
   ]
  },
  {
   "cell_type": "markdown",
   "metadata": {},
   "source": [
    "Am Dienstag ist die Anzahl der Fahrten bei Subscriber und Customer sehr unterschiedlich. Während die Subscriber bei über 40.000 Fahrten liegen, bringen es die Customer nicht einmal auf 10.000 Fahrten."
   ]
  },
  {
   "cell_type": "code",
   "execution_count": null,
   "metadata": {},
   "outputs": [],
   "source": [
    "#Tuesday\n",
    "tuesday_sub = np.array([morning_tuesday_sub['Hour'].size, midmorning_tuesday_sub['Hour'].size, noon_tuesday_sub['Hour'].size, afternoon_tuesday_sub['Hour'].size, evening_tuesday_sub['Hour'].size, night_tuesday_sub['Hour'].size])\n",
    "tuesday_cust = np.array([morning_tuesday_cust['Hour'].size, midmorning_tuesday_cust['Hour'].size, noon_tuesday_cust['Hour'].size, afternoon_tuesday_cust['Hour'].size, evening_tuesday_cust['Hour'].size, night_tuesday_cust['Hour'].size])\n",
    "\n",
    "\n",
    "fig,ax = plt.subplots(figsize=(8,4))\n",
    "day= ['Morning','Midmorning','Noon','Afternoon','Evening','Night']\n",
    "data = np.array([tuesday_cust, tuesday_sub])\n",
    "color_list = ['b', 'g', 'r', 'c', 'm', 'y']\n",
    "\n",
    "for i in range(data.shape[0]):\n",
    "  plt.bar(day, data[i],\n",
    "    bottom = np.sum(data[:i], axis = 0),\n",
    "    color = color_list[i % len(color_list)])\n",
    "\n",
    "ax.set_ylabel(\"Number of Rides\")\n",
    "ax.set_title(\"Number of Rides throughout Tuesday and different timeperiods of  Subscribers and Customers\")\n",
    "plt.show()\n",
    "print(data)"
   ]
  },
  {
   "cell_type": "markdown",
   "metadata": {},
   "source": [
    "Dies lässt sich auch im Vergleich bestätigen. Zu jeder Tageszeit ist der Gebrauch bei Subscribern deutlich höher. Die Hauptzeiten der Customer sind der Nachmittag und der Abend, bei den Subscribern Morgen, Nachmittag sowie Abend. \n",
    "Die größte Differenz ist am Morgen zu erkennen. Hier ist die Anzahl der Fahrten con Customern am geringsten während sie bei den Subscribern sogar am zweithöchsten ist. Im Vergleich ist die niedrigste Differenz am Vormittag und in der Nacht, wo die Fahrten der Customer sogar ca. 25% der Gesamtfahrten ausmachen, was an der niedrigen Zahl der Subscriber fahrten liegt."
   ]
  },
  {
   "cell_type": "markdown",
   "metadata": {},
   "source": [
    "## Fahrten im Jahr pro Monat"
   ]
  },
  {
   "cell_type": "code",
   "execution_count": null,
   "metadata": {},
   "outputs": [],
   "source": [
    "jan = chicago[chicago[\"Month\"]==1].size\n",
    "feb = chicago[chicago[\"Month\"]==2].size\n",
    "mer = chicago[chicago[\"Month\"]==3].size\n",
    "apr = chicago[chicago[\"Month\"]==4].size\n",
    "mai = chicago[chicago[\"Month\"]==5].size\n",
    "juni = chicago[chicago[\"Month\"]==6].size\n",
    "juli = chicago[chicago[\"Month\"]==7].size\n",
    "aug = chicago[chicago[\"Month\"]==8].size\n",
    "sep = chicago[chicago[\"Month\"]==9].size\n",
    "okt = chicago[chicago[\"Month\"]==10].size\n",
    "nov = chicago[chicago[\"Month\"]==11].size\n",
    "dez = chicago[chicago[\"Month\"]==12].size"
   ]
  },
  {
   "cell_type": "code",
   "execution_count": null,
   "metadata": {},
   "outputs": [],
   "source": [
    "year= pd.DataFrame({'Months': [ 'january' , 'feburary' , 'march' , 'april' , 'may' ,  'june' , 'july' , 'august' , 'september' , 'october' , 'november', 'december'], 'Rides': [  chicago[chicago['Month']==1].size , chicago[chicago['Month']==2].size , chicago[chicago['Month']==3].size , chicago[chicago['Month']==4].size , chicago[chicago['Month']==5].size , chicago[chicago['Month']==6].size , chicago[chicago['Month']==7].size , chicago[chicago['Month']==8].size , chicago[chicago['Month']==9].size , chicago[chicago['Month']==10].size , chicago[chicago['Month']==11].size , chicago[chicago['Month']==12].size ,]})\n",
    "print(year)"
   ]
  },
  {
   "cell_type": "code",
   "execution_count": null,
   "metadata": {},
   "outputs": [],
   "source": [
    "fig,ax = plt.subplots(figsize=(15,4))\n",
    "\n",
    "ax.bar(year[\"Months\"], year[\"Rides\"])\n",
    "ax.set_ylabel(\"Number of Rides\")\n",
    "ax.set_title(\"Number of Rides in different months\")\n",
    "\n",
    "plt.show()"
   ]
  },
  {
   "cell_type": "markdown",
   "metadata": {},
   "source": [
    "In diesem Diagramm lässt sich ein klares saisonales Muster erkennen.\n",
    "\n",
    "So ist der Gebrauch in den wärmeren Monaten deutlich höher als in den Kälteren. Die Hochzeit bildet der Juli, während in den Monaten Januar und Dezember der geringste Gebrauch zu erkennen ist. \n",
    "\n",
    "Die Verteilung lässt sich hier als annährend normalverteilt beschreiben mit dem Juli als Zentrum."
   ]
  },
  {
   "cell_type": "markdown",
   "metadata": {},
   "source": []
  },
  {
   "cell_type": "markdown",
   "metadata": {},
   "source": []
  },
  {
   "cell_type": "markdown",
   "metadata": {},
   "source": []
  },
  {
   "cell_type": "markdown",
   "metadata": {},
   "source": []
  },
  {
   "cell_type": "markdown",
   "metadata": {},
   "source": []
  },
  {
   "cell_type": "markdown",
   "metadata": {},
   "source": []
  },
  {
   "cell_type": "markdown",
   "metadata": {},
   "source": []
  },
  {
   "cell_type": "markdown",
   "metadata": {},
   "source": []
  },
  {
   "cell_type": "markdown",
   "metadata": {},
   "source": []
  }
 ],
 "metadata": {
  "kernelspec": {
   "display_name": "Python 3",
   "language": "python",
   "name": "python3"
  },
  "language_info": {
   "codemirror_mode": {
    "name": "ipython",
    "version": 3
   },
   "file_extension": ".py",
   "mimetype": "text/x-python",
   "name": "python",
   "nbconvert_exporter": "python",
   "pygments_lexer": "ipython3",
   "version": "3.8.5"
  }
 },
 "nbformat": 4,
 "nbformat_minor": 4
}
