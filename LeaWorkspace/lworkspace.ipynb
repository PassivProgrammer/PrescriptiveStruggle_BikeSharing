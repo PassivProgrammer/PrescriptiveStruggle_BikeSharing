{
 "cells": [
  {
   "cell_type": "code",
   "execution_count": 41,
   "metadata": {},
   "outputs": [
    {
     "data": {
      "text/html": [
       "<style>.container { width:100% !important; }</style>"
      ],
      "text/plain": [
       "<IPython.core.display.HTML object>"
      ]
     },
     "metadata": {},
     "output_type": "display_data"
    }
   ],
   "source": [
    "import pandas as pd\n",
    "import numpy as np\n",
    "import matplotlib.pyplot as plt\n",
    "from IPython.core.display import display, HTML\n",
    "from IPython.core.display import display, HTML\n",
    "display(HTML(\"<style>.container { width:100% !important; }</style>\"))"
   ]
  },
  {
   "cell_type": "code",
   "execution_count": 3,
   "metadata": {},
   "outputs": [],
   "source": [
    "chicago = pd.read_csv(\"chicago_2016.csv\", parse_dates=[\"start_time\",\"end_time\"])"
   ]
  },
  {
   "cell_type": "code",
   "execution_count": 4,
   "metadata": {},
   "outputs": [
    {
     "data": {
      "text/html": [
       "<div>\n",
       "<style scoped>\n",
       "    .dataframe tbody tr th:only-of-type {\n",
       "        vertical-align: middle;\n",
       "    }\n",
       "\n",
       "    .dataframe tbody tr th {\n",
       "        vertical-align: top;\n",
       "    }\n",
       "\n",
       "    .dataframe thead th {\n",
       "        text-align: right;\n",
       "    }\n",
       "</style>\n",
       "<table border=\"1\" class=\"dataframe\">\n",
       "  <thead>\n",
       "    <tr style=\"text-align: right;\">\n",
       "      <th></th>\n",
       "      <th>start_time</th>\n",
       "      <th>end_time</th>\n",
       "      <th>start_station_id</th>\n",
       "      <th>end_station_id</th>\n",
       "      <th>start_station_name</th>\n",
       "      <th>end_station_name</th>\n",
       "      <th>bike_id</th>\n",
       "      <th>user_type</th>\n",
       "    </tr>\n",
       "  </thead>\n",
       "  <tbody>\n",
       "    <tr>\n",
       "      <th>0</th>\n",
       "      <td>2016-03-31 23:53:00</td>\n",
       "      <td>2016-04-01 00:07:00</td>\n",
       "      <td>344</td>\n",
       "      <td>458</td>\n",
       "      <td>Ravenswood Ave &amp; Lawrence Ave</td>\n",
       "      <td>Broadway &amp; Thorndale Ave</td>\n",
       "      <td>155</td>\n",
       "      <td>Subscriber</td>\n",
       "    </tr>\n",
       "    <tr>\n",
       "      <th>1</th>\n",
       "      <td>2016-03-31 23:46:00</td>\n",
       "      <td>2016-03-31 23:57:00</td>\n",
       "      <td>128</td>\n",
       "      <td>213</td>\n",
       "      <td>Damen Ave &amp; Chicago Ave</td>\n",
       "      <td>Leavitt St &amp; North Ave</td>\n",
       "      <td>4831</td>\n",
       "      <td>Subscriber</td>\n",
       "    </tr>\n",
       "    <tr>\n",
       "      <th>2</th>\n",
       "      <td>2016-03-31 23:42:00</td>\n",
       "      <td>2016-03-31 23:46:00</td>\n",
       "      <td>350</td>\n",
       "      <td>210</td>\n",
       "      <td>Ashland Ave &amp; Chicago Ave</td>\n",
       "      <td>Ashland Ave &amp; Division St</td>\n",
       "      <td>4232</td>\n",
       "      <td>Subscriber</td>\n",
       "    </tr>\n",
       "    <tr>\n",
       "      <th>3</th>\n",
       "      <td>2016-03-31 23:37:00</td>\n",
       "      <td>2016-03-31 23:55:00</td>\n",
       "      <td>303</td>\n",
       "      <td>458</td>\n",
       "      <td>Broadway &amp; Cornelia Ave</td>\n",
       "      <td>Broadway &amp; Thorndale Ave</td>\n",
       "      <td>3464</td>\n",
       "      <td>Subscriber</td>\n",
       "    </tr>\n",
       "    <tr>\n",
       "      <th>4</th>\n",
       "      <td>2016-03-31 23:33:00</td>\n",
       "      <td>2016-03-31 23:37:00</td>\n",
       "      <td>334</td>\n",
       "      <td>329</td>\n",
       "      <td>Lake Shore Dr &amp; Belmont Ave</td>\n",
       "      <td>Lake Shore Dr &amp; Diversey Pkwy</td>\n",
       "      <td>1750</td>\n",
       "      <td>Subscriber</td>\n",
       "    </tr>\n",
       "  </tbody>\n",
       "</table>\n",
       "</div>"
      ],
      "text/plain": [
       "           start_time            end_time  start_station_id  end_station_id  \\\n",
       "0 2016-03-31 23:53:00 2016-04-01 00:07:00               344             458   \n",
       "1 2016-03-31 23:46:00 2016-03-31 23:57:00               128             213   \n",
       "2 2016-03-31 23:42:00 2016-03-31 23:46:00               350             210   \n",
       "3 2016-03-31 23:37:00 2016-03-31 23:55:00               303             458   \n",
       "4 2016-03-31 23:33:00 2016-03-31 23:37:00               334             329   \n",
       "\n",
       "              start_station_name               end_station_name  bike_id  \\\n",
       "0  Ravenswood Ave & Lawrence Ave       Broadway & Thorndale Ave      155   \n",
       "1        Damen Ave & Chicago Ave         Leavitt St & North Ave     4831   \n",
       "2      Ashland Ave & Chicago Ave      Ashland Ave & Division St     4232   \n",
       "3        Broadway & Cornelia Ave       Broadway & Thorndale Ave     3464   \n",
       "4    Lake Shore Dr & Belmont Ave  Lake Shore Dr & Diversey Pkwy     1750   \n",
       "\n",
       "    user_type  \n",
       "0  Subscriber  \n",
       "1  Subscriber  \n",
       "2  Subscriber  \n",
       "3  Subscriber  \n",
       "4  Subscriber  "
      ]
     },
     "execution_count": 4,
     "metadata": {},
     "output_type": "execute_result"
    }
   ],
   "source": [
    "chicago.head()"
   ]
  },
  {
   "cell_type": "code",
   "execution_count": 7,
   "metadata": {},
   "outputs": [],
   "source": [
    "chicago['driving_time'] = chicago['end_time']-chicago['start_time'] "
   ]
  },
  {
   "cell_type": "code",
   "execution_count": 32,
   "metadata": {},
   "outputs": [
    {
     "data": {
      "text/html": [
       "<div>\n",
       "<style scoped>\n",
       "    .dataframe tbody tr th:only-of-type {\n",
       "        vertical-align: middle;\n",
       "    }\n",
       "\n",
       "    .dataframe tbody tr th {\n",
       "        vertical-align: top;\n",
       "    }\n",
       "\n",
       "    .dataframe thead th {\n",
       "        text-align: right;\n",
       "    }\n",
       "</style>\n",
       "<table border=\"1\" class=\"dataframe\">\n",
       "  <thead>\n",
       "    <tr style=\"text-align: right;\">\n",
       "      <th></th>\n",
       "      <th>start_time</th>\n",
       "      <th>end_time</th>\n",
       "      <th>start_station_id</th>\n",
       "      <th>end_station_id</th>\n",
       "      <th>start_station_name</th>\n",
       "      <th>end_station_name</th>\n",
       "      <th>bike_id</th>\n",
       "      <th>user_type</th>\n",
       "      <th>driving_time</th>\n",
       "      <th>Weekday</th>\n",
       "      <th>Hour</th>\n",
       "    </tr>\n",
       "  </thead>\n",
       "  <tbody>\n",
       "    <tr>\n",
       "      <th>0</th>\n",
       "      <td>2016-03-31 23:53:00</td>\n",
       "      <td>2016-04-01 00:07:00</td>\n",
       "      <td>344</td>\n",
       "      <td>458</td>\n",
       "      <td>Ravenswood Ave &amp; Lawrence Ave</td>\n",
       "      <td>Broadway &amp; Thorndale Ave</td>\n",
       "      <td>155</td>\n",
       "      <td>Subscriber</td>\n",
       "      <td>0 days 00:14:00</td>\n",
       "      <td>3</td>\n",
       "      <td>23</td>\n",
       "    </tr>\n",
       "    <tr>\n",
       "      <th>1</th>\n",
       "      <td>2016-03-31 23:46:00</td>\n",
       "      <td>2016-03-31 23:57:00</td>\n",
       "      <td>128</td>\n",
       "      <td>213</td>\n",
       "      <td>Damen Ave &amp; Chicago Ave</td>\n",
       "      <td>Leavitt St &amp; North Ave</td>\n",
       "      <td>4831</td>\n",
       "      <td>Subscriber</td>\n",
       "      <td>0 days 00:11:00</td>\n",
       "      <td>3</td>\n",
       "      <td>23</td>\n",
       "    </tr>\n",
       "    <tr>\n",
       "      <th>2</th>\n",
       "      <td>2016-03-31 23:42:00</td>\n",
       "      <td>2016-03-31 23:46:00</td>\n",
       "      <td>350</td>\n",
       "      <td>210</td>\n",
       "      <td>Ashland Ave &amp; Chicago Ave</td>\n",
       "      <td>Ashland Ave &amp; Division St</td>\n",
       "      <td>4232</td>\n",
       "      <td>Subscriber</td>\n",
       "      <td>0 days 00:04:00</td>\n",
       "      <td>3</td>\n",
       "      <td>23</td>\n",
       "    </tr>\n",
       "    <tr>\n",
       "      <th>3</th>\n",
       "      <td>2016-03-31 23:37:00</td>\n",
       "      <td>2016-03-31 23:55:00</td>\n",
       "      <td>303</td>\n",
       "      <td>458</td>\n",
       "      <td>Broadway &amp; Cornelia Ave</td>\n",
       "      <td>Broadway &amp; Thorndale Ave</td>\n",
       "      <td>3464</td>\n",
       "      <td>Subscriber</td>\n",
       "      <td>0 days 00:18:00</td>\n",
       "      <td>3</td>\n",
       "      <td>23</td>\n",
       "    </tr>\n",
       "    <tr>\n",
       "      <th>4</th>\n",
       "      <td>2016-03-31 23:33:00</td>\n",
       "      <td>2016-03-31 23:37:00</td>\n",
       "      <td>334</td>\n",
       "      <td>329</td>\n",
       "      <td>Lake Shore Dr &amp; Belmont Ave</td>\n",
       "      <td>Lake Shore Dr &amp; Diversey Pkwy</td>\n",
       "      <td>1750</td>\n",
       "      <td>Subscriber</td>\n",
       "      <td>0 days 00:04:00</td>\n",
       "      <td>3</td>\n",
       "      <td>23</td>\n",
       "    </tr>\n",
       "  </tbody>\n",
       "</table>\n",
       "</div>"
      ],
      "text/plain": [
       "           start_time            end_time  start_station_id  end_station_id  \\\n",
       "0 2016-03-31 23:53:00 2016-04-01 00:07:00               344             458   \n",
       "1 2016-03-31 23:46:00 2016-03-31 23:57:00               128             213   \n",
       "2 2016-03-31 23:42:00 2016-03-31 23:46:00               350             210   \n",
       "3 2016-03-31 23:37:00 2016-03-31 23:55:00               303             458   \n",
       "4 2016-03-31 23:33:00 2016-03-31 23:37:00               334             329   \n",
       "\n",
       "              start_station_name               end_station_name  bike_id  \\\n",
       "0  Ravenswood Ave & Lawrence Ave       Broadway & Thorndale Ave      155   \n",
       "1        Damen Ave & Chicago Ave         Leavitt St & North Ave     4831   \n",
       "2      Ashland Ave & Chicago Ave      Ashland Ave & Division St     4232   \n",
       "3        Broadway & Cornelia Ave       Broadway & Thorndale Ave     3464   \n",
       "4    Lake Shore Dr & Belmont Ave  Lake Shore Dr & Diversey Pkwy     1750   \n",
       "\n",
       "    user_type    driving_time  Weekday  Hour  \n",
       "0  Subscriber 0 days 00:14:00        3    23  \n",
       "1  Subscriber 0 days 00:11:00        3    23  \n",
       "2  Subscriber 0 days 00:04:00        3    23  \n",
       "3  Subscriber 0 days 00:18:00        3    23  \n",
       "4  Subscriber 0 days 00:04:00        3    23  "
      ]
     },
     "execution_count": 32,
     "metadata": {},
     "output_type": "execute_result"
    }
   ],
   "source": [
    "def get_weekday (ts):\n",
    "    return ts.weekday()\n",
    "def get_hour (ts):\n",
    "    return ts.hour\n",
    "\n",
    "chicago[\"Weekday\"]=chicago[\"start_time\"].apply(lambda x: get_weekday (x))\n",
    "chicago[\"Hour\"]=chicago[\"start_time\"].apply(lambda x: get_hour (x))\n",
    "chicago.head()"
   ]
  },
  {
   "cell_type": "code",
   "execution_count": 25,
   "metadata": {},
   "outputs": [
    {
     "name": "stdout",
     "output_type": "stream",
     "text": [
      "5521810\n",
      "5417100\n",
      "4797600\n",
      "5022980\n",
      "5292830\n",
      "5021760\n",
      "4879750\n"
     ]
    }
   ],
   "source": [
    "montag = chicago[chicago[\"Weekday\"]==0].size\n",
    "dienstag = chicago[chicago[\"Weekday\"]==1].size\n",
    "mittwoch = chicago[chicago[\"Weekday\"]==2].size\n",
    "donnerstag = chicago[chicago[\"Weekday\"]==3].size\n",
    "freitag = chicago[chicago[\"Weekday\"]==4].size\n",
    "samstag = chicago[chicago[\"Weekday\"]==5].size\n",
    "sonntag = chicago[chicago[\"Weekday\"]==6].size\n",
    "\n",
    "print(montag)\n",
    "print(dienstag)\n",
    "print(mittwoch)\n",
    "print(donnerstag)\n",
    "print(freitag)\n",
    "print(samstag)\n",
    "print(sonntag)\n",
    "\n",
    "weekdaysize = pd.DataFrame({'Weekday': ['monday', 'tuesday', 'wednesday', 'thursday', 'friday', 'saturday', 'sunday'], 'Rides': [montag, dienstag, mittwoch, donnerstag, freitag, samstag, sonntag]})"
   ]
  },
  {
   "cell_type": "code",
   "execution_count": 26,
   "metadata": {},
   "outputs": [
    {
     "data": {
      "image/png": "[encoded data removed]",
      "text/plain": [
       "<Figure size 576x288 with 1 Axes>"
      ]
     },
     "metadata": {
      "needs_background": "light"
     },
     "output_type": "display_data"
    }
   ],
   "source": [
    "fig,ax = plt.subplots(figsize=(8,4))\n",
    "\n",
    "ax.bar(weekdaysize[\"Weekday\"], weekdaysize[\"Rides\"])\n",
    "ax.set_xlabel(\"weekday\")\n",
    "ax.set_ylabel(\"Number of Rides\")\n",
    "ax.set_title(\"Number of Rides on different days\")\n",
    "\n",
    "plt.show()"
   ]
  },
  {
   "cell_type": "code",
   "execution_count": 44,
   "metadata": {},
   "outputs": [],
   "source": [
    "weekmorning= pd.DataFrame({'Weekday': ['monday', 'tuesday', 'wednesday', 'thursday', 'friday', 'saturday', 'sunday'], 'Rides': [chicago[(chicago['Weekday']==0) & (chicago['Hour']<=8) & (chicago['Hour']>=6)].size , chicago[(chicago['Weekday']==1) & (chicago['Hour']<=8) & (chicago['Hour']>=6)].size , chicago[(chicago['Weekday']==2) & (chicago['Hour']<=8) & (chicago['Hour']>=6)].size , chicago[(chicago['Weekday']==3) & (chicago['Hour']<=8) & (chicago['Hour']>=6)].size , chicago[(chicago['Weekday']==4) & (chicago['Hour']<=8) & (chicago['Hour']>=6)].size , chicago[(chicago['Weekday']==5) & (chicago['Hour']<=8) & (chicago['Hour']>=6)].size ,chicago[(chicago['Weekday']==6) & (chicago['Hour']<=8) & (chicago['Hour']>=6)].size ] })"
   ]
  },
  {
   "cell_type": "code",
   "execution_count": 45,
   "metadata": {},
   "outputs": [
    {
     "data": {
      "image/png": "[encoded data removed]",
      "text/plain": [
       "<Figure size 576x288 with 1 Axes>"
      ]
     },
     "metadata": {
      "needs_background": "light"
     },
     "output_type": "display_data"
    }
   ],
   "source": [
    "fig,ax = plt.subplots(figsize=(8,4))\n",
    "\n",
    "ax.bar(weekmorning[\"Weekday\"], weekmorning[\"Rides\"])\n",
    "ax.set_xlabel(\"weekday\")\n",
    "ax.set_ylabel(\"Number of Rides\")\n",
    "ax.set_title(\"Number of Rides on different days\")\n",
    "\n",
    "plt.show()"
   ]
  },
  {
   "cell_type": "code",
   "execution_count": 46,
   "metadata": {},
   "outputs": [],
   "source": [
    "## Jahresschwankungen\n"
   ]
  },
  {
   "cell_type": "code",
   "execution_count": 48,
   "metadata": {},
   "outputs": [
    {
     "data": {
      "text/html": [
       "<div>\n",
       "<style scoped>\n",
       "    .dataframe tbody tr th:only-of-type {\n",
       "        vertical-align: middle;\n",
       "    }\n",
       "\n",
       "    .dataframe tbody tr th {\n",
       "        vertical-align: top;\n",
       "    }\n",
       "\n",
       "    .dataframe thead th {\n",
       "        text-align: right;\n",
       "    }\n",
       "</style>\n",
       "<table border=\"1\" class=\"dataframe\">\n",
       "  <thead>\n",
       "    <tr style=\"text-align: right;\">\n",
       "      <th></th>\n",
       "      <th>start_time</th>\n",
       "      <th>end_time</th>\n",
       "      <th>start_station_id</th>\n",
       "      <th>end_station_id</th>\n",
       "      <th>start_station_name</th>\n",
       "      <th>end_station_name</th>\n",
       "      <th>bike_id</th>\n",
       "      <th>user_type</th>\n",
       "      <th>driving_time</th>\n",
       "      <th>Weekday</th>\n",
       "      <th>Hour</th>\n",
       "      <th>Month</th>\n",
       "    </tr>\n",
       "  </thead>\n",
       "  <tbody>\n",
       "    <tr>\n",
       "      <th>0</th>\n",
       "      <td>2016-03-31 23:53:00</td>\n",
       "      <td>2016-04-01 00:07:00</td>\n",
       "      <td>344</td>\n",
       "      <td>458</td>\n",
       "      <td>Ravenswood Ave &amp; Lawrence Ave</td>\n",
       "      <td>Broadway &amp; Thorndale Ave</td>\n",
       "      <td>155</td>\n",
       "      <td>Subscriber</td>\n",
       "      <td>0 days 00:14:00</td>\n",
       "      <td>3</td>\n",
       "      <td>23</td>\n",
       "      <td>3</td>\n",
       "    </tr>\n",
       "    <tr>\n",
       "      <th>1</th>\n",
       "      <td>2016-03-31 23:46:00</td>\n",
       "      <td>2016-03-31 23:57:00</td>\n",
       "      <td>128</td>\n",
       "      <td>213</td>\n",
       "      <td>Damen Ave &amp; Chicago Ave</td>\n",
       "      <td>Leavitt St &amp; North Ave</td>\n",
       "      <td>4831</td>\n",
       "      <td>Subscriber</td>\n",
       "      <td>0 days 00:11:00</td>\n",
       "      <td>3</td>\n",
       "      <td>23</td>\n",
       "      <td>3</td>\n",
       "    </tr>\n",
       "  </tbody>\n",
       "</table>\n",
       "</div>"
      ],
      "text/plain": [
       "           start_time            end_time  start_station_id  end_station_id  \\\n",
       "0 2016-03-31 23:53:00 2016-04-01 00:07:00               344             458   \n",
       "1 2016-03-31 23:46:00 2016-03-31 23:57:00               128             213   \n",
       "\n",
       "              start_station_name          end_station_name  bike_id  \\\n",
       "0  Ravenswood Ave & Lawrence Ave  Broadway & Thorndale Ave      155   \n",
       "1        Damen Ave & Chicago Ave    Leavitt St & North Ave     4831   \n",
       "\n",
       "    user_type    driving_time  Weekday  Hour  Month  \n",
       "0  Subscriber 0 days 00:14:00        3    23      3  \n",
       "1  Subscriber 0 days 00:11:00        3    23      3  "
      ]
     },
     "execution_count": 48,
     "metadata": {},
     "output_type": "execute_result"
    }
   ],
   "source": [
    "def get_month (ts):\n",
    "    return ts.month\n",
    "chicago[\"Month\"]=chicago[\"start_time\"].apply(lambda x: get_month (x))\n",
    "chicago.head(2)"
   ]
  },
  {
   "cell_type": "code",
   "execution_count": 62,
   "metadata": {},
   "outputs": [],
   "source": [
    "jan = chicago[chicago[\"Month\"]==1].size\n",
    "feb = chicago[chicago[\"Month\"]==2].size\n",
    "mer = chicago[chicago[\"Month\"]==3].size\n",
    "apr = chicago[chicago[\"Month\"]==4].size\n",
    "mai = chicago[chicago[\"Month\"]==5].size\n",
    "juni = chicago[chicago[\"Month\"]==6].size\n",
    "juli = chicago[chicago[\"Month\"]==7].size\n",
    "aug = chicago[chicago[\"Month\"]==8].size\n",
    "sep = chicago[chicago[\"Month\"]==9].size\n",
    "okt = chicago[chicago[\"Month\"]==10].size\n",
    "nov = chicago[chicago[\"Month\"]==11].size\n",
    "dez = chicago[chicago[\"Month\"]==12].size\n"
   ]
  },
  {
   "cell_type": "code",
   "execution_count": 63,
   "metadata": {},
   "outputs": [],
   "source": [
    "year= pd.DataFrame({'Months': [ 'january' , 'feburary' , 'march' , 'april' , 'may' ,  'june' , 'july' , 'august' , 'september' , 'october' , 'november', 'december'], 'Rides': [  chicago[chicago['Month']==1].size , chicago[chicago['Month']==2].size , chicago[chicago['Month']==3].size , chicago[chicago['Month']==4].size , chicago[chicago['Month']==5].size , chicago[chicago['Month']==6].size , chicago[chicago['Month']==7].size , chicago[chicago['Month']==8].size , chicago[chicago['Month']==9].size , chicago[chicago['Month']==10].size , chicago[chicago['Month']==11].size , chicago[chicago['Month']==12].size ,]})"
   ]
  },
  {
   "cell_type": "code",
   "execution_count": null,
   "metadata": {},
   "outputs": [],
   "source": [
    "fig,ax = plt.subplots(figsize=(8,4))\n",
    "\n",
    "ax.bar(year[\"Months\"], year[\"Rides\"])\n",
    "ax.set_xlabel(\"Months\")\n",
    "ax.set_ylabel(\"Number of Rides\")\n",
    "ax.set_title(\"Number of Rides on different days\")\n",
    "\n",
    "plt.show()"
   ]
  }
 ],
 "metadata": {
  "kernelspec": {
   "display_name": "Python 3",
   "language": "python",
   "name": "python3"
  },
  "language_info": {
   "codemirror_mode": {
    "name": "ipython",
    "version": 3
   },
   "file_extension": ".py",
   "mimetype": "text/x-python",
   "name": "python",
   "nbconvert_exporter": "python",
   "pygments_lexer": "ipython3",
   "version": "3.8.5"
  }
 },
 "nbformat": 4,
 "nbformat_minor": 4
}
