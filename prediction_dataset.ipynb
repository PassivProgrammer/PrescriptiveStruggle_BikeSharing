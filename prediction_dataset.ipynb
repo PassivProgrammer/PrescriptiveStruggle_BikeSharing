{
 "cells": [
  {
   "cell_type": "code",
   "execution_count": 1,
   "metadata": {},
   "outputs": [],
   "source": [
    "import pandas as pd\n",
    "import numpy as np\n",
    "import matplotlib.pyplot as plt\n",
    "import seaborn as sns\n",
    "import sklearn as sklearn\n",
    "from sklearn.linear_model import LinearRegression\n",
    "from sklearn.metrics import mean_squared_error, mean_absolute_error, r2_score\n",
    "from sklearn.preprocessing import PolynomialFeatures\n",
    "from sklearn.preprocessing import StandardScaler\n",
    "from sklearn.linear_model import Ridge\n",
    "from sklearn.decomposition import PCA"
   ]
  },
  {
   "cell_type": "markdown",
   "metadata": {},
   "source": [
    "## Possible Features\n",
    "1. hour\n",
    "1. day\n",
    "1. month\n",
    "1. season\n",
    "\n",
    "1. weekday/weekend\n",
    "1. ggf. holyday\n",
    "\n",
    "1. temperature\n",
    "1. precipitation"
   ]
  },
  {
   "cell_type": "code",
   "execution_count": 4,
   "metadata": {
    "scrolled": true
   },
   "outputs": [
    {
     "data": {
      "text/html": [
       "<div>\n",
       "<style scoped>\n",
       "    .dataframe tbody tr th:only-of-type {\n",
       "        vertical-align: middle;\n",
       "    }\n",
       "\n",
       "    .dataframe tbody tr th {\n",
       "        vertical-align: top;\n",
       "    }\n",
       "\n",
       "    .dataframe thead th {\n",
       "        text-align: right;\n",
       "    }\n",
       "</style>\n",
       "<table border=\"1\" class=\"dataframe\">\n",
       "  <thead>\n",
       "    <tr style=\"text-align: right;\">\n",
       "      <th></th>\n",
       "      <th>Unnamed: 0</th>\n",
       "      <th>start_time</th>\n",
       "      <th>end_time</th>\n",
       "      <th>start_station_id</th>\n",
       "      <th>end_station_id</th>\n",
       "      <th>start_station_name</th>\n",
       "      <th>end_station_name</th>\n",
       "      <th>bike_id</th>\n",
       "      <th>user_type</th>\n",
       "      <th>duration</th>\n",
       "    </tr>\n",
       "  </thead>\n",
       "  <tbody>\n",
       "    <tr>\n",
       "      <th>0</th>\n",
       "      <td>0</td>\n",
       "      <td>2016-03-31 23:53:00</td>\n",
       "      <td>2016-04-01 00:07:00</td>\n",
       "      <td>344</td>\n",
       "      <td>458</td>\n",
       "      <td>Ravenswood Ave &amp; Lawrence Ave</td>\n",
       "      <td>Broadway &amp; Thorndale Ave</td>\n",
       "      <td>155</td>\n",
       "      <td>Subscriber</td>\n",
       "      <td>14.0</td>\n",
       "    </tr>\n",
       "  </tbody>\n",
       "</table>\n",
       "</div>"
      ],
      "text/plain": [
       "   Unnamed: 0          start_time            end_time  start_station_id  \\\n",
       "0           0 2016-03-31 23:53:00 2016-04-01 00:07:00               344   \n",
       "\n",
       "   end_station_id             start_station_name          end_station_name  \\\n",
       "0             458  Ravenswood Ave & Lawrence Ave  Broadway & Thorndale Ave   \n",
       "\n",
       "   bike_id   user_type  duration  \n",
       "0      155  Subscriber      14.0  "
      ]
     },
     "execution_count": 4,
     "metadata": {},
     "output_type": "execute_result"
    }
   ],
   "source": [
    "# get bikesharing data\n",
    "chicago_data = pd.read_csv(\"prepared_data.csv\",parse_dates=[\"start_time\",\"end_time\"])\n",
    "chicago_data.head(1)"
   ]
  },
  {
   "cell_type": "code",
   "execution_count": 13,
   "metadata": {},
   "outputs": [
    {
     "data": {
      "text/html": [
       "<div>\n",
       "<style scoped>\n",
       "    .dataframe tbody tr th:only-of-type {\n",
       "        vertical-align: middle;\n",
       "    }\n",
       "\n",
       "    .dataframe tbody tr th {\n",
       "        vertical-align: top;\n",
       "    }\n",
       "\n",
       "    .dataframe thead th {\n",
       "        text-align: right;\n",
       "    }\n",
       "</style>\n",
       "<table border=\"1\" class=\"dataframe\">\n",
       "  <thead>\n",
       "    <tr style=\"text-align: right;\">\n",
       "      <th></th>\n",
       "      <th>Unnamed: 0</th>\n",
       "      <th>start_time</th>\n",
       "      <th>end_time</th>\n",
       "      <th>start_station_id</th>\n",
       "      <th>end_station_id</th>\n",
       "      <th>start_station_name</th>\n",
       "      <th>end_station_name</th>\n",
       "      <th>bike_id</th>\n",
       "      <th>user_type</th>\n",
       "      <th>duration</th>\n",
       "      <th>hour</th>\n",
       "      <th>month</th>\n",
       "      <th>day</th>\n",
       "    </tr>\n",
       "  </thead>\n",
       "  <tbody>\n",
       "    <tr>\n",
       "      <th>0</th>\n",
       "      <td>0</td>\n",
       "      <td>2016-03-31 23:53:00</td>\n",
       "      <td>2016-04-01 00:07:00</td>\n",
       "      <td>344</td>\n",
       "      <td>458</td>\n",
       "      <td>Ravenswood Ave &amp; Lawrence Ave</td>\n",
       "      <td>Broadway &amp; Thorndale Ave</td>\n",
       "      <td>155</td>\n",
       "      <td>Subscriber</td>\n",
       "      <td>14.0</td>\n",
       "      <td>23</td>\n",
       "      <td>3</td>\n",
       "      <td>31</td>\n",
       "    </tr>\n",
       "  </tbody>\n",
       "</table>\n",
       "</div>"
      ],
      "text/plain": [
       "   Unnamed: 0          start_time            end_time  start_station_id  \\\n",
       "0           0 2016-03-31 23:53:00 2016-04-01 00:07:00               344   \n",
       "\n",
       "   end_station_id             start_station_name          end_station_name  \\\n",
       "0             458  Ravenswood Ave & Lawrence Ave  Broadway & Thorndale Ave   \n",
       "\n",
       "   bike_id   user_type  duration  hour  month  day  \n",
       "0      155  Subscriber      14.0    23      3   31  "
      ]
     },
     "execution_count": 13,
     "metadata": {},
     "output_type": "execute_result"
    }
   ],
   "source": [
    "# add month, day, hour and duration\n",
    "chicago_data[\"month\"] = chicago_data[\"start_time\"].apply(lambda x: x.month)\n",
    "chicago_data[\"day\"] = chicago_data[\"start_time\"].apply(lambda x: x.day)\n",
    "chicago_data[\"hour\"] = chicago_data[\"start_time\"].apply(lambda x: x.hour)\n",
    "chicago_data[\"duration\"] = (chicago_data[\"end_time\"] - chicago_data[\"start_time\"]).astype(\"timedelta64[m]\")\n",
    "chicago_data.head(1)"
   ]
  },
  {
   "cell_type": "code",
   "execution_count": 11,
   "metadata": {},
   "outputs": [
    {
     "data": {
      "text/html": [
       "<div>\n",
       "<style scoped>\n",
       "    .dataframe tbody tr th:only-of-type {\n",
       "        vertical-align: middle;\n",
       "    }\n",
       "\n",
       "    .dataframe tbody tr th {\n",
       "        vertical-align: top;\n",
       "    }\n",
       "\n",
       "    .dataframe thead th {\n",
       "        text-align: right;\n",
       "    }\n",
       "</style>\n",
       "<table border=\"1\" class=\"dataframe\">\n",
       "  <thead>\n",
       "    <tr style=\"text-align: right;\">\n",
       "      <th></th>\n",
       "      <th>date_time</th>\n",
       "      <th>max_temp</th>\n",
       "      <th>min_temp</th>\n",
       "      <th>precip</th>\n",
       "      <th>month</th>\n",
       "      <th>day</th>\n",
       "      <th>hour</th>\n",
       "    </tr>\n",
       "  </thead>\n",
       "  <tbody>\n",
       "    <tr>\n",
       "      <th>8736</th>\n",
       "      <td>2016-01-01 01:00:00</td>\n",
       "      <td>-5.0</td>\n",
       "      <td>-5.0</td>\n",
       "      <td>0.0</td>\n",
       "      <td>1</td>\n",
       "      <td>1</td>\n",
       "      <td>1</td>\n",
       "    </tr>\n",
       "  </tbody>\n",
       "</table>\n",
       "</div>"
      ],
      "text/plain": [
       "               date_time  max_temp  min_temp  precip  month  day  hour\n",
       "8736 2016-01-01 01:00:00      -5.0      -5.0     0.0      1    1     1"
      ]
     },
     "execution_count": 11,
     "metadata": {},
     "output_type": "execute_result"
    }
   ],
   "source": [
    "#get weather\n",
    "weather = pd.read_csv(\"weather_hourly_chicago.csv\",parse_dates = [\"date_time\"])\n",
    "#only keep 2016 data\n",
    "weather = weather[weather[\"date_time\"].apply(lambda x:x.year == 2016)]\n",
    "weather = weather.dropna()\n",
    "#add month, day, hour\n",
    "weather[\"month\"] = weather[\"date_time\"].apply(lambda x:x.month)\n",
    "weather[\"day\"] = weather[\"date_time\"].apply(lambda x:x.day)\n",
    "weather[\"hour\"] = weather[\"date_time\"].apply(lambda x:x.hour)\n",
    "weather.sort_values(by=\"date_time\")\n",
    "weather.head(1)"
   ]
  },
  {
   "cell_type": "code",
   "execution_count": 24,
   "metadata": {
    "scrolled": true
   },
   "outputs": [
    {
     "data": {
      "text/html": [
       "<div>\n",
       "<style scoped>\n",
       "    .dataframe tbody tr th:only-of-type {\n",
       "        vertical-align: middle;\n",
       "    }\n",
       "\n",
       "    .dataframe tbody tr th {\n",
       "        vertical-align: top;\n",
       "    }\n",
       "\n",
       "    .dataframe thead th {\n",
       "        text-align: right;\n",
       "    }\n",
       "</style>\n",
       "<table border=\"1\" class=\"dataframe\">\n",
       "  <thead>\n",
       "    <tr style=\"text-align: right;\">\n",
       "      <th></th>\n",
       "      <th>Unnamed: 0</th>\n",
       "      <th>start_time</th>\n",
       "      <th>end_time</th>\n",
       "      <th>start_station_id</th>\n",
       "      <th>end_station_id</th>\n",
       "      <th>start_station_name</th>\n",
       "      <th>end_station_name</th>\n",
       "      <th>bike_id</th>\n",
       "      <th>user_type</th>\n",
       "      <th>duration</th>\n",
       "      <th>hour</th>\n",
       "      <th>month</th>\n",
       "      <th>day</th>\n",
       "      <th>max_temp</th>\n",
       "      <th>min_temp</th>\n",
       "      <th>precip</th>\n",
       "    </tr>\n",
       "  </thead>\n",
       "  <tbody>\n",
       "    <tr>\n",
       "      <th>0</th>\n",
       "      <td>0</td>\n",
       "      <td>2016-03-31 23:53:00</td>\n",
       "      <td>2016-04-01 00:07:00</td>\n",
       "      <td>344</td>\n",
       "      <td>458</td>\n",
       "      <td>Ravenswood Ave &amp; Lawrence Ave</td>\n",
       "      <td>Broadway &amp; Thorndale Ave</td>\n",
       "      <td>155</td>\n",
       "      <td>Subscriber</td>\n",
       "      <td>14.0</td>\n",
       "      <td>23</td>\n",
       "      <td>3</td>\n",
       "      <td>31</td>\n",
       "      <td>12.8</td>\n",
       "      <td>12.8</td>\n",
       "      <td>0.0</td>\n",
       "    </tr>\n",
       "  </tbody>\n",
       "</table>\n",
       "</div>"
      ],
      "text/plain": [
       "   Unnamed: 0          start_time            end_time  start_station_id  \\\n",
       "0           0 2016-03-31 23:53:00 2016-04-01 00:07:00               344   \n",
       "\n",
       "   end_station_id             start_station_name          end_station_name  \\\n",
       "0             458  Ravenswood Ave & Lawrence Ave  Broadway & Thorndale Ave   \n",
       "\n",
       "   bike_id   user_type  duration  hour  month  day  max_temp  min_temp  precip  \n",
       "0      155  Subscriber      14.0    23      3   31      12.8      12.8     0.0  "
      ]
     },
     "execution_count": 24,
     "metadata": {},
     "output_type": "execute_result"
    }
   ],
   "source": [
    "#merge weather and bikesharing data\n",
    "all_data = chicago_data.merge(weather[[\"max_temp\",\"min_temp\",\"precip\",\"month\",\"day\",\"hour\"]],left_on=[\"month\",\"day\",\"hour\"],right_on=[\"month\",\"day\",\"hour\"])\n",
    "all_data.head(1)"
   ]
  },
  {
   "cell_type": "code",
   "execution_count": 33,
   "metadata": {
    "scrolled": true
   },
   "outputs": [
    {
     "data": {
      "text/html": [
       "<div>\n",
       "<style scoped>\n",
       "    .dataframe tbody tr th:only-of-type {\n",
       "        vertical-align: middle;\n",
       "    }\n",
       "\n",
       "    .dataframe tbody tr th {\n",
       "        vertical-align: top;\n",
       "    }\n",
       "\n",
       "    .dataframe thead th {\n",
       "        text-align: right;\n",
       "    }\n",
       "</style>\n",
       "<table border=\"1\" class=\"dataframe\">\n",
       "  <thead>\n",
       "    <tr style=\"text-align: right;\">\n",
       "      <th></th>\n",
       "      <th>start_time</th>\n",
       "      <th>month</th>\n",
       "      <th>day</th>\n",
       "      <th>hour</th>\n",
       "      <th>duration</th>\n",
       "      <th>max_temp</th>\n",
       "      <th>precip</th>\n",
       "      <th>bike_id</th>\n",
       "    </tr>\n",
       "  </thead>\n",
       "  <tbody>\n",
       "    <tr>\n",
       "      <th>397092</th>\n",
       "      <td>2016-01-01 00:07:00</td>\n",
       "      <td>1</td>\n",
       "      <td>1</td>\n",
       "      <td>0</td>\n",
       "      <td>9.0</td>\n",
       "      <td>-4.4</td>\n",
       "      <td>0.0</td>\n",
       "      <td>1094</td>\n",
       "    </tr>\n",
       "    <tr>\n",
       "      <th>397091</th>\n",
       "      <td>2016-01-01 00:14:00</td>\n",
       "      <td>1</td>\n",
       "      <td>1</td>\n",
       "      <td>0</td>\n",
       "      <td>11.0</td>\n",
       "      <td>-4.4</td>\n",
       "      <td>0.0</td>\n",
       "      <td>4339</td>\n",
       "    </tr>\n",
       "    <tr>\n",
       "      <th>397090</th>\n",
       "      <td>2016-01-01 00:15:00</td>\n",
       "      <td>1</td>\n",
       "      <td>1</td>\n",
       "      <td>0</td>\n",
       "      <td>12.0</td>\n",
       "      <td>-4.4</td>\n",
       "      <td>0.0</td>\n",
       "      <td>1190</td>\n",
       "    </tr>\n",
       "    <tr>\n",
       "      <th>397088</th>\n",
       "      <td>2016-01-01 00:16:00</td>\n",
       "      <td>1</td>\n",
       "      <td>1</td>\n",
       "      <td>0</td>\n",
       "      <td>8.0</td>\n",
       "      <td>-4.4</td>\n",
       "      <td>0.0</td>\n",
       "      <td>2048</td>\n",
       "    </tr>\n",
       "    <tr>\n",
       "      <th>397089</th>\n",
       "      <td>2016-01-01 00:16:00</td>\n",
       "      <td>1</td>\n",
       "      <td>1</td>\n",
       "      <td>0</td>\n",
       "      <td>8.0</td>\n",
       "      <td>-4.4</td>\n",
       "      <td>0.0</td>\n",
       "      <td>1530</td>\n",
       "    </tr>\n",
       "  </tbody>\n",
       "</table>\n",
       "</div>"
      ],
      "text/plain": [
       "                start_time  month  day  hour  duration  max_temp  precip  \\\n",
       "397092 2016-01-01 00:07:00      1    1     0       9.0      -4.4     0.0   \n",
       "397091 2016-01-01 00:14:00      1    1     0      11.0      -4.4     0.0   \n",
       "397090 2016-01-01 00:15:00      1    1     0      12.0      -4.4     0.0   \n",
       "397088 2016-01-01 00:16:00      1    1     0       8.0      -4.4     0.0   \n",
       "397089 2016-01-01 00:16:00      1    1     0       8.0      -4.4     0.0   \n",
       "\n",
       "        bike_id  \n",
       "397092     1094  \n",
       "397091     4339  \n",
       "397090     1190  \n",
       "397088     2048  \n",
       "397089     1530  "
      ]
     },
     "execution_count": 33,
     "metadata": {},
     "output_type": "execute_result"
    }
   ],
   "source": [
    "# pick feature relevant columns\n",
    "relevant_columns = all_data[[\"start_time\",\"month\",\"day\",\"hour\",\"duration\",\"max_temp\",\"precip\",\"bike_id\"]]\n",
    "relevant_columns.sort_values(by=\"start_time\").head()"
   ]
  },
  {
   "cell_type": "code",
   "execution_count": 73,
   "metadata": {},
   "outputs": [
    {
     "data": {
      "text/html": [
       "<div>\n",
       "<style scoped>\n",
       "    .dataframe tbody tr th:only-of-type {\n",
       "        vertical-align: middle;\n",
       "    }\n",
       "\n",
       "    .dataframe tbody tr th {\n",
       "        vertical-align: top;\n",
       "    }\n",
       "\n",
       "    .dataframe thead th {\n",
       "        text-align: right;\n",
       "    }\n",
       "</style>\n",
       "<table border=\"1\" class=\"dataframe\">\n",
       "  <thead>\n",
       "    <tr style=\"text-align: right;\">\n",
       "      <th></th>\n",
       "      <th>month</th>\n",
       "      <th>day</th>\n",
       "      <th>hour</th>\n",
       "      <th>mean_duration</th>\n",
       "      <th>max_temp</th>\n",
       "      <th>precip</th>\n",
       "      <th>trips</th>\n",
       "    </tr>\n",
       "    <tr>\n",
       "      <th>start_time</th>\n",
       "      <th></th>\n",
       "      <th></th>\n",
       "      <th></th>\n",
       "      <th></th>\n",
       "      <th></th>\n",
       "      <th></th>\n",
       "      <th></th>\n",
       "    </tr>\n",
       "  </thead>\n",
       "  <tbody>\n",
       "    <tr>\n",
       "      <th>2016-01-01</th>\n",
       "      <td>1.0</td>\n",
       "      <td>1.0</td>\n",
       "      <td>0.0</td>\n",
       "      <td>13.2</td>\n",
       "      <td>-4.4</td>\n",
       "      <td>0.0</td>\n",
       "      <td>25</td>\n",
       "    </tr>\n",
       "  </tbody>\n",
       "</table>\n",
       "</div>"
      ],
      "text/plain": [
       "            month  day  hour  mean_duration  max_temp  precip  trips\n",
       "start_time                                                          \n",
       "2016-01-01    1.0  1.0   0.0           13.2      -4.4     0.0     25"
      ]
     },
     "execution_count": 73,
     "metadata": {},
     "output_type": "execute_result"
    }
   ],
   "source": [
    "# aggregate the samples into hourly chunks\n",
    "relevant_columns = all_data[[\"start_time\",\"month\",\"day\",\"hour\",\"duration\",\"max_temp\",\"precip\",\"bike_id\"]]\n",
    "feature_data = relevant_columns.groupby(pd.Grouper(key='start_time',freq='1H')).agg({\"month\":\"mean\",\"day\":\"mean\",\"hour\":\"mean\",\"duration\":\"mean\",\"max_temp\":\"mean\",\"precip\":\"mean\",\"bike_id\":\"count\"})\n",
    "feature_data.rename(columns={\"duration\":\"mean_duration\",\"bike_id\":\"trips\"}, inplace=True)\n",
    "# deal with null values\n",
    "feature_data.loc[feature_data[\"month\"].isna(),\"month\"] = feature_data.index.to_series().apply(lambda x: x.month)\n",
    "feature_data.loc[feature_data[\"day\"].isna(),\"day\"] = feature_data.index.to_series().apply(lambda x: x.day)\n",
    "feature_data.loc[feature_data[\"hour\"].isna(),\"hour\"] = feature_data.index.to_series().apply(lambda x: x.hour)\n",
    "feature_data = feature_data.fillna(method=\"ffill\")\n",
    "feature_data.head(1)"
   ]
  },
  {
   "cell_type": "code",
   "execution_count": 78,
   "metadata": {},
   "outputs": [],
   "source": [
    "# add weekday feature\n",
    "feature_data[\"isWeekday\"] = feature_data.index.to_series().apply(lambda x: 1 if x.dayofweek in [5,6] else 0)"
   ]
  },
  {
   "cell_type": "code",
   "execution_count": 79,
   "metadata": {},
   "outputs": [],
   "source": [
    "#convert to csv\n",
    "feature_data.to_csv('prediction_ready.csv')"
   ]
  },
  {
   "cell_type": "code",
   "execution_count": 85,
   "metadata": {},
   "outputs": [
    {
     "data": {
      "text/plain": [
       "[<matplotlib.lines.Line2D at 0x1ac28d53880>]"
      ]
     },
     "execution_count": 85,
     "metadata": {},
     "output_type": "execute_result"
    },
    {
     "data": {
      "image/png": "[encoded data removed]",
      "text/plain": [
       "<Figure size 1152x360 with 1 Axes>"
      ]
     },
     "metadata": {
      "needs_background": "light"
     },
     "output_type": "display_data"
    }
   ],
   "source": [
    "# plot for reassurance\n",
    "plt.figure(figsize=(16,5))\n",
    "plt.plot(feature_data[feature_data[\"month\"] == 5].index,feature_data[feature_data[\"month\"] == 5][\"trips\"])"
   ]
  }
 ],
 "metadata": {
  "kernelspec": {
   "display_name": "Python 3",
   "language": "python",
   "name": "python3"
  },
  "language_info": {
   "codemirror_mode": {
    "name": "ipython",
    "version": 3
   },
   "file_extension": ".py",
   "mimetype": "text/x-python",
   "name": "python",
   "nbconvert_exporter": "python",
   "pygments_lexer": "ipython3",
   "version": "3.8.5"
  }
 },
 "nbformat": 4,
 "nbformat_minor": 4
}
