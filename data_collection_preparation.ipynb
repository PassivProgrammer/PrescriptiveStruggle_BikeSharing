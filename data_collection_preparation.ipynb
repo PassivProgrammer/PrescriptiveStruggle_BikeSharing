{
 "cells": [
  {
   "cell_type": "code",
   "execution_count": 1,
   "metadata": {},
   "outputs": [],
   "source": [
    "# libraries\n",
    "import pandas as pd\n",
    "import numpy as np\n",
    "import datetime\n",
    "import matplotlib.pyplot as plt"
   ]
  },
  {
   "cell_type": "code",
   "execution_count": 2,
   "metadata": {},
   "outputs": [],
   "source": [
    "# einlesen der Daten:\n",
    "chicago = pd.read_csv('chicago_2016.csv', parse_dates=[\"start_time\",\"end_time\"])"
   ]
  },
  {
   "cell_type": "code",
   "execution_count": 3,
   "metadata": {},
   "outputs": [
    {
     "output_type": "execute_result",
     "data": {
      "text/plain": [
       "           start_time            end_time  start_station_id  end_station_id  \\\n",
       "0 2016-03-31 23:53:00 2016-04-01 00:07:00               344             458   \n",
       "1 2016-03-31 23:46:00 2016-03-31 23:57:00               128             213   \n",
       "2 2016-03-31 23:42:00 2016-03-31 23:46:00               350             210   \n",
       "3 2016-03-31 23:37:00 2016-03-31 23:55:00               303             458   \n",
       "4 2016-03-31 23:33:00 2016-03-31 23:37:00               334             329   \n",
       "\n",
       "              start_station_name               end_station_name  bike_id  \\\n",
       "0  Ravenswood Ave & Lawrence Ave       Broadway & Thorndale Ave      155   \n",
       "1        Damen Ave & Chicago Ave         Leavitt St & North Ave     4831   \n",
       "2      Ashland Ave & Chicago Ave      Ashland Ave & Division St     4232   \n",
       "3        Broadway & Cornelia Ave       Broadway & Thorndale Ave     3464   \n",
       "4    Lake Shore Dr & Belmont Ave  Lake Shore Dr & Diversey Pkwy     1750   \n",
       "\n",
       "    user_type  \n",
       "0  Subscriber  \n",
       "1  Subscriber  \n",
       "2  Subscriber  \n",
       "3  Subscriber  \n",
       "4  Subscriber  "
      ],
      "text/html": "<div>\n<style scoped>\n    .dataframe tbody tr th:only-of-type {\n        vertical-align: middle;\n    }\n\n    .dataframe tbody tr th {\n        vertical-align: top;\n    }\n\n    .dataframe thead th {\n        text-align: right;\n    }\n</style>\n<table border=\"1\" class=\"dataframe\">\n  <thead>\n    <tr style=\"text-align: right;\">\n      <th></th>\n      <th>start_time</th>\n      <th>end_time</th>\n      <th>start_station_id</th>\n      <th>end_station_id</th>\n      <th>start_station_name</th>\n      <th>end_station_name</th>\n      <th>bike_id</th>\n      <th>user_type</th>\n    </tr>\n  </thead>\n  <tbody>\n    <tr>\n      <th>0</th>\n      <td>2016-03-31 23:53:00</td>\n      <td>2016-04-01 00:07:00</td>\n      <td>344</td>\n      <td>458</td>\n      <td>Ravenswood Ave &amp; Lawrence Ave</td>\n      <td>Broadway &amp; Thorndale Ave</td>\n      <td>155</td>\n      <td>Subscriber</td>\n    </tr>\n    <tr>\n      <th>1</th>\n      <td>2016-03-31 23:46:00</td>\n      <td>2016-03-31 23:57:00</td>\n      <td>128</td>\n      <td>213</td>\n      <td>Damen Ave &amp; Chicago Ave</td>\n      <td>Leavitt St &amp; North Ave</td>\n      <td>4831</td>\n      <td>Subscriber</td>\n    </tr>\n    <tr>\n      <th>2</th>\n      <td>2016-03-31 23:42:00</td>\n      <td>2016-03-31 23:46:00</td>\n      <td>350</td>\n      <td>210</td>\n      <td>Ashland Ave &amp; Chicago Ave</td>\n      <td>Ashland Ave &amp; Division St</td>\n      <td>4232</td>\n      <td>Subscriber</td>\n    </tr>\n    <tr>\n      <th>3</th>\n      <td>2016-03-31 23:37:00</td>\n      <td>2016-03-31 23:55:00</td>\n      <td>303</td>\n      <td>458</td>\n      <td>Broadway &amp; Cornelia Ave</td>\n      <td>Broadway &amp; Thorndale Ave</td>\n      <td>3464</td>\n      <td>Subscriber</td>\n    </tr>\n    <tr>\n      <th>4</th>\n      <td>2016-03-31 23:33:00</td>\n      <td>2016-03-31 23:37:00</td>\n      <td>334</td>\n      <td>329</td>\n      <td>Lake Shore Dr &amp; Belmont Ave</td>\n      <td>Lake Shore Dr &amp; Diversey Pkwy</td>\n      <td>1750</td>\n      <td>Subscriber</td>\n    </tr>\n  </tbody>\n</table>\n</div>"
     },
     "metadata": {},
     "execution_count": 3
    }
   ],
   "source": [
    "chicago.head()"
   ]
  },
  {
   "cell_type": "code",
   "execution_count": 4,
   "metadata": {},
   "outputs": [
    {
     "output_type": "execute_result",
     "data": {
      "text/plain": [
       "         start_time  end_time  start_station_id  end_station_id  \\\n",
       "0             False     False             False           False   \n",
       "1             False     False             False           False   \n",
       "2             False     False             False           False   \n",
       "3             False     False             False           False   \n",
       "4             False     False             False           False   \n",
       "...             ...       ...               ...             ...   \n",
       "3595378       False     False             False           False   \n",
       "3595379       False     False             False           False   \n",
       "3595380       False     False             False           False   \n",
       "3595381       False     False             False           False   \n",
       "3595382       False     False             False           False   \n",
       "\n",
       "         start_station_name  end_station_name  bike_id  user_type  \n",
       "0                     False             False    False      False  \n",
       "1                     False             False    False      False  \n",
       "2                     False             False    False      False  \n",
       "3                     False             False    False      False  \n",
       "4                     False             False    False      False  \n",
       "...                     ...               ...      ...        ...  \n",
       "3595378               False             False    False      False  \n",
       "3595379               False             False    False      False  \n",
       "3595380               False             False    False      False  \n",
       "3595381               False             False    False      False  \n",
       "3595382               False             False    False      False  \n",
       "\n",
       "[3595383 rows x 8 columns]"
      ],
      "text/html": "<div>\n<style scoped>\n    .dataframe tbody tr th:only-of-type {\n        vertical-align: middle;\n    }\n\n    .dataframe tbody tr th {\n        vertical-align: top;\n    }\n\n    .dataframe thead th {\n        text-align: right;\n    }\n</style>\n<table border=\"1\" class=\"dataframe\">\n  <thead>\n    <tr style=\"text-align: right;\">\n      <th></th>\n      <th>start_time</th>\n      <th>end_time</th>\n      <th>start_station_id</th>\n      <th>end_station_id</th>\n      <th>start_station_name</th>\n      <th>end_station_name</th>\n      <th>bike_id</th>\n      <th>user_type</th>\n    </tr>\n  </thead>\n  <tbody>\n    <tr>\n      <th>0</th>\n      <td>False</td>\n      <td>False</td>\n      <td>False</td>\n      <td>False</td>\n      <td>False</td>\n      <td>False</td>\n      <td>False</td>\n      <td>False</td>\n    </tr>\n    <tr>\n      <th>1</th>\n      <td>False</td>\n      <td>False</td>\n      <td>False</td>\n      <td>False</td>\n      <td>False</td>\n      <td>False</td>\n      <td>False</td>\n      <td>False</td>\n    </tr>\n    <tr>\n      <th>2</th>\n      <td>False</td>\n      <td>False</td>\n      <td>False</td>\n      <td>False</td>\n      <td>False</td>\n      <td>False</td>\n      <td>False</td>\n      <td>False</td>\n    </tr>\n    <tr>\n      <th>3</th>\n      <td>False</td>\n      <td>False</td>\n      <td>False</td>\n      <td>False</td>\n      <td>False</td>\n      <td>False</td>\n      <td>False</td>\n      <td>False</td>\n    </tr>\n    <tr>\n      <th>4</th>\n      <td>False</td>\n      <td>False</td>\n      <td>False</td>\n      <td>False</td>\n      <td>False</td>\n      <td>False</td>\n      <td>False</td>\n      <td>False</td>\n    </tr>\n    <tr>\n      <th>...</th>\n      <td>...</td>\n      <td>...</td>\n      <td>...</td>\n      <td>...</td>\n      <td>...</td>\n      <td>...</td>\n      <td>...</td>\n      <td>...</td>\n    </tr>\n    <tr>\n      <th>3595378</th>\n      <td>False</td>\n      <td>False</td>\n      <td>False</td>\n      <td>False</td>\n      <td>False</td>\n      <td>False</td>\n      <td>False</td>\n      <td>False</td>\n    </tr>\n    <tr>\n      <th>3595379</th>\n      <td>False</td>\n      <td>False</td>\n      <td>False</td>\n      <td>False</td>\n      <td>False</td>\n      <td>False</td>\n      <td>False</td>\n      <td>False</td>\n    </tr>\n    <tr>\n      <th>3595380</th>\n      <td>False</td>\n      <td>False</td>\n      <td>False</td>\n      <td>False</td>\n      <td>False</td>\n      <td>False</td>\n      <td>False</td>\n      <td>False</td>\n    </tr>\n    <tr>\n      <th>3595381</th>\n      <td>False</td>\n      <td>False</td>\n      <td>False</td>\n      <td>False</td>\n      <td>False</td>\n      <td>False</td>\n      <td>False</td>\n      <td>False</td>\n    </tr>\n    <tr>\n      <th>3595382</th>\n      <td>False</td>\n      <td>False</td>\n      <td>False</td>\n      <td>False</td>\n      <td>False</td>\n      <td>False</td>\n      <td>False</td>\n      <td>False</td>\n    </tr>\n  </tbody>\n</table>\n<p>3595383 rows × 8 columns</p>\n</div>"
     },
     "metadata": {},
     "execution_count": 4
    }
   ],
   "source": [
    "#überprüfen, ob null values vorhanden sind\n",
    "chicago.isnull()"
   ]
  },
  {
   "cell_type": "code",
   "execution_count": 5,
   "metadata": {},
   "outputs": [],
   "source": [
    "# hinzufügen der Dauer der Fahrt\n",
    "chicago[\"duration\"] = (chicago[\"end_time\"] - chicago[\"start_time\"]).astype(\"timedelta64[m]\")"
   ]
  },
  {
   "cell_type": "code",
   "execution_count": 32,
   "metadata": {},
   "outputs": [
    {
     "data": {
      "text/html": [
       "<div>\n",
       "<style scoped>\n",
       "    .dataframe tbody tr th:only-of-type {\n",
       "        vertical-align: middle;\n",
       "    }\n",
       "\n",
       "    .dataframe tbody tr th {\n",
       "        vertical-align: top;\n",
       "    }\n",
       "\n",
       "    .dataframe thead th {\n",
       "        text-align: right;\n",
       "    }\n",
       "</style>\n",
       "<table border=\"1\" class=\"dataframe\">\n",
       "  <thead>\n",
       "    <tr style=\"text-align: right;\">\n",
       "      <th></th>\n",
       "      <th>start_time</th>\n",
       "      <th>end_time</th>\n",
       "      <th>start_station_id</th>\n",
       "      <th>end_station_id</th>\n",
       "      <th>start_station_name</th>\n",
       "      <th>end_station_name</th>\n",
       "      <th>bike_id</th>\n",
       "      <th>user_type</th>\n",
       "      <th>duration</th>\n",
       "    </tr>\n",
       "  </thead>\n",
       "  <tbody>\n",
       "    <tr>\n",
       "      <th>335</th>\n",
       "      <td>2016-03-31 20:51:00</td>\n",
       "      <td>2016-03-31 20:52:00</td>\n",
       "      <td>175</td>\n",
       "      <td>41</td>\n",
       "      <td>Wells St &amp; Polk St</td>\n",
       "      <td>Federal St &amp; Polk St</td>\n",
       "      <td>1183</td>\n",
       "      <td>Subscriber</td>\n",
       "      <td>1.0</td>\n",
       "    </tr>\n",
       "    <tr>\n",
       "      <th>629</th>\n",
       "      <td>2016-03-31 19:45:00</td>\n",
       "      <td>2016-03-31 19:46:00</td>\n",
       "      <td>48</td>\n",
       "      <td>48</td>\n",
       "      <td>Larrabee St &amp; Kingsbury St</td>\n",
       "      <td>Larrabee St &amp; Kingsbury St</td>\n",
       "      <td>3954</td>\n",
       "      <td>Subscriber</td>\n",
       "      <td>1.0</td>\n",
       "    </tr>\n",
       "    <tr>\n",
       "      <th>729</th>\n",
       "      <td>2016-03-31 19:29:00</td>\n",
       "      <td>2016-03-31 19:30:00</td>\n",
       "      <td>423</td>\n",
       "      <td>423</td>\n",
       "      <td>University Ave &amp; 57th St</td>\n",
       "      <td>University Ave &amp; 57th St</td>\n",
       "      <td>606</td>\n",
       "      <td>Subscriber</td>\n",
       "      <td>1.0</td>\n",
       "    </tr>\n",
       "    <tr>\n",
       "      <th>785</th>\n",
       "      <td>2016-03-31 19:21:00</td>\n",
       "      <td>2016-03-31 19:22:00</td>\n",
       "      <td>98</td>\n",
       "      <td>98</td>\n",
       "      <td>LaSalle St &amp; Washington St</td>\n",
       "      <td>LaSalle St &amp; Washington St</td>\n",
       "      <td>4429</td>\n",
       "      <td>Subscriber</td>\n",
       "      <td>1.0</td>\n",
       "    </tr>\n",
       "    <tr>\n",
       "      <th>813</th>\n",
       "      <td>2016-03-31 19:18:00</td>\n",
       "      <td>2016-03-31 19:19:00</td>\n",
       "      <td>100</td>\n",
       "      <td>100</td>\n",
       "      <td>Orleans St &amp; Merchandise Mart Plaza</td>\n",
       "      <td>Orleans St &amp; Merchandise Mart Plaza</td>\n",
       "      <td>702</td>\n",
       "      <td>Subscriber</td>\n",
       "      <td>1.0</td>\n",
       "    </tr>\n",
       "    <tr>\n",
       "      <th>...</th>\n",
       "      <td>...</td>\n",
       "      <td>...</td>\n",
       "      <td>...</td>\n",
       "      <td>...</td>\n",
       "      <td>...</td>\n",
       "      <td>...</td>\n",
       "      <td>...</td>\n",
       "      <td>...</td>\n",
       "      <td>...</td>\n",
       "    </tr>\n",
       "    <tr>\n",
       "      <th>3595094</th>\n",
       "      <td>2016-10-01 02:48:50</td>\n",
       "      <td>2016-10-01 02:50:35</td>\n",
       "      <td>52</td>\n",
       "      <td>264</td>\n",
       "      <td>Michigan Ave &amp; Lake St</td>\n",
       "      <td>Stetson Ave &amp; South Water St</td>\n",
       "      <td>5555</td>\n",
       "      <td>Customer</td>\n",
       "      <td>1.0</td>\n",
       "    </tr>\n",
       "    <tr>\n",
       "      <th>3595095</th>\n",
       "      <td>2016-10-01 02:48:43</td>\n",
       "      <td>2016-10-01 02:50:16</td>\n",
       "      <td>52</td>\n",
       "      <td>264</td>\n",
       "      <td>Michigan Ave &amp; Lake St</td>\n",
       "      <td>Stetson Ave &amp; South Water St</td>\n",
       "      <td>2408</td>\n",
       "      <td>Customer</td>\n",
       "      <td>1.0</td>\n",
       "    </tr>\n",
       "    <tr>\n",
       "      <th>3595126</th>\n",
       "      <td>2016-10-01 02:19:38</td>\n",
       "      <td>2016-10-01 02:20:49</td>\n",
       "      <td>89</td>\n",
       "      <td>175</td>\n",
       "      <td>Financial Pl &amp; Congress Pkwy</td>\n",
       "      <td>Wells St &amp; Polk St</td>\n",
       "      <td>5057</td>\n",
       "      <td>Subscriber</td>\n",
       "      <td>1.0</td>\n",
       "    </tr>\n",
       "    <tr>\n",
       "      <th>3595226</th>\n",
       "      <td>2016-10-01 01:17:29</td>\n",
       "      <td>2016-10-01 01:19:09</td>\n",
       "      <td>349</td>\n",
       "      <td>127</td>\n",
       "      <td>Halsted St &amp; Wrightwood Ave</td>\n",
       "      <td>Lincoln Ave &amp; Fullerton Ave</td>\n",
       "      <td>4514</td>\n",
       "      <td>Subscriber</td>\n",
       "      <td>1.0</td>\n",
       "    </tr>\n",
       "    <tr>\n",
       "      <th>3595230</th>\n",
       "      <td>2016-10-01 01:14:09</td>\n",
       "      <td>2016-10-01 01:15:30</td>\n",
       "      <td>144</td>\n",
       "      <td>144</td>\n",
       "      <td>Larrabee St &amp; Webster Ave</td>\n",
       "      <td>Larrabee St &amp; Webster Ave</td>\n",
       "      <td>4485</td>\n",
       "      <td>Subscriber</td>\n",
       "      <td>1.0</td>\n",
       "    </tr>\n",
       "  </tbody>\n",
       "</table>\n",
       "<p>21432 rows × 9 columns</p>\n",
       "</div>"
      ],
      "text/plain": [
       "                 start_time            end_time  start_station_id  \\\n",
       "335     2016-03-31 20:51:00 2016-03-31 20:52:00               175   \n",
       "629     2016-03-31 19:45:00 2016-03-31 19:46:00                48   \n",
       "729     2016-03-31 19:29:00 2016-03-31 19:30:00               423   \n",
       "785     2016-03-31 19:21:00 2016-03-31 19:22:00                98   \n",
       "813     2016-03-31 19:18:00 2016-03-31 19:19:00               100   \n",
       "...                     ...                 ...               ...   \n",
       "3595094 2016-10-01 02:48:50 2016-10-01 02:50:35                52   \n",
       "3595095 2016-10-01 02:48:43 2016-10-01 02:50:16                52   \n",
       "3595126 2016-10-01 02:19:38 2016-10-01 02:20:49                89   \n",
       "3595226 2016-10-01 01:17:29 2016-10-01 01:19:09               349   \n",
       "3595230 2016-10-01 01:14:09 2016-10-01 01:15:30               144   \n",
       "\n",
       "         end_station_id                   start_station_name  \\\n",
       "335                  41                   Wells St & Polk St   \n",
       "629                  48           Larrabee St & Kingsbury St   \n",
       "729                 423             University Ave & 57th St   \n",
       "785                  98           LaSalle St & Washington St   \n",
       "813                 100  Orleans St & Merchandise Mart Plaza   \n",
       "...                 ...                                  ...   \n",
       "3595094             264               Michigan Ave & Lake St   \n",
       "3595095             264               Michigan Ave & Lake St   \n",
       "3595126             175         Financial Pl & Congress Pkwy   \n",
       "3595226             127          Halsted St & Wrightwood Ave   \n",
       "3595230             144            Larrabee St & Webster Ave   \n",
       "\n",
       "                            end_station_name  bike_id   user_type  duration  \n",
       "335                     Federal St & Polk St     1183  Subscriber       1.0  \n",
       "629               Larrabee St & Kingsbury St     3954  Subscriber       1.0  \n",
       "729                 University Ave & 57th St      606  Subscriber       1.0  \n",
       "785               LaSalle St & Washington St     4429  Subscriber       1.0  \n",
       "813      Orleans St & Merchandise Mart Plaza      702  Subscriber       1.0  \n",
       "...                                      ...      ...         ...       ...  \n",
       "3595094         Stetson Ave & South Water St     5555    Customer       1.0  \n",
       "3595095         Stetson Ave & South Water St     2408    Customer       1.0  \n",
       "3595126                   Wells St & Polk St     5057  Subscriber       1.0  \n",
       "3595226          Lincoln Ave & Fullerton Ave     4514  Subscriber       1.0  \n",
       "3595230            Larrabee St & Webster Ave     4485  Subscriber       1.0  \n",
       "\n",
       "[21432 rows x 9 columns]"
      ]
     },
     "execution_count": 32,
     "metadata": {},
     "output_type": "execute_result"
    }
   ],
   "source": [
    "chicago[chicago[\"duration\"]<=1]"
   ]
  },
  {
   "cell_type": "code",
   "execution_count": 6,
   "metadata": {},
   "outputs": [],
   "source": [
    "# Entfernen von Fahrten, die kürzer oder gleich eine Minute waren und die gleiche Start- und Endstationen haben\n",
    "filtered_data = chicago[ ~((chicago[\"start_station_name\"] == chicago[\"end_station_name\"]) & (chicago[\"duration\"] <= 1.0)) ]"
   ]
  },
  {
   "cell_type": "code",
   "execution_count": 7,
   "metadata": {},
   "outputs": [
    {
     "output_type": "execute_result",
     "data": {
      "text/plain": [
       "array(['Subscriber', 'Customer', 'Dependent'], dtype=object)"
      ]
     },
     "metadata": {},
     "execution_count": 7
    }
   ],
   "source": [
    "filtered_data[\"user_type\"].unique()"
   ]
  },
  {
   "cell_type": "code",
   "execution_count": 8,
   "metadata": {},
   "outputs": [
    {
     "output_type": "stream",
     "name": "stdout",
     "text": [
      "40\n8\n"
     ]
    }
   ],
   "source": [
    "dependent = filtered_data[filtered_data[\"user_type\"]==\"Dependent\"]\n",
    "print(dependent[\"user_type\"].size)\n",
    "print(dependent[\"start_station_id\"].unique().size)\n"
   ]
  },
  {
   "cell_type": "code",
   "execution_count": null,
   "metadata": {},
   "outputs": [],
   "source": []
  },
  {
   "cell_type": "code",
   "execution_count": 9,
   "metadata": {},
   "outputs": [],
   "source": [
    "# Dependent machen nur einen winzigen Teil aus -> kann für die Analyse vernachlässigt werden\n",
    "filtered_data = filtered_data[filtered_data[\"user_type\"]!=\"Dependent\"]"
   ]
  },
  {
   "cell_type": "code",
   "execution_count": 10,
   "metadata": {},
   "outputs": [
    {
     "output_type": "execute_result",
     "data": {
      "text/plain": [
       "array(['Subscriber', 'Customer'], dtype=object)"
      ]
     },
     "metadata": {},
     "execution_count": 10
    }
   ],
   "source": [
    "filtered_data[\"user_type\"].unique()"
   ]
  },
  {
   "cell_type": "code",
   "execution_count": 11,
   "metadata": {},
   "outputs": [
    {
     "output_type": "stream",
     "name": "stdout",
     "text": [
      "3586396\n",
      "3586330\n"
     ]
    }
   ],
   "source": [
    "# doppelte Reihen entfernen\n",
    "print(filtered_data[\"user_type\"].size)\n",
    "filtered_data = filtered_data.drop_duplicates()\n",
    "print(filtered_data[\"user_type\"].size)"
   ]
  },
  {
   "cell_type": "code",
   "execution_count": 12,
   "metadata": {},
   "outputs": [
    {
     "output_type": "error",
     "ename": "Error",
     "evalue": "Pip module Unable to parse debugpy output, please log an issue with https://github.com/microsoft/vscode-jupyter is required for debugging cells. You will need to install it to debug cells.",
     "traceback": [
      "Error: Pip module Unable to parse debugpy output, please log an issue with https://github.com/microsoft/vscode-jupyter is required for debugging cells. You will need to install it to debug cells.",
      "at _.parseConnectInfo (/Users/imkeschwenke/.vscode/extensions/ms-toolsai.jupyter-2021.6.999662501/out/client/extension.js:90:160684)",
      "at _.connectToLocal (/Users/imkeschwenke/.vscode/extensions/ms-toolsai.jupyter-2021.6.999662501/out/client/extension.js:90:161211)",
      "at processTicksAndRejections (internal/process/task_queues.js:93:5)",
      "at async _.connect (/Users/imkeschwenke/.vscode/extensions/ms-toolsai.jupyter-2021.6.999662501/out/client/extension.js:90:159088)",
      "at async _.startDebugSession (/Users/imkeschwenke/.vscode/extensions/ms-toolsai.jupyter-2021.6.999662501/out/client/extension.js:90:158235)",
      "at async D.submitCode (/Users/imkeschwenke/.vscode/extensions/ms-toolsai.jupyter-2021.6.999662501/out/client/extension.js:37:636585)",
      "at async D.handleRunByLine (/Users/imkeschwenke/.vscode/extensions/ms-toolsai.jupyter-2021.6.999662501/out/client/extension.js:37:624528)"
     ]
    }
   ],
   "source": [
    "filtered_data.to_csv(\"prepared_data.csv\")"
   ]
  },
  {
   "cell_type": "code",
   "execution_count": null,
   "metadata": {},
   "outputs": [],
   "source": []
  },
  {
   "cell_type": "code",
   "execution_count": null,
   "metadata": {},
   "outputs": [],
   "source": []
  }
 ],
 "metadata": {
  "kernelspec": {
   "name": "python3",
   "display_name": "Python 3.8.5 64-bit ('base': conda)"
  },
  "language_info": {
   "codemirror_mode": {
    "name": "ipython",
    "version": 3
   },
   "file_extension": ".py",
   "mimetype": "text/x-python",
   "name": "python",
   "nbconvert_exporter": "python",
   "pygments_lexer": "ipython3",
   "version": "3.8.5"
  },
  "interpreter": {
   "hash": "ed5b6eec5fa7619496b5c32bf7e701327613e9cdc173f3d3fa3d9db56ec83e30"
  }
 },
 "nbformat": 4,
 "nbformat_minor": 4
}