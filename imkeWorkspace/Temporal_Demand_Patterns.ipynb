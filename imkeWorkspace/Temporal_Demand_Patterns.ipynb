{
 "metadata": {
  "language_info": {
   "codemirror_mode": {
    "name": "ipython",
    "version": 3
   },
   "file_extension": ".py",
   "mimetype": "text/x-python",
   "name": "python",
   "nbconvert_exporter": "python",
   "pygments_lexer": "ipython3",
   "version": "3.8.5"
  },
  "orig_nbformat": 2,
  "kernelspec": {
   "name": "python385jvsc74a57bd0dca0ade3e726a953b501b15e8e990130d2b7799f14cfd9f4271676035ebe5511",
   "display_name": "Python 3.8.5 64-bit ('base': conda)"
  },
  "metadata": {
   "interpreter": {
    "hash": "ed5b6eec5fa7619496b5c32bf7e701327613e9cdc173f3d3fa3d9db56ec83e30"
   }
  }
 },
 "nbformat": 4,
 "nbformat_minor": 2,
 "cells": [
  {
   "source": [
    "# Temporal Demand Patterns and Seasonality "
   ],
   "cell_type": "markdown",
   "metadata": {}
  },
  {
   "cell_type": "code",
   "execution_count": 12,
   "metadata": {},
   "outputs": [],
   "source": [
    "# libraries\n",
    "import pandas as pd\n",
    "import numpy as np\n",
    "import datetime"
   ]
  },
  {
   "cell_type": "code",
   "execution_count": 42,
   "metadata": {},
   "outputs": [],
   "source": [
    "# import:\n",
    "chicago = pd.read_csv('../chicago_2016.csv', parse_dates=[\"start_time\",\"end_time\"])"
   ]
  },
  {
   "source": [
    "## Usage during a day\n",
    "### Classification:\n",
    "* Morning: 6 a.m. - 10 a.m.\n",
    "* Mid-morning: 10 a.m. - 12 p.m.\n",
    "* Noon: 12 p.m - 2 p.m.\n",
    "* Afternoon: 2 p.m. - 5 p.m.\n",
    "* Evening: 5 p.m. - 9 p.m.\n",
    "* Night: 9 p.m. - 6 a.m."
   ],
   "cell_type": "markdown",
   "metadata": {}
  },
  {
   "cell_type": "code",
   "execution_count": 43,
   "metadata": {},
   "outputs": [
    {
     "output_type": "execute_result",
     "data": {
      "text/plain": [
       "           start_time            end_time  start_station_id  end_station_id  \\\n",
       "0 2016-03-31 23:53:00 2016-04-01 00:07:00               344             458   \n",
       "1 2016-03-31 23:46:00 2016-03-31 23:57:00               128             213   \n",
       "2 2016-03-31 23:42:00 2016-03-31 23:46:00               350             210   \n",
       "3 2016-03-31 23:37:00 2016-03-31 23:55:00               303             458   \n",
       "4 2016-03-31 23:33:00 2016-03-31 23:37:00               334             329   \n",
       "\n",
       "              start_station_name               end_station_name  bike_id  \\\n",
       "0  Ravenswood Ave & Lawrence Ave       Broadway & Thorndale Ave      155   \n",
       "1        Damen Ave & Chicago Ave         Leavitt St & North Ave     4831   \n",
       "2      Ashland Ave & Chicago Ave      Ashland Ave & Division St     4232   \n",
       "3        Broadway & Cornelia Ave       Broadway & Thorndale Ave     3464   \n",
       "4    Lake Shore Dr & Belmont Ave  Lake Shore Dr & Diversey Pkwy     1750   \n",
       "\n",
       "    user_type  \n",
       "0  Subscriber  \n",
       "1  Subscriber  \n",
       "2  Subscriber  \n",
       "3  Subscriber  \n",
       "4  Subscriber  "
      ],
      "text/html": "<div>\n<style scoped>\n    .dataframe tbody tr th:only-of-type {\n        vertical-align: middle;\n    }\n\n    .dataframe tbody tr th {\n        vertical-align: top;\n    }\n\n    .dataframe thead th {\n        text-align: right;\n    }\n</style>\n<table border=\"1\" class=\"dataframe\">\n  <thead>\n    <tr style=\"text-align: right;\">\n      <th></th>\n      <th>start_time</th>\n      <th>end_time</th>\n      <th>start_station_id</th>\n      <th>end_station_id</th>\n      <th>start_station_name</th>\n      <th>end_station_name</th>\n      <th>bike_id</th>\n      <th>user_type</th>\n    </tr>\n  </thead>\n  <tbody>\n    <tr>\n      <th>0</th>\n      <td>2016-03-31 23:53:00</td>\n      <td>2016-04-01 00:07:00</td>\n      <td>344</td>\n      <td>458</td>\n      <td>Ravenswood Ave &amp; Lawrence Ave</td>\n      <td>Broadway &amp; Thorndale Ave</td>\n      <td>155</td>\n      <td>Subscriber</td>\n    </tr>\n    <tr>\n      <th>1</th>\n      <td>2016-03-31 23:46:00</td>\n      <td>2016-03-31 23:57:00</td>\n      <td>128</td>\n      <td>213</td>\n      <td>Damen Ave &amp; Chicago Ave</td>\n      <td>Leavitt St &amp; North Ave</td>\n      <td>4831</td>\n      <td>Subscriber</td>\n    </tr>\n    <tr>\n      <th>2</th>\n      <td>2016-03-31 23:42:00</td>\n      <td>2016-03-31 23:46:00</td>\n      <td>350</td>\n      <td>210</td>\n      <td>Ashland Ave &amp; Chicago Ave</td>\n      <td>Ashland Ave &amp; Division St</td>\n      <td>4232</td>\n      <td>Subscriber</td>\n    </tr>\n    <tr>\n      <th>3</th>\n      <td>2016-03-31 23:37:00</td>\n      <td>2016-03-31 23:55:00</td>\n      <td>303</td>\n      <td>458</td>\n      <td>Broadway &amp; Cornelia Ave</td>\n      <td>Broadway &amp; Thorndale Ave</td>\n      <td>3464</td>\n      <td>Subscriber</td>\n    </tr>\n    <tr>\n      <th>4</th>\n      <td>2016-03-31 23:33:00</td>\n      <td>2016-03-31 23:37:00</td>\n      <td>334</td>\n      <td>329</td>\n      <td>Lake Shore Dr &amp; Belmont Ave</td>\n      <td>Lake Shore Dr &amp; Diversey Pkwy</td>\n      <td>1750</td>\n      <td>Subscriber</td>\n    </tr>\n  </tbody>\n</table>\n</div>"
     },
     "metadata": {},
     "execution_count": 43
    }
   ],
   "source": [
    "# overview\n",
    "chicago.head()"
   ]
  },
  {
   "cell_type": "code",
   "execution_count": 44,
   "metadata": {},
   "outputs": [],
   "source": [
    "# compute driving time\n",
    "chicago['driving_time'] = chicago['end_time']-chicago['start_time'] "
   ]
  },
  {
   "cell_type": "code",
   "execution_count": 45,
   "metadata": {},
   "outputs": [
    {
     "output_type": "execute_result",
     "data": {
      "text/plain": [
       "           start_time            end_time  start_station_id  end_station_id  \\\n",
       "0 2016-03-31 23:53:00 2016-04-01 00:07:00               344             458   \n",
       "1 2016-03-31 23:46:00 2016-03-31 23:57:00               128             213   \n",
       "2 2016-03-31 23:42:00 2016-03-31 23:46:00               350             210   \n",
       "3 2016-03-31 23:37:00 2016-03-31 23:55:00               303             458   \n",
       "4 2016-03-31 23:33:00 2016-03-31 23:37:00               334             329   \n",
       "\n",
       "              start_station_name               end_station_name  bike_id  \\\n",
       "0  Ravenswood Ave & Lawrence Ave       Broadway & Thorndale Ave      155   \n",
       "1        Damen Ave & Chicago Ave         Leavitt St & North Ave     4831   \n",
       "2      Ashland Ave & Chicago Ave      Ashland Ave & Division St     4232   \n",
       "3        Broadway & Cornelia Ave       Broadway & Thorndale Ave     3464   \n",
       "4    Lake Shore Dr & Belmont Ave  Lake Shore Dr & Diversey Pkwy     1750   \n",
       "\n",
       "    user_type    driving_time  \n",
       "0  Subscriber 0 days 00:14:00  \n",
       "1  Subscriber 0 days 00:11:00  \n",
       "2  Subscriber 0 days 00:04:00  \n",
       "3  Subscriber 0 days 00:18:00  \n",
       "4  Subscriber 0 days 00:04:00  "
      ],
      "text/html": "<div>\n<style scoped>\n    .dataframe tbody tr th:only-of-type {\n        vertical-align: middle;\n    }\n\n    .dataframe tbody tr th {\n        vertical-align: top;\n    }\n\n    .dataframe thead th {\n        text-align: right;\n    }\n</style>\n<table border=\"1\" class=\"dataframe\">\n  <thead>\n    <tr style=\"text-align: right;\">\n      <th></th>\n      <th>start_time</th>\n      <th>end_time</th>\n      <th>start_station_id</th>\n      <th>end_station_id</th>\n      <th>start_station_name</th>\n      <th>end_station_name</th>\n      <th>bike_id</th>\n      <th>user_type</th>\n      <th>driving_time</th>\n    </tr>\n  </thead>\n  <tbody>\n    <tr>\n      <th>0</th>\n      <td>2016-03-31 23:53:00</td>\n      <td>2016-04-01 00:07:00</td>\n      <td>344</td>\n      <td>458</td>\n      <td>Ravenswood Ave &amp; Lawrence Ave</td>\n      <td>Broadway &amp; Thorndale Ave</td>\n      <td>155</td>\n      <td>Subscriber</td>\n      <td>0 days 00:14:00</td>\n    </tr>\n    <tr>\n      <th>1</th>\n      <td>2016-03-31 23:46:00</td>\n      <td>2016-03-31 23:57:00</td>\n      <td>128</td>\n      <td>213</td>\n      <td>Damen Ave &amp; Chicago Ave</td>\n      <td>Leavitt St &amp; North Ave</td>\n      <td>4831</td>\n      <td>Subscriber</td>\n      <td>0 days 00:11:00</td>\n    </tr>\n    <tr>\n      <th>2</th>\n      <td>2016-03-31 23:42:00</td>\n      <td>2016-03-31 23:46:00</td>\n      <td>350</td>\n      <td>210</td>\n      <td>Ashland Ave &amp; Chicago Ave</td>\n      <td>Ashland Ave &amp; Division St</td>\n      <td>4232</td>\n      <td>Subscriber</td>\n      <td>0 days 00:04:00</td>\n    </tr>\n    <tr>\n      <th>3</th>\n      <td>2016-03-31 23:37:00</td>\n      <td>2016-03-31 23:55:00</td>\n      <td>303</td>\n      <td>458</td>\n      <td>Broadway &amp; Cornelia Ave</td>\n      <td>Broadway &amp; Thorndale Ave</td>\n      <td>3464</td>\n      <td>Subscriber</td>\n      <td>0 days 00:18:00</td>\n    </tr>\n    <tr>\n      <th>4</th>\n      <td>2016-03-31 23:33:00</td>\n      <td>2016-03-31 23:37:00</td>\n      <td>334</td>\n      <td>329</td>\n      <td>Lake Shore Dr &amp; Belmont Ave</td>\n      <td>Lake Shore Dr &amp; Diversey Pkwy</td>\n      <td>1750</td>\n      <td>Subscriber</td>\n      <td>0 days 00:04:00</td>\n    </tr>\n  </tbody>\n</table>\n</div>"
     },
     "metadata": {},
     "execution_count": 45
    }
   ],
   "source": [
    "chicago.head()"
   ]
  },
  {
   "cell_type": "code",
   "execution_count": 46,
   "metadata": {},
   "outputs": [
    {
     "output_type": "execute_result",
     "data": {
      "text/plain": [
       "3595383"
      ]
     },
     "metadata": {},
     "execution_count": 46
    }
   ],
   "source": [
    "chicago['start_time'].size"
   ]
  },
  {
   "cell_type": "code",
   "execution_count": 47,
   "metadata": {},
   "outputs": [],
   "source": [
    "# drop rows where driving time is less than 1 min\n",
    "for i in range(chicago['driving_time'].size-1):\n",
    "    if chicago.at[i,'driving_time'].total_seconds() < 60:\n",
    "        chicago = chicago.drop(i)"
   ]
  },
  {
   "cell_type": "code",
   "execution_count": 48,
   "metadata": {},
   "outputs": [
    {
     "output_type": "execute_result",
     "data": {
      "text/plain": [
       "3595325"
      ]
     },
     "metadata": {},
     "execution_count": 48
    }
   ],
   "source": [
    "chicago['start_time'].size"
   ]
  },
  {
   "cell_type": "code",
   "execution_count": 52,
   "metadata": {},
   "outputs": [
    {
     "output_type": "error",
     "ename": "AttributeError",
     "evalue": "'Series' object has no attribute 'hour'",
     "traceback": [
      "\u001b[0;31m---------------------------------------------------------------------------\u001b[0m",
      "\u001b[0;31mAttributeError\u001b[0m                            Traceback (most recent call last)",
      "\u001b[0;32m<ipython-input-52-83e368630131>\u001b[0m in \u001b[0;36m<module>\u001b[0;34m\u001b[0m\n\u001b[0;32m----> 1\u001b[0;31m \u001b[0mmorning_start\u001b[0m \u001b[0;34m=\u001b[0m \u001b[0mchicago\u001b[0m\u001b[0;34m.\u001b[0m\u001b[0mloc\u001b[0m\u001b[0;34m[\u001b[0m\u001b[0;34m(\u001b[0m\u001b[0mchicago\u001b[0m\u001b[0;34m[\u001b[0m\u001b[0;34m'start_time'\u001b[0m\u001b[0;34m]\u001b[0m\u001b[0;34m.\u001b[0m\u001b[0mhour\u001b[0m \u001b[0;34m>\u001b[0m \u001b[0;36m6\u001b[0m\u001b[0;34m)\u001b[0m \u001b[0;34m&\u001b[0m \u001b[0;34m(\u001b[0m\u001b[0mchicago\u001b[0m\u001b[0;34m[\u001b[0m\u001b[0;34m'start_time'\u001b[0m\u001b[0;34m]\u001b[0m\u001b[0;34m.\u001b[0m\u001b[0mhour\u001b[0m \u001b[0;34m<\u001b[0m \u001b[0;36m10\u001b[0m\u001b[0;34m)\u001b[0m\u001b[0;34m]\u001b[0m\u001b[0;34m\u001b[0m\u001b[0;34m\u001b[0m\u001b[0m\n\u001b[0m",
      "\u001b[0;32m~/opt/anaconda3/lib/python3.8/site-packages/pandas/core/generic.py\u001b[0m in \u001b[0;36m__getattr__\u001b[0;34m(self, name)\u001b[0m\n\u001b[1;32m   5137\u001b[0m             \u001b[0;32mif\u001b[0m \u001b[0mself\u001b[0m\u001b[0;34m.\u001b[0m\u001b[0m_info_axis\u001b[0m\u001b[0;34m.\u001b[0m\u001b[0m_can_hold_identifiers_and_holds_name\u001b[0m\u001b[0;34m(\u001b[0m\u001b[0mname\u001b[0m\u001b[0;34m)\u001b[0m\u001b[0;34m:\u001b[0m\u001b[0;34m\u001b[0m\u001b[0;34m\u001b[0m\u001b[0m\n\u001b[1;32m   5138\u001b[0m                 \u001b[0;32mreturn\u001b[0m \u001b[0mself\u001b[0m\u001b[0;34m[\u001b[0m\u001b[0mname\u001b[0m\u001b[0;34m]\u001b[0m\u001b[0;34m\u001b[0m\u001b[0;34m\u001b[0m\u001b[0m\n\u001b[0;32m-> 5139\u001b[0;31m             \u001b[0;32mreturn\u001b[0m \u001b[0mobject\u001b[0m\u001b[0;34m.\u001b[0m\u001b[0m__getattribute__\u001b[0m\u001b[0;34m(\u001b[0m\u001b[0mself\u001b[0m\u001b[0;34m,\u001b[0m \u001b[0mname\u001b[0m\u001b[0;34m)\u001b[0m\u001b[0;34m\u001b[0m\u001b[0;34m\u001b[0m\u001b[0m\n\u001b[0m\u001b[1;32m   5140\u001b[0m \u001b[0;34m\u001b[0m\u001b[0m\n\u001b[1;32m   5141\u001b[0m     \u001b[0;32mdef\u001b[0m \u001b[0m__setattr__\u001b[0m\u001b[0;34m(\u001b[0m\u001b[0mself\u001b[0m\u001b[0;34m,\u001b[0m \u001b[0mname\u001b[0m\u001b[0;34m:\u001b[0m \u001b[0mstr\u001b[0m\u001b[0;34m,\u001b[0m \u001b[0mvalue\u001b[0m\u001b[0;34m)\u001b[0m \u001b[0;34m->\u001b[0m \u001b[0;32mNone\u001b[0m\u001b[0;34m:\u001b[0m\u001b[0;34m\u001b[0m\u001b[0;34m\u001b[0m\u001b[0m\n",
      "\u001b[0;31mAttributeError\u001b[0m: 'Series' object has no attribute 'hour'"
     ]
    }
   ],
   "source": [
    "morning_start = chicago\n",
    "for i in range (morning_start['start_time'].size):\n",
    "    if morning_start.at[i,'start_time'].hour < 6 | morning_start.at[i,'start_time'].hour > 10:\n",
    "        morning_start = morning_start.drop(i)"
   ]
  },
  {
   "cell_type": "code",
   "execution_count": null,
   "metadata": {},
   "outputs": [],
   "source": []
  }
 ]
}