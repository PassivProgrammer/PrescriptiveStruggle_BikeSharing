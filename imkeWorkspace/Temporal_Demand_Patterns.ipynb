{
 "cells": [
  {
   "cell_type": "markdown",
   "metadata": {},
   "source": [
    "# Temporal Demand Patterns and Seasonality "
   ]
  },
  {
   "cell_type": "code",
   "execution_count": 79,
   "metadata": {},
   "outputs": [],
   "source": [
    "# libraries\n",
    "import pandas as pd\n",
    "import numpy as np\n",
    "import datetime\n",
    "import matplotlib.pyplot as plt"
   ]
  },
  {
   "cell_type": "code",
   "execution_count": 2,
   "metadata": {},
   "outputs": [],
   "source": [
    "# import:\n",
    "chicago = pd.read_csv('../chicago_2016.csv', parse_dates=[\"start_time\",\"end_time\"])"
   ]
  },
  {
   "cell_type": "markdown",
   "metadata": {},
   "source": [
    "## Usage during a day\n",
    "### Classification:\n",
    "* Morning: 6 a.m. - 10 a.m.\n",
    "* Mid-morning: 10 a.m. - 12 p.m.\n",
    "* Noon: 12 p.m - 2 p.m.\n",
    "* Afternoon: 2 p.m. - 5 p.m.\n",
    "* Evening: 5 p.m. - 9 p.m.\n",
    "* Night: 9 p.m. - 6 a.m."
   ]
  },
  {
   "cell_type": "code",
   "execution_count": 3,
   "metadata": {},
   "outputs": [
    {
     "output_type": "execute_result",
     "data": {
      "text/plain": [
       "           start_time            end_time  start_station_id  end_station_id  \\\n",
       "0 2016-03-31 23:53:00 2016-04-01 00:07:00               344             458   \n",
       "1 2016-03-31 23:46:00 2016-03-31 23:57:00               128             213   \n",
       "2 2016-03-31 23:42:00 2016-03-31 23:46:00               350             210   \n",
       "3 2016-03-31 23:37:00 2016-03-31 23:55:00               303             458   \n",
       "4 2016-03-31 23:33:00 2016-03-31 23:37:00               334             329   \n",
       "\n",
       "              start_station_name               end_station_name  bike_id  \\\n",
       "0  Ravenswood Ave & Lawrence Ave       Broadway & Thorndale Ave      155   \n",
       "1        Damen Ave & Chicago Ave         Leavitt St & North Ave     4831   \n",
       "2      Ashland Ave & Chicago Ave      Ashland Ave & Division St     4232   \n",
       "3        Broadway & Cornelia Ave       Broadway & Thorndale Ave     3464   \n",
       "4    Lake Shore Dr & Belmont Ave  Lake Shore Dr & Diversey Pkwy     1750   \n",
       "\n",
       "    user_type  \n",
       "0  Subscriber  \n",
       "1  Subscriber  \n",
       "2  Subscriber  \n",
       "3  Subscriber  \n",
       "4  Subscriber  "
      ],
      "text/html": "<div>\n<style scoped>\n    .dataframe tbody tr th:only-of-type {\n        vertical-align: middle;\n    }\n\n    .dataframe tbody tr th {\n        vertical-align: top;\n    }\n\n    .dataframe thead th {\n        text-align: right;\n    }\n</style>\n<table border=\"1\" class=\"dataframe\">\n  <thead>\n    <tr style=\"text-align: right;\">\n      <th></th>\n      <th>start_time</th>\n      <th>end_time</th>\n      <th>start_station_id</th>\n      <th>end_station_id</th>\n      <th>start_station_name</th>\n      <th>end_station_name</th>\n      <th>bike_id</th>\n      <th>user_type</th>\n    </tr>\n  </thead>\n  <tbody>\n    <tr>\n      <th>0</th>\n      <td>2016-03-31 23:53:00</td>\n      <td>2016-04-01 00:07:00</td>\n      <td>344</td>\n      <td>458</td>\n      <td>Ravenswood Ave &amp; Lawrence Ave</td>\n      <td>Broadway &amp; Thorndale Ave</td>\n      <td>155</td>\n      <td>Subscriber</td>\n    </tr>\n    <tr>\n      <th>1</th>\n      <td>2016-03-31 23:46:00</td>\n      <td>2016-03-31 23:57:00</td>\n      <td>128</td>\n      <td>213</td>\n      <td>Damen Ave &amp; Chicago Ave</td>\n      <td>Leavitt St &amp; North Ave</td>\n      <td>4831</td>\n      <td>Subscriber</td>\n    </tr>\n    <tr>\n      <th>2</th>\n      <td>2016-03-31 23:42:00</td>\n      <td>2016-03-31 23:46:00</td>\n      <td>350</td>\n      <td>210</td>\n      <td>Ashland Ave &amp; Chicago Ave</td>\n      <td>Ashland Ave &amp; Division St</td>\n      <td>4232</td>\n      <td>Subscriber</td>\n    </tr>\n    <tr>\n      <th>3</th>\n      <td>2016-03-31 23:37:00</td>\n      <td>2016-03-31 23:55:00</td>\n      <td>303</td>\n      <td>458</td>\n      <td>Broadway &amp; Cornelia Ave</td>\n      <td>Broadway &amp; Thorndale Ave</td>\n      <td>3464</td>\n      <td>Subscriber</td>\n    </tr>\n    <tr>\n      <th>4</th>\n      <td>2016-03-31 23:33:00</td>\n      <td>2016-03-31 23:37:00</td>\n      <td>334</td>\n      <td>329</td>\n      <td>Lake Shore Dr &amp; Belmont Ave</td>\n      <td>Lake Shore Dr &amp; Diversey Pkwy</td>\n      <td>1750</td>\n      <td>Subscriber</td>\n    </tr>\n  </tbody>\n</table>\n</div>"
     },
     "metadata": {},
     "execution_count": 3
    }
   ],
   "source": [
    "# overview\n",
    "chicago.head()"
   ]
  },
  {
   "cell_type": "code",
   "execution_count": 4,
   "metadata": {},
   "outputs": [],
   "source": [
    "# compute driving time\n",
    "chicago['driving_time'] = chicago['end_time']-chicago['start_time'] "
   ]
  },
  {
   "cell_type": "code",
   "execution_count": 5,
   "metadata": {},
   "outputs": [
    {
     "output_type": "execute_result",
     "data": {
      "text/plain": [
       "           start_time            end_time  start_station_id  end_station_id  \\\n",
       "0 2016-03-31 23:53:00 2016-04-01 00:07:00               344             458   \n",
       "1 2016-03-31 23:46:00 2016-03-31 23:57:00               128             213   \n",
       "2 2016-03-31 23:42:00 2016-03-31 23:46:00               350             210   \n",
       "3 2016-03-31 23:37:00 2016-03-31 23:55:00               303             458   \n",
       "4 2016-03-31 23:33:00 2016-03-31 23:37:00               334             329   \n",
       "\n",
       "              start_station_name               end_station_name  bike_id  \\\n",
       "0  Ravenswood Ave & Lawrence Ave       Broadway & Thorndale Ave      155   \n",
       "1        Damen Ave & Chicago Ave         Leavitt St & North Ave     4831   \n",
       "2      Ashland Ave & Chicago Ave      Ashland Ave & Division St     4232   \n",
       "3        Broadway & Cornelia Ave       Broadway & Thorndale Ave     3464   \n",
       "4    Lake Shore Dr & Belmont Ave  Lake Shore Dr & Diversey Pkwy     1750   \n",
       "\n",
       "    user_type    driving_time  \n",
       "0  Subscriber 0 days 00:14:00  \n",
       "1  Subscriber 0 days 00:11:00  \n",
       "2  Subscriber 0 days 00:04:00  \n",
       "3  Subscriber 0 days 00:18:00  \n",
       "4  Subscriber 0 days 00:04:00  "
      ],
      "text/html": "<div>\n<style scoped>\n    .dataframe tbody tr th:only-of-type {\n        vertical-align: middle;\n    }\n\n    .dataframe tbody tr th {\n        vertical-align: top;\n    }\n\n    .dataframe thead th {\n        text-align: right;\n    }\n</style>\n<table border=\"1\" class=\"dataframe\">\n  <thead>\n    <tr style=\"text-align: right;\">\n      <th></th>\n      <th>start_time</th>\n      <th>end_time</th>\n      <th>start_station_id</th>\n      <th>end_station_id</th>\n      <th>start_station_name</th>\n      <th>end_station_name</th>\n      <th>bike_id</th>\n      <th>user_type</th>\n      <th>driving_time</th>\n    </tr>\n  </thead>\n  <tbody>\n    <tr>\n      <th>0</th>\n      <td>2016-03-31 23:53:00</td>\n      <td>2016-04-01 00:07:00</td>\n      <td>344</td>\n      <td>458</td>\n      <td>Ravenswood Ave &amp; Lawrence Ave</td>\n      <td>Broadway &amp; Thorndale Ave</td>\n      <td>155</td>\n      <td>Subscriber</td>\n      <td>0 days 00:14:00</td>\n    </tr>\n    <tr>\n      <th>1</th>\n      <td>2016-03-31 23:46:00</td>\n      <td>2016-03-31 23:57:00</td>\n      <td>128</td>\n      <td>213</td>\n      <td>Damen Ave &amp; Chicago Ave</td>\n      <td>Leavitt St &amp; North Ave</td>\n      <td>4831</td>\n      <td>Subscriber</td>\n      <td>0 days 00:11:00</td>\n    </tr>\n    <tr>\n      <th>2</th>\n      <td>2016-03-31 23:42:00</td>\n      <td>2016-03-31 23:46:00</td>\n      <td>350</td>\n      <td>210</td>\n      <td>Ashland Ave &amp; Chicago Ave</td>\n      <td>Ashland Ave &amp; Division St</td>\n      <td>4232</td>\n      <td>Subscriber</td>\n      <td>0 days 00:04:00</td>\n    </tr>\n    <tr>\n      <th>3</th>\n      <td>2016-03-31 23:37:00</td>\n      <td>2016-03-31 23:55:00</td>\n      <td>303</td>\n      <td>458</td>\n      <td>Broadway &amp; Cornelia Ave</td>\n      <td>Broadway &amp; Thorndale Ave</td>\n      <td>3464</td>\n      <td>Subscriber</td>\n      <td>0 days 00:18:00</td>\n    </tr>\n    <tr>\n      <th>4</th>\n      <td>2016-03-31 23:33:00</td>\n      <td>2016-03-31 23:37:00</td>\n      <td>334</td>\n      <td>329</td>\n      <td>Lake Shore Dr &amp; Belmont Ave</td>\n      <td>Lake Shore Dr &amp; Diversey Pkwy</td>\n      <td>1750</td>\n      <td>Subscriber</td>\n      <td>0 days 00:04:00</td>\n    </tr>\n  </tbody>\n</table>\n</div>"
     },
     "metadata": {},
     "execution_count": 5
    }
   ],
   "source": [
    "chicago.head()"
   ]
  },
  {
   "cell_type": "code",
   "execution_count": 6,
   "metadata": {},
   "outputs": [
    {
     "output_type": "execute_result",
     "data": {
      "text/plain": [
       "3595383"
      ]
     },
     "metadata": {},
     "execution_count": 6
    }
   ],
   "source": [
    "chicago['start_time'].size"
   ]
  },
  {
   "cell_type": "code",
   "execution_count": 7,
   "metadata": {},
   "outputs": [],
   "source": [
    "# drop rows where driving time is less than 1 min\n",
    "for i in range(chicago['driving_time'].size-1):\n",
    "    if chicago.at[i,'driving_time'].total_seconds() < 60:\n",
    "        chicago = chicago.drop(i)"
   ]
  },
  {
   "cell_type": "code",
   "execution_count": 13,
   "metadata": {},
   "outputs": [
    {
     "output_type": "execute_result",
     "data": {
      "text/plain": [
       "3595325"
      ]
     },
     "metadata": {},
     "execution_count": 13
    }
   ],
   "source": [
    "chicago['start_time'].size"
   ]
  },
  {
   "cell_type": "code",
   "execution_count": 29,
   "metadata": {},
   "outputs": [],
   "source": [
    "# hinzufügen der Stunde des Starts\n",
    "chicago['start_hour']= chicago[\"start_time\"].apply(lambda x: x.hour)"
   ]
  },
  {
   "cell_type": "code",
   "execution_count": 30,
   "metadata": {},
   "outputs": [
    {
     "output_type": "execute_result",
     "data": {
      "text/plain": [
       "           start_time            end_time  start_station_id  end_station_id  \\\n",
       "0 2016-03-31 23:53:00 2016-04-01 00:07:00               344             458   \n",
       "1 2016-03-31 23:46:00 2016-03-31 23:57:00               128             213   \n",
       "2 2016-03-31 23:42:00 2016-03-31 23:46:00               350             210   \n",
       "3 2016-03-31 23:37:00 2016-03-31 23:55:00               303             458   \n",
       "4 2016-03-31 23:33:00 2016-03-31 23:37:00               334             329   \n",
       "\n",
       "              start_station_name               end_station_name  bike_id  \\\n",
       "0  Ravenswood Ave & Lawrence Ave       Broadway & Thorndale Ave      155   \n",
       "1        Damen Ave & Chicago Ave         Leavitt St & North Ave     4831   \n",
       "2      Ashland Ave & Chicago Ave      Ashland Ave & Division St     4232   \n",
       "3        Broadway & Cornelia Ave       Broadway & Thorndale Ave     3464   \n",
       "4    Lake Shore Dr & Belmont Ave  Lake Shore Dr & Diversey Pkwy     1750   \n",
       "\n",
       "    user_type    driving_time  start_hour  \n",
       "0  Subscriber 0 days 00:14:00          23  \n",
       "1  Subscriber 0 days 00:11:00          23  \n",
       "2  Subscriber 0 days 00:04:00          23  \n",
       "3  Subscriber 0 days 00:18:00          23  \n",
       "4  Subscriber 0 days 00:04:00          23  "
      ],
      "text/html": "<div>\n<style scoped>\n    .dataframe tbody tr th:only-of-type {\n        vertical-align: middle;\n    }\n\n    .dataframe tbody tr th {\n        vertical-align: top;\n    }\n\n    .dataframe thead th {\n        text-align: right;\n    }\n</style>\n<table border=\"1\" class=\"dataframe\">\n  <thead>\n    <tr style=\"text-align: right;\">\n      <th></th>\n      <th>start_time</th>\n      <th>end_time</th>\n      <th>start_station_id</th>\n      <th>end_station_id</th>\n      <th>start_station_name</th>\n      <th>end_station_name</th>\n      <th>bike_id</th>\n      <th>user_type</th>\n      <th>driving_time</th>\n      <th>start_hour</th>\n    </tr>\n  </thead>\n  <tbody>\n    <tr>\n      <th>0</th>\n      <td>2016-03-31 23:53:00</td>\n      <td>2016-04-01 00:07:00</td>\n      <td>344</td>\n      <td>458</td>\n      <td>Ravenswood Ave &amp; Lawrence Ave</td>\n      <td>Broadway &amp; Thorndale Ave</td>\n      <td>155</td>\n      <td>Subscriber</td>\n      <td>0 days 00:14:00</td>\n      <td>23</td>\n    </tr>\n    <tr>\n      <th>1</th>\n      <td>2016-03-31 23:46:00</td>\n      <td>2016-03-31 23:57:00</td>\n      <td>128</td>\n      <td>213</td>\n      <td>Damen Ave &amp; Chicago Ave</td>\n      <td>Leavitt St &amp; North Ave</td>\n      <td>4831</td>\n      <td>Subscriber</td>\n      <td>0 days 00:11:00</td>\n      <td>23</td>\n    </tr>\n    <tr>\n      <th>2</th>\n      <td>2016-03-31 23:42:00</td>\n      <td>2016-03-31 23:46:00</td>\n      <td>350</td>\n      <td>210</td>\n      <td>Ashland Ave &amp; Chicago Ave</td>\n      <td>Ashland Ave &amp; Division St</td>\n      <td>4232</td>\n      <td>Subscriber</td>\n      <td>0 days 00:04:00</td>\n      <td>23</td>\n    </tr>\n    <tr>\n      <th>3</th>\n      <td>2016-03-31 23:37:00</td>\n      <td>2016-03-31 23:55:00</td>\n      <td>303</td>\n      <td>458</td>\n      <td>Broadway &amp; Cornelia Ave</td>\n      <td>Broadway &amp; Thorndale Ave</td>\n      <td>3464</td>\n      <td>Subscriber</td>\n      <td>0 days 00:18:00</td>\n      <td>23</td>\n    </tr>\n    <tr>\n      <th>4</th>\n      <td>2016-03-31 23:33:00</td>\n      <td>2016-03-31 23:37:00</td>\n      <td>334</td>\n      <td>329</td>\n      <td>Lake Shore Dr &amp; Belmont Ave</td>\n      <td>Lake Shore Dr &amp; Diversey Pkwy</td>\n      <td>1750</td>\n      <td>Subscriber</td>\n      <td>0 days 00:04:00</td>\n      <td>23</td>\n    </tr>\n  </tbody>\n</table>\n</div>"
     },
     "metadata": {},
     "execution_count": 30
    }
   ],
   "source": [
    "chicago.head()"
   ]
  },
  {
   "cell_type": "code",
   "execution_count": 33,
   "metadata": {},
   "outputs": [],
   "source": [
    "# Fahrten, die zu Morgenstunden starten, aggregieren\n",
    "morning_start = chicago[(chicago['start_hour']>=6) & (chicago['start_hour']<10)]"
   ]
  },
  {
   "cell_type": "code",
   "execution_count": 64,
   "metadata": {},
   "outputs": [
    {
     "output_type": "execute_result",
     "data": {
      "text/plain": [
       "731906"
      ]
     },
     "metadata": {},
     "execution_count": 64
    }
   ],
   "source": [
    "morning_start['start_hour'].size"
   ]
  },
  {
   "cell_type": "code",
   "execution_count": 57,
   "metadata": {},
   "outputs": [],
   "source": [
    "# Fahrten, die zu Vormittagstunden starten, aggregieren\n",
    "mid_morning_start = chicago[(chicago['start_hour']>=10) & (chicago['start_hour']<12)]\n"
   ]
  },
  {
   "cell_type": "code",
   "execution_count": 65,
   "metadata": {},
   "outputs": [
    {
     "output_type": "execute_result",
     "data": {
      "text/plain": [
       "328205"
      ]
     },
     "metadata": {},
     "execution_count": 65
    }
   ],
   "source": [
    "mid_morning_start['start_hour'].size"
   ]
  },
  {
   "cell_type": "code",
   "execution_count": 56,
   "metadata": {},
   "outputs": [],
   "source": [
    "# Fahrten, die zu Mittagstunden starten, aggregieren\n",
    "noon_start = chicago[(chicago['start_hour']>=12) & (chicago['start_hour']<14)]"
   ]
  },
  {
   "cell_type": "code",
   "execution_count": 69,
   "metadata": {},
   "outputs": [
    {
     "output_type": "execute_result",
     "data": {
      "text/plain": [
       "427655"
      ]
     },
     "metadata": {},
     "execution_count": 69
    }
   ],
   "source": [
    "noon_start['start_hour'].size"
   ]
  },
  {
   "cell_type": "code",
   "execution_count": 68,
   "metadata": {},
   "outputs": [],
   "source": [
    "# Fahrten, die zu Nachmittagstunden starten, aggregieren\n",
    "afternoon_start = chicago[(chicago['start_hour']>=14) & (chicago['start_hour']<17)]"
   ]
  },
  {
   "cell_type": "code",
   "execution_count": 45,
   "metadata": {},
   "outputs": [
    {
     "output_type": "execute_result",
     "data": {
      "text/plain": [
       "7850560"
      ]
     },
     "metadata": {},
     "execution_count": 45
    }
   ],
   "source": [
    "afternoon_start['start_hour'].size"
   ]
  },
  {
   "cell_type": "code",
   "execution_count": 53,
   "metadata": {},
   "outputs": [],
   "source": [
    "# Fahrten, die zu Abendstunden starten, aggregieren\n",
    "evening_start = chicago[(chicago['start_hour']>=17) & (chicago['start_hour']<21)]"
   ]
  },
  {
   "cell_type": "code",
   "execution_count": 47,
   "metadata": {},
   "outputs": [
    {
     "output_type": "execute_result",
     "data": {
      "text/plain": [
       "10283820"
      ]
     },
     "metadata": {},
     "execution_count": 47
    }
   ],
   "source": [
    "evening_start.size"
   ]
  },
  {
   "cell_type": "code",
   "execution_count": 71,
   "metadata": {},
   "outputs": [],
   "source": [
    "# Fahrten, die zu Nachtstunden starten, aggregieren\n",
    "night_start = chicago[((chicago['start_hour']>=21) & (chicago['start_hour']<24)) | ((chicago['start_hour']>=0) & (chicago['start_hour']<6))]"
   ]
  },
  {
   "cell_type": "code",
   "execution_count": 72,
   "metadata": {},
   "outputs": [
    {
     "output_type": "execute_result",
     "data": {
      "text/plain": [
       "294121"
      ]
     },
     "metadata": {},
     "execution_count": 72
    }
   ],
   "source": [
    "night_start['start_hour'].size"
   ]
  },
  {
   "cell_type": "code",
   "execution_count": 73,
   "metadata": {},
   "outputs": [
    {
     "output_type": "stream",
     "name": "stdout",
     "text": [
      "3595325\n3595325\n"
     ]
    }
   ],
   "source": [
    "# Überprüfen, ob die Anzahl der Zeilen noch richtig ist\n",
    "print(chicago['start_time'].size)\n",
    "print(morning_start['start_hour'].size + mid_morning_start['start_hour'].size + noon_start['start_hour'].size + afternoon_start['start_hour'].size + evening_start['start_hour'].size + night_start['start_hour'].size)"
   ]
  },
  {
   "cell_type": "code",
   "execution_count": 76,
   "metadata": {},
   "outputs": [],
   "source": [
    "start_hours = pd.DataFrame({'Time_Period': ['morning', 'mid-morning', 'noon', 'afternoon', 'evening', 'night'], 'Rides': [morning_start['start_hour'].size, mid_morning_start['start_hour'].size, noon_start['start_hour'].size,afternoon_start['start_hour'].size, evening_start['start_hour'].size, night_start['start_hour'].size]})"
   ]
  },
  {
   "cell_type": "code",
   "execution_count": 77,
   "metadata": {},
   "outputs": [
    {
     "output_type": "execute_result",
     "data": {
      "text/plain": [
       "   Time_Period    Rides\n",
       "0      morning   731906\n",
       "1  mid-morning   328205\n",
       "2         noon   427655\n",
       "3    afternoon   785056\n",
       "4      evening  1028382"
      ],
      "text/html": "<div>\n<style scoped>\n    .dataframe tbody tr th:only-of-type {\n        vertical-align: middle;\n    }\n\n    .dataframe tbody tr th {\n        vertical-align: top;\n    }\n\n    .dataframe thead th {\n        text-align: right;\n    }\n</style>\n<table border=\"1\" class=\"dataframe\">\n  <thead>\n    <tr style=\"text-align: right;\">\n      <th></th>\n      <th>Time_Period</th>\n      <th>Rides</th>\n    </tr>\n  </thead>\n  <tbody>\n    <tr>\n      <th>0</th>\n      <td>morning</td>\n      <td>731906</td>\n    </tr>\n    <tr>\n      <th>1</th>\n      <td>mid-morning</td>\n      <td>328205</td>\n    </tr>\n    <tr>\n      <th>2</th>\n      <td>noon</td>\n      <td>427655</td>\n    </tr>\n    <tr>\n      <th>3</th>\n      <td>afternoon</td>\n      <td>785056</td>\n    </tr>\n    <tr>\n      <th>4</th>\n      <td>evening</td>\n      <td>1028382</td>\n    </tr>\n  </tbody>\n</table>\n</div>"
     },
     "metadata": {},
     "execution_count": 77
    }
   ],
   "source": [
    "start_hours.head()"
   ]
  },
  {
   "cell_type": "code",
   "execution_count": 83,
   "metadata": {},
   "outputs": [
    {
     "output_type": "display_data",
     "data": {
      "text/plain": "<Figure size 576x288 with 1 Axes>",
      "image/svg+xml": "<?xml version=\"1.0\" encoding=\"utf-8\" standalone=\"no\"?>\n<!DOCTYPE svg PUBLIC \"-//W3C//DTD SVG 1.1//EN\"\n  \"http://www.w3.org/Graphics/SVG/1.1/DTD/svg11.dtd\">\n<!-- Created with matplotlib (https://matplotlib.org/) -->\n<svg height=\"277.314375pt\" version=\"1.1\" viewBox=\"0 0 497.38125 277.314375\" width=\"497.38125pt\" xmlns=\"http://www.w3.org/2000/svg\" xmlns:xlink=\"http://www.w3.org/1999/xlink\">\n <metadata>\n  <rdf:RDF xmlns:cc=\"http://creativecommons.org/ns#\" xmlns:dc=\"http://purl.org/dc/elements/1.1/\" xmlns:rdf=\"http://www.w3.org/1999/02/22-rdf-syntax-ns#\">\n   <cc:Work>\n    <dc:type rdf:resource=\"http://purl.org/dc/dcmitype/StillImage\"/>\n    <dc:date>2021-06-15T09:49:07.318490</dc:date>\n    <dc:format>image/svg+xml</dc:format>\n    <dc:creator>\n     <cc:Agent>\n      <dc:title>Matplotlib v3.3.2, https://matplotlib.org/</dc:title>\n     </cc:Agent>\n    </dc:creator>\n   </cc:Work>\n  </rdf:RDF>\n </metadata>\n <defs>\n  <style type=\"text/css\">*{stroke-linecap:butt;stroke-linejoin:round;}</style>\n </defs>\n <g id=\"figure_1\">\n  <g id=\"patch_1\">\n   <path d=\"M 0 277.314375 \nL 497.38125 277.314375 \nL 497.38125 0 \nL 0 0 \nz\n\" style=\"fill:none;\"/>\n  </g>\n  <g id=\"axes_1\">\n   <g id=\"patch_2\">\n    <path d=\"M 43.78125 239.758125 \nL 490.18125 239.758125 \nL 490.18125 22.318125 \nL 43.78125 22.318125 \nz\n\" style=\"fill:#ffffff;\"/>\n   </g>\n   <g id=\"patch_3\">\n    <path clip-path=\"url(#pb18f0039db)\" d=\"M 64.072159 239.758125 \nL 120.047081 239.758125 \nL 120.047081 92.373907 \nL 64.072159 92.373907 \nz\n\" style=\"fill:#1f77b4;\"/>\n   </g>\n   <g id=\"patch_4\">\n    <path clip-path=\"url(#pb18f0039db)\" d=\"M 134.040811 239.758125 \nL 190.015733 239.758125 \nL 190.015733 173.667347 \nL 134.040811 173.667347 \nz\n\" style=\"fill:#1f77b4;\"/>\n   </g>\n   <g id=\"patch_5\">\n    <path clip-path=\"url(#pb18f0039db)\" d=\"M 204.009463 239.758125 \nL 259.984385 239.758125 \nL 259.984385 153.641058 \nL 204.009463 153.641058 \nz\n\" style=\"fill:#1f77b4;\"/>\n   </g>\n   <g id=\"patch_6\">\n    <path clip-path=\"url(#pb18f0039db)\" d=\"M 273.978115 239.758125 \nL 329.953037 239.758125 \nL 329.953037 81.671069 \nL 273.978115 81.671069 \nz\n\" style=\"fill:#1f77b4;\"/>\n   </g>\n   <g id=\"patch_7\">\n    <path clip-path=\"url(#pb18f0039db)\" d=\"M 343.946767 239.758125 \nL 399.921689 239.758125 \nL 399.921689 32.672411 \nL 343.946767 32.672411 \nz\n\" style=\"fill:#1f77b4;\"/>\n   </g>\n   <g id=\"patch_8\">\n    <path clip-path=\"url(#pb18f0039db)\" d=\"M 413.915419 239.758125 \nL 469.890341 239.758125 \nL 469.890341 180.530856 \nL 413.915419 180.530856 \nz\n\" style=\"fill:#1f77b4;\"/>\n   </g>\n   <g id=\"matplotlib.axis_1\">\n    <g id=\"xtick_1\">\n     <g id=\"line2d_1\">\n      <defs>\n       <path d=\"M 0 0 \nL 0 3.5 \n\" id=\"m62906d64b3\" style=\"stroke:#000000;stroke-width:0.8;\"/>\n      </defs>\n      <g>\n       <use style=\"stroke:#000000;stroke-width:0.8;\" x=\"92.05962\" xlink:href=\"#m62906d64b3\" y=\"239.758125\"/>\n      </g>\n     </g>\n     <g id=\"text_1\">\n      <!-- morning -->\n      <g transform=\"translate(71.261182 254.356562)scale(0.1 -0.1)\">\n       <defs>\n        <path d=\"M 52 44.1875 \nQ 55.375 50.25 60.0625 53.125 \nQ 64.75 56 71.09375 56 \nQ 79.640625 56 84.28125 50.015625 \nQ 88.921875 44.046875 88.921875 33.015625 \nL 88.921875 0 \nL 79.890625 0 \nL 79.890625 32.71875 \nQ 79.890625 40.578125 77.09375 44.375 \nQ 74.3125 48.1875 68.609375 48.1875 \nQ 61.625 48.1875 57.5625 43.546875 \nQ 53.515625 38.921875 53.515625 30.90625 \nL 53.515625 0 \nL 44.484375 0 \nL 44.484375 32.71875 \nQ 44.484375 40.625 41.703125 44.40625 \nQ 38.921875 48.1875 33.109375 48.1875 \nQ 26.21875 48.1875 22.15625 43.53125 \nQ 18.109375 38.875 18.109375 30.90625 \nL 18.109375 0 \nL 9.078125 0 \nL 9.078125 54.6875 \nL 18.109375 54.6875 \nL 18.109375 46.1875 \nQ 21.1875 51.21875 25.484375 53.609375 \nQ 29.78125 56 35.6875 56 \nQ 41.65625 56 45.828125 52.96875 \nQ 50 49.953125 52 44.1875 \nz\n\" id=\"DejaVuSans-109\"/>\n        <path d=\"M 30.609375 48.390625 \nQ 23.390625 48.390625 19.1875 42.75 \nQ 14.984375 37.109375 14.984375 27.296875 \nQ 14.984375 17.484375 19.15625 11.84375 \nQ 23.34375 6.203125 30.609375 6.203125 \nQ 37.796875 6.203125 41.984375 11.859375 \nQ 46.1875 17.53125 46.1875 27.296875 \nQ 46.1875 37.015625 41.984375 42.703125 \nQ 37.796875 48.390625 30.609375 48.390625 \nz\nM 30.609375 56 \nQ 42.328125 56 49.015625 48.375 \nQ 55.71875 40.765625 55.71875 27.296875 \nQ 55.71875 13.875 49.015625 6.21875 \nQ 42.328125 -1.421875 30.609375 -1.421875 \nQ 18.84375 -1.421875 12.171875 6.21875 \nQ 5.515625 13.875 5.515625 27.296875 \nQ 5.515625 40.765625 12.171875 48.375 \nQ 18.84375 56 30.609375 56 \nz\n\" id=\"DejaVuSans-111\"/>\n        <path d=\"M 41.109375 46.296875 \nQ 39.59375 47.171875 37.8125 47.578125 \nQ 36.03125 48 33.890625 48 \nQ 26.265625 48 22.1875 43.046875 \nQ 18.109375 38.09375 18.109375 28.8125 \nL 18.109375 0 \nL 9.078125 0 \nL 9.078125 54.6875 \nL 18.109375 54.6875 \nL 18.109375 46.1875 \nQ 20.953125 51.171875 25.484375 53.578125 \nQ 30.03125 56 36.53125 56 \nQ 37.453125 56 38.578125 55.875 \nQ 39.703125 55.765625 41.0625 55.515625 \nz\n\" id=\"DejaVuSans-114\"/>\n        <path d=\"M 54.890625 33.015625 \nL 54.890625 0 \nL 45.90625 0 \nL 45.90625 32.71875 \nQ 45.90625 40.484375 42.875 44.328125 \nQ 39.84375 48.1875 33.796875 48.1875 \nQ 26.515625 48.1875 22.3125 43.546875 \nQ 18.109375 38.921875 18.109375 30.90625 \nL 18.109375 0 \nL 9.078125 0 \nL 9.078125 54.6875 \nL 18.109375 54.6875 \nL 18.109375 46.1875 \nQ 21.34375 51.125 25.703125 53.5625 \nQ 30.078125 56 35.796875 56 \nQ 45.21875 56 50.046875 50.171875 \nQ 54.890625 44.34375 54.890625 33.015625 \nz\n\" id=\"DejaVuSans-110\"/>\n        <path d=\"M 9.421875 54.6875 \nL 18.40625 54.6875 \nL 18.40625 0 \nL 9.421875 0 \nz\nM 9.421875 75.984375 \nL 18.40625 75.984375 \nL 18.40625 64.59375 \nL 9.421875 64.59375 \nz\n\" id=\"DejaVuSans-105\"/>\n        <path d=\"M 45.40625 27.984375 \nQ 45.40625 37.75 41.375 43.109375 \nQ 37.359375 48.484375 30.078125 48.484375 \nQ 22.859375 48.484375 18.828125 43.109375 \nQ 14.796875 37.75 14.796875 27.984375 \nQ 14.796875 18.265625 18.828125 12.890625 \nQ 22.859375 7.515625 30.078125 7.515625 \nQ 37.359375 7.515625 41.375 12.890625 \nQ 45.40625 18.265625 45.40625 27.984375 \nz\nM 54.390625 6.78125 \nQ 54.390625 -7.171875 48.1875 -13.984375 \nQ 42 -20.796875 29.203125 -20.796875 \nQ 24.46875 -20.796875 20.265625 -20.09375 \nQ 16.0625 -19.390625 12.109375 -17.921875 \nL 12.109375 -9.1875 \nQ 16.0625 -11.328125 19.921875 -12.34375 \nQ 23.78125 -13.375 27.78125 -13.375 \nQ 36.625 -13.375 41.015625 -8.765625 \nQ 45.40625 -4.15625 45.40625 5.171875 \nL 45.40625 9.625 \nQ 42.625 4.78125 38.28125 2.390625 \nQ 33.9375 0 27.875 0 \nQ 17.828125 0 11.671875 7.65625 \nQ 5.515625 15.328125 5.515625 27.984375 \nQ 5.515625 40.671875 11.671875 48.328125 \nQ 17.828125 56 27.875 56 \nQ 33.9375 56 38.28125 53.609375 \nQ 42.625 51.21875 45.40625 46.390625 \nL 45.40625 54.6875 \nL 54.390625 54.6875 \nz\n\" id=\"DejaVuSans-103\"/>\n       </defs>\n       <use xlink:href=\"#DejaVuSans-109\"/>\n       <use x=\"97.412109\" xlink:href=\"#DejaVuSans-111\"/>\n       <use x=\"158.59375\" xlink:href=\"#DejaVuSans-114\"/>\n       <use x=\"197.957031\" xlink:href=\"#DejaVuSans-110\"/>\n       <use x=\"261.335938\" xlink:href=\"#DejaVuSans-105\"/>\n       <use x=\"289.119141\" xlink:href=\"#DejaVuSans-110\"/>\n       <use x=\"352.498047\" xlink:href=\"#DejaVuSans-103\"/>\n      </g>\n     </g>\n    </g>\n    <g id=\"xtick_2\">\n     <g id=\"line2d_2\">\n      <g>\n       <use style=\"stroke:#000000;stroke-width:0.8;\" x=\"162.028272\" xlink:href=\"#m62906d64b3\" y=\"239.758125\"/>\n      </g>\n     </g>\n     <g id=\"text_2\">\n      <!-- mid-morning -->\n      <g transform=\"translate(129.992334 254.356562)scale(0.1 -0.1)\">\n       <defs>\n        <path d=\"M 45.40625 46.390625 \nL 45.40625 75.984375 \nL 54.390625 75.984375 \nL 54.390625 0 \nL 45.40625 0 \nL 45.40625 8.203125 \nQ 42.578125 3.328125 38.25 0.953125 \nQ 33.9375 -1.421875 27.875 -1.421875 \nQ 17.96875 -1.421875 11.734375 6.484375 \nQ 5.515625 14.40625 5.515625 27.296875 \nQ 5.515625 40.1875 11.734375 48.09375 \nQ 17.96875 56 27.875 56 \nQ 33.9375 56 38.25 53.625 \nQ 42.578125 51.265625 45.40625 46.390625 \nz\nM 14.796875 27.296875 \nQ 14.796875 17.390625 18.875 11.75 \nQ 22.953125 6.109375 30.078125 6.109375 \nQ 37.203125 6.109375 41.296875 11.75 \nQ 45.40625 17.390625 45.40625 27.296875 \nQ 45.40625 37.203125 41.296875 42.84375 \nQ 37.203125 48.484375 30.078125 48.484375 \nQ 22.953125 48.484375 18.875 42.84375 \nQ 14.796875 37.203125 14.796875 27.296875 \nz\n\" id=\"DejaVuSans-100\"/>\n        <path d=\"M 4.890625 31.390625 \nL 31.203125 31.390625 \nL 31.203125 23.390625 \nL 4.890625 23.390625 \nz\n\" id=\"DejaVuSans-45\"/>\n       </defs>\n       <use xlink:href=\"#DejaVuSans-109\"/>\n       <use x=\"97.412109\" xlink:href=\"#DejaVuSans-105\"/>\n       <use x=\"125.195312\" xlink:href=\"#DejaVuSans-100\"/>\n       <use x=\"188.671875\" xlink:href=\"#DejaVuSans-45\"/>\n       <use x=\"224.755859\" xlink:href=\"#DejaVuSans-109\"/>\n       <use x=\"322.167969\" xlink:href=\"#DejaVuSans-111\"/>\n       <use x=\"383.349609\" xlink:href=\"#DejaVuSans-114\"/>\n       <use x=\"422.712891\" xlink:href=\"#DejaVuSans-110\"/>\n       <use x=\"486.091797\" xlink:href=\"#DejaVuSans-105\"/>\n       <use x=\"513.875\" xlink:href=\"#DejaVuSans-110\"/>\n       <use x=\"577.253906\" xlink:href=\"#DejaVuSans-103\"/>\n      </g>\n     </g>\n    </g>\n    <g id=\"xtick_3\">\n     <g id=\"line2d_3\">\n      <g>\n       <use style=\"stroke:#000000;stroke-width:0.8;\" x=\"231.996924\" xlink:href=\"#m62906d64b3\" y=\"239.758125\"/>\n      </g>\n     </g>\n     <g id=\"text_3\">\n      <!-- noon -->\n      <g transform=\"translate(219.540674 254.356562)scale(0.1 -0.1)\">\n       <use xlink:href=\"#DejaVuSans-110\"/>\n       <use x=\"63.378906\" xlink:href=\"#DejaVuSans-111\"/>\n       <use x=\"124.560547\" xlink:href=\"#DejaVuSans-111\"/>\n       <use x=\"185.742188\" xlink:href=\"#DejaVuSans-110\"/>\n      </g>\n     </g>\n    </g>\n    <g id=\"xtick_4\">\n     <g id=\"line2d_4\">\n      <g>\n       <use style=\"stroke:#000000;stroke-width:0.8;\" x=\"301.965576\" xlink:href=\"#m62906d64b3\" y=\"239.758125\"/>\n      </g>\n     </g>\n     <g id=\"text_4\">\n      <!-- afternoon -->\n      <g transform=\"translate(277.76792 254.356562)scale(0.1 -0.1)\">\n       <defs>\n        <path d=\"M 34.28125 27.484375 \nQ 23.390625 27.484375 19.1875 25 \nQ 14.984375 22.515625 14.984375 16.5 \nQ 14.984375 11.71875 18.140625 8.90625 \nQ 21.296875 6.109375 26.703125 6.109375 \nQ 34.1875 6.109375 38.703125 11.40625 \nQ 43.21875 16.703125 43.21875 25.484375 \nL 43.21875 27.484375 \nz\nM 52.203125 31.203125 \nL 52.203125 0 \nL 43.21875 0 \nL 43.21875 8.296875 \nQ 40.140625 3.328125 35.546875 0.953125 \nQ 30.953125 -1.421875 24.3125 -1.421875 \nQ 15.921875 -1.421875 10.953125 3.296875 \nQ 6 8.015625 6 15.921875 \nQ 6 25.140625 12.171875 29.828125 \nQ 18.359375 34.515625 30.609375 34.515625 \nL 43.21875 34.515625 \nL 43.21875 35.40625 \nQ 43.21875 41.609375 39.140625 45 \nQ 35.0625 48.390625 27.6875 48.390625 \nQ 23 48.390625 18.546875 47.265625 \nQ 14.109375 46.140625 10.015625 43.890625 \nL 10.015625 52.203125 \nQ 14.9375 54.109375 19.578125 55.046875 \nQ 24.21875 56 28.609375 56 \nQ 40.484375 56 46.34375 49.84375 \nQ 52.203125 43.703125 52.203125 31.203125 \nz\n\" id=\"DejaVuSans-97\"/>\n        <path d=\"M 37.109375 75.984375 \nL 37.109375 68.5 \nL 28.515625 68.5 \nQ 23.6875 68.5 21.796875 66.546875 \nQ 19.921875 64.59375 19.921875 59.515625 \nL 19.921875 54.6875 \nL 34.71875 54.6875 \nL 34.71875 47.703125 \nL 19.921875 47.703125 \nL 19.921875 0 \nL 10.890625 0 \nL 10.890625 47.703125 \nL 2.296875 47.703125 \nL 2.296875 54.6875 \nL 10.890625 54.6875 \nL 10.890625 58.5 \nQ 10.890625 67.625 15.140625 71.796875 \nQ 19.390625 75.984375 28.609375 75.984375 \nz\n\" id=\"DejaVuSans-102\"/>\n        <path d=\"M 18.3125 70.21875 \nL 18.3125 54.6875 \nL 36.8125 54.6875 \nL 36.8125 47.703125 \nL 18.3125 47.703125 \nL 18.3125 18.015625 \nQ 18.3125 11.328125 20.140625 9.421875 \nQ 21.96875 7.515625 27.59375 7.515625 \nL 36.8125 7.515625 \nL 36.8125 0 \nL 27.59375 0 \nQ 17.1875 0 13.234375 3.875 \nQ 9.28125 7.765625 9.28125 18.015625 \nL 9.28125 47.703125 \nL 2.6875 47.703125 \nL 2.6875 54.6875 \nL 9.28125 54.6875 \nL 9.28125 70.21875 \nz\n\" id=\"DejaVuSans-116\"/>\n        <path d=\"M 56.203125 29.59375 \nL 56.203125 25.203125 \nL 14.890625 25.203125 \nQ 15.484375 15.921875 20.484375 11.0625 \nQ 25.484375 6.203125 34.421875 6.203125 \nQ 39.59375 6.203125 44.453125 7.46875 \nQ 49.3125 8.734375 54.109375 11.28125 \nL 54.109375 2.78125 \nQ 49.265625 0.734375 44.1875 -0.34375 \nQ 39.109375 -1.421875 33.890625 -1.421875 \nQ 20.796875 -1.421875 13.15625 6.1875 \nQ 5.515625 13.8125 5.515625 26.8125 \nQ 5.515625 40.234375 12.765625 48.109375 \nQ 20.015625 56 32.328125 56 \nQ 43.359375 56 49.78125 48.890625 \nQ 56.203125 41.796875 56.203125 29.59375 \nz\nM 47.21875 32.234375 \nQ 47.125 39.59375 43.09375 43.984375 \nQ 39.0625 48.390625 32.421875 48.390625 \nQ 24.90625 48.390625 20.390625 44.140625 \nQ 15.875 39.890625 15.1875 32.171875 \nz\n\" id=\"DejaVuSans-101\"/>\n       </defs>\n       <use xlink:href=\"#DejaVuSans-97\"/>\n       <use x=\"61.279297\" xlink:href=\"#DejaVuSans-102\"/>\n       <use x=\"94.734375\" xlink:href=\"#DejaVuSans-116\"/>\n       <use x=\"133.943359\" xlink:href=\"#DejaVuSans-101\"/>\n       <use x=\"195.466797\" xlink:href=\"#DejaVuSans-114\"/>\n       <use x=\"234.830078\" xlink:href=\"#DejaVuSans-110\"/>\n       <use x=\"298.208984\" xlink:href=\"#DejaVuSans-111\"/>\n       <use x=\"359.390625\" xlink:href=\"#DejaVuSans-111\"/>\n       <use x=\"420.572266\" xlink:href=\"#DejaVuSans-110\"/>\n      </g>\n     </g>\n    </g>\n    <g id=\"xtick_5\">\n     <g id=\"line2d_5\">\n      <g>\n       <use style=\"stroke:#000000;stroke-width:0.8;\" x=\"371.934228\" xlink:href=\"#m62906d64b3\" y=\"239.758125\"/>\n      </g>\n     </g>\n     <g id=\"text_5\">\n      <!-- evening -->\n      <g transform=\"translate(351.920947 254.356562)scale(0.1 -0.1)\">\n       <defs>\n        <path d=\"M 2.984375 54.6875 \nL 12.5 54.6875 \nL 29.59375 8.796875 \nL 46.6875 54.6875 \nL 56.203125 54.6875 \nL 35.6875 0 \nL 23.484375 0 \nz\n\" id=\"DejaVuSans-118\"/>\n       </defs>\n       <use xlink:href=\"#DejaVuSans-101\"/>\n       <use x=\"61.523438\" xlink:href=\"#DejaVuSans-118\"/>\n       <use x=\"120.703125\" xlink:href=\"#DejaVuSans-101\"/>\n       <use x=\"182.226562\" xlink:href=\"#DejaVuSans-110\"/>\n       <use x=\"245.605469\" xlink:href=\"#DejaVuSans-105\"/>\n       <use x=\"273.388672\" xlink:href=\"#DejaVuSans-110\"/>\n       <use x=\"336.767578\" xlink:href=\"#DejaVuSans-103\"/>\n      </g>\n     </g>\n    </g>\n    <g id=\"xtick_6\">\n     <g id=\"line2d_6\">\n      <g>\n       <use style=\"stroke:#000000;stroke-width:0.8;\" x=\"441.90288\" xlink:href=\"#m62906d64b3\" y=\"239.758125\"/>\n      </g>\n     </g>\n     <g id=\"text_6\">\n      <!-- night -->\n      <g transform=\"translate(429.041943 254.356562)scale(0.1 -0.1)\">\n       <defs>\n        <path d=\"M 54.890625 33.015625 \nL 54.890625 0 \nL 45.90625 0 \nL 45.90625 32.71875 \nQ 45.90625 40.484375 42.875 44.328125 \nQ 39.84375 48.1875 33.796875 48.1875 \nQ 26.515625 48.1875 22.3125 43.546875 \nQ 18.109375 38.921875 18.109375 30.90625 \nL 18.109375 0 \nL 9.078125 0 \nL 9.078125 75.984375 \nL 18.109375 75.984375 \nL 18.109375 46.1875 \nQ 21.34375 51.125 25.703125 53.5625 \nQ 30.078125 56 35.796875 56 \nQ 45.21875 56 50.046875 50.171875 \nQ 54.890625 44.34375 54.890625 33.015625 \nz\n\" id=\"DejaVuSans-104\"/>\n       </defs>\n       <use xlink:href=\"#DejaVuSans-110\"/>\n       <use x=\"63.378906\" xlink:href=\"#DejaVuSans-105\"/>\n       <use x=\"91.162109\" xlink:href=\"#DejaVuSans-103\"/>\n       <use x=\"154.638672\" xlink:href=\"#DejaVuSans-104\"/>\n       <use x=\"218.017578\" xlink:href=\"#DejaVuSans-116\"/>\n      </g>\n     </g>\n    </g>\n    <g id=\"text_7\">\n     <!-- Time Period -->\n     <g transform=\"translate(237.570312 268.034687)scale(0.1 -0.1)\">\n      <defs>\n       <path d=\"M -0.296875 72.90625 \nL 61.375 72.90625 \nL 61.375 64.59375 \nL 35.5 64.59375 \nL 35.5 0 \nL 25.59375 0 \nL 25.59375 64.59375 \nL -0.296875 64.59375 \nz\n\" id=\"DejaVuSans-84\"/>\n       <path id=\"DejaVuSans-32\"/>\n       <path d=\"M 19.671875 64.796875 \nL 19.671875 37.40625 \nL 32.078125 37.40625 \nQ 38.96875 37.40625 42.71875 40.96875 \nQ 46.484375 44.53125 46.484375 51.125 \nQ 46.484375 57.671875 42.71875 61.234375 \nQ 38.96875 64.796875 32.078125 64.796875 \nz\nM 9.8125 72.90625 \nL 32.078125 72.90625 \nQ 44.34375 72.90625 50.609375 67.359375 \nQ 56.890625 61.8125 56.890625 51.125 \nQ 56.890625 40.328125 50.609375 34.8125 \nQ 44.34375 29.296875 32.078125 29.296875 \nL 19.671875 29.296875 \nL 19.671875 0 \nL 9.8125 0 \nz\n\" id=\"DejaVuSans-80\"/>\n      </defs>\n      <use xlink:href=\"#DejaVuSans-84\"/>\n      <use x=\"57.958984\" xlink:href=\"#DejaVuSans-105\"/>\n      <use x=\"85.742188\" xlink:href=\"#DejaVuSans-109\"/>\n      <use x=\"183.154297\" xlink:href=\"#DejaVuSans-101\"/>\n      <use x=\"244.677734\" xlink:href=\"#DejaVuSans-32\"/>\n      <use x=\"276.464844\" xlink:href=\"#DejaVuSans-80\"/>\n      <use x=\"333.142578\" xlink:href=\"#DejaVuSans-101\"/>\n      <use x=\"394.666016\" xlink:href=\"#DejaVuSans-114\"/>\n      <use x=\"435.779297\" xlink:href=\"#DejaVuSans-105\"/>\n      <use x=\"463.5625\" xlink:href=\"#DejaVuSans-111\"/>\n      <use x=\"524.744141\" xlink:href=\"#DejaVuSans-100\"/>\n     </g>\n    </g>\n   </g>\n   <g id=\"matplotlib.axis_2\">\n    <g id=\"ytick_1\">\n     <g id=\"line2d_7\">\n      <defs>\n       <path d=\"M 0 0 \nL -3.5 0 \n\" id=\"m5f23e28c33\" style=\"stroke:#000000;stroke-width:0.8;\"/>\n      </defs>\n      <g>\n       <use style=\"stroke:#000000;stroke-width:0.8;\" x=\"43.78125\" xlink:href=\"#m5f23e28c33\" y=\"239.758125\"/>\n      </g>\n     </g>\n     <g id=\"text_8\">\n      <!-- 0.0 -->\n      <g transform=\"translate(20.878125 243.557344)scale(0.1 -0.1)\">\n       <defs>\n        <path d=\"M 31.78125 66.40625 \nQ 24.171875 66.40625 20.328125 58.90625 \nQ 16.5 51.421875 16.5 36.375 \nQ 16.5 21.390625 20.328125 13.890625 \nQ 24.171875 6.390625 31.78125 6.390625 \nQ 39.453125 6.390625 43.28125 13.890625 \nQ 47.125 21.390625 47.125 36.375 \nQ 47.125 51.421875 43.28125 58.90625 \nQ 39.453125 66.40625 31.78125 66.40625 \nz\nM 31.78125 74.21875 \nQ 44.046875 74.21875 50.515625 64.515625 \nQ 56.984375 54.828125 56.984375 36.375 \nQ 56.984375 17.96875 50.515625 8.265625 \nQ 44.046875 -1.421875 31.78125 -1.421875 \nQ 19.53125 -1.421875 13.0625 8.265625 \nQ 6.59375 17.96875 6.59375 36.375 \nQ 6.59375 54.828125 13.0625 64.515625 \nQ 19.53125 74.21875 31.78125 74.21875 \nz\n\" id=\"DejaVuSans-48\"/>\n        <path d=\"M 10.6875 12.40625 \nL 21 12.40625 \nL 21 0 \nL 10.6875 0 \nz\n\" id=\"DejaVuSans-46\"/>\n       </defs>\n       <use xlink:href=\"#DejaVuSans-48\"/>\n       <use x=\"63.623047\" xlink:href=\"#DejaVuSans-46\"/>\n       <use x=\"95.410156\" xlink:href=\"#DejaVuSans-48\"/>\n      </g>\n     </g>\n    </g>\n    <g id=\"ytick_2\">\n     <g id=\"line2d_8\">\n      <g>\n       <use style=\"stroke:#000000;stroke-width:0.8;\" x=\"43.78125\" xlink:href=\"#m5f23e28c33\" y=\"199.484041\"/>\n      </g>\n     </g>\n     <g id=\"text_9\">\n      <!-- 0.2 -->\n      <g transform=\"translate(20.878125 203.28326)scale(0.1 -0.1)\">\n       <defs>\n        <path d=\"M 19.1875 8.296875 \nL 53.609375 8.296875 \nL 53.609375 0 \nL 7.328125 0 \nL 7.328125 8.296875 \nQ 12.9375 14.109375 22.625 23.890625 \nQ 32.328125 33.6875 34.8125 36.53125 \nQ 39.546875 41.84375 41.421875 45.53125 \nQ 43.3125 49.21875 43.3125 52.78125 \nQ 43.3125 58.59375 39.234375 62.25 \nQ 35.15625 65.921875 28.609375 65.921875 \nQ 23.96875 65.921875 18.8125 64.3125 \nQ 13.671875 62.703125 7.8125 59.421875 \nL 7.8125 69.390625 \nQ 13.765625 71.78125 18.9375 73 \nQ 24.125 74.21875 28.421875 74.21875 \nQ 39.75 74.21875 46.484375 68.546875 \nQ 53.21875 62.890625 53.21875 53.421875 \nQ 53.21875 48.921875 51.53125 44.890625 \nQ 49.859375 40.875 45.40625 35.40625 \nQ 44.1875 33.984375 37.640625 27.21875 \nQ 31.109375 20.453125 19.1875 8.296875 \nz\n\" id=\"DejaVuSans-50\"/>\n       </defs>\n       <use xlink:href=\"#DejaVuSans-48\"/>\n       <use x=\"63.623047\" xlink:href=\"#DejaVuSans-46\"/>\n       <use x=\"95.410156\" xlink:href=\"#DejaVuSans-50\"/>\n      </g>\n     </g>\n    </g>\n    <g id=\"ytick_3\">\n     <g id=\"line2d_9\">\n      <g>\n       <use style=\"stroke:#000000;stroke-width:0.8;\" x=\"43.78125\" xlink:href=\"#m5f23e28c33\" y=\"159.209957\"/>\n      </g>\n     </g>\n     <g id=\"text_10\">\n      <!-- 0.4 -->\n      <g transform=\"translate(20.878125 163.009176)scale(0.1 -0.1)\">\n       <defs>\n        <path d=\"M 37.796875 64.3125 \nL 12.890625 25.390625 \nL 37.796875 25.390625 \nz\nM 35.203125 72.90625 \nL 47.609375 72.90625 \nL 47.609375 25.390625 \nL 58.015625 25.390625 \nL 58.015625 17.1875 \nL 47.609375 17.1875 \nL 47.609375 0 \nL 37.796875 0 \nL 37.796875 17.1875 \nL 4.890625 17.1875 \nL 4.890625 26.703125 \nz\n\" id=\"DejaVuSans-52\"/>\n       </defs>\n       <use xlink:href=\"#DejaVuSans-48\"/>\n       <use x=\"63.623047\" xlink:href=\"#DejaVuSans-46\"/>\n       <use x=\"95.410156\" xlink:href=\"#DejaVuSans-52\"/>\n      </g>\n     </g>\n    </g>\n    <g id=\"ytick_4\">\n     <g id=\"line2d_10\">\n      <g>\n       <use style=\"stroke:#000000;stroke-width:0.8;\" x=\"43.78125\" xlink:href=\"#m5f23e28c33\" y=\"118.935874\"/>\n      </g>\n     </g>\n     <g id=\"text_11\">\n      <!-- 0.6 -->\n      <g transform=\"translate(20.878125 122.735092)scale(0.1 -0.1)\">\n       <defs>\n        <path d=\"M 33.015625 40.375 \nQ 26.375 40.375 22.484375 35.828125 \nQ 18.609375 31.296875 18.609375 23.390625 \nQ 18.609375 15.53125 22.484375 10.953125 \nQ 26.375 6.390625 33.015625 6.390625 \nQ 39.65625 6.390625 43.53125 10.953125 \nQ 47.40625 15.53125 47.40625 23.390625 \nQ 47.40625 31.296875 43.53125 35.828125 \nQ 39.65625 40.375 33.015625 40.375 \nz\nM 52.59375 71.296875 \nL 52.59375 62.3125 \nQ 48.875 64.0625 45.09375 64.984375 \nQ 41.3125 65.921875 37.59375 65.921875 \nQ 27.828125 65.921875 22.671875 59.328125 \nQ 17.53125 52.734375 16.796875 39.40625 \nQ 19.671875 43.65625 24.015625 45.921875 \nQ 28.375 48.1875 33.59375 48.1875 \nQ 44.578125 48.1875 50.953125 41.515625 \nQ 57.328125 34.859375 57.328125 23.390625 \nQ 57.328125 12.15625 50.6875 5.359375 \nQ 44.046875 -1.421875 33.015625 -1.421875 \nQ 20.359375 -1.421875 13.671875 8.265625 \nQ 6.984375 17.96875 6.984375 36.375 \nQ 6.984375 53.65625 15.1875 63.9375 \nQ 23.390625 74.21875 37.203125 74.21875 \nQ 40.921875 74.21875 44.703125 73.484375 \nQ 48.484375 72.75 52.59375 71.296875 \nz\n\" id=\"DejaVuSans-54\"/>\n       </defs>\n       <use xlink:href=\"#DejaVuSans-48\"/>\n       <use x=\"63.623047\" xlink:href=\"#DejaVuSans-46\"/>\n       <use x=\"95.410156\" xlink:href=\"#DejaVuSans-54\"/>\n      </g>\n     </g>\n    </g>\n    <g id=\"ytick_5\">\n     <g id=\"line2d_11\">\n      <g>\n       <use style=\"stroke:#000000;stroke-width:0.8;\" x=\"43.78125\" xlink:href=\"#m5f23e28c33\" y=\"78.66179\"/>\n      </g>\n     </g>\n     <g id=\"text_12\">\n      <!-- 0.8 -->\n      <g transform=\"translate(20.878125 82.461009)scale(0.1 -0.1)\">\n       <defs>\n        <path d=\"M 31.78125 34.625 \nQ 24.75 34.625 20.71875 30.859375 \nQ 16.703125 27.09375 16.703125 20.515625 \nQ 16.703125 13.921875 20.71875 10.15625 \nQ 24.75 6.390625 31.78125 6.390625 \nQ 38.8125 6.390625 42.859375 10.171875 \nQ 46.921875 13.96875 46.921875 20.515625 \nQ 46.921875 27.09375 42.890625 30.859375 \nQ 38.875 34.625 31.78125 34.625 \nz\nM 21.921875 38.8125 \nQ 15.578125 40.375 12.03125 44.71875 \nQ 8.5 49.078125 8.5 55.328125 \nQ 8.5 64.0625 14.71875 69.140625 \nQ 20.953125 74.21875 31.78125 74.21875 \nQ 42.671875 74.21875 48.875 69.140625 \nQ 55.078125 64.0625 55.078125 55.328125 \nQ 55.078125 49.078125 51.53125 44.71875 \nQ 48 40.375 41.703125 38.8125 \nQ 48.828125 37.15625 52.796875 32.3125 \nQ 56.78125 27.484375 56.78125 20.515625 \nQ 56.78125 9.90625 50.3125 4.234375 \nQ 43.84375 -1.421875 31.78125 -1.421875 \nQ 19.734375 -1.421875 13.25 4.234375 \nQ 6.78125 9.90625 6.78125 20.515625 \nQ 6.78125 27.484375 10.78125 32.3125 \nQ 14.796875 37.15625 21.921875 38.8125 \nz\nM 18.3125 54.390625 \nQ 18.3125 48.734375 21.84375 45.5625 \nQ 25.390625 42.390625 31.78125 42.390625 \nQ 38.140625 42.390625 41.71875 45.5625 \nQ 45.3125 48.734375 45.3125 54.390625 \nQ 45.3125 60.0625 41.71875 63.234375 \nQ 38.140625 66.40625 31.78125 66.40625 \nQ 25.390625 66.40625 21.84375 63.234375 \nQ 18.3125 60.0625 18.3125 54.390625 \nz\n\" id=\"DejaVuSans-56\"/>\n       </defs>\n       <use xlink:href=\"#DejaVuSans-48\"/>\n       <use x=\"63.623047\" xlink:href=\"#DejaVuSans-46\"/>\n       <use x=\"95.410156\" xlink:href=\"#DejaVuSans-56\"/>\n      </g>\n     </g>\n    </g>\n    <g id=\"ytick_6\">\n     <g id=\"line2d_12\">\n      <g>\n       <use style=\"stroke:#000000;stroke-width:0.8;\" x=\"43.78125\" xlink:href=\"#m5f23e28c33\" y=\"38.387706\"/>\n      </g>\n     </g>\n     <g id=\"text_13\">\n      <!-- 1.0 -->\n      <g transform=\"translate(20.878125 42.186925)scale(0.1 -0.1)\">\n       <defs>\n        <path d=\"M 12.40625 8.296875 \nL 28.515625 8.296875 \nL 28.515625 63.921875 \nL 10.984375 60.40625 \nL 10.984375 69.390625 \nL 28.421875 72.90625 \nL 38.28125 72.90625 \nL 38.28125 8.296875 \nL 54.390625 8.296875 \nL 54.390625 0 \nL 12.40625 0 \nz\n\" id=\"DejaVuSans-49\"/>\n       </defs>\n       <use xlink:href=\"#DejaVuSans-49\"/>\n       <use x=\"63.623047\" xlink:href=\"#DejaVuSans-46\"/>\n       <use x=\"95.410156\" xlink:href=\"#DejaVuSans-48\"/>\n      </g>\n     </g>\n    </g>\n    <g id=\"text_14\">\n     <!-- Number of Rides -->\n     <g transform=\"translate(14.798438 172.840469)rotate(-90)scale(0.1 -0.1)\">\n      <defs>\n       <path d=\"M 9.8125 72.90625 \nL 23.09375 72.90625 \nL 55.421875 11.921875 \nL 55.421875 72.90625 \nL 64.984375 72.90625 \nL 64.984375 0 \nL 51.703125 0 \nL 19.390625 60.984375 \nL 19.390625 0 \nL 9.8125 0 \nz\n\" id=\"DejaVuSans-78\"/>\n       <path d=\"M 8.5 21.578125 \nL 8.5 54.6875 \nL 17.484375 54.6875 \nL 17.484375 21.921875 \nQ 17.484375 14.15625 20.5 10.265625 \nQ 23.53125 6.390625 29.59375 6.390625 \nQ 36.859375 6.390625 41.078125 11.03125 \nQ 45.3125 15.671875 45.3125 23.6875 \nL 45.3125 54.6875 \nL 54.296875 54.6875 \nL 54.296875 0 \nL 45.3125 0 \nL 45.3125 8.40625 \nQ 42.046875 3.421875 37.71875 1 \nQ 33.40625 -1.421875 27.6875 -1.421875 \nQ 18.265625 -1.421875 13.375 4.4375 \nQ 8.5 10.296875 8.5 21.578125 \nz\nM 31.109375 56 \nz\n\" id=\"DejaVuSans-117\"/>\n       <path d=\"M 48.6875 27.296875 \nQ 48.6875 37.203125 44.609375 42.84375 \nQ 40.53125 48.484375 33.40625 48.484375 \nQ 26.265625 48.484375 22.1875 42.84375 \nQ 18.109375 37.203125 18.109375 27.296875 \nQ 18.109375 17.390625 22.1875 11.75 \nQ 26.265625 6.109375 33.40625 6.109375 \nQ 40.53125 6.109375 44.609375 11.75 \nQ 48.6875 17.390625 48.6875 27.296875 \nz\nM 18.109375 46.390625 \nQ 20.953125 51.265625 25.265625 53.625 \nQ 29.59375 56 35.59375 56 \nQ 45.5625 56 51.78125 48.09375 \nQ 58.015625 40.1875 58.015625 27.296875 \nQ 58.015625 14.40625 51.78125 6.484375 \nQ 45.5625 -1.421875 35.59375 -1.421875 \nQ 29.59375 -1.421875 25.265625 0.953125 \nQ 20.953125 3.328125 18.109375 8.203125 \nL 18.109375 0 \nL 9.078125 0 \nL 9.078125 75.984375 \nL 18.109375 75.984375 \nz\n\" id=\"DejaVuSans-98\"/>\n       <path d=\"M 44.390625 34.1875 \nQ 47.5625 33.109375 50.5625 29.59375 \nQ 53.5625 26.078125 56.59375 19.921875 \nL 66.609375 0 \nL 56 0 \nL 46.6875 18.703125 \nQ 43.0625 26.03125 39.671875 28.421875 \nQ 36.28125 30.8125 30.421875 30.8125 \nL 19.671875 30.8125 \nL 19.671875 0 \nL 9.8125 0 \nL 9.8125 72.90625 \nL 32.078125 72.90625 \nQ 44.578125 72.90625 50.734375 67.671875 \nQ 56.890625 62.453125 56.890625 51.90625 \nQ 56.890625 45.015625 53.6875 40.46875 \nQ 50.484375 35.9375 44.390625 34.1875 \nz\nM 19.671875 64.796875 \nL 19.671875 38.921875 \nL 32.078125 38.921875 \nQ 39.203125 38.921875 42.84375 42.21875 \nQ 46.484375 45.515625 46.484375 51.90625 \nQ 46.484375 58.296875 42.84375 61.546875 \nQ 39.203125 64.796875 32.078125 64.796875 \nz\n\" id=\"DejaVuSans-82\"/>\n       <path d=\"M 44.28125 53.078125 \nL 44.28125 44.578125 \nQ 40.484375 46.53125 36.375 47.5 \nQ 32.28125 48.484375 27.875 48.484375 \nQ 21.1875 48.484375 17.84375 46.4375 \nQ 14.5 44.390625 14.5 40.28125 \nQ 14.5 37.15625 16.890625 35.375 \nQ 19.28125 33.59375 26.515625 31.984375 \nL 29.59375 31.296875 \nQ 39.15625 29.25 43.1875 25.515625 \nQ 47.21875 21.78125 47.21875 15.09375 \nQ 47.21875 7.46875 41.1875 3.015625 \nQ 35.15625 -1.421875 24.609375 -1.421875 \nQ 20.21875 -1.421875 15.453125 -0.5625 \nQ 10.6875 0.296875 5.421875 2 \nL 5.421875 11.28125 \nQ 10.40625 8.6875 15.234375 7.390625 \nQ 20.0625 6.109375 24.8125 6.109375 \nQ 31.15625 6.109375 34.5625 8.28125 \nQ 37.984375 10.453125 37.984375 14.40625 \nQ 37.984375 18.0625 35.515625 20.015625 \nQ 33.0625 21.96875 24.703125 23.78125 \nL 21.578125 24.515625 \nQ 13.234375 26.265625 9.515625 29.90625 \nQ 5.8125 33.546875 5.8125 39.890625 \nQ 5.8125 47.609375 11.28125 51.796875 \nQ 16.75 56 26.8125 56 \nQ 31.78125 56 36.171875 55.265625 \nQ 40.578125 54.546875 44.28125 53.078125 \nz\n\" id=\"DejaVuSans-115\"/>\n      </defs>\n      <use xlink:href=\"#DejaVuSans-78\"/>\n      <use x=\"74.804688\" xlink:href=\"#DejaVuSans-117\"/>\n      <use x=\"138.183594\" xlink:href=\"#DejaVuSans-109\"/>\n      <use x=\"235.595703\" xlink:href=\"#DejaVuSans-98\"/>\n      <use x=\"299.072266\" xlink:href=\"#DejaVuSans-101\"/>\n      <use x=\"360.595703\" xlink:href=\"#DejaVuSans-114\"/>\n      <use x=\"401.708984\" xlink:href=\"#DejaVuSans-32\"/>\n      <use x=\"433.496094\" xlink:href=\"#DejaVuSans-111\"/>\n      <use x=\"494.677734\" xlink:href=\"#DejaVuSans-102\"/>\n      <use x=\"529.882812\" xlink:href=\"#DejaVuSans-32\"/>\n      <use x=\"561.669922\" xlink:href=\"#DejaVuSans-82\"/>\n      <use x=\"631.152344\" xlink:href=\"#DejaVuSans-105\"/>\n      <use x=\"658.935547\" xlink:href=\"#DejaVuSans-100\"/>\n      <use x=\"722.412109\" xlink:href=\"#DejaVuSans-101\"/>\n      <use x=\"783.935547\" xlink:href=\"#DejaVuSans-115\"/>\n     </g>\n    </g>\n    <g id=\"text_15\">\n     <!-- 1e6 -->\n     <g transform=\"translate(43.78125 19.318125)scale(0.1 -0.1)\">\n      <use xlink:href=\"#DejaVuSans-49\"/>\n      <use x=\"63.623047\" xlink:href=\"#DejaVuSans-101\"/>\n      <use x=\"125.146484\" xlink:href=\"#DejaVuSans-54\"/>\n     </g>\n    </g>\n   </g>\n   <g id=\"patch_9\">\n    <path d=\"M 43.78125 239.758125 \nL 43.78125 22.318125 \n\" style=\"fill:none;stroke:#000000;stroke-linecap:square;stroke-linejoin:miter;stroke-width:0.8;\"/>\n   </g>\n   <g id=\"patch_10\">\n    <path d=\"M 490.18125 239.758125 \nL 490.18125 22.318125 \n\" style=\"fill:none;stroke:#000000;stroke-linecap:square;stroke-linejoin:miter;stroke-width:0.8;\"/>\n   </g>\n   <g id=\"patch_11\">\n    <path d=\"M 43.78125 239.758125 \nL 490.18125 239.758125 \n\" style=\"fill:none;stroke:#000000;stroke-linecap:square;stroke-linejoin:miter;stroke-width:0.8;\"/>\n   </g>\n   <g id=\"patch_12\">\n    <path d=\"M 43.78125 22.318125 \nL 490.18125 22.318125 \n\" style=\"fill:none;stroke:#000000;stroke-linecap:square;stroke-linejoin:miter;stroke-width:0.8;\"/>\n   </g>\n   <g id=\"text_16\">\n    <!-- Number of Rides in different Time Periods -->\n    <g transform=\"translate(141.639375 16.318125)scale(0.12 -0.12)\">\n     <use xlink:href=\"#DejaVuSans-78\"/>\n     <use x=\"74.804688\" xlink:href=\"#DejaVuSans-117\"/>\n     <use x=\"138.183594\" xlink:href=\"#DejaVuSans-109\"/>\n     <use x=\"235.595703\" xlink:href=\"#DejaVuSans-98\"/>\n     <use x=\"299.072266\" xlink:href=\"#DejaVuSans-101\"/>\n     <use x=\"360.595703\" xlink:href=\"#DejaVuSans-114\"/>\n     <use x=\"401.708984\" xlink:href=\"#DejaVuSans-32\"/>\n     <use x=\"433.496094\" xlink:href=\"#DejaVuSans-111\"/>\n     <use x=\"494.677734\" xlink:href=\"#DejaVuSans-102\"/>\n     <use x=\"529.882812\" xlink:href=\"#DejaVuSans-32\"/>\n     <use x=\"561.669922\" xlink:href=\"#DejaVuSans-82\"/>\n     <use x=\"631.152344\" xlink:href=\"#DejaVuSans-105\"/>\n     <use x=\"658.935547\" xlink:href=\"#DejaVuSans-100\"/>\n     <use x=\"722.412109\" xlink:href=\"#DejaVuSans-101\"/>\n     <use x=\"783.935547\" xlink:href=\"#DejaVuSans-115\"/>\n     <use x=\"836.035156\" xlink:href=\"#DejaVuSans-32\"/>\n     <use x=\"867.822266\" xlink:href=\"#DejaVuSans-105\"/>\n     <use x=\"895.605469\" xlink:href=\"#DejaVuSans-110\"/>\n     <use x=\"958.984375\" xlink:href=\"#DejaVuSans-32\"/>\n     <use x=\"990.771484\" xlink:href=\"#DejaVuSans-100\"/>\n     <use x=\"1054.248047\" xlink:href=\"#DejaVuSans-105\"/>\n     <use x=\"1082.03125\" xlink:href=\"#DejaVuSans-102\"/>\n     <use x=\"1117.236328\" xlink:href=\"#DejaVuSans-102\"/>\n     <use x=\"1152.441406\" xlink:href=\"#DejaVuSans-101\"/>\n     <use x=\"1213.964844\" xlink:href=\"#DejaVuSans-114\"/>\n     <use x=\"1252.828125\" xlink:href=\"#DejaVuSans-101\"/>\n     <use x=\"1314.351562\" xlink:href=\"#DejaVuSans-110\"/>\n     <use x=\"1377.730469\" xlink:href=\"#DejaVuSans-116\"/>\n     <use x=\"1416.939453\" xlink:href=\"#DejaVuSans-32\"/>\n     <use x=\"1448.726562\" xlink:href=\"#DejaVuSans-84\"/>\n     <use x=\"1506.685547\" xlink:href=\"#DejaVuSans-105\"/>\n     <use x=\"1534.46875\" xlink:href=\"#DejaVuSans-109\"/>\n     <use x=\"1631.880859\" xlink:href=\"#DejaVuSans-101\"/>\n     <use x=\"1693.404297\" xlink:href=\"#DejaVuSans-32\"/>\n     <use x=\"1725.191406\" xlink:href=\"#DejaVuSans-80\"/>\n     <use x=\"1781.869141\" xlink:href=\"#DejaVuSans-101\"/>\n     <use x=\"1843.392578\" xlink:href=\"#DejaVuSans-114\"/>\n     <use x=\"1884.505859\" xlink:href=\"#DejaVuSans-105\"/>\n     <use x=\"1912.289062\" xlink:href=\"#DejaVuSans-111\"/>\n     <use x=\"1973.470703\" xlink:href=\"#DejaVuSans-100\"/>\n     <use x=\"2036.947266\" xlink:href=\"#DejaVuSans-115\"/>\n    </g>\n   </g>\n  </g>\n </g>\n <defs>\n  <clipPath id=\"pb18f0039db\">\n   <rect height=\"217.44\" width=\"446.4\" x=\"43.78125\" y=\"22.318125\"/>\n  </clipPath>\n </defs>\n</svg>\n",
      "image/png": "[encoded data removed]"
     },
     "metadata": {
      "needs_background": "light"
     }
    }
   ],
   "source": [
    "fig,ax = plt.subplots(figsize=(8,4))\n",
    "\n",
    "ax.bar(start_hours['Time_Period'],start_hours['Rides'])\n",
    "ax.set_xlabel(\"Time Period\")\n",
    "ax.set_ylabel(\"Number of Rides\")\n",
    "ax.set_title(\"Number of Rides in different Time Periods\")\n",
    "\n",
    "plt.show()"
   ]
  },
  {
   "cell_type": "code",
   "execution_count": null,
   "metadata": {},
   "outputs": [],
   "source": []
  }
 ],
 "metadata": {
  "kernelspec": {
   "name": "python385jvsc74a57bd0ed5b6eec5fa7619496b5c32bf7e701327613e9cdc173f3d3fa3d9db56ec83e30",
   "display_name": "Python 3.8.5 64-bit ('base': conda)"
  },
  "language_info": {
   "codemirror_mode": {
    "name": "ipython",
    "version": 3
   },
   "file_extension": ".py",
   "mimetype": "text/x-python",
   "name": "python",
   "nbconvert_exporter": "python",
   "pygments_lexer": "ipython3",
   "version": "3.8.5"
  },
  "metadata": {
   "interpreter": {
    "hash": "ed5b6eec5fa7619496b5c32bf7e701327613e9cdc173f3d3fa3d9db56ec83e30"
   }
  }
 },
 "nbformat": 4,
 "nbformat_minor": 2
}