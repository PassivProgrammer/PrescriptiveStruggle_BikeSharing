{
 "metadata": {
  "language_info": {
   "codemirror_mode": {
    "name": "ipython",
    "version": 3
   },
   "file_extension": ".py",
   "mimetype": "text/x-python",
   "name": "python",
   "nbconvert_exporter": "python",
   "pygments_lexer": "ipython3",
   "version": "3.8.5"
  },
  "orig_nbformat": 4,
  "kernelspec": {
   "name": "python3",
   "display_name": "Python 3.8.5 64-bit ('base': conda)"
  },
  "interpreter": {
   "hash": "ed5b6eec5fa7619496b5c32bf7e701327613e9cdc173f3d3fa3d9db56ec83e30"
  }
 },
 "nbformat": 4,
 "nbformat_minor": 2,
 "cells": [
  {
   "source": [
    "# Forecasting total system-level demand in the next hour"
   ],
   "cell_type": "markdown",
   "metadata": {}
  },
  {
   "source": [
    "## possible feature that correlate with bike demand\n",
    "  1. weather\n",
    "  1. type of user \n",
    "  1. weekday\n",
    "  1. season\n",
    "  1. time of day\n",
    "  1. location\n"
   ],
   "cell_type": "markdown",
   "metadata": {}
  },
  {
   "source": [
    "### first simple ML model (workshop 07)"
   ],
   "cell_type": "markdown",
   "metadata": {}
  },
  {
   "cell_type": "code",
   "execution_count": 8,
   "metadata": {},
   "outputs": [],
   "source": [
    "import numpy as np\n",
    "import matplotlib.pyplot as plt\n",
    "from pandas.plotting import register_matplotlib_converters\n",
    "register_matplotlib_converters()\n",
    "import seaborn as sns\n",
    "import pandas as pd\n",
    "from sklearn.linear_model import LinearRegression\n",
    "import datetime"
   ]
  },
  {
   "cell_type": "code",
   "execution_count": 9,
   "metadata": {},
   "outputs": [
    {
     "output_type": "execute_result",
     "data": {
      "text/plain": [
       "           start_time            end_time  start_station_id  end_station_id  \\\n",
       "0 2016-03-31 23:53:00 2016-04-01 00:07:00               344             458   \n",
       "1 2016-03-31 23:46:00 2016-03-31 23:57:00               128             213   \n",
       "2 2016-03-31 23:42:00 2016-03-31 23:46:00               350             210   \n",
       "3 2016-03-31 23:37:00 2016-03-31 23:55:00               303             458   \n",
       "4 2016-03-31 23:33:00 2016-03-31 23:37:00               334             329   \n",
       "\n",
       "              start_station_name               end_station_name  bike_id  \\\n",
       "0  Ravenswood Ave & Lawrence Ave       Broadway & Thorndale Ave      155   \n",
       "1        Damen Ave & Chicago Ave         Leavitt St & North Ave     4831   \n",
       "2      Ashland Ave & Chicago Ave      Ashland Ave & Division St     4232   \n",
       "3        Broadway & Cornelia Ave       Broadway & Thorndale Ave     3464   \n",
       "4    Lake Shore Dr & Belmont Ave  Lake Shore Dr & Diversey Pkwy     1750   \n",
       "\n",
       "    user_type  \n",
       "0  Subscriber  \n",
       "1  Subscriber  \n",
       "2  Subscriber  \n",
       "3  Subscriber  \n",
       "4  Subscriber  "
      ],
      "text/html": "<div>\n<style scoped>\n    .dataframe tbody tr th:only-of-type {\n        vertical-align: middle;\n    }\n\n    .dataframe tbody tr th {\n        vertical-align: top;\n    }\n\n    .dataframe thead th {\n        text-align: right;\n    }\n</style>\n<table border=\"1\" class=\"dataframe\">\n  <thead>\n    <tr style=\"text-align: right;\">\n      <th></th>\n      <th>start_time</th>\n      <th>end_time</th>\n      <th>start_station_id</th>\n      <th>end_station_id</th>\n      <th>start_station_name</th>\n      <th>end_station_name</th>\n      <th>bike_id</th>\n      <th>user_type</th>\n    </tr>\n  </thead>\n  <tbody>\n    <tr>\n      <th>0</th>\n      <td>2016-03-31 23:53:00</td>\n      <td>2016-04-01 00:07:00</td>\n      <td>344</td>\n      <td>458</td>\n      <td>Ravenswood Ave &amp; Lawrence Ave</td>\n      <td>Broadway &amp; Thorndale Ave</td>\n      <td>155</td>\n      <td>Subscriber</td>\n    </tr>\n    <tr>\n      <th>1</th>\n      <td>2016-03-31 23:46:00</td>\n      <td>2016-03-31 23:57:00</td>\n      <td>128</td>\n      <td>213</td>\n      <td>Damen Ave &amp; Chicago Ave</td>\n      <td>Leavitt St &amp; North Ave</td>\n      <td>4831</td>\n      <td>Subscriber</td>\n    </tr>\n    <tr>\n      <th>2</th>\n      <td>2016-03-31 23:42:00</td>\n      <td>2016-03-31 23:46:00</td>\n      <td>350</td>\n      <td>210</td>\n      <td>Ashland Ave &amp; Chicago Ave</td>\n      <td>Ashland Ave &amp; Division St</td>\n      <td>4232</td>\n      <td>Subscriber</td>\n    </tr>\n    <tr>\n      <th>3</th>\n      <td>2016-03-31 23:37:00</td>\n      <td>2016-03-31 23:55:00</td>\n      <td>303</td>\n      <td>458</td>\n      <td>Broadway &amp; Cornelia Ave</td>\n      <td>Broadway &amp; Thorndale Ave</td>\n      <td>3464</td>\n      <td>Subscriber</td>\n    </tr>\n    <tr>\n      <th>4</th>\n      <td>2016-03-31 23:33:00</td>\n      <td>2016-03-31 23:37:00</td>\n      <td>334</td>\n      <td>329</td>\n      <td>Lake Shore Dr &amp; Belmont Ave</td>\n      <td>Lake Shore Dr &amp; Diversey Pkwy</td>\n      <td>1750</td>\n      <td>Subscriber</td>\n    </tr>\n  </tbody>\n</table>\n</div>"
     },
     "metadata": {},
     "execution_count": 9
    }
   ],
   "source": [
    "df = pd.read_csv(\"../chicago_2016.csv\", parse_dates=[\"start_time\",\"end_time\"])\n",
    "df.head()"
   ]
  },
  {
   "cell_type": "code",
   "execution_count": 20,
   "metadata": {},
   "outputs": [
    {
     "output_type": "execute_result",
     "data": {
      "text/plain": [
       "           start_time            end_time  start_station_id  end_station_id  \\\n",
       "0 2016-03-31 23:53:00 2016-04-01 00:07:00               344             458   \n",
       "1 2016-03-31 23:46:00 2016-03-31 23:57:00               128             213   \n",
       "2 2016-03-31 23:42:00 2016-03-31 23:46:00               350             210   \n",
       "3 2016-03-31 23:37:00 2016-03-31 23:55:00               303             458   \n",
       "4 2016-03-31 23:33:00 2016-03-31 23:37:00               334             329   \n",
       "\n",
       "              start_station_name               end_station_name  bike_id  \\\n",
       "0  Ravenswood Ave & Lawrence Ave       Broadway & Thorndale Ave      155   \n",
       "1        Damen Ave & Chicago Ave         Leavitt St & North Ave     4831   \n",
       "2      Ashland Ave & Chicago Ave      Ashland Ave & Division St     4232   \n",
       "3        Broadway & Cornelia Ave       Broadway & Thorndale Ave     3464   \n",
       "4    Lake Shore Dr & Belmont Ave  Lake Shore Dr & Diversey Pkwy     1750   \n",
       "\n",
       "    user_type  start_hour  weekday  month  duration  \n",
       "0  Subscriber          23        3      3      14.0  \n",
       "1  Subscriber          23        3      3      11.0  \n",
       "2  Subscriber          23        3      3       4.0  \n",
       "3  Subscriber          23        3      3      18.0  \n",
       "4  Subscriber          23        3      3       4.0  "
      ],
      "text/html": "<div>\n<style scoped>\n    .dataframe tbody tr th:only-of-type {\n        vertical-align: middle;\n    }\n\n    .dataframe tbody tr th {\n        vertical-align: top;\n    }\n\n    .dataframe thead th {\n        text-align: right;\n    }\n</style>\n<table border=\"1\" class=\"dataframe\">\n  <thead>\n    <tr style=\"text-align: right;\">\n      <th></th>\n      <th>start_time</th>\n      <th>end_time</th>\n      <th>start_station_id</th>\n      <th>end_station_id</th>\n      <th>start_station_name</th>\n      <th>end_station_name</th>\n      <th>bike_id</th>\n      <th>user_type</th>\n      <th>start_hour</th>\n      <th>weekday</th>\n      <th>month</th>\n      <th>duration</th>\n    </tr>\n  </thead>\n  <tbody>\n    <tr>\n      <th>0</th>\n      <td>2016-03-31 23:53:00</td>\n      <td>2016-04-01 00:07:00</td>\n      <td>344</td>\n      <td>458</td>\n      <td>Ravenswood Ave &amp; Lawrence Ave</td>\n      <td>Broadway &amp; Thorndale Ave</td>\n      <td>155</td>\n      <td>Subscriber</td>\n      <td>23</td>\n      <td>3</td>\n      <td>3</td>\n      <td>14.0</td>\n    </tr>\n    <tr>\n      <th>1</th>\n      <td>2016-03-31 23:46:00</td>\n      <td>2016-03-31 23:57:00</td>\n      <td>128</td>\n      <td>213</td>\n      <td>Damen Ave &amp; Chicago Ave</td>\n      <td>Leavitt St &amp; North Ave</td>\n      <td>4831</td>\n      <td>Subscriber</td>\n      <td>23</td>\n      <td>3</td>\n      <td>3</td>\n      <td>11.0</td>\n    </tr>\n    <tr>\n      <th>2</th>\n      <td>2016-03-31 23:42:00</td>\n      <td>2016-03-31 23:46:00</td>\n      <td>350</td>\n      <td>210</td>\n      <td>Ashland Ave &amp; Chicago Ave</td>\n      <td>Ashland Ave &amp; Division St</td>\n      <td>4232</td>\n      <td>Subscriber</td>\n      <td>23</td>\n      <td>3</td>\n      <td>3</td>\n      <td>4.0</td>\n    </tr>\n    <tr>\n      <th>3</th>\n      <td>2016-03-31 23:37:00</td>\n      <td>2016-03-31 23:55:00</td>\n      <td>303</td>\n      <td>458</td>\n      <td>Broadway &amp; Cornelia Ave</td>\n      <td>Broadway &amp; Thorndale Ave</td>\n      <td>3464</td>\n      <td>Subscriber</td>\n      <td>23</td>\n      <td>3</td>\n      <td>3</td>\n      <td>18.0</td>\n    </tr>\n    <tr>\n      <th>4</th>\n      <td>2016-03-31 23:33:00</td>\n      <td>2016-03-31 23:37:00</td>\n      <td>334</td>\n      <td>329</td>\n      <td>Lake Shore Dr &amp; Belmont Ave</td>\n      <td>Lake Shore Dr &amp; Diversey Pkwy</td>\n      <td>1750</td>\n      <td>Subscriber</td>\n      <td>23</td>\n      <td>3</td>\n      <td>3</td>\n      <td>4.0</td>\n    </tr>\n  </tbody>\n</table>\n</div>"
     },
     "metadata": {},
     "execution_count": 20
    }
   ],
   "source": [
    "# hinzufügen der Stunde des Starts\n",
    "df['start_hour']= df[\"start_time\"].apply(lambda x: x.hour)\n",
    "# hinzufügen des Wochentags\n",
    "df['weekday']= df[\"start_time\"].apply(lambda x: x.weekday())\n",
    "# hinzufügen des Monats\n",
    "df['month']= df[\"start_time\"].apply(lambda x: x.month)\n",
    "#. honzufügen der Dauer der Fahrt\n",
    "df[\"duration\"] = (df[\"end_time\"] - df[\"start_time\"]).astype(\"timedelta64[m]\")\n",
    "df.head()"
   ]
  },
  {
   "cell_type": "code",
   "execution_count": 21,
   "metadata": {},
   "outputs": [],
   "source": [
    "# Methode für die Tageszeit\n",
    "def get_time_of_day(x):\n",
    "    if(x >= 6 and x <10):\n",
    "        return \"Morning\"\n",
    "    elif(x >= 10 and x <12):\n",
    "        return \"Mid-morning\"\n",
    "    elif(x >= 12 and x <14):\n",
    "        return \"Noon\"\n",
    "    elif(x >= 14 and x <17):\n",
    "        return \"Afternoon\"\n",
    "    elif(x >= 17 and x <21):\n",
    "        return \"Evening\"\n",
    "    else:\n",
    "        return \"Night\""
   ]
  },
  {
   "cell_type": "code",
   "execution_count": 22,
   "metadata": {},
   "outputs": [
    {
     "output_type": "execute_result",
     "data": {
      "text/plain": [
       "           start_time            end_time  start_station_id  end_station_id  \\\n",
       "0 2016-03-31 23:53:00 2016-04-01 00:07:00               344             458   \n",
       "1 2016-03-31 23:46:00 2016-03-31 23:57:00               128             213   \n",
       "2 2016-03-31 23:42:00 2016-03-31 23:46:00               350             210   \n",
       "3 2016-03-31 23:37:00 2016-03-31 23:55:00               303             458   \n",
       "4 2016-03-31 23:33:00 2016-03-31 23:37:00               334             329   \n",
       "\n",
       "              start_station_name               end_station_name  bike_id  \\\n",
       "0  Ravenswood Ave & Lawrence Ave       Broadway & Thorndale Ave      155   \n",
       "1        Damen Ave & Chicago Ave         Leavitt St & North Ave     4831   \n",
       "2      Ashland Ave & Chicago Ave      Ashland Ave & Division St     4232   \n",
       "3        Broadway & Cornelia Ave       Broadway & Thorndale Ave     3464   \n",
       "4    Lake Shore Dr & Belmont Ave  Lake Shore Dr & Diversey Pkwy     1750   \n",
       "\n",
       "    user_type  start_hour  weekday  month  duration time_of_day  \n",
       "0  Subscriber          23        3      3      14.0       Night  \n",
       "1  Subscriber          23        3      3      11.0       Night  \n",
       "2  Subscriber          23        3      3       4.0       Night  \n",
       "3  Subscriber          23        3      3      18.0       Night  \n",
       "4  Subscriber          23        3      3       4.0       Night  "
      ],
      "text/html": "<div>\n<style scoped>\n    .dataframe tbody tr th:only-of-type {\n        vertical-align: middle;\n    }\n\n    .dataframe tbody tr th {\n        vertical-align: top;\n    }\n\n    .dataframe thead th {\n        text-align: right;\n    }\n</style>\n<table border=\"1\" class=\"dataframe\">\n  <thead>\n    <tr style=\"text-align: right;\">\n      <th></th>\n      <th>start_time</th>\n      <th>end_time</th>\n      <th>start_station_id</th>\n      <th>end_station_id</th>\n      <th>start_station_name</th>\n      <th>end_station_name</th>\n      <th>bike_id</th>\n      <th>user_type</th>\n      <th>start_hour</th>\n      <th>weekday</th>\n      <th>month</th>\n      <th>duration</th>\n      <th>time_of_day</th>\n    </tr>\n  </thead>\n  <tbody>\n    <tr>\n      <th>0</th>\n      <td>2016-03-31 23:53:00</td>\n      <td>2016-04-01 00:07:00</td>\n      <td>344</td>\n      <td>458</td>\n      <td>Ravenswood Ave &amp; Lawrence Ave</td>\n      <td>Broadway &amp; Thorndale Ave</td>\n      <td>155</td>\n      <td>Subscriber</td>\n      <td>23</td>\n      <td>3</td>\n      <td>3</td>\n      <td>14.0</td>\n      <td>Night</td>\n    </tr>\n    <tr>\n      <th>1</th>\n      <td>2016-03-31 23:46:00</td>\n      <td>2016-03-31 23:57:00</td>\n      <td>128</td>\n      <td>213</td>\n      <td>Damen Ave &amp; Chicago Ave</td>\n      <td>Leavitt St &amp; North Ave</td>\n      <td>4831</td>\n      <td>Subscriber</td>\n      <td>23</td>\n      <td>3</td>\n      <td>3</td>\n      <td>11.0</td>\n      <td>Night</td>\n    </tr>\n    <tr>\n      <th>2</th>\n      <td>2016-03-31 23:42:00</td>\n      <td>2016-03-31 23:46:00</td>\n      <td>350</td>\n      <td>210</td>\n      <td>Ashland Ave &amp; Chicago Ave</td>\n      <td>Ashland Ave &amp; Division St</td>\n      <td>4232</td>\n      <td>Subscriber</td>\n      <td>23</td>\n      <td>3</td>\n      <td>3</td>\n      <td>4.0</td>\n      <td>Night</td>\n    </tr>\n    <tr>\n      <th>3</th>\n      <td>2016-03-31 23:37:00</td>\n      <td>2016-03-31 23:55:00</td>\n      <td>303</td>\n      <td>458</td>\n      <td>Broadway &amp; Cornelia Ave</td>\n      <td>Broadway &amp; Thorndale Ave</td>\n      <td>3464</td>\n      <td>Subscriber</td>\n      <td>23</td>\n      <td>3</td>\n      <td>3</td>\n      <td>18.0</td>\n      <td>Night</td>\n    </tr>\n    <tr>\n      <th>4</th>\n      <td>2016-03-31 23:33:00</td>\n      <td>2016-03-31 23:37:00</td>\n      <td>334</td>\n      <td>329</td>\n      <td>Lake Shore Dr &amp; Belmont Ave</td>\n      <td>Lake Shore Dr &amp; Diversey Pkwy</td>\n      <td>1750</td>\n      <td>Subscriber</td>\n      <td>23</td>\n      <td>3</td>\n      <td>3</td>\n      <td>4.0</td>\n      <td>Night</td>\n    </tr>\n  </tbody>\n</table>\n</div>"
     },
     "metadata": {},
     "execution_count": 22
    }
   ],
   "source": [
    "# hinzufügen der Tageszeit\n",
    "df[\"time_of_day\"] = df[\"start_hour\"].apply(lambda x: get_time_of_day(x))\n",
    "df.head()"
   ]
  },
  {
   "cell_type": "code",
   "execution_count": 23,
   "metadata": {},
   "outputs": [
    {
     "output_type": "execute_result",
     "data": {
      "text/plain": [
       "           start_time            end_time  start_station_id  end_station_id  \\\n",
       "0 2016-03-31 23:53:00 2016-04-01 00:07:00               344             458   \n",
       "1 2016-03-31 23:46:00 2016-03-31 23:57:00               128             213   \n",
       "2 2016-03-31 23:42:00 2016-03-31 23:46:00               350             210   \n",
       "\n",
       "              start_station_name           end_station_name  bike_id  \\\n",
       "0  Ravenswood Ave & Lawrence Ave   Broadway & Thorndale Ave      155   \n",
       "1        Damen Ave & Chicago Ave     Leavitt St & North Ave     4831   \n",
       "2      Ashland Ave & Chicago Ave  Ashland Ave & Division St     4232   \n",
       "\n",
       "    user_type  start_hour  weekday  month  duration time_of_day  season  \n",
       "0  Subscriber          23        3      3      14.0       Night  Spring  \n",
       "1  Subscriber          23        3      3      11.0       Night  Spring  \n",
       "2  Subscriber          23        3      3       4.0       Night  Spring  "
      ],
      "text/html": "<div>\n<style scoped>\n    .dataframe tbody tr th:only-of-type {\n        vertical-align: middle;\n    }\n\n    .dataframe tbody tr th {\n        vertical-align: top;\n    }\n\n    .dataframe thead th {\n        text-align: right;\n    }\n</style>\n<table border=\"1\" class=\"dataframe\">\n  <thead>\n    <tr style=\"text-align: right;\">\n      <th></th>\n      <th>start_time</th>\n      <th>end_time</th>\n      <th>start_station_id</th>\n      <th>end_station_id</th>\n      <th>start_station_name</th>\n      <th>end_station_name</th>\n      <th>bike_id</th>\n      <th>user_type</th>\n      <th>start_hour</th>\n      <th>weekday</th>\n      <th>month</th>\n      <th>duration</th>\n      <th>time_of_day</th>\n      <th>season</th>\n    </tr>\n  </thead>\n  <tbody>\n    <tr>\n      <th>0</th>\n      <td>2016-03-31 23:53:00</td>\n      <td>2016-04-01 00:07:00</td>\n      <td>344</td>\n      <td>458</td>\n      <td>Ravenswood Ave &amp; Lawrence Ave</td>\n      <td>Broadway &amp; Thorndale Ave</td>\n      <td>155</td>\n      <td>Subscriber</td>\n      <td>23</td>\n      <td>3</td>\n      <td>3</td>\n      <td>14.0</td>\n      <td>Night</td>\n      <td>Spring</td>\n    </tr>\n    <tr>\n      <th>1</th>\n      <td>2016-03-31 23:46:00</td>\n      <td>2016-03-31 23:57:00</td>\n      <td>128</td>\n      <td>213</td>\n      <td>Damen Ave &amp; Chicago Ave</td>\n      <td>Leavitt St &amp; North Ave</td>\n      <td>4831</td>\n      <td>Subscriber</td>\n      <td>23</td>\n      <td>3</td>\n      <td>3</td>\n      <td>11.0</td>\n      <td>Night</td>\n      <td>Spring</td>\n    </tr>\n    <tr>\n      <th>2</th>\n      <td>2016-03-31 23:42:00</td>\n      <td>2016-03-31 23:46:00</td>\n      <td>350</td>\n      <td>210</td>\n      <td>Ashland Ave &amp; Chicago Ave</td>\n      <td>Ashland Ave &amp; Division St</td>\n      <td>4232</td>\n      <td>Subscriber</td>\n      <td>23</td>\n      <td>3</td>\n      <td>3</td>\n      <td>4.0</td>\n      <td>Night</td>\n      <td>Spring</td>\n    </tr>\n  </tbody>\n</table>\n</div>"
     },
     "metadata": {},
     "execution_count": 23
    }
   ],
   "source": [
    "# hinzufügen der Season\n",
    "def get_season(x):\n",
    "    if(x == 1 or x == 2 or x == 12):\n",
    "        return \"Winter\"\n",
    "    elif(x >= 3 and x <= 5):\n",
    "        return \"Spring\"\n",
    "    elif(x >= 6 and x <= 8):\n",
    "        return \"Sommer\"\n",
    "    else:\n",
    "        return \"Autumn\"\n",
    "\n",
    "df[\"season\"] = df[\"month\"].apply(lambda x: get_season(x))\n",
    "df.head(3)"
   ]
  },
  {
   "cell_type": "code",
   "execution_count": 24,
   "metadata": {},
   "outputs": [
    {
     "output_type": "execute_result",
     "data": {
      "text/plain": [
       "            date_time  max_temp  min_temp  precip  hour  day\n",
       "0 2015-01-02 01:00:00      -1.7      -1.7     0.0     1    2\n",
       "1 2015-01-02 02:00:00      -2.2      -2.2     0.0     2    2\n",
       "2 2015-01-02 03:00:00      -2.8      -2.8     0.0     3    2\n",
       "3 2015-01-02 04:00:00      -3.3      -3.3     0.0     4    2\n",
       "4 2015-01-02 05:00:00      -4.4      -4.4     0.0     5    2"
      ],
      "text/html": "<div>\n<style scoped>\n    .dataframe tbody tr th:only-of-type {\n        vertical-align: middle;\n    }\n\n    .dataframe tbody tr th {\n        vertical-align: top;\n    }\n\n    .dataframe thead th {\n        text-align: right;\n    }\n</style>\n<table border=\"1\" class=\"dataframe\">\n  <thead>\n    <tr style=\"text-align: right;\">\n      <th></th>\n      <th>date_time</th>\n      <th>max_temp</th>\n      <th>min_temp</th>\n      <th>precip</th>\n      <th>hour</th>\n      <th>day</th>\n    </tr>\n  </thead>\n  <tbody>\n    <tr>\n      <th>0</th>\n      <td>2015-01-02 01:00:00</td>\n      <td>-1.7</td>\n      <td>-1.7</td>\n      <td>0.0</td>\n      <td>1</td>\n      <td>2</td>\n    </tr>\n    <tr>\n      <th>1</th>\n      <td>2015-01-02 02:00:00</td>\n      <td>-2.2</td>\n      <td>-2.2</td>\n      <td>0.0</td>\n      <td>2</td>\n      <td>2</td>\n    </tr>\n    <tr>\n      <th>2</th>\n      <td>2015-01-02 03:00:00</td>\n      <td>-2.8</td>\n      <td>-2.8</td>\n      <td>0.0</td>\n      <td>3</td>\n      <td>2</td>\n    </tr>\n    <tr>\n      <th>3</th>\n      <td>2015-01-02 04:00:00</td>\n      <td>-3.3</td>\n      <td>-3.3</td>\n      <td>0.0</td>\n      <td>4</td>\n      <td>2</td>\n    </tr>\n    <tr>\n      <th>4</th>\n      <td>2015-01-02 05:00:00</td>\n      <td>-4.4</td>\n      <td>-4.4</td>\n      <td>0.0</td>\n      <td>5</td>\n      <td>2</td>\n    </tr>\n  </tbody>\n</table>\n</div>"
     },
     "metadata": {},
     "execution_count": 24
    }
   ],
   "source": [
    "# hinzufügen der Wetterdaten\n",
    "weather = pd.read_csv(\"../weather_hourly_chicago.csv\", parse_dates = [\"date_time\"])\n",
    "weather = weather.dropna()\n",
    "weather[\"hour\"] = weather[\"date_time\"].apply(lambda x:x.hour)\n",
    "weather[\"day\"] = weather[\"date_time\"].apply(lambda x:x.day)\n",
    "weather.sort_values(by=\"date_time\")\n",
    "weather.head()"
   ]
  },
  {
   "cell_type": "code",
   "execution_count": 25,
   "metadata": {},
   "outputs": [
    {
     "output_type": "execute_result",
     "data": {
      "text/plain": [
       "           start_time            end_time  start_station_id  end_station_id  \\\n",
       "0 2016-03-31 23:53:00 2016-04-01 00:07:00               344             458   \n",
       "1 2016-03-31 23:46:00 2016-03-31 23:57:00               128             213   \n",
       "2 2016-03-31 23:42:00 2016-03-31 23:46:00               350             210   \n",
       "3 2016-03-31 23:37:00 2016-03-31 23:55:00               303             458   \n",
       "4 2016-03-31 23:33:00 2016-03-31 23:37:00               334             329   \n",
       "\n",
       "              start_station_name               end_station_name  bike_id  \\\n",
       "0  Ravenswood Ave & Lawrence Ave       Broadway & Thorndale Ave      155   \n",
       "1        Damen Ave & Chicago Ave         Leavitt St & North Ave     4831   \n",
       "2      Ashland Ave & Chicago Ave      Ashland Ave & Division St     4232   \n",
       "3        Broadway & Cornelia Ave       Broadway & Thorndale Ave     3464   \n",
       "4    Lake Shore Dr & Belmont Ave  Lake Shore Dr & Diversey Pkwy     1750   \n",
       "\n",
       "    user_type  start_hour  weekday  month  duration time_of_day  season  day  \n",
       "0  Subscriber          23        3      3      14.0       Night  Spring   31  \n",
       "1  Subscriber          23        3      3      11.0       Night  Spring   31  \n",
       "2  Subscriber          23        3      3       4.0       Night  Spring   31  \n",
       "3  Subscriber          23        3      3      18.0       Night  Spring   31  \n",
       "4  Subscriber          23        3      3       4.0       Night  Spring   31  "
      ],
      "text/html": "<div>\n<style scoped>\n    .dataframe tbody tr th:only-of-type {\n        vertical-align: middle;\n    }\n\n    .dataframe tbody tr th {\n        vertical-align: top;\n    }\n\n    .dataframe thead th {\n        text-align: right;\n    }\n</style>\n<table border=\"1\" class=\"dataframe\">\n  <thead>\n    <tr style=\"text-align: right;\">\n      <th></th>\n      <th>start_time</th>\n      <th>end_time</th>\n      <th>start_station_id</th>\n      <th>end_station_id</th>\n      <th>start_station_name</th>\n      <th>end_station_name</th>\n      <th>bike_id</th>\n      <th>user_type</th>\n      <th>start_hour</th>\n      <th>weekday</th>\n      <th>month</th>\n      <th>duration</th>\n      <th>time_of_day</th>\n      <th>season</th>\n      <th>day</th>\n    </tr>\n  </thead>\n  <tbody>\n    <tr>\n      <th>0</th>\n      <td>2016-03-31 23:53:00</td>\n      <td>2016-04-01 00:07:00</td>\n      <td>344</td>\n      <td>458</td>\n      <td>Ravenswood Ave &amp; Lawrence Ave</td>\n      <td>Broadway &amp; Thorndale Ave</td>\n      <td>155</td>\n      <td>Subscriber</td>\n      <td>23</td>\n      <td>3</td>\n      <td>3</td>\n      <td>14.0</td>\n      <td>Night</td>\n      <td>Spring</td>\n      <td>31</td>\n    </tr>\n    <tr>\n      <th>1</th>\n      <td>2016-03-31 23:46:00</td>\n      <td>2016-03-31 23:57:00</td>\n      <td>128</td>\n      <td>213</td>\n      <td>Damen Ave &amp; Chicago Ave</td>\n      <td>Leavitt St &amp; North Ave</td>\n      <td>4831</td>\n      <td>Subscriber</td>\n      <td>23</td>\n      <td>3</td>\n      <td>3</td>\n      <td>11.0</td>\n      <td>Night</td>\n      <td>Spring</td>\n      <td>31</td>\n    </tr>\n    <tr>\n      <th>2</th>\n      <td>2016-03-31 23:42:00</td>\n      <td>2016-03-31 23:46:00</td>\n      <td>350</td>\n      <td>210</td>\n      <td>Ashland Ave &amp; Chicago Ave</td>\n      <td>Ashland Ave &amp; Division St</td>\n      <td>4232</td>\n      <td>Subscriber</td>\n      <td>23</td>\n      <td>3</td>\n      <td>3</td>\n      <td>4.0</td>\n      <td>Night</td>\n      <td>Spring</td>\n      <td>31</td>\n    </tr>\n    <tr>\n      <th>3</th>\n      <td>2016-03-31 23:37:00</td>\n      <td>2016-03-31 23:55:00</td>\n      <td>303</td>\n      <td>458</td>\n      <td>Broadway &amp; Cornelia Ave</td>\n      <td>Broadway &amp; Thorndale Ave</td>\n      <td>3464</td>\n      <td>Subscriber</td>\n      <td>23</td>\n      <td>3</td>\n      <td>3</td>\n      <td>18.0</td>\n      <td>Night</td>\n      <td>Spring</td>\n      <td>31</td>\n    </tr>\n    <tr>\n      <th>4</th>\n      <td>2016-03-31 23:33:00</td>\n      <td>2016-03-31 23:37:00</td>\n      <td>334</td>\n      <td>329</td>\n      <td>Lake Shore Dr &amp; Belmont Ave</td>\n      <td>Lake Shore Dr &amp; Diversey Pkwy</td>\n      <td>1750</td>\n      <td>Subscriber</td>\n      <td>23</td>\n      <td>3</td>\n      <td>3</td>\n      <td>4.0</td>\n      <td>Night</td>\n      <td>Spring</td>\n      <td>31</td>\n    </tr>\n  </tbody>\n</table>\n</div>"
     },
     "metadata": {},
     "execution_count": 25
    }
   ],
   "source": [
    "# verbinden mit den Fahrraddaten\n",
    "df[\"day\"] = df[\"start_time\"].apply(lambda x: x.day)\n",
    "df.head()"
   ]
  },
  {
   "source": [
    "df = df.merge(weather[[\"max_temp\",\"min_temp\",\"precip\",\"hour\",\"day\"]],left_on=[\"day\",\"start_hour\"],right_on=[\"day\",\"hour\"])\n",
    "df.head()"
   ],
   "cell_type": "code",
   "metadata": {},
   "execution_count": 26,
   "outputs": [
    {
     "output_type": "execute_result",
     "data": {
      "text/plain": [
       "           start_time            end_time  start_station_id  end_station_id  \\\n",
       "0 2016-03-31 23:53:00 2016-04-01 00:07:00               344             458   \n",
       "1 2016-03-31 23:53:00 2016-04-01 00:07:00               344             458   \n",
       "2 2016-03-31 23:53:00 2016-04-01 00:07:00               344             458   \n",
       "3 2016-03-31 23:53:00 2016-04-01 00:07:00               344             458   \n",
       "4 2016-03-31 23:53:00 2016-04-01 00:07:00               344             458   \n",
       "\n",
       "              start_station_name          end_station_name  bike_id  \\\n",
       "0  Ravenswood Ave & Lawrence Ave  Broadway & Thorndale Ave      155   \n",
       "1  Ravenswood Ave & Lawrence Ave  Broadway & Thorndale Ave      155   \n",
       "2  Ravenswood Ave & Lawrence Ave  Broadway & Thorndale Ave      155   \n",
       "3  Ravenswood Ave & Lawrence Ave  Broadway & Thorndale Ave      155   \n",
       "4  Ravenswood Ave & Lawrence Ave  Broadway & Thorndale Ave      155   \n",
       "\n",
       "    user_type  start_hour  weekday  month  duration time_of_day  season  day  \\\n",
       "0  Subscriber          23        3      3      14.0       Night  Spring   31   \n",
       "1  Subscriber          23        3      3      14.0       Night  Spring   31   \n",
       "2  Subscriber          23        3      3      14.0       Night  Spring   31   \n",
       "3  Subscriber          23        3      3      14.0       Night  Spring   31   \n",
       "4  Subscriber          23        3      3      14.0       Night  Spring   31   \n",
       "\n",
       "   max_temp  min_temp  precip  hour  \n",
       "0       1.7       1.7     0.0    23  \n",
       "1      13.9      13.9     0.0    23  \n",
       "2      11.7      11.7     0.0    23  \n",
       "3      28.9      28.9     0.0    23  \n",
       "4      28.9      28.9     0.0    23  "
      ],
      "text/html": "<div>\n<style scoped>\n    .dataframe tbody tr th:only-of-type {\n        vertical-align: middle;\n    }\n\n    .dataframe tbody tr th {\n        vertical-align: top;\n    }\n\n    .dataframe thead th {\n        text-align: right;\n    }\n</style>\n<table border=\"1\" class=\"dataframe\">\n  <thead>\n    <tr style=\"text-align: right;\">\n      <th></th>\n      <th>start_time</th>\n      <th>end_time</th>\n      <th>start_station_id</th>\n      <th>end_station_id</th>\n      <th>start_station_name</th>\n      <th>end_station_name</th>\n      <th>bike_id</th>\n      <th>user_type</th>\n      <th>start_hour</th>\n      <th>weekday</th>\n      <th>month</th>\n      <th>duration</th>\n      <th>time_of_day</th>\n      <th>season</th>\n      <th>day</th>\n      <th>max_temp</th>\n      <th>min_temp</th>\n      <th>precip</th>\n      <th>hour</th>\n    </tr>\n  </thead>\n  <tbody>\n    <tr>\n      <th>0</th>\n      <td>2016-03-31 23:53:00</td>\n      <td>2016-04-01 00:07:00</td>\n      <td>344</td>\n      <td>458</td>\n      <td>Ravenswood Ave &amp; Lawrence Ave</td>\n      <td>Broadway &amp; Thorndale Ave</td>\n      <td>155</td>\n      <td>Subscriber</td>\n      <td>23</td>\n      <td>3</td>\n      <td>3</td>\n      <td>14.0</td>\n      <td>Night</td>\n      <td>Spring</td>\n      <td>31</td>\n      <td>1.7</td>\n      <td>1.7</td>\n      <td>0.0</td>\n      <td>23</td>\n    </tr>\n    <tr>\n      <th>1</th>\n      <td>2016-03-31 23:53:00</td>\n      <td>2016-04-01 00:07:00</td>\n      <td>344</td>\n      <td>458</td>\n      <td>Ravenswood Ave &amp; Lawrence Ave</td>\n      <td>Broadway &amp; Thorndale Ave</td>\n      <td>155</td>\n      <td>Subscriber</td>\n      <td>23</td>\n      <td>3</td>\n      <td>3</td>\n      <td>14.0</td>\n      <td>Night</td>\n      <td>Spring</td>\n      <td>31</td>\n      <td>13.9</td>\n      <td>13.9</td>\n      <td>0.0</td>\n      <td>23</td>\n    </tr>\n    <tr>\n      <th>2</th>\n      <td>2016-03-31 23:53:00</td>\n      <td>2016-04-01 00:07:00</td>\n      <td>344</td>\n      <td>458</td>\n      <td>Ravenswood Ave &amp; Lawrence Ave</td>\n      <td>Broadway &amp; Thorndale Ave</td>\n      <td>155</td>\n      <td>Subscriber</td>\n      <td>23</td>\n      <td>3</td>\n      <td>3</td>\n      <td>14.0</td>\n      <td>Night</td>\n      <td>Spring</td>\n      <td>31</td>\n      <td>11.7</td>\n      <td>11.7</td>\n      <td>0.0</td>\n      <td>23</td>\n    </tr>\n    <tr>\n      <th>3</th>\n      <td>2016-03-31 23:53:00</td>\n      <td>2016-04-01 00:07:00</td>\n      <td>344</td>\n      <td>458</td>\n      <td>Ravenswood Ave &amp; Lawrence Ave</td>\n      <td>Broadway &amp; Thorndale Ave</td>\n      <td>155</td>\n      <td>Subscriber</td>\n      <td>23</td>\n      <td>3</td>\n      <td>3</td>\n      <td>14.0</td>\n      <td>Night</td>\n      <td>Spring</td>\n      <td>31</td>\n      <td>28.9</td>\n      <td>28.9</td>\n      <td>0.0</td>\n      <td>23</td>\n    </tr>\n    <tr>\n      <th>4</th>\n      <td>2016-03-31 23:53:00</td>\n      <td>2016-04-01 00:07:00</td>\n      <td>344</td>\n      <td>458</td>\n      <td>Ravenswood Ave &amp; Lawrence Ave</td>\n      <td>Broadway &amp; Thorndale Ave</td>\n      <td>155</td>\n      <td>Subscriber</td>\n      <td>23</td>\n      <td>3</td>\n      <td>3</td>\n      <td>14.0</td>\n      <td>Night</td>\n      <td>Spring</td>\n      <td>31</td>\n      <td>28.9</td>\n      <td>28.9</td>\n      <td>0.0</td>\n      <td>23</td>\n    </tr>\n  </tbody>\n</table>\n</div>"
     },
     "metadata": {},
     "execution_count": 26
    }
   ]
  },
  {
   "cell_type": "code",
   "execution_count": 6,
   "metadata": {},
   "outputs": [
    {
     "output_type": "error",
     "ename": "NameError",
     "evalue": "name 'df' is not defined",
     "traceback": [
      "\u001b[0;31m---------------------------------------------------------------------------\u001b[0m",
      "\u001b[0;31mNameError\u001b[0m                                 Traceback (most recent call last)",
      "\u001b[0;32m<ipython-input-6-c644b60bc672>\u001b[0m in \u001b[0;36m<module>\u001b[0;34m\u001b[0m\n\u001b[0;32m----> 1\u001b[0;31m \u001b[0mdf\u001b[0m\u001b[0;34m.\u001b[0m\u001b[0mdrop\u001b[0m\u001b[0;34m(\u001b[0m\u001b[0;34m[\u001b[0m\u001b[0;34m'end_time'\u001b[0m\u001b[0;34m,\u001b[0m \u001b[0;34m'end_station_id'\u001b[0m\u001b[0;34m,\u001b[0m \u001b[0;34m\"start_station_name\"\u001b[0m\u001b[0;34m,\u001b[0m \u001b[0;34m\"end_station_name\"\u001b[0m \u001b[0;34m,\u001b[0m \u001b[0;34m\"start_hour\"\u001b[0m\u001b[0;34m]\u001b[0m\u001b[0;34m,\u001b[0m \u001b[0maxis\u001b[0m\u001b[0;34m=\u001b[0m\u001b[0;36m1\u001b[0m\u001b[0;34m,\u001b[0m \u001b[0minplace\u001b[0m\u001b[0;34m=\u001b[0m\u001b[0;32mTrue\u001b[0m\u001b[0;34m)\u001b[0m\u001b[0;34m\u001b[0m\u001b[0;34m\u001b[0m\u001b[0m\n\u001b[0m",
      "\u001b[0;31mNameError\u001b[0m: name 'df' is not defined"
     ]
    }
   ],
   "source": [
    "df.drop(['end_time', 'end_station_id', \"start_station_name\", \"end_station_name\" , \"start_hour\"], axis=1, inplace=True)"
   ]
  },
  {
   "cell_type": "code",
   "execution_count": 5,
   "metadata": {},
   "outputs": [
    {
     "output_type": "error",
     "ename": "NameError",
     "evalue": "name 'df' is not defined",
     "traceback": [
      "\u001b[0;31m---------------------------------------------------------------------------\u001b[0m",
      "\u001b[0;31mNameError\u001b[0m                                 Traceback (most recent call last)",
      "\u001b[0;32m<ipython-input-5-c42a15b2c7cf>\u001b[0m in \u001b[0;36m<module>\u001b[0;34m\u001b[0m\n\u001b[0;32m----> 1\u001b[0;31m \u001b[0mdf\u001b[0m\u001b[0;34m.\u001b[0m\u001b[0mhead\u001b[0m\u001b[0;34m(\u001b[0m\u001b[0;34m)\u001b[0m\u001b[0;34m\u001b[0m\u001b[0;34m\u001b[0m\u001b[0m\n\u001b[0m",
      "\u001b[0;31mNameError\u001b[0m: name 'df' is not defined"
     ]
    }
   ],
   "source": [
    "df.head()"
   ]
  },
  {
   "cell_type": "code",
   "execution_count": null,
   "metadata": {},
   "outputs": [],
   "source": []
  }
 ]
}