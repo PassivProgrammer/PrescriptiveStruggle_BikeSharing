{
 "metadata": {
  "language_info": {
   "codemirror_mode": {
    "name": "ipython",
    "version": 3
   },
   "file_extension": ".py",
   "mimetype": "text/x-python",
   "name": "python",
   "nbconvert_exporter": "python",
   "pygments_lexer": "ipython3",
   "version": "3.8.5"
  },
  "orig_nbformat": 2,
  "kernelspec": {
   "name": "python385jvsc74a57bd0dca0ade3e726a953b501b15e8e990130d2b7799f14cfd9f4271676035ebe5511",
   "display_name": "Python 3.8.5 64-bit ('base': conda)"
  },
  "metadata": {
   "interpreter": {
    "hash": "ed5b6eec5fa7619496b5c32bf7e701327613e9cdc173f3d3fa3d9db56ec83e30"
   }
  }
 },
 "nbformat": 4,
 "nbformat_minor": 2,
 "cells": [
  {
   "cell_type": "code",
   "execution_count": null,
   "metadata": {},
   "outputs": [],
   "source": [
    "import pandas as pd\n",
    "import numpy as np\n"
   ]
  },
  {
   "cell_type": "code",
   "execution_count": 62,
   "metadata": {},
   "outputs": [],
   "source": [
    "chicago = pd.read_csv(\"../chicago_2016.csv\", parse_dates=[\"start_time\",\"end_time\"])"
   ]
  },
  {
   "cell_type": "code",
   "execution_count": 70,
   "metadata": {},
   "outputs": [
    {
     "output_type": "execute_result",
     "data": {
      "text/plain": [
       "           start_time            end_time  start_station_id  end_station_id  \\\n",
       "0 2016-03-31 23:53:00 2016-04-01 00:07:00               344             458   \n",
       "1 2016-03-31 23:46:00 2016-03-31 23:57:00               128             213   \n",
       "2 2016-03-31 23:42:00 2016-03-31 23:46:00               350             210   \n",
       "3 2016-03-31 23:37:00 2016-03-31 23:55:00               303             458   \n",
       "4 2016-03-31 23:33:00 2016-03-31 23:37:00               334             329   \n",
       "\n",
       "              start_station_name               end_station_name  bike_id  \\\n",
       "0  Ravenswood Ave & Lawrence Ave       Broadway & Thorndale Ave      155   \n",
       "1        Damen Ave & Chicago Ave         Leavitt St & North Ave     4831   \n",
       "2      Ashland Ave & Chicago Ave      Ashland Ave & Division St     4232   \n",
       "3        Broadway & Cornelia Ave       Broadway & Thorndale Ave     3464   \n",
       "4    Lake Shore Dr & Belmont Ave  Lake Shore Dr & Diversey Pkwy     1750   \n",
       "\n",
       "    user_type  \n",
       "0  Subscriber  \n",
       "1  Subscriber  \n",
       "2  Subscriber  \n",
       "3  Subscriber  \n",
       "4  Subscriber  "
      ],
      "text/html": "<div>\n<style scoped>\n    .dataframe tbody tr th:only-of-type {\n        vertical-align: middle;\n    }\n\n    .dataframe tbody tr th {\n        vertical-align: top;\n    }\n\n    .dataframe thead th {\n        text-align: right;\n    }\n</style>\n<table border=\"1\" class=\"dataframe\">\n  <thead>\n    <tr style=\"text-align: right;\">\n      <th></th>\n      <th>start_time</th>\n      <th>end_time</th>\n      <th>start_station_id</th>\n      <th>end_station_id</th>\n      <th>start_station_name</th>\n      <th>end_station_name</th>\n      <th>bike_id</th>\n      <th>user_type</th>\n    </tr>\n  </thead>\n  <tbody>\n    <tr>\n      <th>0</th>\n      <td>2016-03-31 23:53:00</td>\n      <td>2016-04-01 00:07:00</td>\n      <td>344</td>\n      <td>458</td>\n      <td>Ravenswood Ave &amp; Lawrence Ave</td>\n      <td>Broadway &amp; Thorndale Ave</td>\n      <td>155</td>\n      <td>Subscriber</td>\n    </tr>\n    <tr>\n      <th>1</th>\n      <td>2016-03-31 23:46:00</td>\n      <td>2016-03-31 23:57:00</td>\n      <td>128</td>\n      <td>213</td>\n      <td>Damen Ave &amp; Chicago Ave</td>\n      <td>Leavitt St &amp; North Ave</td>\n      <td>4831</td>\n      <td>Subscriber</td>\n    </tr>\n    <tr>\n      <th>2</th>\n      <td>2016-03-31 23:42:00</td>\n      <td>2016-03-31 23:46:00</td>\n      <td>350</td>\n      <td>210</td>\n      <td>Ashland Ave &amp; Chicago Ave</td>\n      <td>Ashland Ave &amp; Division St</td>\n      <td>4232</td>\n      <td>Subscriber</td>\n    </tr>\n    <tr>\n      <th>3</th>\n      <td>2016-03-31 23:37:00</td>\n      <td>2016-03-31 23:55:00</td>\n      <td>303</td>\n      <td>458</td>\n      <td>Broadway &amp; Cornelia Ave</td>\n      <td>Broadway &amp; Thorndale Ave</td>\n      <td>3464</td>\n      <td>Subscriber</td>\n    </tr>\n    <tr>\n      <th>4</th>\n      <td>2016-03-31 23:33:00</td>\n      <td>2016-03-31 23:37:00</td>\n      <td>334</td>\n      <td>329</td>\n      <td>Lake Shore Dr &amp; Belmont Ave</td>\n      <td>Lake Shore Dr &amp; Diversey Pkwy</td>\n      <td>1750</td>\n      <td>Subscriber</td>\n    </tr>\n  </tbody>\n</table>\n</div>"
     },
     "metadata": {},
     "execution_count": 70
    }
   ],
   "source": [
    "# Überblick der Daten\n",
    "chicago.head()"
   ]
  },
  {
   "cell_type": "code",
   "execution_count": 71,
   "metadata": {},
   "outputs": [
    {
     "output_type": "execute_result",
     "data": {
      "text/plain": [
       "28763064"
      ]
     },
     "metadata": {},
     "execution_count": 71
    }
   ],
   "source": [
    "# Anzahl der Zeilen\n",
    "size = chicago.size\n",
    "size"
   ]
  },
  {
   "cell_type": "code",
   "execution_count": 76,
   "metadata": {},
   "outputs": [
    {
     "output_type": "execute_result",
     "data": {
      "text/plain": [
       "start_time            3595383\n",
       "end_time              3595383\n",
       "start_station_id      3595383\n",
       "end_station_id        3595383\n",
       "start_station_name    3595383\n",
       "end_station_name      3595383\n",
       "bike_id               3595383\n",
       "user_type             3595383\n",
       "dtype: int64"
      ]
     },
     "metadata": {},
     "execution_count": 76
    }
   ],
   "source": [
    "chicago.count()"
   ]
  },
  {
   "cell_type": "code",
   "execution_count": 81,
   "metadata": {},
   "outputs": [
    {
     "output_type": "execute_result",
     "data": {
      "text/plain": [
       "                 start_time            end_time  start_station_id  \\\n",
       "0       2016-03-31 23:53:00 2016-04-01 00:07:00               344   \n",
       "1       2016-03-31 23:46:00 2016-03-31 23:57:00               128   \n",
       "2       2016-03-31 23:42:00 2016-03-31 23:46:00               350   \n",
       "3       2016-03-31 23:37:00 2016-03-31 23:55:00               303   \n",
       "4       2016-03-31 23:33:00 2016-03-31 23:37:00               334   \n",
       "...                     ...                 ...               ...   \n",
       "3595378 2016-10-01 00:01:08 2016-10-01 00:04:42                56   \n",
       "3595379 2016-10-01 00:00:58 2016-10-01 00:09:33               255   \n",
       "3595380 2016-10-01 00:00:41 2016-10-01 00:04:19                56   \n",
       "3595381 2016-10-01 00:00:32 2016-10-01 00:16:02               298   \n",
       "3595382 2016-10-01 00:00:14 2016-10-01 00:16:02               298   \n",
       "\n",
       "         end_station_id              start_station_name  \\\n",
       "0                   458   Ravenswood Ave & Lawrence Ave   \n",
       "1                   213         Damen Ave & Chicago Ave   \n",
       "2                   210       Ashland Ave & Chicago Ave   \n",
       "3                   458         Broadway & Cornelia Ave   \n",
       "4                   329     Lake Shore Dr & Belmont Ave   \n",
       "...                 ...                             ...   \n",
       "3595378             133       Desplaines St & Kinzie St   \n",
       "3595379               4      Indiana Ave & Roosevelt Rd   \n",
       "3595380             133       Desplaines St & Kinzie St   \n",
       "3595381             460  Lincoln Ave & Belle Plaine Ave   \n",
       "3595382             460  Lincoln Ave & Belle Plaine Ave   \n",
       "\n",
       "                      end_station_name  bike_id   user_type  \n",
       "0             Broadway & Thorndale Ave      155  Subscriber  \n",
       "1               Leavitt St & North Ave     4831  Subscriber  \n",
       "2            Ashland Ave & Division St     4232  Subscriber  \n",
       "3             Broadway & Thorndale Ave     3464  Subscriber  \n",
       "4        Lake Shore Dr & Diversey Pkwy     1750  Subscriber  \n",
       "...                                ...      ...         ...  \n",
       "3595378       Kingsbury St & Kinzie St     3999  Subscriber  \n",
       "3595379                 Burnham Harbor     2483  Subscriber  \n",
       "3595380       Kingsbury St & Kinzie St     3892  Subscriber  \n",
       "3595381       Clark St & Bryn Mawr Ave     3567  Subscriber  \n",
       "3595382       Clark St & Bryn Mawr Ave     5320    Customer  \n",
       "\n",
       "[3595383 rows x 8 columns]"
      ],
      "text/html": "<div>\n<style scoped>\n    .dataframe tbody tr th:only-of-type {\n        vertical-align: middle;\n    }\n\n    .dataframe tbody tr th {\n        vertical-align: top;\n    }\n\n    .dataframe thead th {\n        text-align: right;\n    }\n</style>\n<table border=\"1\" class=\"dataframe\">\n  <thead>\n    <tr style=\"text-align: right;\">\n      <th></th>\n      <th>start_time</th>\n      <th>end_time</th>\n      <th>start_station_id</th>\n      <th>end_station_id</th>\n      <th>start_station_name</th>\n      <th>end_station_name</th>\n      <th>bike_id</th>\n      <th>user_type</th>\n    </tr>\n  </thead>\n  <tbody>\n    <tr>\n      <th>0</th>\n      <td>2016-03-31 23:53:00</td>\n      <td>2016-04-01 00:07:00</td>\n      <td>344</td>\n      <td>458</td>\n      <td>Ravenswood Ave &amp; Lawrence Ave</td>\n      <td>Broadway &amp; Thorndale Ave</td>\n      <td>155</td>\n      <td>Subscriber</td>\n    </tr>\n    <tr>\n      <th>1</th>\n      <td>2016-03-31 23:46:00</td>\n      <td>2016-03-31 23:57:00</td>\n      <td>128</td>\n      <td>213</td>\n      <td>Damen Ave &amp; Chicago Ave</td>\n      <td>Leavitt St &amp; North Ave</td>\n      <td>4831</td>\n      <td>Subscriber</td>\n    </tr>\n    <tr>\n      <th>2</th>\n      <td>2016-03-31 23:42:00</td>\n      <td>2016-03-31 23:46:00</td>\n      <td>350</td>\n      <td>210</td>\n      <td>Ashland Ave &amp; Chicago Ave</td>\n      <td>Ashland Ave &amp; Division St</td>\n      <td>4232</td>\n      <td>Subscriber</td>\n    </tr>\n    <tr>\n      <th>3</th>\n      <td>2016-03-31 23:37:00</td>\n      <td>2016-03-31 23:55:00</td>\n      <td>303</td>\n      <td>458</td>\n      <td>Broadway &amp; Cornelia Ave</td>\n      <td>Broadway &amp; Thorndale Ave</td>\n      <td>3464</td>\n      <td>Subscriber</td>\n    </tr>\n    <tr>\n      <th>4</th>\n      <td>2016-03-31 23:33:00</td>\n      <td>2016-03-31 23:37:00</td>\n      <td>334</td>\n      <td>329</td>\n      <td>Lake Shore Dr &amp; Belmont Ave</td>\n      <td>Lake Shore Dr &amp; Diversey Pkwy</td>\n      <td>1750</td>\n      <td>Subscriber</td>\n    </tr>\n    <tr>\n      <th>...</th>\n      <td>...</td>\n      <td>...</td>\n      <td>...</td>\n      <td>...</td>\n      <td>...</td>\n      <td>...</td>\n      <td>...</td>\n      <td>...</td>\n    </tr>\n    <tr>\n      <th>3595378</th>\n      <td>2016-10-01 00:01:08</td>\n      <td>2016-10-01 00:04:42</td>\n      <td>56</td>\n      <td>133</td>\n      <td>Desplaines St &amp; Kinzie St</td>\n      <td>Kingsbury St &amp; Kinzie St</td>\n      <td>3999</td>\n      <td>Subscriber</td>\n    </tr>\n    <tr>\n      <th>3595379</th>\n      <td>2016-10-01 00:00:58</td>\n      <td>2016-10-01 00:09:33</td>\n      <td>255</td>\n      <td>4</td>\n      <td>Indiana Ave &amp; Roosevelt Rd</td>\n      <td>Burnham Harbor</td>\n      <td>2483</td>\n      <td>Subscriber</td>\n    </tr>\n    <tr>\n      <th>3595380</th>\n      <td>2016-10-01 00:00:41</td>\n      <td>2016-10-01 00:04:19</td>\n      <td>56</td>\n      <td>133</td>\n      <td>Desplaines St &amp; Kinzie St</td>\n      <td>Kingsbury St &amp; Kinzie St</td>\n      <td>3892</td>\n      <td>Subscriber</td>\n    </tr>\n    <tr>\n      <th>3595381</th>\n      <td>2016-10-01 00:00:32</td>\n      <td>2016-10-01 00:16:02</td>\n      <td>298</td>\n      <td>460</td>\n      <td>Lincoln Ave &amp; Belle Plaine Ave</td>\n      <td>Clark St &amp; Bryn Mawr Ave</td>\n      <td>3567</td>\n      <td>Subscriber</td>\n    </tr>\n    <tr>\n      <th>3595382</th>\n      <td>2016-10-01 00:00:14</td>\n      <td>2016-10-01 00:16:02</td>\n      <td>298</td>\n      <td>460</td>\n      <td>Lincoln Ave &amp; Belle Plaine Ave</td>\n      <td>Clark St &amp; Bryn Mawr Ave</td>\n      <td>5320</td>\n      <td>Customer</td>\n    </tr>\n  </tbody>\n</table>\n<p>3595383 rows × 8 columns</p>\n</div>"
     },
     "metadata": {},
     "execution_count": 81
    }
   ],
   "source": [
    "# keine Null-Values\n",
    "chicago[(chicago.isnull()==False)]"
   ]
  },
  {
   "cell_type": "code",
   "execution_count": 68,
   "metadata": {},
   "outputs": [
    {
     "output_type": "execute_result",
     "data": {
      "text/plain": [
       "array(['Subscriber', 'Customer', 'Dependent'], dtype=object)"
      ]
     },
     "metadata": {},
     "execution_count": 68
    }
   ],
   "source": [
    "# die verschiedene Nutzer\n",
    "users = chicago['user_type'].unique()\n",
    "users"
   ]
  },
  {
   "cell_type": "code",
   "execution_count": 69,
   "metadata": {},
   "outputs": [
    {
     "output_type": "stream",
     "name": "stdout",
     "text": [
      "581\n"
     ]
    }
   ],
   "source": [
    "# Anzahl der Start-Stationen\n",
    "number_start_station = len(chicago['start_station_id'].unique())\n",
    "print(number_start_station)"
   ]
  },
  {
   "cell_type": "code",
   "execution_count": 40,
   "metadata": {},
   "outputs": [
    {
     "output_type": "stream",
     "name": "stdout",
     "text": [
      "581\n"
     ]
    }
   ],
   "source": [
    "# Anzahl der End-Stationen\n",
    "number_end_station = len(chicago['end_station_id'].unique())\n",
    "print(number_end_station)"
   ]
  },
  {
   "cell_type": "code",
   "execution_count": 89,
   "metadata": {},
   "outputs": [
    {
     "output_type": "execute_result",
     "data": {
      "text/plain": [
       "True"
      ]
     },
     "metadata": {},
     "execution_count": 89
    }
   ],
   "source": [
    "# Test ob IDs sowohl in den End- als auch den Startstationen vorkommen\n",
    "start_station_id = chicago['start_station_id'].unique()\n",
    "end_station_id = chicago['end_station_id'].unique()\n",
    "equal = True\n",
    "for i in range(start_station_id.size):\n",
    "    if np.isin(start_station_id[i],end_station_id) == False:\n",
    "        equal = False\n",
    "equal"
   ]
  },
  {
   "cell_type": "code",
   "execution_count": 90,
   "metadata": {},
   "outputs": [
    {
     "output_type": "stream",
     "name": "stdout",
     "text": [
      "587\n587\n"
     ]
    }
   ],
   "source": [
    "# Test, ob Anzahl der Startstationen gleich der Anzahl der Endstationen ist\n",
    "start_station_name = chicago['start_station_name'].unique()\n",
    "print(len(start_station_name))\n",
    "end_station_name = chicago['end_station_name'].unique()\n",
    "print(len(station2))\n"
   ]
  },
  {
   "cell_type": "code",
   "execution_count": 92,
   "metadata": {},
   "outputs": [
    {
     "output_type": "execute_result",
     "data": {
      "text/plain": [
       "True"
      ]
     },
     "metadata": {},
     "execution_count": 92
    }
   ],
   "source": [
    "# Test, ob die Namen auch übereinstimmen\n",
    "equal_name = True\n",
    "for i in range(start_station_name.size):\n",
    "    if np.isin(start_station_name[i],end_station_name) == False:\n",
    "        equal_name = False\n",
    "equal_name\n"
   ]
  },
  {
   "cell_type": "code",
   "execution_count": 109,
   "metadata": {
    "tags": []
   },
   "outputs": [
    {
     "output_type": "error",
     "ename": "TypeError",
     "evalue": "ufunc 'bitwise_and' not supported for the input types, and the inputs could not be safely coerced to any supported types according to the casting rule ''safe''",
     "traceback": [
      "\u001b[0;31m---------------------------------------------------------------------------\u001b[0m",
      "\u001b[0;31mTypeError\u001b[0m                                 Traceback (most recent call last)",
      "\u001b[0;32m<ipython-input-109-2b10b78522d2>\u001b[0m in \u001b[0;36m<module>\u001b[0;34m\u001b[0m\n\u001b[1;32m      3\u001b[0m \u001b[0;32mfor\u001b[0m \u001b[0mi\u001b[0m \u001b[0;32min\u001b[0m \u001b[0mrange\u001b[0m\u001b[0;34m(\u001b[0m\u001b[0mcompare_name_id\u001b[0m\u001b[0;34m.\u001b[0m\u001b[0msize\u001b[0m\u001b[0;34m)\u001b[0m\u001b[0;34m:\u001b[0m\u001b[0;34m\u001b[0m\u001b[0;34m\u001b[0m\u001b[0m\n\u001b[1;32m      4\u001b[0m     \u001b[0;32mfor\u001b[0m \u001b[0mj\u001b[0m \u001b[0;32min\u001b[0m \u001b[0mrange\u001b[0m\u001b[0;34m(\u001b[0m\u001b[0mcompare_name_id\u001b[0m\u001b[0;34m.\u001b[0m\u001b[0msize\u001b[0m\u001b[0;34m)\u001b[0m\u001b[0;34m:\u001b[0m\u001b[0;34m\u001b[0m\u001b[0;34m\u001b[0m\u001b[0m\n\u001b[0;32m----> 5\u001b[0;31m         \u001b[0;32mif\u001b[0m \u001b[0mcompare_name_id\u001b[0m\u001b[0;34m.\u001b[0m\u001b[0mloc\u001b[0m\u001b[0;34m[\u001b[0m\u001b[0mi\u001b[0m\u001b[0;34m]\u001b[0m\u001b[0;34m.\u001b[0m\u001b[0mat\u001b[0m\u001b[0;34m[\u001b[0m\u001b[0;34m'start_station_id'\u001b[0m\u001b[0;34m]\u001b[0m \u001b[0;34m==\u001b[0m \u001b[0mcompare_name_id\u001b[0m\u001b[0;34m.\u001b[0m\u001b[0mloc\u001b[0m\u001b[0;34m[\u001b[0m\u001b[0mj\u001b[0m\u001b[0;34m]\u001b[0m\u001b[0;34m.\u001b[0m\u001b[0mat\u001b[0m\u001b[0;34m[\u001b[0m\u001b[0;34m'start_station_id'\u001b[0m\u001b[0;34m]\u001b[0m \u001b[0;34m&\u001b[0m \u001b[0mcompare_name_id\u001b[0m\u001b[0;34m.\u001b[0m\u001b[0mloc\u001b[0m\u001b[0;34m[\u001b[0m\u001b[0mi\u001b[0m\u001b[0;34m]\u001b[0m\u001b[0;34m.\u001b[0m\u001b[0mat\u001b[0m\u001b[0;34m[\u001b[0m\u001b[0;34m'start_station_name'\u001b[0m\u001b[0;34m]\u001b[0m \u001b[0;34m!=\u001b[0m \u001b[0mcompare_name_id\u001b[0m\u001b[0;34m.\u001b[0m\u001b[0mloc\u001b[0m\u001b[0;34m[\u001b[0m\u001b[0mj\u001b[0m\u001b[0;34m]\u001b[0m\u001b[0;34m.\u001b[0m\u001b[0mat\u001b[0m\u001b[0;34m[\u001b[0m\u001b[0;34m'start_station_name'\u001b[0m\u001b[0;34m]\u001b[0m\u001b[0;34m:\u001b[0m\u001b[0;34m\u001b[0m\u001b[0;34m\u001b[0m\u001b[0m\n\u001b[0m\u001b[1;32m      6\u001b[0m            \u001b[0mprint\u001b[0m\u001b[0;34m(\u001b[0m\u001b[0mid\u001b[0m \u001b[0;34m+\u001b[0m \u001b[0;34m\" 1. Name: \"\u001b[0m\u001b[0;34m+\u001b[0m\u001b[0mcompare_name_id\u001b[0m\u001b[0;34m.\u001b[0m\u001b[0mloc\u001b[0m\u001b[0;34m[\u001b[0m\u001b[0mi\u001b[0m\u001b[0;34m]\u001b[0m\u001b[0;34m.\u001b[0m\u001b[0mat\u001b[0m\u001b[0;34m[\u001b[0m\u001b[0;34m'start_station_name'\u001b[0m\u001b[0;34m]\u001b[0m\u001b[0;34m+\u001b[0m\u001b[0;34m\", 2.Name: \"\u001b[0m\u001b[0;34m+\u001b[0m\u001b[0mcompare_name_id\u001b[0m\u001b[0;34m.\u001b[0m\u001b[0mloc\u001b[0m\u001b[0;34m[\u001b[0m\u001b[0mj\u001b[0m\u001b[0;34m]\u001b[0m\u001b[0;34m.\u001b[0m\u001b[0mat\u001b[0m\u001b[0;34m[\u001b[0m\u001b[0;34m'start_station_name'\u001b[0m\u001b[0;34m]\u001b[0m\u001b[0;34m)\u001b[0m\u001b[0;34m\u001b[0m\u001b[0;34m\u001b[0m\u001b[0m\n",
      "\u001b[0;31mTypeError\u001b[0m: ufunc 'bitwise_and' not supported for the input types, and the inputs could not be safely coerced to any supported types according to the casting rule ''safe''"
     ]
    }
   ],
   "source": [
    "# Anzahl der Namen größer als Anzahl der ID's -> Namen mit gleicher ID:\n",
    "compare_name_id = chicago.drop(['start_time','end_time','end_station_id','end_station_name','bike_id','user_type'], axis=1)\n",
    "for i in range(compare_name_id.size):\n",
    "    for j in range(compare_name_id.size):\n",
    "        if compare_name_id.loc[i].at['start_station_id'] == compare_name_id.loc[j].at['start_station_id'] & compare_name_id.loc[i].at['start_station_name'] != compare_name_id.loc[j].at['start_station_name']:\n",
    "           print(id + \" 1. Name: \"+compare_name_id.loc[i].at['start_station_name']+\", 2.Name: \"+compare_name_id.loc[j].at['start_station_name'])\n"
   ]
  },
  {
   "cell_type": "code",
   "execution_count": 23,
   "metadata": {},
   "outputs": [
    {
     "output_type": "stream",
     "name": "stdout",
     "text": [
      "5748\n"
     ]
    }
   ],
   "source": [
    "# Anzahl der Räder\n",
    "number_bikes = len(chicago['bike_id'].unique())\n",
    "print(number_bikes)"
   ]
  }
 ]
}