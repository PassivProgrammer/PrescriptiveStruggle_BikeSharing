{
 "cells": [
  {
   "cell_type": "code",
   "execution_count": 91,
   "metadata": {},
   "outputs": [],
   "source": [
    "import pandas as pd\n",
    "import numpy as np\n",
    "import matplotlib.pyplot as plt\n",
    "import seaborn as sns\n",
    "import sklearn as sklearn\n",
    "from sklearn.linear_model import LinearRegression\n",
    "from sklearn.metrics import mean_squared_error, mean_absolute_error, r2_score\n",
    "from sklearn.preprocessing import PolynomialFeatures\n",
    "from sklearn.preprocessing import StandardScaler\n",
    "from sklearn.linear_model import Ridge\n",
    "from sklearn.decomposition import PCA\n",
    "from sklearn.model_selection import train_test_split\n",
    "from sklearn.linear_model import Lasso"
   ]
  },
  {
   "cell_type": "code",
   "execution_count": 14,
   "metadata": {
    "scrolled": false
   },
   "outputs": [
    {
     "data": {
      "text/html": [
       "<div>\n",
       "<style scoped>\n",
       "    .dataframe tbody tr th:only-of-type {\n",
       "        vertical-align: middle;\n",
       "    }\n",
       "\n",
       "    .dataframe tbody tr th {\n",
       "        vertical-align: top;\n",
       "    }\n",
       "\n",
       "    .dataframe thead th {\n",
       "        text-align: right;\n",
       "    }\n",
       "</style>\n",
       "<table border=\"1\" class=\"dataframe\">\n",
       "  <thead>\n",
       "    <tr style=\"text-align: right;\">\n",
       "      <th></th>\n",
       "      <th>start_time</th>\n",
       "      <th>month</th>\n",
       "      <th>day</th>\n",
       "      <th>hour</th>\n",
       "      <th>mean_duration</th>\n",
       "      <th>max_temp</th>\n",
       "      <th>precip</th>\n",
       "      <th>trips</th>\n",
       "      <th>isWeekday</th>\n",
       "    </tr>\n",
       "  </thead>\n",
       "  <tbody>\n",
       "    <tr>\n",
       "      <th>0</th>\n",
       "      <td>2016-01-01</td>\n",
       "      <td>1.0</td>\n",
       "      <td>1.0</td>\n",
       "      <td>0.0</td>\n",
       "      <td>13.2</td>\n",
       "      <td>-4.4</td>\n",
       "      <td>0.0</td>\n",
       "      <td>25</td>\n",
       "      <td>0</td>\n",
       "    </tr>\n",
       "  </tbody>\n",
       "</table>\n",
       "</div>"
      ],
      "text/plain": [
       "  start_time  month  day  hour  mean_duration  max_temp  precip  trips  \\\n",
       "0 2016-01-01    1.0  1.0   0.0           13.2      -4.4     0.0     25   \n",
       "\n",
       "   isWeekday  \n",
       "0          0  "
      ]
     },
     "execution_count": 14,
     "metadata": {},
     "output_type": "execute_result"
    }
   ],
   "source": [
    "pred_data = pd.read_csv(\"prediction_ready.csv\",parse_dates=[\"start_time\"])\n",
    "pred_data.head(1)"
   ]
  },
  {
   "cell_type": "code",
   "execution_count": 34,
   "metadata": {},
   "outputs": [],
   "source": [
    "#pick features\n",
    "X_unscaled = pred_data[[\"month\",\"day\",\"hour\",\"max_temp\",\"precip\",\"isWeekday\"]]\n",
    "y = pred_data[\"trips\"].values.reshape([-1,1])"
   ]
  },
  {
   "cell_type": "code",
   "execution_count": 36,
   "metadata": {},
   "outputs": [],
   "source": [
    "#scale data\n",
    "scaler = StandardScaler()\n",
    "X = scaler.fit_transform(X_unscaled)"
   ]
  },
  {
   "cell_type": "code",
   "execution_count": 121,
   "metadata": {},
   "outputs": [
    {
     "data": {
      "text/plain": [
       "count    8784.000000\n",
       "mean      407.050546\n",
       "std       494.204738\n",
       "min         0.000000\n",
       "25%        39.000000\n",
       "50%       202.000000\n",
       "75%       616.000000\n",
       "max      5110.000000\n",
       "Name: trips, dtype: float64"
      ]
     },
     "execution_count": 121,
     "metadata": {},
     "output_type": "execute_result"
    }
   ],
   "source": [
    "#split into training (50%), verification (20%) and test (30%) set\n",
    "X_train, X_test_meta, y_train, y_test_meta = train_test_split(X, y, test_size=0.5, random_state=0)\n",
    "X_verification, X_test, y_verification, y_test = train_test_split(X_test_meta,y_test_meta, test_size=0.6, random_state=0)\n",
    "pred_data[\"trips\"].describe()"
   ]
  },
  {
   "cell_type": "code",
   "execution_count": 38,
   "metadata": {},
   "outputs": [],
   "source": [
    "# define Ridge-regression with polynomial features\n",
    "def ridge(X,y,d,a):\n",
    "    #create features\n",
    "    PF = PolynomialFeatures(degree = d,interaction_only = False, include_bias = True)\n",
    "    X_poly = PF.fit_transform(X)\n",
    "    # create regression\n",
    "    regression = Ridge(alpha = a, normalize = False, solver = 'lsqr')\n",
    "    #fit\n",
    "    regression.fit(X_poly,y)\n",
    "    return regression, PF"
   ]
  },
  {
   "cell_type": "code",
   "execution_count": 43,
   "metadata": {},
   "outputs": [
    {
     "name": "stdout",
     "output_type": "stream",
     "text": [
      "MSE: 200486.05421897\n",
      "MAE: 319.6925649864463\n",
      "R^2: 0.20363261261140309\n"
     ]
    }
   ],
   "source": [
    "# testrun regression\n",
    "regression, PF = ridge(X_train,y_train,1,0)\n",
    "X_test_poly = PF.transform(X_test)\n",
    "print(\"MSE: \"+str(mean_squared_error(y_test,regression.predict(X_test_poly))))\n",
    "print(\"MAE: \"+str(mean_absolute_error(y_test,regression.predict(X_test_poly))))\n",
    "print(\"R^2: \"+ str(r2_score(y_test,regression.predict(X_test_poly))))"
   ]
  },
  {
   "cell_type": "code",
   "execution_count": 80,
   "metadata": {},
   "outputs": [
    {
     "data": {
      "image/png": "[encoded data removed]",
      "text/plain": [
       "<Figure size 576x216 with 1 Axes>"
      ]
     },
     "metadata": {
      "needs_background": "light"
     },
     "output_type": "display_data"
    }
   ],
   "source": [
    "#get optimal hyperparameters from verification set\n",
    "r_squ_train = []\n",
    "r_squ_verification = []\n",
    "mae_verification = []\n",
    "mae_train = []\n",
    "\n",
    "degree_space = np.linspace(1,8,8)\n",
    "for degree in degree_space:\n",
    "    regression, PF = ridge(X_train,y_train,int(degree),0)\n",
    "    X_verification_poly = PF.transform(X_verification)\n",
    "    \n",
    "    r_squ_train.append(r2_score(y_train,regression.predict(PF.transform(X_train))))\n",
    "    r_squ_verification.append(r2_score(y_verification,regression.predict(X_verification_poly)))\n",
    "\n",
    "    mae_train.append(mean_absolute_error(y_train,regression.predict(PF.transform(X_train))))\n",
    "    mae_verification.append(mean_absolute_error(y_verification,regression.predict(X_verification_poly)))\n",
    "    \n",
    "plt.figure(figsize = (8,3))\n",
    "plt.plot(degree_space, mae_train)\n",
    "plt.plot(degree_space, mae_verification)\n",
    "plt.legend([\"Training\", \"Validation\"])\n",
    "plt.xlabel(\"poly degree\")\n",
    "plt.ylabel(\"MAE\")\n",
    "plt.show()"
   ]
  },
  {
   "cell_type": "code",
   "execution_count": 81,
   "metadata": {},
   "outputs": [
    {
     "data": {
      "image/png": "[encoded data removed]",
      "text/plain": [
       "<Figure size 576x216 with 1 Axes>"
      ]
     },
     "metadata": {
      "needs_background": "light"
     },
     "output_type": "display_data"
    }
   ],
   "source": [
    "plt.figure(figsize = (8,3))\n",
    "plt.plot(degree_space, r_squ_train)\n",
    "plt.plot(degree_space, r_squ_verification)\n",
    "plt.legend([\"Training\", \"Validation\"])\n",
    "plt.xlabel(\"poly degree\")\n",
    "plt.ylabel(\"r^2\")\n",
    "plt.show()"
   ]
  },
  {
   "cell_type": "code",
   "execution_count": 115,
   "metadata": {
    "scrolled": false
   },
   "outputs": [
    {
     "data": {
      "image/png": "[encoded data removed]",
      "text/plain": [
       "<Figure size 576x432 with 1 Axes>"
      ]
     },
     "metadata": {
      "needs_background": "light"
     },
     "output_type": "display_data"
    }
   ],
   "source": [
    "a_r_squ_train = []\n",
    "a_r_squ_verification = []\n",
    "a_mse_verification = []\n",
    "a_mse_train = []\n",
    "\n",
    "alpha_space = np.logspace(-15,10,100)\n",
    "for alpha in alpha_space:\n",
    "    regression, PF = ridge(X_train,y_train,8,alpha)\n",
    "    X_verification_poly = PF.transform(X_verification)\n",
    "    \n",
    "    a_r_squ_train.append(r2_score(y_train,regression.predict(PF.transform(X_train))))\n",
    "    a_r_squ_verification.append(r2_score(y_verification,regression.predict(X_verification_poly)))\n",
    "\n",
    "    a_mse_train.append(mean_squared_error(y_train,regression.predict(PF.transform(X_train))))\n",
    "    a_mse_verification.append(mean_squared_error(y_verification,regression.predict(X_verification_poly)))\n",
    "    \n",
    "plt.figure(figsize = (8,6))\n",
    "plt.xscale(\"log\")\n",
    "plt.yscale(\"log\")\n",
    "plt.plot(alpha_space, a_mse_train)\n",
    "plt.plot(alpha_space, a_mse_verification)\n",
    "plt.legend([\"Training\", \"Verification\"])\n",
    "plt.xlabel(\"alpha\")\n",
    "plt.ylabel(\"mse\")\n",
    "plt.show()"
   ]
  },
  {
   "cell_type": "code",
   "execution_count": 119,
   "metadata": {},
   "outputs": [
    {
     "name": "stdout",
     "output_type": "stream",
     "text": [
      "MSE: 114493.03601642376\n",
      "MAE: 210.40602309798027\n",
      "R^2: 0.5452126567017817\n"
     ]
    }
   ],
   "source": [
    "# choosen hyperparameters\n",
    "regression, PF = ridge(X_train,y_train,4,0)\n",
    "X_test_poly = PF.transform(X_test)\n",
    "print(\"MSE: \"+str(mean_squared_error(y_test,regression.predict(X_test_poly))))\n",
    "print(\"MAE: \"+str(mean_absolute_error(y_test,regression.predict(X_test_poly))))\n",
    "print(\"R^2: \"+ str(r2_score(y_test,regression.predict(X_test_poly))))"
   ]
  },
  {
   "cell_type": "code",
   "execution_count": 118,
   "metadata": {},
   "outputs": [
    {
     "name": "stdout",
     "output_type": "stream",
     "text": [
      "MSE: 185930.45108241437\n",
      "MAE: 300.04406241840866\n",
      "R^2: 0.26145013855793997\n"
     ]
    }
   ],
   "source": [
    "# choosen hyperparameters\n",
    "regression, PF = ridge(X_train,y_train,8,100000)#maybe more than 8\n",
    "X_test_poly = PF.transform(X_test)\n",
    "print(\"MSE: \"+str(mean_squared_error(y_test,regression.predict(X_test_poly))))\n",
    "print(\"MAE: \"+str(mean_absolute_error(y_test,regression.predict(X_test_poly))))\n",
    "print(\"R^2: \"+ str(r2_score(y_test,regression.predict(X_test_poly))))"
   ]
  }
 ],
 "metadata": {
  "kernelspec": {
   "display_name": "Python 3",
   "language": "python",
   "name": "python3"
  },
  "language_info": {
   "codemirror_mode": {
    "name": "ipython",
    "version": 3
   },
   "file_extension": ".py",
   "mimetype": "text/x-python",
   "name": "python",
   "nbconvert_exporter": "python",
   "pygments_lexer": "ipython3",
   "version": "3.8.5"
  }
 },
 "nbformat": 4,
 "nbformat_minor": 4
}
